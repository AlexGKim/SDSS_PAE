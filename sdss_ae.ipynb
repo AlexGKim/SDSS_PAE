{
 "cells": [
  {
   "cell_type": "code",
   "execution_count": 1,
   "metadata": {},
   "outputs": [],
   "source": [
    "import fitsio\n",
    "import os\n",
    "import os.path\n",
    "import matplotlib.pyplot as plt"
   ]
  },
  {
   "cell_type": "markdown",
   "metadata": {},
   "source": [
    "Sloan data at NERSC is stored in this directory"
   ]
  },
  {
   "cell_type": "code",
   "execution_count": 2,
   "metadata": {},
   "outputs": [],
   "source": [
    "sdss_dir = \"/global/project/projectdirs/cosmo/data/sdss/dr16/sdss/spectro/redux/v5_13_0/\""
   ]
  },
  {
   "cell_type": "markdown",
   "metadata": {},
   "source": [
    "Data is in subdirectories.\n",
    "\n",
    "Spectra are organied by plate.\n",
    "\n",
    "For the moment work with \"combined\" spectra.  A single object may be observed several times and the spectrograph has blue and red channels.  These data are available but the simple thing is to work where these data are combined to make one spectrum per object.\n",
    "\n",
    "The combined spectra for the plate are in fits files with the name \"spPlate*.fits\n",
    "\n",
    "see https://data.sdss.org/datamodel/files/BOSS_SPECTRO_REDUX/RUN2D/PLATE4/spPlate.html"
   ]
  },
  {
   "cell_type": "code",
   "execution_count": 3,
   "metadata": {},
   "outputs": [],
   "source": [
    "# save the names of the data files\n",
    "datafiles=[]\n",
    "for dirpath, dirnames, filenames in os.walk(sdss_dir):\n",
    "    for filename in [f for f in filenames if f.startswith(\"spPlate\")]:\n",
    "        datafiles.append(os.path.join(dirpath, filename))"
   ]
  },
  {
   "cell_type": "markdown",
   "metadata": {},
   "source": [
    "## Look at one file"
   ]
  },
  {
   "cell_type": "code",
   "execution_count": 11,
   "metadata": {},
   "outputs": [],
   "source": [
    "h=fitsio.read_header(datafiles[0])\n",
    "fits=fitsio.FITS(datafiles[0])"
   ]
  },
  {
   "cell_type": "markdown",
   "metadata": {},
   "source": [
    "### Wavelengths\n",
    "All spectra in a plate have the same wavelength solution.\n",
    "All plates have very similar wavelength solutions.\n",
    "Instead of being saved as an array, the wavelengths of the spectra are saved in the header."
   ]
  },
  {
   "cell_type": "code",
   "execution_count": 14,
   "metadata": {},
   "outputs": [
    {
     "name": "stdout",
     "output_type": "stream",
     "text": [
      "3.5508 0.0001\n"
     ]
    }
   ],
   "source": [
    "# The wavelength solution is saved here\n",
    "print(h[\"COEFF0\"],h[\"COEFF1\"])"
   ]
  },
  {
   "cell_type": "markdown",
   "metadata": {},
   "source": [
    "### Flux, variance, and mask\n",
    "The data include the flux (in physical units), inverse variance, masks that indicate a problem with a pixel"
   ]
  },
  {
   "cell_type": "code",
   "execution_count": 15,
   "metadata": {},
   "outputs": [
    {
     "name": "stdout",
     "output_type": "stream",
     "text": [
      "\n",
      "  file: /global/project/projectdirs/cosmo/data/sdss/dr16/sdss/spectro/redux/v5_13_0/5290/spPlate-5290-55862.fits\n",
      "  mode: READONLY\n",
      "  extnum hdutype         hduname[v]\n",
      "  0      IMAGE_HDU       \n",
      "  1      IMAGE_HDU       IVAR\n",
      "  2      IMAGE_HDU       ANDMASK\n",
      "  3      IMAGE_HDU       ORMASK\n",
      "  4      IMAGE_HDU       WAVEDISP\n",
      "  5      BINARY_TBL      PLUGMAP\n",
      "  6      IMAGE_HDU       SKY\n"
     ]
    }
   ],
   "source": [
    "print(fits)"
   ]
  },
  {
   "cell_type": "code",
   "execution_count": null,
   "metadata": {},
   "outputs": [],
   "source": [
    "p"
   ]
  }
 ],
 "metadata": {
  "kernelspec": {
   "display_name": "desitf2",
   "language": "python",
   "name": "desitf2"
  },
  "language_info": {
   "codemirror_mode": {
    "name": "ipython",
    "version": 3
   },
   "file_extension": ".py",
   "mimetype": "text/x-python",
   "name": "python",
   "nbconvert_exporter": "python",
   "pygments_lexer": "ipython3",
   "version": "3.8.3"
  }
 },
 "nbformat": 4,
 "nbformat_minor": 4
}
