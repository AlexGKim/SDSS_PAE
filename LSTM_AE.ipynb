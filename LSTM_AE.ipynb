{
  "nbformat": 4,
  "nbformat_minor": 0,
  "metadata": {
    "colab": {
      "name": "LSTM-AE.ipynb",
      "provenance": [],
      "collapsed_sections": [],
      "authorship_tag": "ABX9TyNbeXyhiihZQbSo0juhrHje",
      "include_colab_link": true
    },
    "kernelspec": {
      "name": "python3",
      "display_name": "Python 3"
    },
    "accelerator": "GPU"
  },
  "cells": [
    {
      "cell_type": "markdown",
      "metadata": {
        "id": "view-in-github",
        "colab_type": "text"
      },
      "source": [
        "<a href=\"https://colab.research.google.com/github/VMBoehm/SDSS_PAE/blob/main/LSTM_AE.ipynb\" target=\"_parent\"><img src=\"https://colab.research.google.com/assets/colab-badge.svg\" alt=\"Open In Colab\"/></a>"
      ]
    },
    {
      "cell_type": "markdown",
      "metadata": {
        "id": "IqDqXXTQ1FMN"
      },
      "source": [
        "# Template and tests for an LSTM Auto-Encoder\n"
      ]
    },
    {
      "cell_type": "code",
      "metadata": {
        "id": "ZcR4zT3V8dMc"
      },
      "source": [
        "import numpy as np\n",
        "import scipy\n",
        "from scipy.stats import special_ortho_group\n",
        "import matplotlib.pyplot as plt\n",
        "\n",
        "from keras.models import Sequential, Model\n",
        "from keras.layers import LSTM, Layer\n",
        "from keras.layers import Dense\n",
        "from keras.layers import RepeatVector\n",
        "from keras.layers import TimeDistributed, Input, Lambda, Masking\n",
        "import keras.backend as K\n",
        "import tensorflow as tf\n"
      ],
      "execution_count": null,
      "outputs": []
    },
    {
      "cell_type": "markdown",
      "metadata": {
        "id": "6ZME24z11ITl"
      },
      "source": [
        "#### create some fake data\n",
        "\n"
      ]
    },
    {
      "cell_type": "code",
      "metadata": {
        "id": "7MxfZz8izYYS"
      },
      "source": [
        "dim = 30\n",
        "Nsamples = 50000\n",
        "eig = np.logspace(-3,3,dim)\n",
        "R   = scipy.stats.special_ortho_group.rvs(dim)\n",
        "cov = np.dot(R,np.dot(np.diag(eig), R.T))\n",
        "L   = np.linalg.cholesky(cov)"
      ],
      "execution_count": null,
      "outputs": []
    },
    {
      "cell_type": "code",
      "metadata": {
        "id": "4QU5VAOd8Vy0"
      },
      "source": [
        "data  = np.expand_dims(np.einsum('jk,ik->ij',L,np.random.randn(Nsamples,dim),optimize=True),-1)\n",
        "masks = np.random.random(data.shape)<0.75"
      ],
      "execution_count": null,
      "outputs": []
    },
    {
      "cell_type": "code",
      "metadata": {
        "id": "5jDwvytVRJeu"
      },
      "source": [
        "m_data = data*masks"
      ],
      "execution_count": null,
      "outputs": []
    },
    {
      "cell_type": "code",
      "metadata": {
        "colab": {
          "base_uri": "https://localhost:8080/",
          "height": 283
        },
        "id": "JmmIo8ZS8h06",
        "outputId": "56a91311-8093-4e51-f957-c85dedf5604b"
      },
      "source": [
        "plt.plot(data[0])\n",
        "plt.plot(m_data[0])"
      ],
      "execution_count": null,
      "outputs": [
        {
          "output_type": "execute_result",
          "data": {
            "text/plain": [
              "[<matplotlib.lines.Line2D at 0x7f163c301240>]"
            ]
          },
          "metadata": {
            "tags": []
          },
          "execution_count": 52
        },
        {
          "output_type": "display_data",
          "data": {
            "image/png": "[encoded data removed]",
            "text/plain": [
              "<Figure size 432x288 with 1 Axes>"
            ]
          },
          "metadata": {
            "tags": [],
            "needs_background": "light"
          }
        }
      ]
    },
    {
      "cell_type": "code",
      "metadata": {
        "id": "beEnDqGV9f-9"
      },
      "source": [
        "data_train = data[0:30000]\n",
        "data_val   = data[30000:40000]\n",
        "data_test  = data[40000:50000]"
      ],
      "execution_count": null,
      "outputs": []
    },
    {
      "cell_type": "markdown",
      "metadata": {
        "id": "923O5Fex-Kfg"
      },
      "source": [
        "### write a simple LSTM model"
      ]
    },
    {
      "cell_type": "code",
      "metadata": {
        "colab": {
          "base_uri": "https://localhost:8080/"
        },
        "id": "b0sQyEd6-dhq",
        "outputId": "8e9b7513-56a3-4bea-bbc6-34c587a4f6d4"
      },
      "source": [
        "class bottleneck(Layer):\n",
        "    def __init__(self, units, dim, **kwargs):\n",
        "        self.units  = units\n",
        "        self.dim    = dim\n",
        "        self.LSTM   = LSTM(units, return_sequences=False)\n",
        "        self.Repeat = RepeatVector(dim)\n",
        "        super(bottleneck, self).__init__(**kwargs)\n",
        "\n",
        "    def call(self, inputs):\n",
        "        return self.Repeat(self.LSTM(inputs))\n",
        "\n",
        "    def compute_mask(self, inputs, mask=None):\n",
        "        return mask\n",
        "\n",
        "\n",
        "input = Input(shape=(dim, 1))\n",
        "x     = Masking(mask_value=0)(input)\n",
        "x     = bottleneck(units=10, dim=dim)(x)\n",
        "x     = LSTM(10, return_sequences=True)(x)\n",
        "x     = Dense(1)(x)\n",
        "lstm_ae = Model(inputs=input, outputs=x)\n",
        "lstm_ae.compile(optimizer='adam', loss='mse')\n",
        "print(lstm_ae.summary())"
      ],
      "execution_count": null,
      "outputs": [
        {
          "output_type": "stream",
          "text": [
            "Model: \"functional_23\"\n",
            "_________________________________________________________________\n",
            "Layer (type)                 Output Shape              Param #   \n",
            "=================================================================\n",
            "input_15 (InputLayer)        [(None, 30, 1)]           0         \n",
            "_________________________________________________________________\n",
            "masking_6 (Masking)          (None, 30, 1)             0         \n",
            "_________________________________________________________________\n",
            "bottleneck (bottleneck)      (None, 30, 10)            480       \n",
            "_________________________________________________________________\n",
            "lstm_27 (LSTM)               (None, 30, 10)            840       \n",
            "_________________________________________________________________\n",
            "dense_9 (Dense)              (None, 30, 1)             11        \n",
            "=================================================================\n",
            "Total params: 1,331\n",
            "Trainable params: 1,331\n",
            "Non-trainable params: 0\n",
            "_________________________________________________________________\n",
            "None\n"
          ],
          "name": "stdout"
        }
      ]
    },
    {
      "cell_type": "code",
      "metadata": {
        "colab": {
          "base_uri": "https://localhost:8080/"
        },
        "id": "E0trUq_YjlHr",
        "outputId": "6d7a81d1-edee-4536-82e3-c82f34d70222"
      },
      "source": [
        "for i, l in enumerate(lstm_ae.layers):\n",
        "    print(f'layer {i}: {l}')\n",
        "    print(f'has input mask: {l.input_mask}')\n",
        "    print(f'has output mask: {l.output_mask}')"
      ],
      "execution_count": null,
      "outputs": [
        {
          "output_type": "stream",
          "text": [
            "layer 0: <tensorflow.python.keras.engine.input_layer.InputLayer object at 0x7f1634120b38>\n",
            "has input mask: None\n",
            "has output mask: None\n",
            "layer 1: <tensorflow.python.keras.layers.core.Masking object at 0x7f163409fc18>\n",
            "has input mask: None\n",
            "has output mask: Tensor(\"masking_6/Squeeze:0\", shape=(None, 30), dtype=bool)\n",
            "layer 2: <__main__.bottleneck object at 0x7f16340b0d30>\n",
            "has input mask: Tensor(\"masking_6/Squeeze:0\", shape=(None, 30), dtype=bool)\n",
            "has output mask: Tensor(\"masking_6/Squeeze:0\", shape=(None, 30), dtype=bool)\n",
            "layer 3: <tensorflow.python.keras.layers.recurrent_v2.LSTM object at 0x7f163409f7b8>\n",
            "has input mask: Tensor(\"masking_6/Squeeze:0\", shape=(None, 30), dtype=bool)\n",
            "has output mask: Tensor(\"masking_6/Squeeze:0\", shape=(None, 30), dtype=bool)\n",
            "layer 4: <tensorflow.python.keras.layers.core.Dense object at 0x7f1634166a20>\n",
            "has input mask: Tensor(\"masking_6/Squeeze:0\", shape=(None, 30), dtype=bool)\n",
            "has output mask: Tensor(\"masking_6/Squeeze:0\", shape=(None, 30), dtype=bool)\n"
          ],
          "name": "stdout"
        }
      ]
    },
    {
      "cell_type": "code",
      "metadata": {
        "colab": {
          "base_uri": "https://localhost:8080/"
        },
        "id": "YBC_DUoQDfc4",
        "outputId": "71223b29-ac86-44df-c137-4b787686051b"
      },
      "source": [
        "history = lstm_ae.fit(data_train, data_train, validation_data=(data_val, data_val), batch_size=16, epochs=20, verbose=2)"
      ],
      "execution_count": null,
      "outputs": [
        {
          "output_type": "stream",
          "text": [
            "Epoch 1/20\n",
            "1875/1875 - 14s - loss: 7.7363 - val_loss: 7.5793\n",
            "Epoch 2/20\n",
            "1875/1875 - 14s - loss: 7.5775 - val_loss: 7.1976\n",
            "Epoch 3/20\n",
            "1875/1875 - 14s - loss: 7.4396 - val_loss: 7.1402\n",
            "Epoch 4/20\n",
            "1875/1875 - 13s - loss: 7.3168 - val_loss: 7.0252\n",
            "Epoch 5/20\n",
            "1875/1875 - 13s - loss: 7.2082 - val_loss: 7.1592\n",
            "Epoch 6/20\n",
            "1875/1875 - 14s - loss: 7.0406 - val_loss: 7.2772\n",
            "Epoch 7/20\n",
            "1875/1875 - 13s - loss: 6.9284 - val_loss: 6.9162\n",
            "Epoch 8/20\n",
            "1875/1875 - 13s - loss: 6.7963 - val_loss: 7.1740\n",
            "Epoch 9/20\n",
            "1875/1875 - 13s - loss: 6.6814 - val_loss: 6.6967\n",
            "Epoch 10/20\n",
            "1875/1875 - 13s - loss: 6.5505 - val_loss: 6.1006\n",
            "Epoch 11/20\n",
            "1875/1875 - 13s - loss: 6.4728 - val_loss: 6.1469\n",
            "Epoch 12/20\n",
            "1875/1875 - 13s - loss: 6.3085 - val_loss: 6.2557\n",
            "Epoch 13/20\n",
            "1875/1875 - 13s - loss: 6.2206 - val_loss: 6.1316\n",
            "Epoch 14/20\n",
            "1875/1875 - 13s - loss: 6.1591 - val_loss: 6.1790\n",
            "Epoch 15/20\n",
            "1875/1875 - 13s - loss: 6.0341 - val_loss: 5.6317\n",
            "Epoch 16/20\n",
            "1875/1875 - 13s - loss: 5.9814 - val_loss: 5.9422\n",
            "Epoch 17/20\n",
            "1875/1875 - 13s - loss: 5.8760 - val_loss: 5.5719\n",
            "Epoch 18/20\n",
            "1875/1875 - 13s - loss: 5.8183 - val_loss: 5.4869\n",
            "Epoch 19/20\n",
            "1875/1875 - 13s - loss: 5.7748 - val_loss: 5.3894\n",
            "Epoch 20/20\n",
            "1875/1875 - 13s - loss: 5.6684 - val_loss: 5.7340\n"
          ],
          "name": "stdout"
        }
      ]
    },
    {
      "cell_type": "code",
      "metadata": {
        "id": "dsuE0P7RSsGN"
      },
      "source": [
        "def extract_layers(main_model, starting_layer_ix, ending_layer_ix):\n",
        "  # create an empty model\n",
        "  new_model = Sequential()\n",
        "  for ix in range(starting_layer_ix, ending_layer_ix + 1):\n",
        "    curr_layer = main_model.get_layer(index=ix)\n",
        "    # copy this layer over to the new model\n",
        "    new_model.add(curr_layer)\n",
        "  return new_model"
      ],
      "execution_count": null,
      "outputs": []
    },
    {
      "cell_type": "code",
      "metadata": {
        "id": "pHzHwMS0SgJM"
      },
      "source": [
        "encoder = Model(inputs=lstm_ae.inputs, outputs=lstm_ae.layers[1].output)\n",
        "encoded = encoder.predict(data_val)\n",
        "# decoder = extract_layers(model, 1, -1)\n",
        "recon   = lstm_ae.predict(data_test)"
      ],
      "execution_count": null,
      "outputs": []
    },
    {
      "cell_type": "code",
      "metadata": {
        "colab": {
          "base_uri": "https://localhost:8080/"
        },
        "id": "KDy5Q4LYw6JR",
        "outputId": "c1a56b8f-c9bd-47fc-ee1a-f2c55fa5b09e"
      },
      "source": [
        "encoded.shape"
      ],
      "execution_count": null,
      "outputs": [
        {
          "output_type": "execute_result",
          "data": {
            "text/plain": [
              "(10000, 30, 1)"
            ]
          },
          "metadata": {
            "tags": []
          },
          "execution_count": 108
        }
      ]
    },
    {
      "cell_type": "code",
      "metadata": {
        "colab": {
          "base_uri": "https://localhost:8080/",
          "height": 283
        },
        "id": "sTYQotQOMdyn",
        "outputId": "9bdc34e6-0eff-498e-ef46-a13a9b49e816"
      },
      "source": [
        "plt.plot(data_test[0])\n",
        "plt.plot(recon[0])"
      ],
      "execution_count": null,
      "outputs": [
        {
          "output_type": "execute_result",
          "data": {
            "text/plain": [
              "[<matplotlib.lines.Line2D at 0x7f16340b0c18>]"
            ]
          },
          "metadata": {
            "tags": []
          },
          "execution_count": 91
        },
        {
          "output_type": "display_data",
          "data": {
            "image/png": "[encoded data removed]",
            "text/plain": [
              "<Figure size 432x288 with 1 Axes>"
            ]
          },
          "metadata": {
            "tags": [],
            "needs_background": "light"
          }
        }
      ]
    },
    {
      "cell_type": "code",
      "metadata": {
        "id": "Cx8kM9t2K4uM"
      },
      "source": [
        ""
      ],
      "execution_count": null,
      "outputs": []
    }
  ]
}