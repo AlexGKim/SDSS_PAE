{
 "cells": [
  {
   "cell_type": "markdown",
   "metadata": {
    "colab_type": "text",
    "id": "view-in-github"
   },
   "source": [
    "<a href=\"https://colab.research.google.com/github/VMBoehm/SDSS_PAE/blob/main/LSTM_AE.ipynb\" target=\"_parent\"><img src=\"https://colab.research.google.com/assets/colab-badge.svg\" alt=\"Open In Colab\"/></a>"
   ]
  },
  {
   "cell_type": "markdown",
   "metadata": {
    "id": "IqDqXXTQ1FMN"
   },
   "source": [
    "# Template and tests for an LSTM Auto-Encoder\n"
   ]
  },
  {
   "cell_type": "code",
   "execution_count": 1,
   "metadata": {},
   "outputs": [],
   "source": [
    "import tensorflow as tf\n",
    "tf.compat.v1.enable_eager_execution()\n",
    "import tensorflow_datasets as tfds"
   ]
  },
  {
   "cell_type": "code",
   "execution_count": 2,
   "metadata": {},
   "outputs": [
    {
     "data": {
      "text/plain": [
       "[PhysicalDevice(name='/physical_device:GPU:0', device_type='GPU')]"
      ]
     },
     "execution_count": 2,
     "metadata": {},
     "output_type": "execute_result"
    }
   ],
   "source": [
    "tf.config.list_physical_devices('GPU')"
   ]
  },
  {
   "cell_type": "code",
   "execution_count": 3,
   "metadata": {
    "id": "ZcR4zT3V8dMc"
   },
   "outputs": [],
   "source": [
    "import numpy as np\n",
    "import scipy\n",
    "import matplotlib.pyplot as plt"
   ]
  },
  {
   "cell_type": "code",
   "execution_count": 4,
   "metadata": {},
   "outputs": [],
   "source": [
    "from tensorflow.keras.models import Sequential, Model\n",
    "from tensorflow.keras.layers import LSTM, Layer, Reshape, LeakyReLU, BatchNormalization\n",
    "from tensorflow.keras.layers import Dense, Conv1D, MaxPooling1D, UpSampling1D\n",
    "from tensorflow.keras.layers import RepeatVector, Conv2DTranspose, Flatten\n",
    "from tensorflow.keras.layers import TimeDistributed, Input, Lambda, Masking\n",
    "import tensorflow.keras.backend as K"
   ]
  },
  {
   "cell_type": "code",
   "execution_count": 5,
   "metadata": {},
   "outputs": [],
   "source": [
    "def Conv1DTranspose(input_tensor, filters, kernel_size, strides=2, padding='valid'):\n",
    "    \"\"\"\n",
    "        input_tensor: tensor, with the shape (batch_size, time_steps, dims)\n",
    "        filters: int, output dimension, i.e. the output tensor will have the shape of (batch_size, time_steps, filters)\n",
    "        kernel_size: int, size of the convolution kernel\n",
    "        strides: int, convolution step size\n",
    "        padding: 'same' | 'valid'\n",
    "    \"\"\"\n",
    "    x = Lambda(lambda x: K.expand_dims(x, axis=2))(input_tensor)\n",
    "    x = Conv2DTranspose(filters=filters, kernel_size=(kernel_size, 1), strides=(strides, 1), padding=padding)(x)\n",
    "    x = Lambda(lambda x: K.squeeze(x, axis=2))(x)\n",
    "    return x"
   ]
  },
  {
   "cell_type": "markdown",
   "metadata": {
    "id": "6ZME24z11ITl"
   },
   "source": [
    "#### load some SDSS data\n"
   ]
  },
  {
   "cell_type": "code",
   "execution_count": 6,
   "metadata": {},
   "outputs": [],
   "source": [
    "from sdss_pae.sdss_dataset import SDSS"
   ]
  },
  {
   "cell_type": "code",
   "execution_count": 7,
   "metadata": {},
   "outputs": [],
   "source": [
    "ds, info = tfds.load('SDSS', data_dir='/global/cscratch1/sd/vboehm/Datasets/',with_info=True, split='train')"
   ]
  },
  {
   "cell_type": "code",
   "execution_count": 8,
   "metadata": {},
   "outputs": [
    {
     "data": {
      "text/plain": [
       "tfds.core.DatasetInfo(\n",
       "    name='sdss',\n",
       "    version=1.0.0,\n",
       "    description='selected features from spAll and spZbest files \n",
       "'flux': measured spectrum in  \n",
       "'inv_var': inverse variance\n",
       "'and_mask': and mask (set to 1 for all non-zero entries)\n",
       "'coeffs': c0, c1, npix. calculate wavelengths with `10.**(c0 + c1 * np.arange(npix))`\n",
       "'label': type of object, 'STAR'==0, 'QSO'==1, 'GALAXY'==2\n",
       "'redshift': object redshift estimate',\n",
       "    homepage='https://www.sdss.org/science/data-release-publications/',\n",
       "    features=FeaturesDict({\n",
       "        'and_mask': Tensor(shape=(None, 1), dtype=tf.int32),\n",
       "        'coeffs': Tensor(shape=(3, 1), dtype=tf.float32),\n",
       "        'filename': Text(shape=(), dtype=tf.string),\n",
       "        'flux': Tensor(shape=(None, 1), dtype=tf.float32),\n",
       "        'inv_var': Tensor(shape=(None, 1), dtype=tf.float32),\n",
       "        'label': ClassLabel(shape=(), dtype=tf.int64, num_classes=3),\n",
       "        'redshift': tf.float32,\n",
       "    }),\n",
       "    total_num_examples=100000,\n",
       "    splits={\n",
       "        'train': 100000,\n",
       "    },\n",
       "    supervised_keys=None,\n",
       "    citation=\"\"\"\"\"\",\n",
       "    redistribution_info=,\n",
       ")"
      ]
     },
     "execution_count": 8,
     "metadata": {},
     "output_type": "execute_result"
    }
   ],
   "source": [
    "info"
   ]
  },
  {
   "cell_type": "code",
   "execution_count": 9,
   "metadata": {},
   "outputs": [],
   "source": [
    "# use only galxies for now\n",
    "select_by = 2\n",
    "# de-redhsift or not?\n",
    "de_redshift = False"
   ]
  },
  {
   "cell_type": "code",
   "execution_count": 10,
   "metadata": {},
   "outputs": [],
   "source": [
    "\n",
    "def filter_fn(x):\n",
    "    if select_by is not None:\n",
    "        return tf.math.equal(x['label'], 2)\n",
    "    else: return 1\n",
    "\n",
    "ds = ds.filter(filter_fn)"
   ]
  },
  {
   "cell_type": "code",
   "execution_count": 11,
   "metadata": {},
   "outputs": [],
   "source": [
    "DATASET_SIZE=len(list(ds))"
   ]
  },
  {
   "cell_type": "code",
   "execution_count": 12,
   "metadata": {
    "id": "beEnDqGV9f-9"
   },
   "outputs": [
    {
     "name": "stdout",
     "output_type": "stream",
     "text": [
      "0.053504556 2\n",
      "0.80304116 2\n",
      "0.57095224 2\n"
     ]
    },
    {
     "data": {
      "image/png": "[encoded data removed]",
      "text/plain": [
       "<Figure size 432x288 with 1 Axes>"
      ]
     },
     "metadata": {
      "needs_background": "light"
     },
     "output_type": "display_data"
    }
   ],
   "source": [
    "\n",
    "ii = 0\n",
    "min_wl= 10000\n",
    "max_wl= 0\n",
    "num_npixs = []\n",
    "img_coeffs1 = []\n",
    "img_coeffs2 = []\n",
    "\n",
    "for image in tfds.as_numpy(ds):\n",
    "    log10wl = image['coeffs'][0] + image['coeffs'][1] * np.arange(image['coeffs'][2][0])\n",
    "    if de_redshift:\n",
    "        log10wl = log10wl-np.log10(1+image['redshift'])\n",
    "    if max(log10wl)>max_wl:\n",
    "        max_wl= max(log10wl)\n",
    "    if min(log10wl)<min_wl:\n",
    "        min_wl=min(log10wl)\n",
    "    if image['coeffs'][2] not in num_npixs:\n",
    "        num_npixs.append(image['coeffs'][2][0])\n",
    "        img_coeffs1.append(image['coeffs'][1][0])\n",
    "    if image['coeffs'][0] not in img_coeffs2:\n",
    "        img_coeffs2.append(image['coeffs'][0][0])\n",
    "    if ii<3:\n",
    "        print(image['redshift'], image['label'])\n",
    "        plt.plot(10**log10wl,image['flux'])\n",
    "        ii+=1\n",
    "wl_range = (min_wl, max_wl) "
   ]
  },
  {
   "cell_type": "code",
   "execution_count": 13,
   "metadata": {},
   "outputs": [
    {
     "name": "stdout",
     "output_type": "stream",
     "text": [
      "(3.549499988555908, 4.017000073290546)\n"
     ]
    }
   ],
   "source": [
    "print(wl_range)"
   ]
  },
  {
   "cell_type": "code",
   "execution_count": 14,
   "metadata": {},
   "outputs": [
    {
     "name": "stdout",
     "output_type": "stream",
     "text": [
      "43\n"
     ]
    }
   ],
   "source": [
    "print(len(num_npixs))"
   ]
  },
  {
   "cell_type": "code",
   "execution_count": 15,
   "metadata": {},
   "outputs": [],
   "source": [
    "num_npixs = np.sort(np.asarray(num_npixs))"
   ]
  },
  {
   "cell_type": "code",
   "execution_count": 16,
   "metadata": {},
   "outputs": [
    {
     "data": {
      "text/plain": [
       "(array([1.e-04], dtype=float32),\n",
       " array([3.5495, 3.5502, 3.5504, 3.5505, 3.5506, 3.5507, 3.5508, 3.5509,\n",
       "        3.5511, 3.5513, 3.5514, 3.5515, 3.5516, 3.5517, 3.5518, 3.5519,\n",
       "        3.552 , 3.5521, 3.5523, 3.5525, 3.5526, 3.5527, 3.5529, 3.5531,\n",
       "        3.5532, 3.5534, 3.554 , 3.5542, 3.5543, 3.5544, 3.5545, 3.5546,\n",
       "        3.5548, 3.5549, 3.555 , 3.5551, 3.5565], dtype=float32))"
      ]
     },
     "execution_count": 16,
     "metadata": {},
     "output_type": "execute_result"
    }
   ],
   "source": [
    "np.unique(img_coeffs1), np.unique(img_coeffs2)"
   ]
  },
  {
   "cell_type": "code",
   "execution_count": 17,
   "metadata": {},
   "outputs": [
    {
     "data": {
      "text/plain": [
       "array([4595., 4607., 4608., 4609., 4610., 4611., 4615., 4616., 4618.,\n",
       "       4619., 4622., 4625., 4629., 4632., 4634., 4635., 4638., 4639.,\n",
       "       4641., 4643., 4644., 4645., 4646., 4647., 4648., 4649., 4650.,\n",
       "       4651., 4652., 4653., 4654., 4655., 4656., 4657., 4660., 4661.,\n",
       "       4662., 4663., 4664., 4665., 4666., 4668., 4670.], dtype=float32)"
      ]
     },
     "execution_count": 17,
     "metadata": {},
     "output_type": "execute_result"
    }
   ],
   "source": [
    "num_npixs"
   ]
  },
  {
   "cell_type": "code",
   "execution_count": 18,
   "metadata": {},
   "outputs": [
    {
     "name": "stdout",
     "output_type": "stream",
     "text": [
      "4675\n"
     ]
    }
   ],
   "source": [
    "# compute number of pixels that span entire wl range:\n",
    "npix_max = int((wl_range[1]-wl_range[0])/np.unique(img_coeffs1))\n",
    "print(npix_max)"
   ]
  },
  {
   "cell_type": "code",
   "execution_count": 19,
   "metadata": {},
   "outputs": [],
   "source": [
    "# computing padding to align all spectra in wavelength\n",
    "# log10 wl_min = c0-c1*pad_left  - log10(1+z)\n",
    "# log10 wl_max = c0+c1*npix+c1*pad_right - log10(1+z)"
   ]
  },
  {
   "cell_type": "code",
   "execution_count": 117,
   "metadata": {},
   "outputs": [],
   "source": [
    "# mask (inverse noise weight or add noise) -> padding (takes care of de-redshifting)\n",
    "\n",
    "def preprocessing(d, de_redshift):\n",
    "    data               = d['flux']\n",
    "    if de_redshift:\n",
    "        pad_left       = (wl_range[0]+ tf.math.log(1+d['redshift'])/tf.math.log(10.)-d['coeffs'][0][0])/(-d['coeffs'][1][0])\n",
    "        pad_right      = (wl_range[1]+ tf.math.log(1+d['redshift'])/tf.math.log(10.)-d['coeffs'][0][0])/(d['coeffs'][1][0])\n",
    "    else:\n",
    "        pad_left       = (wl_range[0]-d['coeffs'][0][0])/(-d['coeffs'][1][0])\n",
    "        pad_right      = (wl_range[1]-(d['coeffs'][1][0]*d['coeffs'][2][0]+d['coeffs'][0][0]))/(d['coeffs'][1][0])\n",
    "    pad_left       = tf.maximum(tf.math.round(pad_left),0)    \n",
    "    pad_right      = tf.maximum(tf.math.round(pad_right),0)\n",
    "    if not tf.math.equal(pad_left+pad_right+d['coeffs'][2][0]-npix_max,0):\n",
    "        if tf.math.greater(pad_left, pad_right):\n",
    "            pad_left=pad_left-1\n",
    "        else:\n",
    "            pad_right=pad_right-1\n",
    "    pad_left       = tf.cast(pad_left,tf.int32)\n",
    "    pad_right      = tf.cast(pad_right,tf.int32)\n",
    "    padded         = tf.pad(data, [[pad_left,pad_right],[0,0]])\n",
    "    padded_mask    = tf.pad(tf.cast(d['and_mask'],tf.float32), [[pad_left,pad_right],[0,0]])\n",
    "    padded_noise   = tf.pad(d['inv_var'], [[pad_left,pad_right],[0,0]])\n",
    "\n",
    "    return dict(flux=padded, mask=padded_mask,  inverse=padded_noise, z=d['redshift'])\n",
    "    "
   ]
  },
  {
   "cell_type": "code",
   "execution_count": 118,
   "metadata": {},
   "outputs": [],
   "source": [
    "prep_data = ds.map(lambda x, de_redshift=de_redshift: preprocessing(x, de_redshift))"
   ]
  },
  {
   "cell_type": "code",
   "execution_count": 121,
   "metadata": {},
   "outputs": [
    {
     "data": {
      "image/png": "[encoded data removed]",
      "text/plain": [
       "<Figure size 432x288 with 1 Axes>"
      ]
     },
     "metadata": {
      "needs_background": "light"
     },
     "output_type": "display_data"
    },
    {
     "data": {
      "image/png": "[encoded data removed]",
      "text/plain": [
       "<Figure size 432x288 with 1 Axes>"
      ]
     },
     "metadata": {
      "needs_background": "light"
     },
     "output_type": "display_data"
    },
    {
     "data": {
      "image/png": "[encoded data removed]",
      "text/plain": [
       "<Figure size 432x288 with 1 Axes>"
      ]
     },
     "metadata": {
      "needs_background": "light"
     },
     "output_type": "display_data"
    },
    {
     "data": {
      "image/png": "[encoded data removed]",
      "text/plain": [
       "<Figure size 432x288 with 1 Axes>"
      ]
     },
     "metadata": {
      "needs_background": "light"
     },
     "output_type": "display_data"
    },
    {
     "data": {
      "image/png": "[encoded data removed]",
      "text/plain": [
       "<Figure size 432x288 with 1 Axes>"
      ]
     },
     "metadata": {
      "needs_background": "light"
     },
     "output_type": "display_data"
    },
    {
     "data": {
      "image/png": "[encoded data removed]",
      "text/plain": [
       "<Figure size 432x288 with 1 Axes>"
      ]
     },
     "metadata": {
      "needs_background": "light"
     },
     "output_type": "display_data"
    },
    {
     "data": {
      "image/png": "[encoded data removed]",
      "text/plain": [
       "<Figure size 432x288 with 1 Axes>"
      ]
     },
     "metadata": {
      "needs_background": "light"
     },
     "output_type": "display_data"
    },
    {
     "data": {
      "image/png": "[encoded data removed]",
      "text/plain": [
       "<Figure size 432x288 with 1 Axes>"
      ]
     },
     "metadata": {
      "needs_background": "light"
     },
     "output_type": "display_data"
    },
    {
     "data": {
      "image/png": "[encoded data removed]",
      "text/plain": [
       "<Figure size 432x288 with 1 Axes>"
      ]
     },
     "metadata": {
      "needs_background": "light"
     },
     "output_type": "display_data"
    },
    {
     "data": {
      "image/png": "[encoded data removed]",
      "text/plain": [
       "<Figure size 432x288 with 1 Axes>"
      ]
     },
     "metadata": {
      "needs_background": "light"
     },
     "output_type": "display_data"
    }
   ],
   "source": [
    "shapes = []\n",
    "for ii, image in enumerate(tfds.as_numpy(prep_data)):\n",
    "    if ii in np.arange(10):\n",
    "        plt.plot(image['flux'])\n",
    "        plt.plot(image['flux']*image['mask'])\n",
    "    if image['flux'].shape not in shapes:\n",
    "        shapes.append(image['flux'].shape)\n",
    "    plt.show()"
   ]
  },
  {
   "cell_type": "code",
   "execution_count": 122,
   "metadata": {},
   "outputs": [
    {
     "data": {
      "text/plain": [
       "[(4675, 1)]"
      ]
     },
     "execution_count": 122,
     "metadata": {},
     "output_type": "execute_result"
    }
   ],
   "source": [
    "shapes"
   ]
  },
  {
   "cell_type": "markdown",
   "metadata": {
    "id": "923O5Fex-Kfg"
   },
   "source": [
    "### write a simple LSTM model"
   ]
  },
  {
   "cell_type": "code",
   "execution_count": 123,
   "metadata": {},
   "outputs": [],
   "source": [
    "latent_dim = 32\n",
    "dim        = npix_max"
   ]
  },
  {
   "cell_type": "code",
   "execution_count": 124,
   "metadata": {},
   "outputs": [],
   "source": [
    "network_type='fully_connected'"
   ]
  },
  {
   "cell_type": "code",
   "execution_count": null,
   "metadata": {},
   "outputs": [],
   "source": []
  },
  {
   "cell_type": "code",
   "execution_count": null,
   "metadata": {
    "colab": {
     "base_uri": "https://localhost:8080/"
    },
    "id": "b0sQyEd6-dhq",
    "outputId": "8e9b7513-56a3-4bea-bbc6-34c587a4f6d4"
   },
   "outputs": [],
   "source": [
    "class bottleneck(Layer):\n",
    "    def __init__(self, units, dim, **kwargs):\n",
    "        self.units  = units\n",
    "        self.dim    = dim\n",
    "        self.LSTM1  = LSTM(units[0],  return_sequences=True)\n",
    "        self.LSTM2  = LSTM(units[1],  return_sequences=False)\n",
    "        self.Repeat = RepeatVector(dim)\n",
    "        super(bottleneck, self).__init__(**kwargs)\n",
    "\n",
    "    def call(self, inputs):\n",
    "        return self.Repeat(self.LSTM2(self.LSTM1(inputs)))\n",
    "\n",
    "    def compute_mask(self, inputs, mask=None):\n",
    "        return mask\n",
    "\n",
    "\n",
    "input = Input(shape=(dim, 1))\n",
    "input1 = Input(shape=(dim, 1))\n",
    "input2 = Input(shape=(dim, 1))\n",
    "input_float = Input(shape=(1))\n",
    "\n",
    "if network_type=='fully_connected':\n",
    "# simplest, not many architectural choices other than number of neurons, likely to overfit\n",
    "    x = Reshape((dim,))(input)\n",
    "    x = LeakyReLU()(Dense(128)(x))\n",
    "    x = Dense(latent_dim)(x)\n",
    "    x = LeakyReLU()(Dense(128)(x))\n",
    "    x = Dense(dim, name='bottleneck')(x)\n",
    "    x = Reshape((dim,1))(x)\n",
    "elif network_type=='LSTM':\n",
    "# slow training\n",
    "    x = LSTM(64, return_sequences=True)(input)\n",
    "    x = BatchNormalization()(x)\n",
    "    x = LeakyReLU()(x)\n",
    "    x = LSTM(latent_dim,  return_sequences=False, name='bottleneck')(x)\n",
    "    x = RepeatVector(dim)(x)\n",
    "    x = LSTM(latent_dim, return_sequences=True)(x)\n",
    "    x = BatchNormalization()(x)\n",
    "    x = LeakyReLU()(x)\n",
    "    x = LSTM(64, return_sequences=True)(x)\n",
    "    x = TimeDistributed(Dense(1))(x)\n",
    "elif network_type=='CNN':\n",
    "# better than fully connected, but more choices to make for architecture, performance might be very much dependent on architecture\n",
    "    x = Conv1D(filters=32,kernel_size=(4), strides=2, padding='valid')(input)\n",
    "    x = BatchNormalization()(x)\n",
    "    x = LeakyReLU()(x)\n",
    "    x = MaxPooling1D(2)(x)\n",
    "    x = Conv1D(filters=32,kernel_size=(4), strides=2, padding='valid')(x)\n",
    "    x = BatchNormalization()(x)\n",
    "    x = LeakyReLU()(x)\n",
    "    x = MaxPooling1D(4)(x)\n",
    "    x = Flatten()(x)\n",
    "    x = Dense(latent_dim, name='bottleneck')(x)\n",
    "    x = Dense(145*32)(x)\n",
    "    x = Reshape((145,32))(x)\n",
    "    x = Conv1DTranspose(input_tensor=x,filters=32,kernel_size=(4),strides=2, padding='valid')\n",
    "    x = BatchNormalization()(x)\n",
    "    x = LeakyReLU()(x)\n",
    "    x = UpSampling1D(4)(x)\n",
    "    x = Conv1DTranspose(input_tensor=x,filters=32,kernel_size=(4),strides=2, padding='valid')\n",
    "    x = BatchNormalization()(x)\n",
    "    x = LeakyReLU()(x)\n",
    "    x = UpSampling1D(2)(x)\n",
    "    x, _ = Lambda( lambda x: tf.split(x,num_or_size_splits=(dim,1),axis=1))(x)\n",
    "    x = Conv1DTranspose(input_tensor=x,filters=1,kernel_size=(1),strides=1, padding='same')\n",
    "else:\n",
    "    raise ValueError('Network type not supported')\n",
    "\n",
    "def lossFunction(y_true,y_pred,mask,inverse):\n",
    "        loss = tf.math.square(y_true-y_pred)*inverse\n",
    "        loss = tf.reduce_mean(tf.boolean_mask(loss,mask))\n",
    "        return loss\n",
    "    \n",
    "from tensorflow.python.keras.engine import data_adapter\n",
    "\n",
    "\n",
    "class CustomModel(tf.keras.Model):\n",
    "    def compile(self, optimizer, my_loss,metrics):\n",
    "        super().compile(optimizer,metrics)\n",
    "        self.my_loss = my_loss\n",
    "\n",
    "    def train_step(self, data):\n",
    "        data = data_adapter.expand_1d(data)\n",
    "        input_data= data_adapter.unpack_x_y_sample_weight(data)\n",
    "        with tf.GradientTape() as tape:\n",
    "            print(input_data[0][0])\n",
    "            y_pred = self(input_data[0], training=True)\n",
    "            loss_value = self.my_loss(input_data[0][0],y_pred,input_data[0][1],input_data[0][2])\n",
    "\n",
    "        grads = tape.gradient(loss_value, self.trainable_variables)\n",
    "        self.optimizer.apply_gradients(zip(grads, self.trainable_variables))\n",
    "\n",
    "        return {\"training_loss\": loss_value}\n",
    "\n",
    "\n",
    "\n",
    "# def custom_metric(y_true, y_pred):\n",
    "#     loss = tf.math.square(y_true[0]-y_pred)#*y_true[2]\n",
    "#     valid_loss = tf.reduce_mean(loss)#tf.boolean_mask(loss,y_true[1]))\n",
    "#     return valid_loss\n",
    "    \n",
    "    \n",
    "    \n",
    "lstm_ae = CustomModel(inputs=[input, input1,input2], outputs=x)\n",
    "lstm_ae.compile(optimizer=tf.keras.optimizers.Adam(), my_loss=lossFunction, metrics=['mse'])\n",
    "\n",
    "# lstm_ae = Model(inputs=[input, input1,input2, input_float], outputs=[x, input1,input2, input_float])\n",
    "# lstm_ae.compile(optimizer='adam', loss=lossFunction)\n",
    "print(lstm_ae.summary())"
   ]
  },
  {
   "cell_type": "code",
   "execution_count": null,
   "metadata": {},
   "outputs": [],
   "source": [
    "from tensorflow.keras.layers.experimental import preprocessing\n",
    "\n",
    "layer_normalize = preprocessing.Normalization()\n",
    "layer_normalize.adapt(prep_data.map(lambda x: x['flux']))"
   ]
  },
  {
   "cell_type": "code",
   "execution_count": null,
   "metadata": {
    "colab": {
     "base_uri": "https://localhost:8080/"
    },
    "id": "E0trUq_YjlHr",
    "outputId": "6d7a81d1-edee-4536-82e3-c82f34d70222"
   },
   "outputs": [],
   "source": [
    "for i, l in enumerate(lstm_ae.layers):\n",
    "    print(f'layer {i}: {l}')\n",
    "    print(f'has input mask: {l.input_mask}')\n",
    "    print(f'has output mask: {l.output_mask}')"
   ]
  },
  {
   "cell_type": "code",
   "execution_count": null,
   "metadata": {},
   "outputs": [],
   "source": [
    "BATCH_SIZE   = 64\n",
    "\n",
    "train_size   = int(0.6 * DATASET_SIZE)\n",
    "test_size    = int(0.2 * DATASET_SIZE)\n",
    "valid_size   = int(0.2 * DATASET_SIZE)\n",
    "\n",
    "train_dataset = prep_data.take(train_size).repeat().map(lambda x: ((layer_normalize(x['flux']), x['mask'], x['inverse']),layer_normalize(x['flux']))).batch(BATCH_SIZE)\n",
    "test_dataset  = prep_data.skip(train_size).take(test_size).map(lambda x: ((layer_normalize(x['flux']), x['mask'], x['inverse']),layer_normalize(x['flux']))).batch(BATCH_SIZE)\n",
    "valid_dataset = prep_data.skip(train_size+test_size).take(valid_size).map(lambda x:((layer_normalize(x['flux']), x['mask'], x['inverse']),layer_normalize(x['flux']))).batch(BATCH_SIZE)\n"
   ]
  },
  {
   "cell_type": "code",
   "execution_count": null,
   "metadata": {},
   "outputs": [],
   "source": []
  },
  {
   "cell_type": "code",
   "execution_count": null,
   "metadata": {},
   "outputs": [],
   "source": []
  },
  {
   "cell_type": "code",
   "execution_count": null,
   "metadata": {
    "colab": {
     "base_uri": "https://localhost:8080/"
    },
    "id": "YBC_DUoQDfc4",
    "outputId": "71223b29-ac86-44df-c137-4b787686051b"
   },
   "outputs": [],
   "source": [
    "history = lstm_ae.fit(train_dataset,validation_data=valid_dataset, epochs=2, steps_per_epoch=train_size//BATCH_SIZE)"
   ]
  },
  {
   "cell_type": "code",
   "execution_count": null,
   "metadata": {},
   "outputs": [],
   "source": [
    "plt.plot(history.history['training_loss'])\n",
    "plt.plot(history.history['val_loss'])\n",
    "plt.title('model loss')\n",
    "plt.ylabel('loss')\n",
    "plt.xlabel('epoch')\n",
    "plt.legend(['train', 'test'], loc='upper left')\n",
    "plt.show()"
   ]
  },
  {
   "cell_type": "code",
   "execution_count": null,
   "metadata": {
    "id": "dsuE0P7RSsGN"
   },
   "outputs": [],
   "source": [
    "def extract_layers(main_model, starting_layer_ix, ending_layer_ix):\n",
    "  # create an empty model\n",
    "  new_model = Sequential()\n",
    "  for ix in range(starting_layer_ix, ending_layer_ix + 1):\n",
    "    curr_layer = main_model.get_layer(index=ix)\n",
    "    # copy this layer over to the new model\n",
    "    new_model.add(curr_layer)\n",
    "  return new_model"
   ]
  },
  {
   "cell_type": "code",
   "execution_count": null,
   "metadata": {
    "id": "pHzHwMS0SgJM"
   },
   "outputs": [],
   "source": [
    "encoder = Model(inputs=lstm_ae.inputs, outputs=lstm_ae.layers[4].output)\n",
    "encoded = encoder.predict(valid_dataset.take(1))\n",
    "# decoder = extract_layers(model, 1, -1)\n",
    "recon_train   = lstm_ae.predict(train_dataset.take(1))\n",
    "recon_test    = lstm_ae.predict(test_dataset.take(1))"
   ]
  },
  {
   "cell_type": "code",
   "execution_count": null,
   "metadata": {},
   "outputs": [],
   "source": [
    "recon_test[0].shape, encoded.shape"
   ]
  },
  {
   "cell_type": "code",
   "execution_count": null,
   "metadata": {
    "colab": {
     "base_uri": "https://localhost:8080/"
    },
    "id": "KDy5Q4LYw6JR",
    "outputId": "c1a56b8f-c9bd-47fc-ee1a-f2c55fa5b09e"
   },
   "outputs": [],
   "source": [
    "for train in train_dataset.take(1):\n",
    "    for ii in range(20):\n",
    "        plt.plot(train[0][0][ii],label='noisy,masked truth')\n",
    "        errs = np.ones(npix_max)\n",
    "        errs[np.where(recon_train[2][ii]!=0)[0]]=np.sqrt(1./recon_train[2][ii][np.where(recon_train[2][ii]!=0)])\n",
    "        plt.errorbar(np.arange(npix_max),recon_train[0][ii],yerr=errs,label='reconstruction',elinewidth=0,capsize=1,ecolor='navy',color='tomato')\n",
    "        plt.legend()\n",
    "        plt.show()"
   ]
  },
  {
   "cell_type": "code",
   "execution_count": null,
   "metadata": {
    "colab": {
     "base_uri": "https://localhost:8080/",
     "height": 283
    },
    "id": "sTYQotQOMdyn",
    "outputId": "9bdc34e6-0eff-498e-ef46-a13a9b49e816"
   },
   "outputs": [],
   "source": [
    "for test in test_dataset.take(1):\n",
    "    for ii in range(20):\n",
    "        plt.plot(test[0][0][ii],label='noisy,masked truth')\n",
    "        errs = np.ones(npix_max)\n",
    "        errs[np.where(recon_test[2][ii]!=0)[0]]=np.sqrt(1./recon_test[2][ii][np.where(recon[2][ii]!=0)])\n",
    "        plt.errorbar(np.arange(npix_max),recon_test[0][ii],yerr=errs,label='reconstruction',elinewidth=0,capsize=1,ecolor='navy',color='tomato')\n",
    "        plt.legend()\n",
    "        plt.show()"
   ]
  },
  {
   "cell_type": "code",
   "execution_count": null,
   "metadata": {
    "id": "Cx8kM9t2K4uM"
   },
   "outputs": [],
   "source": []
  },
  {
   "cell_type": "code",
   "execution_count": null,
   "metadata": {},
   "outputs": [],
   "source": []
  }
 ],
 "metadata": {
  "accelerator": "GPU",
  "colab": {
   "authorship_tag": "ABX9TyNbeXyhiihZQbSo0juhrHje",
   "collapsed_sections": [],
   "include_colab_link": true,
   "name": "LSTM-AE.ipynb",
   "provenance": []
  },
  "kernelspec": {
   "display_name": "tf22",
   "language": "python",
   "name": "tf22"
  },
  "language_info": {
   "codemirror_mode": {
    "name": "ipython",
    "version": 3
   },
   "file_extension": ".py",
   "mimetype": "text/x-python",
   "name": "python",
   "nbconvert_exporter": "python",
   "pygments_lexer": "ipython3",
   "version": "3.8.3"
  }
 },
 "nbformat": 4,
 "nbformat_minor": 4
}
