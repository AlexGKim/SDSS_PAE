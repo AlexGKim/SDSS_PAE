{
 "cells": [
  {
   "cell_type": "markdown",
   "metadata": {
    "colab_type": "text",
    "id": "view-in-github"
   },
   "source": [
    "<a href=\"https://colab.research.google.com/github/VMBoehm/SDSS_PAE/blob/main/LSTM_AE.ipynb\" target=\"_parent\"><img src=\"https://colab.research.google.com/assets/colab-badge.svg\" alt=\"Open In Colab\"/></a>"
   ]
  },
  {
   "cell_type": "markdown",
   "metadata": {
    "id": "IqDqXXTQ1FMN"
   },
   "source": [
    "# Data Preparation Stage 1\n",
    "- restrict all spectra onto same wavelengths interval and rescale to common grid\n",
    "- filter out zwarnings\n",
    "- enforce weak target selection"
   ]
  },
  {
   "cell_type": "code",
   "execution_count": 1,
   "metadata": {},
   "outputs": [],
   "source": [
    "import tensorflow as tf"
   ]
  },
  {
   "cell_type": "code",
   "execution_count": 2,
   "metadata": {},
   "outputs": [
    {
     "data": {
      "text/plain": [
       "[]"
      ]
     },
     "execution_count": 2,
     "metadata": {},
     "output_type": "execute_result"
    }
   ],
   "source": [
    "tf.config.list_physical_devices('GPU')"
   ]
  },
  {
   "cell_type": "code",
   "execution_count": 3,
   "metadata": {},
   "outputs": [
    {
     "data": {
      "text/plain": [
       "'2.2.0'"
      ]
     },
     "execution_count": 3,
     "metadata": {},
     "output_type": "execute_result"
    }
   ],
   "source": [
    "tf.__version__"
   ]
  },
  {
   "cell_type": "code",
   "execution_count": 4,
   "metadata": {},
   "outputs": [],
   "source": [
    "from astropy.cosmology import Planck18_arXiv_v2 as cosmo"
   ]
  },
  {
   "cell_type": "code",
   "execution_count": 5,
   "metadata": {},
   "outputs": [],
   "source": [
    "import tensorflow_datasets as tfds"
   ]
  },
  {
   "cell_type": "code",
   "execution_count": 6,
   "metadata": {
    "id": "ZcR4zT3V8dMc"
   },
   "outputs": [],
   "source": [
    "import numpy as np\n",
    "import scipy\n",
    "import matplotlib.pyplot as plt\n",
    "import os\n",
    "import pandas as pd"
   ]
  },
  {
   "cell_type": "code",
   "execution_count": 7,
   "metadata": {},
   "outputs": [],
   "source": [
    "# # ! pip install tensorflow-probability==0.11.0\n",
    "# ! pip install --user -e /global/homes/v/vboehm/codes/SDSS_PAE/    "
   ]
  },
  {
   "cell_type": "markdown",
   "metadata": {
    "id": "6ZME24z11ITl"
   },
   "source": [
    "#### load some SDSS data\n"
   ]
  },
  {
   "cell_type": "code",
   "execution_count": 8,
   "metadata": {},
   "outputs": [],
   "source": [
    "import sdss_pae.sdss_dataset as sdss "
   ]
  },
  {
   "cell_type": "code",
   "execution_count": 9,
   "metadata": {},
   "outputs": [],
   "source": [
    "ds, info = tfds.load('sdss', data_dir='/global/cscratch1/sd/vboehm/Datasets/SDSS_BOSS_good', with_info=True, split='train', download=True)\n",
    "tot_num  = info.splits['train'].num_examples"
   ]
  },
  {
   "cell_type": "code",
   "execution_count": 10,
   "metadata": {},
   "outputs": [
    {
     "data": {
      "text/plain": [
       "tfds.core.DatasetInfo(\n",
       "    name='sdss',\n",
       "    full_name='sdss/1.0.0',\n",
       "    description=\"\"\"\n",
       "    selected features from spAll and spZbest files \n",
       "    'flux': measured spectrum in  \n",
       "    'inv_var': inverse variance\n",
       "    'and_mask': and mask (set to 1 for all non-zero entries)\n",
       "    'coeffs': c0, c1, npix. calculate wavelengths with `10.**(c0 + c1 * np.arange(npix))`\n",
       "    'label': type of object, 'STAR'==0, 'QSO'==1, 'GALAXY'==2\n",
       "    'redshift': object redshift estimate\n",
       "    \"\"\",\n",
       "    homepage='https://www.sdss.org/science/data-release-publications/',\n",
       "    data_path='/global/cscratch1/sd/vboehm/Datasets/SDSS_BOSS_good/sdss/1.0.0',\n",
       "    download_size=Unknown size,\n",
       "    dataset_size=199.20 GiB,\n",
       "    features=FeaturesDict({\n",
       "        'DEC': tf.float32,\n",
       "        'MJD': tf.int32,\n",
       "        'RA': tf.float32,\n",
       "        'and_mask': Tensor(shape=(None, 1), dtype=tf.int32),\n",
       "        'coeffs': Tensor(shape=(3, 1), dtype=tf.float32),\n",
       "        'fiber': tf.int32,\n",
       "        'filename': Text(shape=(), dtype=tf.string),\n",
       "        'flux': Tensor(shape=(None, 1), dtype=tf.float32),\n",
       "        'folder': Text(shape=(), dtype=tf.string),\n",
       "        'inv_var': Tensor(shape=(None, 1), dtype=tf.float32),\n",
       "        'label': ClassLabel(shape=(), dtype=tf.int64, num_classes=3),\n",
       "        'plate': tf.int32,\n",
       "        'redshift': tf.float32,\n",
       "        'sublabel': Text(shape=(), dtype=tf.string),\n",
       "        'zwarning': tf.int32,\n",
       "    }),\n",
       "    supervised_keys=None,\n",
       "    disable_shuffling=False,\n",
       "    splits={\n",
       "        'train': <SplitInfo num_examples=5300240, num_shards=1024>,\n",
       "    },\n",
       "    citation=\"\"\"\"\"\",\n",
       ")"
      ]
     },
     "execution_count": 10,
     "metadata": {},
     "output_type": "execute_result"
    }
   ],
   "source": [
    "info"
   ]
  },
  {
   "cell_type": "code",
   "execution_count": 11,
   "metadata": {},
   "outputs": [],
   "source": [
    "mm = 5\n"
   ]
  },
  {
   "cell_type": "code",
   "execution_count": 12,
   "metadata": {},
   "outputs": [],
   "source": [
    "if mm<5:\n",
    "    ds, info = tfds.load('sdss', data_dir='/global/cscratch1/sd/vboehm/Datasets/SDSS_BOSS_good',with_info=True, split='train[%d:%d]'%(mm*1000000,(mm+1)*1000000), download=True)\n",
    "    num_examples = info.splits['train[%d:%d]'%(mm*1000000,(mm+1)*1000000)].num_examples\n",
    "else:\n",
    "    ds, info = tfds.load('sdss', data_dir='/global/cscratch1/sd/vboehm/Datasets/SDSS_BOSS_good',with_info=True, split='train[%d:%d]'%(mm*1000000,tot_num), download=True)\n",
    "    num_examples = info.splits['train[%d:%d]'%(mm*1000000,tot_num)].num_examples"
   ]
  },
  {
   "cell_type": "code",
   "execution_count": 13,
   "metadata": {},
   "outputs": [
    {
     "name": "stdout",
     "output_type": "stream",
     "text": [
      "300240\n"
     ]
    }
   ],
   "source": [
    "print(num_examples)"
   ]
  },
  {
   "cell_type": "code",
   "execution_count": 14,
   "metadata": {},
   "outputs": [],
   "source": [
    "#### settings\n",
    "root_models     = '/global/cscratch1/sd/vboehm/Models/SDSS_AE/'\n",
    "\n",
    "root_encoded    = '/global/cscratch1/sd/vboehm/Datasets/encoded/sdss/'\n",
    "root_decoded    = '/global/cscratch1/sd/vboehm/Datasets/decoded/sdss/'\n",
    "root_data       = '/global/cscratch1/sd/vboehm/Datasets'\n",
    "\n",
    "root_prepped    = os.path.join(root_data,'sdss/prepped')\n",
    "\n",
    "wlmin, wlmax    = (3388,8318)\n",
    "fixed_num_bins  = 1000\n",
    "select_by       = [1,2] \n",
    "de_redshift     = True\n",
    "label           = 'galaxies_quasars_bins%d_wl%d-%d'%(fixed_num_bins,wlmin,wlmax)"
   ]
  },
  {
   "cell_type": "code",
   "execution_count": 15,
   "metadata": {},
   "outputs": [
    {
     "data": {
      "text/plain": [
       "'/global/cscratch1/sd/vboehm/Datasets'"
      ]
     },
     "execution_count": 15,
     "metadata": {},
     "output_type": "execute_result"
    }
   ],
   "source": [
    "root_data"
   ]
  },
  {
   "cell_type": "code",
   "execution_count": 16,
   "metadata": {},
   "outputs": [],
   "source": [
    "#target, MJD_t, plate_t, fiber_t, objid_t = np.load(os.path.join(root_data,'SDSS_BOSS_data/target_selection.npy'))\n",
    "\n"
   ]
  },
  {
   "cell_type": "code",
   "execution_count": 17,
   "metadata": {},
   "outputs": [],
   "source": [
    "subselect = pd.read_csv('../PAE_targets.csv')\n",
    "MJD_t = subselect['mjd']\n",
    "plate_t = subselect['plate']\n",
    "fiber_t = subselect['fiberid']"
   ]
  },
  {
   "cell_type": "code",
   "execution_count": 18,
   "metadata": {},
   "outputs": [],
   "source": [
    "obj = [[MJD_t[ii], plate_t[ii], fiber_t[ii]] for ii in range(len(subselect))]"
   ]
  },
  {
   "cell_type": "code",
   "execution_count": 19,
   "metadata": {},
   "outputs": [
    {
     "data": {
      "text/plain": [
       "500000"
      ]
     },
     "execution_count": 19,
     "metadata": {},
     "output_type": "execute_result"
    }
   ],
   "source": [
    "len(obj)"
   ]
  },
  {
   "cell_type": "code",
   "execution_count": 5,
   "metadata": {},
   "outputs": [
    {
     "name": "stdout",
     "output_type": "stream",
     "text": [
      "475.8222675121877 Mpc\n"
     ]
    }
   ],
   "source": [
    "z_ref  = 0.1\n",
    "ld_ref = cosmo.luminosity_distance(z_ref)\n",
    "print(ld_ref)"
   ]
  },
  {
   "cell_type": "code",
   "execution_count": 21,
   "metadata": {},
   "outputs": [],
   "source": [
    "# filter dataset by redshifts and type\n",
    "\n",
    "def filter_type_fn(x):\n",
    "    if select_by is not None:\n",
    "        x = x['label']\n",
    "        s = tf.ones(len(select_by), dtype=tf.int64)*np.asarray(select_by)\n",
    "        tile_multiples = tf.concat([tf.ones(tf.shape(tf.shape(x)), dtype=tf.int32), tf.shape(s)], axis=0)\n",
    "        x_tile = tf.tile(tf.expand_dims(x, -1), tile_multiples)\n",
    "        x_in_s = tf.reduce_any(tf.equal(x_tile, s), -1)\n",
    "        return x_in_s\n",
    "    else: return 1\n",
    "    \n",
    "def filter_zwarning_fn(x):\n",
    "    return tf.math.equal(x['zwarning'], 0)\n",
    "\n",
    "    \n",
    "def filter_redshift_fn(x):\n",
    "    return tf.math.greater(x['redshift'], 0)\n",
    "\n",
    "#ds = ds.filter(filter_type_fn)\n",
    "ds = ds.filter(filter_redshift_fn)\n",
    "ds = ds.filter(filter_zwarning_fn)"
   ]
  },
  {
   "cell_type": "code",
   "execution_count": 23,
   "metadata": {},
   "outputs": [],
   "source": [
    "# DATASET_SIZE=len(list(ds))\n",
    "# print('size of subselected data:', DATASET_SIZE)"
   ]
  },
  {
   "cell_type": "code",
   "execution_count": 22,
   "metadata": {
    "id": "beEnDqGV9f-9"
   },
   "outputs": [],
   "source": [
    "# computing maximum and minimum redhsift in the data sample, getting distribution of data sizes\n",
    "# this doe not need to be run every time - especially if wavelength range is set by user\n",
    "\n",
    "try:\n",
    "    wl_range = np.load('wl_range_%s.npy'%label)\n",
    "except:\n",
    "    ii          = 0\n",
    "    min_wl      = 100\n",
    "    max_wl      = -100\n",
    "    num_npixs   = []\n",
    "    img_coeffs1 = []\n",
    "    img_coeffs2 = []\n",
    "    factors     = []\n",
    "    min_z       = 5\n",
    "    max_z       = -5\n",
    "    redshifts   = []\n",
    "\n",
    "    for image in tfds.as_numpy(ds):\n",
    "        log10wl = image['coeffs'][0][0] + image['coeffs'][1][0] * np.arange(image['coeffs'][2][0])\n",
    "        if de_redshift:\n",
    "            log10wl = log10wl-np.log10(1+image['redshift'])\n",
    "        if max(log10wl)>max_wl:\n",
    "            max_wl= max(log10wl)\n",
    "        if min(log10wl)<min_wl:\n",
    "            min_wl=min(log10wl)\n",
    "        redshifts.append(image['redshift'])\n",
    "\n",
    "    wl_range = (min_wl, max_wl) \n",
    "\n",
    "    np.save('wl_range_%s.npy'%label,wl_range)"
   ]
  },
  {
   "cell_type": "code",
   "execution_count": 23,
   "metadata": {},
   "outputs": [
    {
     "name": "stdout",
     "output_type": "stream",
     "text": [
      "444.528876727121 10415.635957467819\n",
      "[13697.85814107]\n"
     ]
    }
   ],
   "source": [
    "min_wl, max_wl = wl_range\n",
    "print(10**min_wl, 10**max_wl)\n",
    "\n",
    "# compute number of pixels that span entire wl range:\n",
    "npix_max = -(min_wl-max_wl)/np.unique(1e-4)\n",
    "print(npix_max)"
   ]
  },
  {
   "cell_type": "code",
   "execution_count": 24,
   "metadata": {},
   "outputs": [],
   "source": [
    "wl_range      = (np.log10(wlmin),np.log10(wlmax))\n",
    "# new binning \n",
    "new_wl        = np.logspace(wl_range[0],wl_range[1],fixed_num_bins+1)"
   ]
  },
  {
   "cell_type": "code",
   "execution_count": 25,
   "metadata": {},
   "outputs": [
    {
     "data": {
      "text/plain": [
       "[<matplotlib.lines.Line2D at 0x2aac5e41f730>]"
      ]
     },
     "execution_count": 25,
     "metadata": {},
     "output_type": "execute_result"
    },
    {
     "data": {
      "image/png": "[encoded data removed]",
      "text/plain": [
       "<Figure size 432x288 with 1 Axes>"
      ]
     },
     "metadata": {
      "needs_background": "light"
     },
     "output_type": "display_data"
    }
   ],
   "source": [
    "plt.plot(np.diff(new_wl))\n",
    "plt.plot(np.diff(10**(min_wl+np.arange(npix_max)*1e-4)))"
   ]
  },
  {
   "cell_type": "code",
   "execution_count": 26,
   "metadata": {},
   "outputs": [],
   "source": [
    "from scipy.stats import binned_statistic"
   ]
  },
  {
   "cell_type": "code",
   "execution_count": 27,
   "metadata": {},
   "outputs": [
    {
     "name": "stdout",
     "output_type": "stream",
     "text": [
      "0\n",
      "1000.0\n",
      "2000.0\n",
      "3000.0\n",
      "4000.0\n",
      "5000.0\n",
      "6000.0\n",
      "7000.0\n",
      "8000.0\n",
      "9000.0\n",
      "10000.0\n",
      "11000.0\n",
      "12000.0\n",
      "13000.0\n",
      "14000.0\n",
      "15000.0\n",
      "16000.0\n",
      "17000.0\n",
      "18000.0\n",
      "19000.0\n",
      "20000.0\n",
      "21000.0\n",
      "22000.0\n",
      "23000.0\n",
      "24000.0\n",
      "25000.0\n",
      "26000.0\n",
      "27000.0\n",
      "28000.0\n",
      "29000.0\n",
      "30000.0\n",
      "31000.0\n",
      "32000.0\n",
      "33000.0\n",
      "34000.0\n",
      "35000.0\n",
      "36000.0\n",
      "37000.0\n",
      "38000.0\n",
      "39000.0\n",
      "40000.0\n",
      "41000.0\n",
      "42000.0\n",
      "43000.0\n",
      "44000.0\n",
      "45000.0\n",
      "46000.0\n",
      "47000.0\n",
      "48000.0\n",
      "49000.0\n",
      "50000.0\n",
      "51000.0\n",
      "52000.0\n",
      "53000.0\n",
      "54000.0\n",
      "55000.0\n",
      "56000.0\n",
      "57000.0\n",
      "58000.0\n",
      "59000.0\n",
      "60000.0\n",
      "61000.0\n",
      "62000.0\n",
      "63000.0\n",
      "64000.0\n",
      "65000.0\n",
      "66000.0\n",
      "67000.0\n",
      "68000.0\n",
      "69000.0\n",
      "70000.0\n",
      "71000.0\n",
      "72000.0\n",
      "73000.0\n",
      "74000.0\n",
      "75000.0\n",
      "76000.0\n",
      "77000.0\n",
      "78000.0\n",
      "79000.0\n",
      "80000.0\n",
      "81000.0\n",
      "82000.0\n",
      "83000.0\n",
      "84000.0\n",
      "85000.0\n",
      "86000.0\n",
      "87000.0\n",
      "88000.0\n",
      "89000.0\n",
      "90000.0\n",
      "91000.0\n",
      "92000.0\n",
      "93000.0\n",
      "94000.0\n",
      "95000.0\n",
      "96000.0\n",
      "97000.0\n",
      "98000.0\n",
      "99000.0\n",
      "100000.0\n",
      "101000.0\n",
      "102000.0\n",
      "103000.0\n",
      "104000.0\n",
      "105000.0\n",
      "106000.0\n",
      "107000.0\n",
      "108000.0\n",
      "109000.0\n",
      "110000.0\n",
      "111000.0\n",
      "112000.0\n",
      "113000.0\n",
      "114000.0\n",
      "115000.0\n",
      "116000.0\n",
      "117000.0\n",
      "118000.0\n",
      "119000.0\n",
      "120000.0\n",
      "121000.0\n",
      "122000.0\n",
      "123000.0\n",
      "124000.0\n",
      "125000.0\n",
      "126000.0\n",
      "127000.0\n",
      "128000.0\n",
      "129000.0\n",
      "130000.0\n",
      "131000.0\n",
      "132000.0\n",
      "133000.0\n",
      "134000.0\n",
      "135000.0\n",
      "136000.0\n",
      "137000.0\n",
      "138000.0\n",
      "139000.0\n",
      "140000.0\n",
      "141000.0\n",
      "142000.0\n",
      "143000.0\n",
      "144000.0\n",
      "145000.0\n",
      "146000.0\n",
      "147000.0\n",
      "148000.0\n",
      "149000.0\n",
      "150000.0\n",
      "151000.0\n",
      "152000.0\n",
      "153000.0\n",
      "154000.0\n",
      "155000.0\n",
      "156000.0\n",
      "157000.0\n",
      "158000.0\n",
      "159000.0\n",
      "160000.0\n",
      "161000.0\n",
      "162000.0\n",
      "163000.0\n",
      "164000.0\n",
      "165000.0\n",
      "166000.0\n",
      "167000.0\n",
      "168000.0\n",
      "169000.0\n",
      "170000.0\n",
      "171000.0\n",
      "172000.0\n",
      "173000.0\n",
      "174000.0\n",
      "175000.0\n",
      "176000.0\n",
      "177000.0\n",
      "178000.0\n",
      "179000.0\n",
      "180000.0\n",
      "181000.0\n",
      "182000.0\n",
      "183000.0\n",
      "184000.0\n",
      "185000.0\n",
      "186000.0\n",
      "187000.0\n",
      "188000.0\n",
      "189000.0\n",
      "190000.0\n",
      "191000.0\n",
      "192000.0\n",
      "193000.0\n",
      "194000.0\n",
      "195000.0\n",
      "196000.0\n",
      "197000.0\n",
      "198000.0\n",
      "199000.0\n",
      "200000.0\n",
      "201000.0\n",
      "202000.0\n",
      "203000.0\n",
      "204000.0\n",
      "205000.0\n",
      "206000.0\n",
      "207000.0\n",
      "208000.0\n",
      "209000.0\n",
      "210000.0\n",
      "211000.0\n",
      "212000.0\n",
      "213000.0\n",
      "214000.0\n",
      "215000.0\n",
      "216000.0\n"
     ]
    }
   ],
   "source": [
    "raw_flux           = []\n",
    "raw_noise          = []\n",
    "raw_masks          = []\n",
    "decs               = []\n",
    "ras                = []\n",
    "sublabel           = []\n",
    "plate_id           = []\n",
    "MJD                = []\n",
    "fiber              = []\n",
    "folder             = []\n",
    "\n",
    "res_fluxes         = []\n",
    "res_inv_vars       = []\n",
    "res_masks          = []\n",
    "redshifts          = []\n",
    "category           = []\n",
    "\n",
    "SNs                = []\n",
    "\n",
    "flag               = []\n",
    "\n",
    "ii=0\n",
    "\n",
    "fully_masked = []\n",
    "\n",
    "for nn, image in enumerate(tfds.as_numpy(ds)):\n",
    "    ## this is not a correct selection, but a pre-selection. strict selection is too expensive on full dataset\n",
    "    ## in step 2 we do the full cut\n",
    "    if (image['fiber'] in fiber_t) and (image['MJD'] in MJD_t) and (image['plate'] in plate_t):\n",
    "        if ii%1000==0:\n",
    "            print(ii)\n",
    "        if image['zwarning']>0:\n",
    "            print('bad spectrum')\n",
    "\n",
    "        # compute wavelengths\n",
    "        log10wl  = image['coeffs'][0][0] + image['coeffs'][1][0] * np.arange(image['coeffs'][2][0])\n",
    "        log10wl  = log10wl\n",
    "        wl       = 10**log10wl\n",
    "\n",
    "        raw_flux.append(image['flux'])\n",
    "        raw_noise.append(image['inv_var'])\n",
    "        raw_masks.append(image['and_mask'])\n",
    "\n",
    "        ##rescale flux by wavelength and distance\n",
    "        factor   = (cosmo.luminosity_distance(image['redshift'])/ld_ref)**2\n",
    "        #flux\n",
    "\n",
    "        ### change that to before de-redshifting\n",
    "        flux     = image['flux'][:,0]*factor*wl\n",
    "        #inv_var\n",
    "        inv_var  = image['inv_var'][:,0]/(wl*factor)**2\n",
    "\n",
    "        wl/=(1.+image['redshift'])\n",
    "\n",
    "        ## mask\n",
    "\n",
    "        #mask\n",
    "        mask           = np.squeeze(image['and_mask'])\n",
    "        #mask pixels that are completely noise dominated (mask!)\n",
    "        noise_         = np.squeeze(inv_var)\n",
    "        ind            = np.where(noise_==0.)\n",
    "        mask[ind]      = False \n",
    "\n",
    "        mask_ind = np.where(mask)\n",
    "\n",
    "        if len(mask_ind[0])==0:\n",
    "            fully_masked.append([image['MJD'],image['plate'],image['fiber']])\n",
    "        else:\n",
    "\n",
    "            res_flux, _, _ = binned_statistic(wl[mask_ind], flux[mask_ind],bins=new_wl)\n",
    "\n",
    "\n",
    "\n",
    "            noise          = 1./noise_[mask_ind]\n",
    "            noise_, _, _   = binned_statistic(wl[mask_ind],noise,bins=new_wl)\n",
    "            N, _, _        = binned_statistic(wl[mask_ind],values=np.zeros(len(wl[mask_ind])),statistic='count',bins=new_wl)\n",
    "            new_mask_ind   = np.where(N==0)\n",
    "            noise_         = noise_/N\n",
    "            inv_var_res    = 1./noise_\n",
    "            res_flux[new_mask_ind] = 0\n",
    "            res_fluxes.append(res_flux)\n",
    "\n",
    "            new_mask_cons = np.ones(len(new_wl)-1,dtype=np.int32)\n",
    "            new_mask_cons[new_mask_ind] = 0\n",
    "\n",
    "\n",
    "            res_masks.append(new_mask_cons)\n",
    "\n",
    "\n",
    "            SN = np.sum(res_flux)/np.sqrt(np.sum(1./inv_var_res))\n",
    "            SNs.append(SN)\n",
    "\n",
    "            inv_var_res[new_mask_ind] = 0\n",
    "            res_inv_vars.append(inv_var_res)\n",
    "\n",
    "            redshifts.append(image['redshift'])\n",
    "            ras.append(image['RA'])\n",
    "            decs.append(image['DEC'])\n",
    "            sublabel.append(image['sublabel'])\n",
    "            category.append(image['label'])\n",
    "            MJD.append(image['MJD'])\n",
    "            fiber.append(image['fiber'])\n",
    "            plate_id.append(image['plate'])\n",
    "            folder.append(image['folder'])\n",
    "\n",
    "            ii+=1."
   ]
  },
  {
   "cell_type": "code",
   "execution_count": 28,
   "metadata": {},
   "outputs": [
    {
     "name": "stdout",
     "output_type": "stream",
     "text": [
      "216310.0 5\n"
     ]
    }
   ],
   "source": [
    "print(ii, mm)"
   ]
  },
  {
   "cell_type": "code",
   "execution_count": 29,
   "metadata": {},
   "outputs": [
    {
     "data": {
      "text/plain": [
       "(216310, 343)"
      ]
     },
     "execution_count": 29,
     "metadata": {},
     "output_type": "execute_result"
    }
   ],
   "source": [
    "len(res_fluxes), len(fully_masked)"
   ]
  },
  {
   "cell_type": "code",
   "execution_count": 30,
   "metadata": {},
   "outputs": [
    {
     "data": {
      "text/plain": [
       "array([0, 1, 2])"
      ]
     },
     "execution_count": 30,
     "metadata": {},
     "output_type": "execute_result"
    }
   ],
   "source": [
    "np.unique(np.asarray(category))"
   ]
  },
  {
   "cell_type": "code",
   "execution_count": 31,
   "metadata": {},
   "outputs": [
    {
     "data": {
      "text/plain": [
       "(0.24252230594979426, 0.6680458601081781, 0.08943183394202764)"
      ]
     },
     "execution_count": 31,
     "metadata": {},
     "output_type": "execute_result"
    }
   ],
   "source": [
    "sum(np.asarray(category)==1)/len(category),sum(np.asarray(category)==2)/len(category),sum(np.asarray(category)==0)/len(category)"
   ]
  },
  {
   "cell_type": "code",
   "execution_count": 32,
   "metadata": {},
   "outputs": [
    {
     "data": {
      "text/plain": [
       "1.0"
      ]
     },
     "execution_count": 32,
     "metadata": {},
     "output_type": "execute_result"
    }
   ],
   "source": [
    "sum((0.2408235439560058, 0.6691100174604432, 0.09006643858355107))"
   ]
  },
  {
   "cell_type": "code",
   "execution_count": 33,
   "metadata": {},
   "outputs": [],
   "source": [
    "# saving pre-selected data, actual selection is subset\n",
    "np.save(os.path.join(root_data,'SDSS_BOSS_preprocessed/%s_%d_target_selection_QSO_GAL.npy'%(label,mm)), [res_fluxes,res_inv_vars,res_masks,redshifts,SNs, ras, decs, category,sublabel, MJD, plate_id, fiber, folder])"
   ]
  },
  {
   "cell_type": "code",
   "execution_count": 34,
   "metadata": {},
   "outputs": [],
   "source": [
    "np.save(os.path.join(root_data,'SDSS_BOSS_preprocessed/%s_%d_target_selection_QSO_GAL_maskedout.npy'%(label,mm)), fully_masked)"
   ]
  },
  {
   "cell_type": "code",
   "execution_count": null,
   "metadata": {},
   "outputs": [],
   "source": []
  }
 ],
 "metadata": {
  "accelerator": "GPU",
  "colab": {
   "authorship_tag": "ABX9TyNbeXyhiihZQbSo0juhrHje",
   "collapsed_sections": [],
   "include_colab_link": true,
   "name": "LSTM-AE.ipynb",
   "provenance": []
  },
  "kernelspec": {
   "display_name": "tf22",
   "language": "python",
   "name": "tf22"
  },
  "language_info": {
   "codemirror_mode": {
    "name": "ipython",
    "version": 3
   },
   "file_extension": ".py",
   "mimetype": "text/x-python",
   "name": "python",
   "nbconvert_exporter": "python",
   "pygments_lexer": "ipython3",
   "version": "3.8.3"
  }
 },
 "nbformat": 4,
 "nbformat_minor": 4
}
