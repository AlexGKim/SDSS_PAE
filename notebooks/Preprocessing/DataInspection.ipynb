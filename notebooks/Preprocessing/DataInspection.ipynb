{
 "cells": [
  {
   "cell_type": "markdown",
   "metadata": {},
   "source": [
    "# Data Inspection and Preparation of Dataset Creation"
   ]
  },
  {
   "cell_type": "code",
   "execution_count": 3,
   "metadata": {},
   "outputs": [],
   "source": [
    "#import fitsio\n",
    "import os\n",
    "import os.path\n",
    "import matplotlib.pyplot as plt\n",
    "import numpy as np\n",
    "import tqdm\n",
    "import tensorflow as tf\n",
    "from astropy.io import fits\n",
    "import astropy\n",
    "import json\n",
    "from astropy.table import Table,vstack "
   ]
  },
  {
   "cell_type": "markdown",
   "metadata": {},
   "source": [
    "\n",
    "Sloan data at NERSC is stored in this directory: /global/project/projectdirs/cosmo/data/sdss/dr16/sdss/spectro/redux/plates-dr16\n",
    "\n",
    "to build dataset, run: tfds build --data_dir=/global/cscratch1/sd/vboehm/Datasets/SDSS_BOSS_all --register_checksums"
   ]
  },
  {
   "cell_type": "markdown",
   "metadata": {},
   "source": [
    "Data is in subdirectories.\n",
    "\n",
    "Spectra are organied by plate.\n",
    "\n",
    "For the moment work with \"combined\" spectra.  A single object may be observed several times and the spectrograph has blue and red channels.  These data are available but the simple thing is to work where these data are combined to make one spectrum per object.\n",
    "\n",
    "The combined spectra for the plate are in fits files with the name \"spPlate*.fits\n",
    "\n",
    "see https://data.sdss.org/datamodel/files/BOSS_SPECTRO_REDUX/RUN2D/PLATE4/spPlate.html"
   ]
  },
  {
   "cell_type": "code",
   "execution_count": 4,
   "metadata": {},
   "outputs": [],
   "source": [
    "local_path = '/global/cscratch1/sd/vboehm/Datasets/SDSS_BOSS_data/'"
   ]
  },
  {
   "cell_type": "markdown",
   "metadata": {},
   "source": [
    "### Get list of good plates"
   ]
  },
  {
   "cell_type": "code",
   "execution_count": 5,
   "metadata": {},
   "outputs": [
    {
     "name": "stdout",
     "output_type": "stream",
     "text": [
      "6826\n",
      "['103' '104' '26' 'v5_13_0']\n",
      "51630 266 good 104\n"
     ]
    }
   ],
   "source": [
    "hdulist = fits.open(\"/global/project/projectdirs/cosmo/data/sdss/dr16/sdss/spectro/redux/plates-dr16.fits\")\n",
    "plateid = hdulist[1].data['PLATEID']\n",
    "plates  = hdulist[1].data['PLATE']\n",
    "mjds    = hdulist[1].data['MJD']\n",
    "platequality = hdulist[1].data['PLATEQUALITY']\n",
    "print(len(plates))\n",
    "endings = np.unique(hdulist[1].data['RUN2D'])\n",
    "print(endings)\n",
    "print(mjds[1], plates[1], platequality[1], endings[1])"
   ]
  },
  {
   "cell_type": "code",
   "execution_count": 6,
   "metadata": {},
   "outputs": [
    {
     "data": {
      "text/plain": [
       "array([267, 279], dtype=int32)"
      ]
     },
     "execution_count": 6,
     "metadata": {},
     "output_type": "execute_result"
    }
   ],
   "source": [
    "plates[np.where(mjds==51608)]"
   ]
  },
  {
   "cell_type": "code",
   "execution_count": 7,
   "metadata": {},
   "outputs": [
    {
     "data": {
      "text/plain": [
       "(51608, 267)"
      ]
     },
     "execution_count": 7,
     "metadata": {},
     "output_type": "execute_result"
    }
   ],
   "source": [
    "51608,267"
   ]
  },
  {
   "cell_type": "code",
   "execution_count": 8,
   "metadata": {},
   "outputs": [],
   "source": [
    "good_plates = np.where(platequality=='good')\n",
    "good_data = {}"
   ]
  },
  {
   "cell_type": "code",
   "execution_count": null,
   "metadata": {},
   "outputs": [],
   "source": []
  },
  {
   "cell_type": "code",
   "execution_count": 9,
   "metadata": {},
   "outputs": [
    {
     "name": "stdout",
     "output_type": "stream",
     "text": [
      "6062\n"
     ]
    }
   ],
   "source": [
    "plates = plates[good_plates]\n",
    "mjds   = mjds[good_plates]\n",
    "folder = hdulist[1].data['RUN2D'][good_plates]\n",
    "\n",
    "count = 0 \n",
    "for tag in np.unique(folder):\n",
    "    good_data[tag]={}\n",
    "    good_data[tag]['plates']=plates[folder==tag]\n",
    "    good_data[tag]['mjds']=mjds[folder==tag]\n",
    "    count+=len(mjds[folder==tag])\n",
    "print(count)"
   ]
  },
  {
   "cell_type": "code",
   "execution_count": null,
   "metadata": {},
   "outputs": [],
   "source": []
  },
  {
   "cell_type": "code",
   "execution_count": 10,
   "metadata": {},
   "outputs": [
    {
     "data": {
      "text/plain": [
       "chararray(['103', '104', '26', 'v5_13_0'], dtype='<U7')"
      ]
     },
     "execution_count": 10,
     "metadata": {},
     "output_type": "execute_result"
    }
   ],
   "source": [
    "np.unique(folder)"
   ]
  },
  {
   "cell_type": "code",
   "execution_count": 11,
   "metadata": {},
   "outputs": [
    {
     "name": "stdout",
     "output_type": "stream",
     "text": [
      "/global/project/projectdirs/cosmo/data/sdss/dr16/sdss/spectro/redux/103/2887/pass2/spZbest-2887-54521.fits\n",
      "/global/project/projectdirs/cosmo/data/sdss/dr16/sdss/spectro/redux/103/2887/pass1/spZbest-2887-54521.fits\n",
      "spPlate-1962-53321.fits.save\n",
      "spPlate-1963-54331.fits.save\n",
      "spPlate-2247-53857.fits.save\n",
      "spPlate-2667-54142.fits.save\n",
      "spPlate-2912-54499.fits.save\n",
      "spPlate-2174-53521.fits.save\n",
      "spPlate-2255-53565.fits.save\n",
      "spPlate-2800-54326.fits.save\n",
      "spPlate-2256-53613.fits.save\n",
      "spPlate-2256-53859.fits.save\n",
      "spPlate-2377-53991.fits.save\n",
      "spPlate-2078-53378.fits.save\n",
      "spPlate-2338-53679.fits.save\n",
      "spPlate-1960-53289.fits.save\n",
      "spPlate-2079-53379.fits.save\n",
      "spPlate-2185-53532.fits.save\n",
      "spPlate-1961-53299.fits.save\n",
      "spPlate-2671-54141.fits.save\n",
      "spPlate-2333-53676.fits.save\n",
      "spPlate-2821-54393.fits.save\n",
      "spPlate-2887-54521.fits.save\n",
      "spPlate-2475-53845.fits.save\n",
      "spPlate-2476-53826.fits.save\n"
     ]
    }
   ],
   "source": [
    "# save the names of the data and redshift files\n",
    "char1 = '-'\n",
    "char2 = '.'\n",
    "datafiles_wz=[]\n",
    "datafiles_nz=[]\n",
    "datafiles_ending=[]\n",
    "z_files=[]\n",
    "for ending in endings:\n",
    "    sdss_dir = os.path.join(\"/global/project/projectdirs/cosmo/data/sdss/dr16/sdss/spectro/redux/\", ending)\n",
    "    for dirpath, dirnames, filenames in os.walk(sdss_dir):\n",
    "        for filename in [f for f in filenames if f.startswith(\"spPlate\")]:\n",
    "            try:\n",
    "                this_plate = np.int(filename[filename.find(char1)+1 : filename.find(char2)-6])\n",
    "                this_mjd   = np.int(filename[-10:-5])\n",
    "            except:\n",
    "                print(filename)\n",
    "            if this_plate in good_data[ending]['plates']:\n",
    "                ind = np.where(good_data[ending]['plates']==this_plate)[0]\n",
    "                if this_mjd in good_data[ending]['mjds'][ind]:\n",
    "                    data_file   = os.path.join(dirpath, filename)\n",
    "                    file_ending = filename[7::]\n",
    "                    if ending=='v5_13_0':\n",
    "                        z_file      = os.path.join(dirpath,ending,'spZbest'+file_ending)\n",
    "                    else:\n",
    "                        z_file      = os.path.join(dirpath,'spZbest'+file_ending)\n",
    "                    if os.path.exists(z_file):\n",
    "                        z_files.append(z_file)\n",
    "                        datafiles_wz.append(os.path.join(dirpath, data_file))\n",
    "                        datafiles_ending.append(ending)\n",
    "                    else:\n",
    "                        datafiles_nz.append(os.path.join(dirpath, data_file))\n",
    "                        print(z_file)"
   ]
  },
  {
   "cell_type": "code",
   "execution_count": 12,
   "metadata": {},
   "outputs": [
    {
     "name": "stdout",
     "output_type": "stream",
     "text": [
      "6062\n",
      "6064\n"
     ]
    }
   ],
   "source": [
    "## file numbers match, pass folders are something different\n",
    "print(len(datafiles_wz))\n",
    "print(len(z_files)+len(datafiles_nz))"
   ]
  },
  {
   "cell_type": "code",
   "execution_count": 13,
   "metadata": {},
   "outputs": [],
   "source": [
    "with open(os.path.join(local_path,'endings_good.txt'), 'w') as file:\n",
    "    json.dump(datafiles_ending, file)"
   ]
  },
  {
   "cell_type": "code",
   "execution_count": 14,
   "metadata": {},
   "outputs": [],
   "source": [
    "with open(os.path.join(local_path,'datafiles_good.txt'), 'w') as file:\n",
    "    json.dump(datafiles_wz, file)"
   ]
  },
  {
   "cell_type": "code",
   "execution_count": 15,
   "metadata": {},
   "outputs": [],
   "source": [
    "with open(os.path.join(local_path,'z_files_good.txt'), 'w') as file:\n",
    "    json.dump(z_files, file)"
   ]
  },
  {
   "cell_type": "markdown",
   "metadata": {},
   "source": [
    "### target selection"
   ]
  },
  {
   "cell_type": "code",
   "execution_count": 27,
   "metadata": {},
   "outputs": [],
   "source": [
    "test   = '/global/project/projectdirs/cosmo/data/sdss/dr16/sdss/spectro/redux/specObj-dr16.fits'\n",
    "table  = Table.read(test, format='fits',hdu=1, memmap=True)\n",
    "target = table['LEGACY_TARGET1']\n",
    "MJD    = table['MJD']\n",
    "plate  = table['PLATE']\n",
    "fiber  = table['FIBERID']\n",
    "objid  = table['SPECOBJID']"
   ]
  },
  {
   "cell_type": "code",
   "execution_count": 28,
   "metadata": {},
   "outputs": [
    {
     "name": "stdout",
     "output_type": "stream",
     "text": [
      "1137770 1137770 765 1806 640\n"
     ]
    }
   ],
   "source": [
    "selection = np.where(target%(64+2+4)!=0)[0]\n",
    "print(len(selection), len(np.unique( objid[selection].astype(int))), len(np.unique(MJD[selection])), len(np.unique(plate[selection])), len(np.unique(fiber[selection])))\n",
    "np.save(os.path.join(local_path,'target_selection_QSO_GAL.npy'),[target[selection],MJD[selection],plate[selection],fiber[selection], objid[selection].astype(int)])"
   ]
  },
  {
   "cell_type": "code",
   "execution_count": null,
   "metadata": {},
   "outputs": [],
   "source": []
  }
 ],
 "metadata": {
  "kernelspec": {
   "display_name": "tf22",
   "language": "python",
   "name": "tf22"
  },
  "language_info": {
   "codemirror_mode": {
    "name": "ipython",
    "version": 3
   },
   "file_extension": ".py",
   "mimetype": "text/x-python",
   "name": "python",
   "nbconvert_exporter": "python",
   "pygments_lexer": "ipython3",
   "version": "3.8.3"
  }
 },
 "nbformat": 4,
 "nbformat_minor": 4
}
