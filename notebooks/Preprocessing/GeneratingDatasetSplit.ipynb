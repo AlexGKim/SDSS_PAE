{
 "cells": [
  {
   "cell_type": "markdown",
   "metadata": {
    "colab_type": "text",
    "id": "view-in-github"
   },
   "source": [
    "<a href=\"https://colab.research.google.com/github/VMBoehm/SDSS_PAE/blob/main/LSTM_AE.ipynb\" target=\"_parent\"><img src=\"https://colab.research.google.com/assets/colab-badge.svg\" alt=\"Open In Colab\"/></a>"
   ]
  },
  {
   "cell_type": "markdown",
   "metadata": {
    "id": "IqDqXXTQ1FMN"
   },
   "source": [
    "# Splitting the dataset into training, validation and test.\n",
    "Further redshift cuts\n"
   ]
  },
  {
   "cell_type": "code",
   "execution_count": 3,
   "metadata": {},
   "outputs": [],
   "source": [
    "import tensorflow as tf\n",
    "tf.__version__\n",
    "tf.config.list_physical_devices('GPU')\n",
    "\n",
    "\n",
    "import numpy as np\n",
    "import scipy\n",
    "import matplotlib.pyplot as plt\n",
    "import os\n",
    "import logging\n",
    "import sys\n",
    "from tensorflow.keras.models import Sequential, Model\n",
    "from tensorflow.keras.layers import Layer, Reshape, LeakyReLU, BatchNormalization, Dense, Flatten, Input,Dropout\n",
    "import random\n",
    "import numpy as np\n",
    "import pickle\n",
    "import pandas as pd"
   ]
  },
  {
   "cell_type": "code",
   "execution_count": 52,
   "metadata": {},
   "outputs": [],
   "source": [
    "### settings\n",
    "# user defined span (following Yip et al and Portillo et al)\n",
    "root_models     = '/global/cscratch1/sd/vboehm/Models/SDSS_AE/'\n",
    "\n",
    "root_model_data = '/global/cscratch1/sd/vboehm/Datasets/sdss/by_model/'\n",
    "root_encoded    = '/global/cscratch1/sd/vboehm/Datasets/encoded/sdss/'\n",
    "root_decoded    = '/global/cscratch1/sd/vboehm/Datasets/decoded/sdss/'\n",
    "root_data       = '/global/cscratch1/sd/vboehm/Datasets'\n",
    "\n",
    "root_prepped    = os.path.join(root_data,'sdss/prepped')\n",
    "\n",
    "wlmin, wlmax    = (3388,8318)\n",
    "fixed_num_bins  = 1000\n",
    "min_SN          = 50\n",
    "min_z           = 0.05\n",
    "max_z           = 0.36\n",
    "label           = 'galaxies_quasars_bins%d_wl%d-%d'%(fixed_num_bins,wlmin,wlmax)\n",
    "label_          = label+'_minz%s_maxz%s_minSN%d'%(str(int(min_z*100)).zfill(3),str(int(max_z*100)).zfill(3),min_SN)\n",
    "\n",
    "\n",
    "seed            = 10"
   ]
  },
  {
   "cell_type": "code",
   "execution_count": 53,
   "metadata": {},
   "outputs": [],
   "source": [
    "### load data and join\n",
    "\n",
    "res_fluxes, res_masks, res_inv_vars = np.load(os.path.join(root_prepped,'prepped_data_spectra_%s_QSO_GAL.npy'%(label_)))\n",
    "\n",
    "redshifts, SNs, ras, decs, category, sublabel, MJD, plate_id, fiber= np.load(os.path.join(root_prepped,'prepped_data_prop_%s_QSO_GAL.npy'%(label_)))\n"
   ]
  },
  {
   "cell_type": "code",
   "execution_count": 54,
   "metadata": {},
   "outputs": [
    {
     "name": "stdout",
     "output_type": "stream",
     "text": [
      "349104\n"
     ]
    }
   ],
   "source": [
    "print(len(res_fluxes))"
   ]
  },
  {
   "cell_type": "code",
   "execution_count": 55,
   "metadata": {},
   "outputs": [],
   "source": [
    "indices = np.arange(len(res_fluxes))"
   ]
  },
  {
   "cell_type": "code",
   "execution_count": 56,
   "metadata": {},
   "outputs": [],
   "source": [
    "np.random.seed(seed)\n",
    "np.random.shuffle(indices)"
   ]
  },
  {
   "cell_type": "code",
   "execution_count": 57,
   "metadata": {},
   "outputs": [],
   "source": [
    "def reshuffle(list_, indices):\n",
    "    res = []\n",
    "    for item_ in list_:\n",
    "        res.append(item_[indices])\n",
    "    return res"
   ]
  },
  {
   "cell_type": "code",
   "execution_count": 58,
   "metadata": {},
   "outputs": [],
   "source": [
    "res_fluxes, res_masks, res_inv_vars, redshifts, SNs, ras, decs, category, sublabel, MJD, plate_id, fiber = reshuffle([res_fluxes, res_masks, res_inv_vars, redshifts, SNs, ras, decs, category, sublabel,MJD, plate_id, fiber], indices)"
   ]
  },
  {
   "cell_type": "code",
   "execution_count": 59,
   "metadata": {},
   "outputs": [],
   "source": [
    "# def redshift_bin(min_z, max_z, z_array, arrays):\n",
    "#     num  = len(arrays)\n",
    "#     z_array = np.asarray(z_array, dtype=np.float32)\n",
    "#     indx = np.where((z_array>min_z)*(z_array<max_z))[0]\n",
    "#     arrays_new = [arrays[ii][indx] for ii in range(num)]\n",
    "#     print('new datasize: ', len(indx))\n",
    "#     return arrays_new\n",
    "\n",
    "# res_fluxes, res_masks, res_inv_vars, redshifts, SNs, ras, decs, category, sublabel, MJD, plate_id, fiber = redshift_bin(min_z_cut,max_z, redshifts, [res_fluxes, res_masks, res_inv_vars, redshifts, SNs, ras, decs, category, sublabel, MJD, plate_id, fiber])"
   ]
  },
  {
   "cell_type": "code",
   "execution_count": 60,
   "metadata": {},
   "outputs": [],
   "source": [
    "DATASET_SIZE = len(res_fluxes)\n",
    "train_size   = int(0.6 * DATASET_SIZE)\n",
    "test_size    = int(0.2 * DATASET_SIZE)\n",
    "valid_size   = int(0.2 * DATASET_SIZE)\n",
    "indices      = np.arange(DATASET_SIZE)"
   ]
  },
  {
   "cell_type": "code",
   "execution_count": 61,
   "metadata": {},
   "outputs": [],
   "source": [
    "mean=np.mean(res_fluxes)\n",
    "std = np.std(res_fluxes)\n",
    "\n",
    "#### if only divide by mean\n",
    "std  = mean\n",
    "mean = 0"
   ]
  },
  {
   "cell_type": "code",
   "execution_count": 62,
   "metadata": {},
   "outputs": [],
   "source": [
    "train_data   = np.expand_dims((res_fluxes[:train_size]-mean)/std,-1)\n",
    "valid_data   = np.expand_dims((res_fluxes[train_size:train_size+valid_size]-mean)/std,-1)\n",
    "test_data    = np.expand_dims((res_fluxes[train_size+valid_size::]-mean)/std,-1)\n",
    "\n",
    "train_mask   = np.expand_dims(res_masks[:train_size],-1)\n",
    "valid_mask   = np.expand_dims(res_masks[train_size:train_size+valid_size],-1)\n",
    "test_mask    = np.expand_dims(res_masks[train_size+valid_size::],-1)\n",
    "\n",
    "train_noise  = np.expand_dims(res_inv_vars[:train_size],-1)*std**2\n",
    "valid_noise  = np.expand_dims(res_inv_vars[train_size:train_size+valid_size],-1)*std**2\n",
    "test_noise   = np.expand_dims(res_inv_vars[train_size+valid_size::],-1)*std**2\n",
    "\n",
    "train_params = np.asarray(redshifts, dtype=np.float32)[:train_size]\n",
    "valid_params = np.asarray(redshifts, dtype=np.float32)[train_size:train_size+valid_size]\n",
    "test_params  = np.asarray(redshifts, dtype=np.float32)[train_size+valid_size::]\n",
    "\n",
    "train_ras = np.asarray(ras, dtype=np.float32)[:train_size]\n",
    "valid_ras = np.asarray(ras, dtype=np.float32)[train_size:train_size+valid_size]\n",
    "test_ras  = np.asarray(ras, dtype=np.float32)[train_size+valid_size::]\n",
    "\n",
    "train_decs = np.asarray(decs, dtype=np.float32)[:train_size]\n",
    "valid_decs = np.asarray(decs, dtype=np.float32)[train_size:train_size+valid_size]\n",
    "test_decs  = np.asarray(decs, dtype=np.float32)[train_size+valid_size::]\n",
    "\n",
    "train_cat = category[:train_size].astype('float').astype('int')\n",
    "valid_cat = category[train_size:train_size+valid_size].astype('float').astype('int')\n",
    "test_cat  = category[train_size+valid_size::].astype('float').astype('int')\n",
    "\n",
    "train_labels = sublabel[:train_size]\n",
    "valid_labels = sublabel[train_size:train_size+valid_size]\n",
    "test_labels  = sublabel[train_size+valid_size::]\n",
    "\n",
    "train_SN = SNs[:train_size]\n",
    "valid_SN = SNs[train_size:train_size+valid_size]\n",
    "test_SN  = SNs[train_size+valid_size::]\n",
    "\n",
    "train_MJD = MJD[:train_size].astype('float').astype('int')\n",
    "valid_MJD = MJD[train_size:train_size+valid_size].astype('float').astype('int')\n",
    "test_MJD = MJD[train_size+valid_size::].astype('float').astype('int')\n",
    "\n",
    "train_plate_id = plate_id[:train_size].astype('float').astype('int')\n",
    "valid_plate_id = plate_id[train_size:train_size+valid_size].astype('float').astype('int')\n",
    "test_plate_id = plate_id[train_size+valid_size::].astype('float').astype('int')\n",
    "\n",
    "train_fiber = fiber[:train_size].astype('float').astype('int')\n",
    "valid_fiber = fiber[train_size:train_size+valid_size].astype('float').astype('int')\n",
    "test_fiber = fiber[train_size+valid_size::].astype('float').astype('int')"
   ]
  },
  {
   "cell_type": "code",
   "execution_count": 63,
   "metadata": {},
   "outputs": [
    {
     "name": "stdout",
     "output_type": "stream",
     "text": [
      "69820 69822\n"
     ]
    }
   ],
   "source": [
    "print(len(valid_fiber), len(test_fiber))"
   ]
  },
  {
   "cell_type": "code",
   "execution_count": 64,
   "metadata": {},
   "outputs": [
    {
     "name": "stdout",
     "output_type": "stream",
     "text": [
      "7\n",
      "3\n",
      "3\n"
     ]
    }
   ],
   "source": [
    "Supernovas = pd.read_pickle('../forPub/Supernova_Sample.pkl')\n",
    "df1 = pd.DataFrame()\n",
    "df1['MJD']   = train_MJD\n",
    "df1['plate'] = train_plate_id\n",
    "df1['fiber'] = train_fiber\n",
    "df1['redshift'] = train_labels\n",
    "sns= df1.merge(Supernovas,how='inner',on=['plate','MJD','fiber'])\n",
    "print(len(sns))\n",
    "df1 = pd.DataFrame()\n",
    "df1['MJD']   = valid_MJD\n",
    "df1['plate'] = valid_plate_id\n",
    "df1['fiber'] = valid_fiber\n",
    "df1['redshift'] = valid_labels\n",
    "sns= df1.merge(Supernovas,how='inner',on=['plate','MJD','fiber'])\n",
    "print(len(sns))\n",
    "df1 = pd.DataFrame()\n",
    "df1['MJD']   = test_MJD\n",
    "df1['plate'] = test_plate_id\n",
    "df1['fiber'] = test_fiber\n",
    "df1['redshift'] = test_labels\n",
    "sns= df1.merge(Supernovas,how='inner',on=['plate','MJD','fiber'])\n",
    "print(len(sns))"
   ]
  },
  {
   "cell_type": "code",
   "execution_count": 65,
   "metadata": {},
   "outputs": [],
   "source": [
    "np.savez(os.path.join(root_model_data,'train_%s_new.npy'%label_2),train_data,train_mask,train_noise,train_params,train_ras, train_decs, train_cat, train_labels,train_SN, train_MJD, train_plate_id,train_fiber, mean, std)"
   ]
  },
  {
   "cell_type": "code",
   "execution_count": 66,
   "metadata": {},
   "outputs": [],
   "source": [
    "np.savez(os.path.join(root_model_data,'valid_%s_new.npy'%label_2),valid_data,valid_mask,valid_noise,valid_params,valid_ras, valid_decs, valid_cat, valid_labels, valid_SN, valid_MJD, valid_plate_id, valid_fiber, mean, std)"
   ]
  },
  {
   "cell_type": "code",
   "execution_count": 67,
   "metadata": {},
   "outputs": [],
   "source": [
    "np.savez(os.path.join(root_model_data,'test_%s_new.npy'%label_2),test_data,test_mask,test_noise,test_params,test_ras, test_decs, test_cat, test_labels, test_SN, test_MJD, test_plate_id, test_fiber, mean, std)"
   ]
  },
  {
   "cell_type": "code",
   "execution_count": 68,
   "metadata": {},
   "outputs": [
    {
     "data": {
      "text/plain": [
       "(209462, 69820, 69822)"
      ]
     },
     "execution_count": 68,
     "metadata": {},
     "output_type": "execute_result"
    }
   ],
   "source": [
    "len(train_data), len(valid_data), len(test_data)"
   ]
  },
  {
   "cell_type": "code",
   "execution_count": null,
   "metadata": {},
   "outputs": [],
   "source": []
  }
 ],
 "metadata": {
  "accelerator": "GPU",
  "colab": {
   "authorship_tag": "ABX9TyNbeXyhiihZQbSo0juhrHje",
   "collapsed_sections": [],
   "include_colab_link": true,
   "name": "LSTM-AE.ipynb",
   "provenance": []
  },
  "kernelspec": {
   "display_name": "tf22",
   "language": "python",
   "name": "tf22"
  },
  "language_info": {
   "codemirror_mode": {
    "name": "ipython",
    "version": 3
   },
   "file_extension": ".py",
   "mimetype": "text/x-python",
   "name": "python",
   "nbconvert_exporter": "python",
   "pygments_lexer": "ipython3",
   "version": "3.8.3"
  }
 },
 "nbformat": 4,
 "nbformat_minor": 4
}
