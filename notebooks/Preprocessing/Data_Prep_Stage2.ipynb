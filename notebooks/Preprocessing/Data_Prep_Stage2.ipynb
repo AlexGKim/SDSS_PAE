{
 "cells": [
  {
   "cell_type": "markdown",
   "metadata": {
    "colab_type": "text",
    "id": "view-in-github"
   },
   "source": [
    "<a href=\"https://colab.research.google.com/github/VMBoehm/SDSS_PAE/blob/main/LSTM_AE.ipynb\" target=\"_parent\"><img src=\"https://colab.research.google.com/assets/colab-badge.svg\" alt=\"Open In Colab\"/></a>"
   ]
  },
  {
   "cell_type": "markdown",
   "metadata": {
    "id": "IqDqXXTQ1FMN"
   },
   "source": [
    "# Preparing Data Stage 2: SN and masked fraction cuts\n"
   ]
  },
  {
   "cell_type": "code",
   "execution_count": 1,
   "metadata": {
    "id": "ZcR4zT3V8dMc"
   },
   "outputs": [],
   "source": [
    "import numpy as np\n",
    "import scipy\n",
    "import matplotlib.pyplot as plt\n",
    "import os\n",
    "import copy\n",
    "import pandas as pd"
   ]
  },
  {
   "cell_type": "code",
   "execution_count": 2,
   "metadata": {},
   "outputs": [
    {
     "data": {
      "text/plain": [
       "'1.18.1'"
      ]
     },
     "execution_count": 2,
     "metadata": {},
     "output_type": "execute_result"
    }
   ],
   "source": [
    "import numpy\n",
    "numpy.__version__\n"
   ]
  },
  {
   "cell_type": "code",
   "execution_count": 6,
   "metadata": {},
   "outputs": [
    {
     "data": {
      "text/plain": [
       "'/global/cscratch1/sd/vboehm/Datasets/sdss/prepped'"
      ]
     },
     "execution_count": 6,
     "metadata": {},
     "output_type": "execute_result"
    }
   ],
   "source": [
    "root_prepped"
   ]
  },
  {
   "cell_type": "code",
   "execution_count": 3,
   "metadata": {},
   "outputs": [
    {
     "name": "stdout",
     "output_type": "stream",
     "text": [
      "/usr/bin/sh: pip: command not found\n"
     ]
    }
   ],
   "source": [
    "# ! pip install tensorflow-probability==0.11.0\n",
    "! pip install --user -e /global/homes/v/vboehm/codes/SDSS_PAE/    "
   ]
  },
  {
   "cell_type": "code",
   "execution_count": 4,
   "metadata": {},
   "outputs": [
    {
     "data": {
      "text/plain": [
       "array([1, 3])"
      ]
     },
     "execution_count": 4,
     "metadata": {},
     "output_type": "execute_result"
    }
   ],
   "source": [
    "a = np.arange(4)\n",
    "ind = np.where([0,1,0,1])\n",
    "a[ind]"
   ]
  },
  {
   "cell_type": "code",
   "execution_count": 3,
   "metadata": {},
   "outputs": [],
   "source": [
    "### settings\n",
    "# user defined span (following Yip et al and Portillo et al)\n",
    "root_models     = '/global/cscratch1/sd/vboehm/Models/SDSS_AE/'\n",
    "\n",
    "root_encoded    = '/global/cscratch1/sd/vboehm/Datasets/encoded/sdss/'\n",
    "root_decoded    = '/global/cscratch1/sd/vboehm/Datasets/decoded/sdss/'\n",
    "root_data       = '/global/cscratch1/sd/vboehm/Datasets'\n",
    "root_intermed   = '/global/cscratch1/sd/vboehm/Datasets/SDSS_preprocessing_steps/'\n",
    "\n",
    "root_prepped    = os.path.join(root_data,'sdss/prepped')\n",
    "\n",
    "wlmin, wlmax    = (3388,8318)\n",
    "fixed_num_bins  = 1000\n",
    "min_SN          = 50\n",
    "min_z           = 0.05\n",
    "max_z           = 0.36\n",
    "label           = 'galaxies_quasars_bins%d_wl%d-%d'%(fixed_num_bins,wlmin,wlmax)\n",
    "label_          = label+'_minz%s_maxz%s_minSN%d'%(str(int(min_z*100)).zfill(3),str(int(max_z*100)).zfill(3),min_SN)"
   ]
  },
  {
   "cell_type": "code",
   "execution_count": 6,
   "metadata": {},
   "outputs": [
    {
     "data": {
      "text/plain": [
       "'galaxies_quasars_bins1000_wl3388-8318_minz005_maxz036_minSN50'"
      ]
     },
     "execution_count": 6,
     "metadata": {},
     "output_type": "execute_result"
    }
   ],
   "source": [
    "label_"
   ]
  },
  {
   "cell_type": "code",
   "execution_count": 7,
   "metadata": {},
   "outputs": [],
   "source": [
    "wl_range      = (np.log10(wlmin),np.log10(wlmax))\n",
    "# new binning \n",
    "new_wl        = np.logspace(wl_range[0],wl_range[1],fixed_num_bins+1)"
   ]
  },
  {
   "cell_type": "code",
   "execution_count": 8,
   "metadata": {},
   "outputs": [],
   "source": [
    "subselect = pd.read_csv('../PAE_targets.csv')\n",
    "MJD_t   = subselect['mjd']\n",
    "plate_t = subselect['plate']\n",
    "fiber_t = subselect['fiberid']\n",
    "obj = [[MJD_t[ii], plate_t[ii], fiber_t[ii]] for ii in range(len(subselect))]"
   ]
  },
  {
   "cell_type": "code",
   "execution_count": 10,
   "metadata": {},
   "outputs": [
    {
     "name": "stdout",
     "output_type": "stream",
     "text": [
      "0\n",
      "1\n",
      "2\n",
      "3\n",
      "4\n",
      "5\n"
     ]
    }
   ],
   "source": [
    "masked_counts=0\n",
    "for nn in range(6):\n",
    "    print(nn)\n",
    "    arrays = [np.asarray([[],[]]) for jj in range(12)]\n",
    "    array_ = np.load(os.path.join(root_data,'SDSS_BOSS_preprocessed/%s_%d_target_selection_QSO_GAL.npy'%(label,nn)), allow_pickle=True)\n",
    "    masked_ = np.load(os.path.join(root_data,'SDSS_BOSS_preprocessed/%s_%d_target_selection_QSO_GAL_maskedout.npy'%(label,nn)))\n",
    "    masked_counts+=len(masked_)\n",
    "    for jj in range(12):\n",
    "        arr = np.vstack(array_[jj])\n",
    "        arrays[jj] = np.append(arrays[jj],arr)\n",
    "    res_fluxes_,res_inv_vars_,res_masks_,redshifts_,SNs_, ras_, decs_, category_,sublabel_, MJD_, plate_id_, fiber_ = arrays\n",
    "    if nn==0:\n",
    "        res_fluxes, res_masks, res_inv_vars, redshifts, SNs, ras, decs, category, sublabel, MJD, plate_id, fiber = res_fluxes_, res_masks_, res_inv_vars_, redshifts_, SNs_, ras_, decs_, category_, sublabel_, MJD_, plate_id_, fiber_\n",
    "    else:\n",
    "            res_fluxes   = np.concatenate([res_fluxes, res_fluxes_],axis=0)\n",
    "            res_masks    = np.concatenate([res_masks, res_masks_],axis=0)\n",
    "            res_inv_vars = np.concatenate([res_inv_vars, res_inv_vars_],axis=0)\n",
    "            redshifts    = np.concatenate([redshifts, redshifts_],axis=0)\n",
    "            SNs          = np.concatenate([SNs, SNs_],axis=0)\n",
    "            ras          = np.concatenate([ras, ras_],axis=0)\n",
    "            decs         = np.concatenate([decs, decs_],axis=0)\n",
    "            category     = np.concatenate([category, category_],axis=0)\n",
    "            sublabel     = np.concatenate([sublabel, sublabel_],axis=0)\n",
    "            MJD          = np.concatenate([MJD, MJD_],axis=0)\n",
    "            plate_id     = np.concatenate([plate_id, plate_id_],axis=0)\n",
    "            fiber        = np.concatenate([fiber, fiber_],axis=0)   "
   ]
  },
  {
   "cell_type": "code",
   "execution_count": 11,
   "metadata": {},
   "outputs": [],
   "source": [
    "res_fluxes_ = np.reshape(res_fluxes,[-1,1000])\n",
    "res_inv_vars_ =  np.reshape(res_inv_vars,[-1,1000])\n",
    "res_masks_ =  np.reshape(res_masks,[-1,1000])"
   ]
  },
  {
   "cell_type": "code",
   "execution_count": 12,
   "metadata": {},
   "outputs": [
    {
     "data": {
      "text/plain": [
       "3816115"
      ]
     },
     "execution_count": 12,
     "metadata": {},
     "output_type": "execute_result"
    }
   ],
   "source": [
    "len(res_fluxes_)"
   ]
  },
  {
   "cell_type": "code",
   "execution_count": 13,
   "metadata": {},
   "outputs": [],
   "source": [
    "del res_fluxes\n",
    "del res_inv_vars\n",
    "del res_masks"
   ]
  },
  {
   "cell_type": "code",
   "execution_count": 14,
   "metadata": {},
   "outputs": [],
   "source": [
    "redshifts_, ras_, decs_, category_, sublabel_, MJD_, plate_id_, fiber_ = redshifts, ras, decs, category, sublabel, MJD, plate_id, fiber"
   ]
  },
  {
   "cell_type": "code",
   "execution_count": 16,
   "metadata": {},
   "outputs": [
    {
     "name": "stdout",
     "output_type": "stream",
     "text": [
      "493741 3816112 3816115\n"
     ]
    }
   ],
   "source": [
    "df1 = pd.DataFrame()\n",
    "df1['MJD']   = MJD_\n",
    "df1['plate'] = plate_id_\n",
    "df1['fiber'] = fiber_\n",
    "df1['redshift'] = redshifts_\n",
    "df1['class'] = category_\n",
    "df1['num']   = np.arange(len(MJD_))\n",
    "\n",
    "df2 = pd.DataFrame()\n",
    "df2['MJD']   = MJD_t\n",
    "df2['plate'] = plate_t\n",
    "df2['fiber'] = fiber_t\n",
    "#df2['objid'] = objid_t\n",
    "\n",
    "df_overlap=df1.merge(df2,how='inner',on=['plate','MJD','fiber'])\n",
    "\n",
    "select = df_overlap['num']\n",
    "print(len(select), max(select), len(res_fluxes_))"
   ]
  },
  {
   "cell_type": "code",
   "execution_count": 23,
   "metadata": {},
   "outputs": [
    {
     "data": {
      "text/plain": [
       "6206"
      ]
     },
     "execution_count": 23,
     "metadata": {},
     "output_type": "execute_result"
    }
   ],
   "source": [
    "masked_counts\n"
   ]
  },
  {
   "cell_type": "code",
   "execution_count": 18,
   "metadata": {},
   "outputs": [
    {
     "name": "stdout",
     "output_type": "stream",
     "text": [
      "new datasize:  493741\n"
     ]
    }
   ],
   "source": [
    "def target_select(indx, x):\n",
    "    num = len(x)\n",
    "    arrays_new = [x[ii][indx] for ii in range(num)]\n",
    "    print('new datasize: ', len(indx))\n",
    "    return arrays_new\n",
    "\n",
    "res_fluxes, res_masks, res_inv_vars, redshifts, ras, decs, category, sublabel, MJD, plate_id, fiber = target_select(select, [res_fluxes_, res_masks_, res_inv_vars_, redshifts_, ras_, decs_, category_, sublabel_, MJD_, plate_id_, fiber_])"
   ]
  },
  {
   "cell_type": "code",
   "execution_count": 39,
   "metadata": {},
   "outputs": [
    {
     "name": "stdout",
     "output_type": "stream",
     "text": [
      "15\n"
     ]
    }
   ],
   "source": [
    "Supernovas = pd.read_pickle('../forPub/Supernova_Sample.pkl')\n",
    "df1 = pd.DataFrame()\n",
    "df1['MJD']   = MJD\n",
    "df1['plate'] = plate_id\n",
    "df1['fiber'] = fiber\n",
    "df1['redshift'] = redshifts\n",
    "df1['class'] = category\n",
    "df1.to_pickle(os.path.join(root_intermed,'step_1.pkl'))\n",
    "sns= df1.merge(Supernovas,how='inner',on=['plate','MJD','fiber'])\n",
    "print(len(sns))"
   ]
  },
  {
   "cell_type": "code",
   "execution_count": 48,
   "metadata": {},
   "outputs": [],
   "source": [
    "subselect = pd.read_csv('../PAE_targets.csv')\n",
    "# df1 = pd.DataFrame()\n",
    "# df1['MJD']   = MJD\n",
    "# df1['plate'] = plate_id\n",
    "# df1['fiber'] = fiber\n",
    "# df1['redshift'] = redshifts\n",
    "# df1.to_pickle(os.path.join(root_intermed,'step_1.pkl'))\n",
    "# sns= df1.merge(Supernovas,how='inner',on=['plate','MJD','fiber'])\n",
    "# print(len(sns))"
   ]
  },
  {
   "cell_type": "code",
   "execution_count": 49,
   "metadata": {},
   "outputs": [],
   "source": [
    "subselect.rename(columns={'fiberid':'fiber','mjd':'MJD'},inplace=True)"
   ]
  },
  {
   "cell_type": "code",
   "execution_count": 50,
   "metadata": {},
   "outputs": [],
   "source": [
    "subselect=subselect[subselect['zwarning']==0]"
   ]
  },
  {
   "cell_type": "code",
   "execution_count": 51,
   "metadata": {},
   "outputs": [
    {
     "data": {
      "text/plain": [
       "496973"
      ]
     },
     "execution_count": 51,
     "metadata": {},
     "output_type": "execute_result"
    }
   ],
   "source": [
    "len(subselect)"
   ]
  },
  {
   "cell_type": "code",
   "execution_count": 54,
   "metadata": {},
   "outputs": [
    {
     "data": {
      "text/plain": [
       "(493741, 493741, 496973, 496973)"
      ]
     },
     "execution_count": 54,
     "metadata": {},
     "output_type": "execute_result"
    }
   ],
   "source": [
    "sns = df1.merge(subselect,how='inner',on=['plate','MJD','fiber'])\n",
    "len(sns), len(df1), len(subselect), len(pd.merge(subselect,df1,'outer',on=['plate','MJD','fiber']))"
   ]
  },
  {
   "cell_type": "code",
   "execution_count": 55,
   "metadata": {},
   "outputs": [
    {
     "data": {
      "text/plain": [
       "3232"
      ]
     },
     "execution_count": 55,
     "metadata": {},
     "output_type": "execute_result"
    }
   ],
   "source": [
    "496973-493741"
   ]
  },
  {
   "cell_type": "code",
   "execution_count": 56,
   "metadata": {},
   "outputs": [
    {
     "data": {
      "text/plain": [
       "<matplotlib.axes._subplots.AxesSubplot at 0x2aab46364ac0>"
      ]
     },
     "execution_count": 56,
     "metadata": {},
     "output_type": "execute_result"
    },
    {
     "data": {
      "image/png": "[encoded data removed]",
      "text/plain": [
       "<Figure size 432x288 with 1 Axes>"
      ]
     },
     "metadata": {
      "needs_background": "light"
     },
     "output_type": "display_data"
    }
   ],
   "source": [
    "subselect['z'].hist(bins=100, density=True)\n",
    "sns['z'].hist(bins=100, alpha=0.5, density=True)"
   ]
  },
  {
   "cell_type": "code",
   "execution_count": 81,
   "metadata": {},
   "outputs": [
    {
     "data": {
      "text/plain": [
       "0.0758994955460357"
      ]
     },
     "execution_count": 81,
     "metadata": {},
     "output_type": "execute_result"
    }
   ],
   "source": [
    "sum(subselect['class']=='QSO')/len(subselect)"
   ]
  },
  {
   "cell_type": "code",
   "execution_count": 58,
   "metadata": {},
   "outputs": [
    {
     "data": {
      "text/plain": [
       "[<matplotlib.lines.Line2D at 0x2aaae6caa370>]"
      ]
     },
     "execution_count": 58,
     "metadata": {},
     "output_type": "execute_result"
    },
    {
     "data": {
      "image/png": "[encoded data removed]",
      "text/plain": [
       "<Figure size 720x360 with 1 Axes>"
      ]
     },
     "metadata": {
      "needs_background": "light"
     },
     "output_type": "display_data"
    }
   ],
   "source": [
    "plt.figure(figsize=(10,5))\n",
    "plt.plot(res_fluxes[np.where((MJD==51884)*(plate_id==438)*(fiber==462))[0]][0])"
   ]
  },
  {
   "cell_type": "code",
   "execution_count": 59,
   "metadata": {},
   "outputs": [
    {
     "data": {
      "image/png": "[encoded data removed]",
      "text/plain": [
       "<Figure size 432x288 with 1 Axes>"
      ]
     },
     "metadata": {
      "needs_background": "light"
     },
     "output_type": "display_data"
    }
   ],
   "source": [
    "_ = plt.hist(redshifts,bins=100,density=True)\n",
    "plt.xlabel('z')\n",
    "plt.show()"
   ]
  },
  {
   "cell_type": "code",
   "execution_count": 61,
   "metadata": {},
   "outputs": [
    {
     "name": "stdout",
     "output_type": "stream",
     "text": [
      "new datasize:  389605\n"
     ]
    }
   ],
   "source": [
    "def redshift_bin(min_z, max_z, z_array, arrays):\n",
    "    num  = len(arrays)\n",
    "    indx = np.where((redshifts>min_z)*(redshifts<max_z))[0]\n",
    "    arrays_new = [arrays[ii][indx] for ii in range(num)]\n",
    "    print('new datasize: ', len(indx))\n",
    "    return arrays_new\n",
    "\n",
    "res_fluxes, res_masks, res_inv_vars, redshifts, ras, decs, category, sublabel, MJD, plate_id, fiber = redshift_bin(min_z, max_z, redshifts, [res_fluxes, res_masks, res_inv_vars, redshifts, ras, decs, category, sublabel, MJD, plate_id, fiber])"
   ]
  },
  {
   "cell_type": "code",
   "execution_count": 62,
   "metadata": {},
   "outputs": [],
   "source": [
    "DATASET_SIZE = len(res_fluxes)"
   ]
  },
  {
   "cell_type": "code",
   "execution_count": 63,
   "metadata": {},
   "outputs": [
    {
     "name": "stdout",
     "output_type": "stream",
     "text": [
      "15\n"
     ]
    }
   ],
   "source": [
    "df1 = pd.DataFrame()\n",
    "df1['MJD']   = MJD\n",
    "df1['plate'] = plate_id\n",
    "df1['fiber'] = fiber\n",
    "df1['redshift'] = redshifts\n",
    "df1.to_pickle(os.path.join(root_intermed,'step_2_redshifts.pkl'))\n",
    "sns= df1.merge(Supernovas,how='inner',on=['plate','MJD','fiber'])\n",
    "print(len(sns))"
   ]
  },
  {
   "cell_type": "code",
   "execution_count": 64,
   "metadata": {},
   "outputs": [],
   "source": [
    "# print(redshifts[np.where((MJD==51608)*(plate_id==267)*(fiber==9))])\n",
    "# print(df_overlap['objid'][np.where((MJD==51608)*(plate_id==267)*(fiber==9))[0]]==300617776005933056)\n",
    "# print(category[np.where((MJD==51608)*(plate_id==267)*(fiber==9))])\n",
    "# print(ras[np.where((MJD==51608)*(plate_id==267)*(fiber==9))])\n",
    "# print(decs[np.where((MJD==51608)*(plate_id==267)*(fiber==9))])"
   ]
  },
  {
   "cell_type": "code",
   "execution_count": 65,
   "metadata": {},
   "outputs": [],
   "source": [
    "# plt.figure(figsize=(10,5))\n",
    "# plt.plot(res_fluxes[np.where((MJD==51608)*(plate_id==267)*(fiber==9))[0]][0])\n",
    "\n",
    "# plt.show()\n",
    "\n",
    "# plt.figure(figsize=(10,5))\n",
    "# plt.plot(res_masks[np.where((MJD==51608)*(plate_id==267)*(fiber==9))[0]][0])\n",
    "\n",
    "\n",
    "# plt.show()"
   ]
  },
  {
   "cell_type": "code",
   "execution_count": 66,
   "metadata": {},
   "outputs": [],
   "source": [
    "boolean_mask = (res_masks==0)"
   ]
  },
  {
   "cell_type": "code",
   "execution_count": 67,
   "metadata": {},
   "outputs": [],
   "source": [
    "mask_fracs = np.mean(boolean_mask,axis=1)"
   ]
  },
  {
   "cell_type": "code",
   "execution_count": 68,
   "metadata": {},
   "outputs": [
    {
     "data": {
      "image/png": "[encoded data removed]",
      "text/plain": [
       "<Figure size 432x288 with 1 Axes>"
      ]
     },
     "metadata": {
      "needs_background": "light"
     },
     "output_type": "display_data"
    }
   ],
   "source": [
    "plt.scatter(mask_fracs, redshifts, s=0.1)\n",
    "# plt.plot(mask_fracs,mask_fracs*1.15+0.19, color='orange')\n",
    "# keep = redshifts>mask_fracs*1.15+0.19\n",
    "# keep_low = mask_fracs<0.04\n",
    "# keep = np.logical_or(keep,keep_low)\n",
    "keep = mask_fracs<0.4\n",
    "plt.scatter(mask_fracs[keep], redshifts[keep], color='red', s=0.1)\n",
    "plt.ylim(0.09,0.45)\n",
    "plt.show()"
   ]
  },
  {
   "cell_type": "code",
   "execution_count": 69,
   "metadata": {},
   "outputs": [
    {
     "data": {
      "text/plain": [
       "389605"
      ]
     },
     "execution_count": 69,
     "metadata": {},
     "output_type": "execute_result"
    }
   ],
   "source": [
    "len(keep)"
   ]
  },
  {
   "cell_type": "code",
   "execution_count": 71,
   "metadata": {},
   "outputs": [
    {
     "name": "stdout",
     "output_type": "stream",
     "text": [
      "new datasize:  349122\n"
     ]
    }
   ],
   "source": [
    "def mask_bin(keep, arrays):\n",
    "    num  = len(arrays)\n",
    "    arrays_new = [arrays[ii][keep] for ii in range(num)]\n",
    "    print('new datasize: ', len(arrays_new[0]))\n",
    "    return arrays_new\n",
    "\n",
    "res_fluxes, res_masks, res_inv_vars, redshifts, ras, decs, category, sublabel,MJD, plate_id, fiber = mask_bin(keep, [res_fluxes, res_masks, res_inv_vars, redshifts, ras, decs, category, sublabel, MJD, plate_id, fiber])"
   ]
  },
  {
   "cell_type": "code",
   "execution_count": 72,
   "metadata": {},
   "outputs": [],
   "source": [
    "DATASET_SIZE=len(res_fluxes)"
   ]
  },
  {
   "cell_type": "code",
   "execution_count": 73,
   "metadata": {},
   "outputs": [
    {
     "name": "stdout",
     "output_type": "stream",
     "text": [
      "13\n"
     ]
    }
   ],
   "source": [
    "df1 = pd.DataFrame()\n",
    "df1['MJD']   = MJD\n",
    "df1['plate'] = plate_id\n",
    "df1['fiber'] = fiber\n",
    "df1['redshift'] = redshifts\n",
    "df1.to_pickle(os.path.join(root_intermed,'step_3_maskedfraction.pkl'))\n",
    "sns= df1.merge(Supernovas,how='inner',on=['plate','MJD','fiber'])\n",
    "print(len(sns))"
   ]
  },
  {
   "cell_type": "code",
   "execution_count": 74,
   "metadata": {},
   "outputs": [],
   "source": [
    "SNs =[]\n",
    "for ii in range(DATASET_SIZE):\n",
    "    SNs.append(np.sum(res_fluxes[ii][np.where(res_masks[ii])])/np.sqrt(np.sum(1./res_inv_vars[ii][np.where(res_masks[ii])])))\n",
    "SNs= np.asarray(SNs)"
   ]
  },
  {
   "cell_type": "code",
   "execution_count": 75,
   "metadata": {},
   "outputs": [],
   "source": [
    "for ii in np.where(np.isnan(SNs))[0]:\n",
    "    print(np.sum(1./res_inv_vars[ii][np.where(res_masks[ii])]))\n",
    "    print(len(np.where(res_masks[ii])[0]))"
   ]
  },
  {
   "cell_type": "code",
   "execution_count": 76,
   "metadata": {},
   "outputs": [
    {
     "data": {
      "image/png": "[encoded data removed]",
      "text/plain": [
       "<Figure size 432x288 with 1 Axes>"
      ]
     },
     "metadata": {
      "needs_background": "light"
     },
     "output_type": "display_data"
    }
   ],
   "source": [
    "_ = plt.hist(SNs, density=True,bins=100)"
   ]
  },
  {
   "cell_type": "code",
   "execution_count": 77,
   "metadata": {},
   "outputs": [
    {
     "name": "stdout",
     "output_type": "stream",
     "text": [
      "0 50.00000000000001\n",
      "16 50.000000000000014\n"
     ]
    }
   ],
   "source": [
    "new_noise = np.zeros_like(res_inv_vars)\n",
    "maximum=0\n",
    "for ii in range(len(new_noise)):\n",
    "    pix_SNR       = res_fluxes[ii][np.where(res_masks[ii])]/np.sqrt(1./res_inv_vars[ii][np.where(res_masks[ii])])\n",
    "    new_noise_    = res_inv_vars[ii][np.where(res_masks[ii])][:]\n",
    "    if np.any(pix_SNR>50.):\n",
    "        array =(50./res_fluxes[ii][np.where(res_masks[ii])][np.where(pix_SNR>50.)])**2\n",
    "        new_noise_[np.where(pix_SNR>50.)]=array\n",
    "    new_noise[ii][np.where(res_masks[ii])] = new_noise_\n",
    "    if np.any(pix_SNR>50.):\n",
    "        test = res_fluxes[ii][np.where(res_masks[ii])]/np.sqrt(1./new_noise[ii][np.where(res_masks[ii])])\n",
    "        if max(test[np.where(pix_SNR>50.)])>maximum:\n",
    "            maximum=max(test[np.where(pix_SNR>50.)])\n",
    "            print(ii,maximum)\n"
   ]
  },
  {
   "cell_type": "code",
   "execution_count": 78,
   "metadata": {},
   "outputs": [],
   "source": [
    "SNs_corr =[]\n",
    "for ii in range(DATASET_SIZE):\n",
    "    SNs_corr.append(np.sum(res_fluxes[ii][np.where(res_masks[ii])])/np.sqrt(np.sum(1./new_noise[ii][np.where(res_masks[ii])])))\n",
    "SNs_corr= np.asarray(SNs_corr)"
   ]
  },
  {
   "cell_type": "code",
   "execution_count": 79,
   "metadata": {},
   "outputs": [
    {
     "data": {
      "image/png": "[encoded data removed]",
      "text/plain": [
       "<Figure size 432x288 with 1 Axes>"
      ]
     },
     "metadata": {
      "needs_background": "light"
     },
     "output_type": "display_data"
    }
   ],
   "source": [
    "_ = plt.hist(SNs_corr, density=True,bins=100)"
   ]
  },
  {
   "cell_type": "code",
   "execution_count": 83,
   "metadata": {},
   "outputs": [
    {
     "data": {
      "text/plain": [
       "Text(0.5, 0, 'S/N')"
      ]
     },
     "execution_count": 83,
     "metadata": {},
     "output_type": "execute_result"
    },
    {
     "data": {
      "image/png": "[encoded data removed]",
      "text/plain": [
       "<Figure size 432x288 with 1 Axes>"
      ]
     },
     "metadata": {
      "needs_background": "light"
     },
     "output_type": "display_data"
    }
   ],
   "source": [
    "plt.scatter(SNs,redshifts, s=0.1)\n",
    "plt.ylabel('redshift')\n",
    "plt.xlabel('S/N')"
   ]
  },
  {
   "cell_type": "code",
   "execution_count": 84,
   "metadata": {},
   "outputs": [
    {
     "data": {
      "text/plain": [
       "Text(0.5, 0, 'S/N')"
      ]
     },
     "execution_count": 84,
     "metadata": {},
     "output_type": "execute_result"
    },
    {
     "data": {
      "image/png": "[encoded data removed]",
      "text/plain": [
       "<Figure size 432x288 with 1 Axes>"
      ]
     },
     "metadata": {
      "needs_background": "light"
     },
     "output_type": "display_data"
    }
   ],
   "source": [
    "plt.scatter(SNs_corr,redshifts, s=0.1)\n",
    "plt.ylabel('redshift')\n",
    "plt.xlabel('S/N')"
   ]
  },
  {
   "cell_type": "code",
   "execution_count": 39,
   "metadata": {},
   "outputs": [],
   "source": [
    "# print(redshifts[np.where((MJD==51608)*(plate_id==267)*(fiber==9))])\n",
    "# print(objid[np.where((MJD==51608)*(plate_id==267)*(fiber==9))[0]]==300617776005933056)\n",
    "# print(category[np.where((MJD==51608)*(plate_id==267)*(fiber==9))])\n",
    "# print(ras[np.where((MJD==51608)*(plate_id==267)*(fiber==9))])\n",
    "# print(decs[np.where((MJD==51608)*(plate_id==267)*(fiber==9))])"
   ]
  },
  {
   "cell_type": "code",
   "execution_count": 40,
   "metadata": {},
   "outputs": [],
   "source": [
    "# plt.figure(figsize=(10,5))\n",
    "# plt.plot(res_fluxes[np.where((MJD==51608)*(plate_id==267)*(fiber==9))[0]][0])\n",
    "\n",
    "# plt.show()\n",
    "\n",
    "# plt.figure(figsize=(10,5))\n",
    "# plt.plot(res_masks[np.where((MJD==51608)*(plate_id==267)*(fiber==9))[0]][0])\n",
    "\n",
    "\n",
    "# plt.show()"
   ]
  },
  {
   "cell_type": "code",
   "execution_count": 85,
   "metadata": {},
   "outputs": [
    {
     "data": {
      "text/plain": [
       "((349122,), (349122,), (349122,))"
      ]
     },
     "execution_count": 85,
     "metadata": {},
     "output_type": "execute_result"
    }
   ],
   "source": [
    "SNs.shape, redshifts.shape, MJD.shape"
   ]
  },
  {
   "cell_type": "code",
   "execution_count": 86,
   "metadata": {},
   "outputs": [
    {
     "name": "stdout",
     "output_type": "stream",
     "text": [
      "new datasize:  349104\n"
     ]
    }
   ],
   "source": [
    "def SN_bin(min_SN,  SNs, arrays):\n",
    "    num  = len(arrays)\n",
    "    indx = np.where((SNs>min_SN))[0]\n",
    "    arrays_new = [arrays[ii][indx] for ii in range(num)]\n",
    "    print('new datasize: ', len(indx))\n",
    "    return arrays_new\n",
    "\n",
    "res_fluxes, res_masks, new_noise, redshifts, SNs, ras, decs, category, sublabel, MJD, plate_id, fiber = SN_bin(min_SN, SNs_corr, [res_fluxes, res_masks, new_noise, redshifts,SNs_corr,ras, decs, category, sublabel, MJD, plate_id, fiber])"
   ]
  },
  {
   "cell_type": "code",
   "execution_count": 87,
   "metadata": {},
   "outputs": [
    {
     "name": "stdout",
     "output_type": "stream",
     "text": [
      "13\n"
     ]
    }
   ],
   "source": [
    "df1 = pd.DataFrame()\n",
    "df1['MJD']   = MJD\n",
    "df1['plate'] = plate_id\n",
    "df1['fiber'] = fiber\n",
    "df1['redshift'] = redshifts\n",
    "df1.to_pickle(os.path.join(root_intermed,'step_4_SNcut.pkl'))\n",
    "sns= df1.merge(Supernovas,how='inner',on=['plate','MJD','fiber'])\n",
    "print(len(sns))"
   ]
  },
  {
   "cell_type": "code",
   "execution_count": 88,
   "metadata": {},
   "outputs": [],
   "source": [
    "boolean_mask = (res_masks==0)"
   ]
  },
  {
   "cell_type": "code",
   "execution_count": 89,
   "metadata": {},
   "outputs": [
    {
     "data": {
      "text/plain": [
       "0.301"
      ]
     },
     "execution_count": 89,
     "metadata": {},
     "output_type": "execute_result"
    }
   ],
   "source": [
    "mask_fracs = np.mean(boolean_mask,axis=1)\n",
    "max(mask_fracs)"
   ]
  },
  {
   "cell_type": "code",
   "execution_count": 90,
   "metadata": {},
   "outputs": [
    {
     "data": {
      "image/png": "[encoded data removed]",
      "text/plain": [
       "<Figure size 432x288 with 1 Axes>"
      ]
     },
     "metadata": {
      "needs_background": "light"
     },
     "output_type": "display_data"
    }
   ],
   "source": [
    "_ = plt.hist(redshifts, density=True, bins=100)"
   ]
  },
  {
   "cell_type": "code",
   "execution_count": 91,
   "metadata": {},
   "outputs": [
    {
     "data": {
      "text/plain": [
       "<matplotlib.lines.Line2D at 0x2aaaecd09730>"
      ]
     },
     "execution_count": 91,
     "metadata": {},
     "output_type": "execute_result"
    },
    {
     "data": {
      "image/png": "[encoded data removed]",
      "text/plain": [
       "<Figure size 432x288 with 1 Axes>"
      ]
     },
     "metadata": {
      "needs_background": "light"
     },
     "output_type": "display_data"
    }
   ],
   "source": [
    "_ = plt.hist(redshifts, density=True, bins=100, cumulative=True)\n",
    "plt.axhline(0.5,color='orange')"
   ]
  },
  {
   "cell_type": "code",
   "execution_count": 92,
   "metadata": {},
   "outputs": [
    {
     "name": "stdout",
     "output_type": "stream",
     "text": [
      "[]\n",
      "[]\n",
      "[]\n",
      "[]\n"
     ]
    }
   ],
   "source": [
    "# print(redshifts[np.where((MJD==51608)*(plate_id==267)*(fiber==9))])\n",
    "# #print(objid[np.where((MJD==51608)*(plate_id==267)*(fiber==9))[0]]==300617776005933056)\n",
    "# print(category[np.where((MJD==51608)*(plate_id==267)*(fiber==9))])\n",
    "# print(ras[np.where((MJD==51608)*(plate_id==267)*(fiber==9))])\n",
    "# print(decs[np.where((MJD==51608)*(plate_id==267)*(fiber==9))])"
   ]
  },
  {
   "cell_type": "code",
   "execution_count": 94,
   "metadata": {},
   "outputs": [],
   "source": [
    "# plt.figure(figsize=(10,5))\n",
    "# plt.plot(res_fluxes[np.where((MJD==51608)*(plate_id==267)*(fiber==9))[0]][0])\n",
    "\n",
    "# plt.show()\n",
    "\n",
    "# plt.figure(figsize=(10,5))\n",
    "# plt.plot(res_masks[np.where((MJD==51608)*(plate_id==267)*(fiber==9))[0]][0])\n",
    "\n",
    "\n",
    "# plt.show()"
   ]
  },
  {
   "cell_type": "code",
   "execution_count": 95,
   "metadata": {},
   "outputs": [
    {
     "name": "stdout",
     "output_type": "stream",
     "text": [
      "53473.0 2108.0 50.0 181.9969024658203 37.638492584228516 0.10390836745500565 2.0 b''\n"
     ]
    }
   ],
   "source": [
    "print(MJD[0],plate_id[0], fiber[0],ras[0], decs[0], redshifts[0], category[0], sublabel[0])\n",
    "#fiber always one too low"
   ]
  },
  {
   "cell_type": "code",
   "execution_count": 97,
   "metadata": {},
   "outputs": [],
   "source": [
    "np.save(os.path.join(root_prepped,'prepped_data_spectra_%s_QSO_GAL.npy'%(label_)), [res_fluxes, res_masks, new_noise])\n",
    "np.save(os.path.join(root_prepped,'prepped_data_prop_%s_QSO_GAL.npy'%(label_)), [redshifts, SNs, ras, decs, category, sublabel, MJD, plate_id, fiber])"
   ]
  },
  {
   "cell_type": "code",
   "execution_count": 98,
   "metadata": {},
   "outputs": [
    {
     "data": {
      "text/plain": [
       "349104"
      ]
     },
     "execution_count": 98,
     "metadata": {},
     "output_type": "execute_result"
    }
   ],
   "source": [
    "len(res_fluxes)"
   ]
  },
  {
   "cell_type": "code",
   "execution_count": 99,
   "metadata": {},
   "outputs": [
    {
     "name": "stdout",
     "output_type": "stream",
     "text": [
      "/global/cscratch1/sd/vboehm/Datasets/sdss/prepped\n"
     ]
    }
   ],
   "source": [
    "print(root_prepped)"
   ]
  },
  {
   "cell_type": "code",
   "execution_count": null,
   "metadata": {},
   "outputs": [],
   "source": []
  }
 ],
 "metadata": {
  "accelerator": "GPU",
  "colab": {
   "authorship_tag": "ABX9TyNbeXyhiihZQbSo0juhrHje",
   "collapsed_sections": [],
   "include_colab_link": true,
   "name": "LSTM-AE.ipynb",
   "provenance": []
  },
  "kernelspec": {
   "display_name": "tf22",
   "language": "python",
   "name": "tf22"
  },
  "language_info": {
   "codemirror_mode": {
    "name": "ipython",
    "version": 3
   },
   "file_extension": ".py",
   "mimetype": "text/x-python",
   "name": "python",
   "nbconvert_exporter": "python",
   "pygments_lexer": "ipython3",
   "version": "3.8.3"
  }
 },
 "nbformat": 4,
 "nbformat_minor": 4
}
