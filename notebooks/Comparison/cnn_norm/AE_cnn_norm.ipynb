{
 "cells": [
  {
   "cell_type": "code",
   "execution_count": 1,
   "id": "9e73b4f0-7f39-4cae-a457-049848254f14",
   "metadata": {},
   "outputs": [
    {
     "name": "stdout",
     "output_type": "stream",
     "text": [
      "cuda:0\n"
     ]
    }
   ],
   "source": [
    "import torch\n",
    "device = torch.device(\"cuda:0\" if torch.cuda.is_available() else \"cpu\")\n",
    "print(device)"
   ]
  },
  {
   "cell_type": "code",
   "execution_count": 2,
   "id": "970ead35-87f7-4438-9bed-5636ef6a3452",
   "metadata": {},
   "outputs": [],
   "source": [
    "from pytorch_pae import AE"
   ]
  },
  {
   "cell_type": "code",
   "execution_count": 3,
   "id": "fa776832-8217-41e4-b4cd-3f3271bcec54",
   "metadata": {},
   "outputs": [],
   "source": [
    "import pickle\n",
    "import os\n",
    "import numpy as np\n",
    "import matplotlib.pyplot as plt"
   ]
  },
  {
   "cell_type": "code",
   "execution_count": 4,
   "id": "5e654a94-4264-4b42-a7d9-8129a05a7639",
   "metadata": {},
   "outputs": [
    {
     "name": "stdout",
     "output_type": "stream",
     "text": [
      "0\n",
      "11176960\n"
     ]
    }
   ],
   "source": [
    "print(torch.cuda.memory_allocated())\n",
    "with torch.no_grad():\n",
    "    AE1 = torch.load(os.path.join('/global/cscratch1/sd/vboehm/Models/Tutorials', 'AE_SDSS_1'))\n",
    "print(torch.cuda.memory_allocated())"
   ]
  },
  {
   "cell_type": "code",
   "execution_count": 5,
   "id": "68fd3081-0c79-483e-a9c8-00e5c219b2f9",
   "metadata": {},
   "outputs": [
    {
     "name": "stdout",
     "output_type": "stream",
     "text": [
      "0.01117696\n",
      "0.01117696\n"
     ]
    }
   ],
   "source": [
    "print(torch.cuda.memory_allocated()/1e9)\n",
    "print(torch.cuda.max_memory_allocated()/1e9)"
   ]
  },
  {
   "cell_type": "code",
   "execution_count": 6,
   "id": "64eb1f27-f7f5-48dc-84d0-58424b2857c2",
   "metadata": {},
   "outputs": [],
   "source": [
    "from torchsummary import summary"
   ]
  },
  {
   "cell_type": "code",
   "execution_count": 7,
   "id": "3f97db5c-48fd-4870-a086-535c7e37a72e",
   "metadata": {},
   "outputs": [
    {
     "name": "stdout",
     "output_type": "stream",
     "text": [
      "----------------------------------------------------------------\n",
      "        Layer (type)               Output Shape         Param #\n",
      "================================================================\n",
      "            Conv1d-1              [-1, 32, 957]           1,440\n",
      "              ReLU-2              [-1, 32, 957]               0\n",
      " AdaptiveMaxPool1d-3              [-1, 32, 957]               0\n",
      "           Flatten-4                [-1, 30624]               0\n",
      "            Linear-5                   [-1, 10]         306,250\n",
      "       ConvEncoder-6                   [-1, 10]               0\n",
      "           Flatten-7                   [-1, 10]               0\n",
      "            Linear-8                [-1, 30624]         336,864\n",
      "           Reshape-9              [-1, 32, 957]               0\n",
      "             ReLU-10              [-1, 32, 957]               0\n",
      "         Upsample-11              [-1, 32, 957]               0\n",
      "  ConvTranspose1d-12             [-1, 32, 1000]          45,088\n",
      "  ConvTranspose1d-13              [-1, 1, 1000]              33\n",
      "      ConvDecoder-14              [-1, 1, 1000]               0\n",
      "================================================================\n",
      "Total params: 689,675\n",
      "Trainable params: 689,675\n",
      "Non-trainable params: 0\n",
      "----------------------------------------------------------------\n",
      "Input size (MB): 0.00\n",
      "Forward/backward pass size (MB): 2.13\n",
      "Params size (MB): 2.63\n",
      "Estimated Total Size (MB): 4.76\n",
      "----------------------------------------------------------------\n"
     ]
    }
   ],
   "source": [
    "summary(AE1,(1,1000))"
   ]
  },
  {
   "cell_type": "code",
   "execution_count": 8,
   "id": "21aadc94-bbcd-4a7f-bcff-24508adfa6d9",
   "metadata": {},
   "outputs": [],
   "source": [
    "AE1=AE1.float()"
   ]
  },
  {
   "cell_type": "code",
   "execution_count": 25,
   "id": "a0bd5113-f286-4e2c-923c-75fd3b72fd53",
   "metadata": {},
   "outputs": [],
   "source": [
    "# RUN             = '1'\n",
    "# EPOCHS          = 40\n",
    "\n",
    "# seeds           = {'1':512, '2':879, '3':9981, '4': 20075, '5': 66, '6': 276, '7': 936664}\n",
    "\n",
    "# conditional     = False\n",
    "# cond_on         = 'type'\n",
    "\n",
    "root_model_data = '/global/cscratch1/sd/vboehm/Datasets/sdss/by_model/'\n",
    "# root_models     = '/global/cscratch1/sd/vboehm/Models/SDSS_AE/'\n",
    "# root_encoded    = '/global/cscratch1/sd/vboehm/Datasets/encoded/sdss/'\n",
    "# root_decoded    = '/global/cscratch1/sd/vboehm/Datasets/decoded/sdss/'\n",
    "\n",
    "\n",
    "wlmin, wlmax    = (3388,8318)\n",
    "fixed_num_bins  = 1000\n",
    "# min_SN          = 50\n",
    "# min_z           = 0.05\n",
    "# max_z           = 0.36\n",
    "# label           = 'galaxies_quasars_bins%d_wl%d-%d'%(fixed_num_bins,wlmin,wlmax)\n",
    "# label_          = label+'_minz%s_maxz%s_minSN%d'%(str(int(min_z*100)).zfill(3),str(int(max_z*100)).zfill(3),min_SN)\n",
    "# label_2         = label_+'_10_fully_connected_mean_div_spec_norm'\n",
    "\n",
    "# plotpath        = '/global/homes/v/vboehm/codes/SDSS_PAE/figures'\n",
    "\n",
    "# if conditional:\n",
    "#     label_2='conditional_%s'%cond_on+label_2\n",
    "    \n",
    "data_path       = '/global/cscratch1/sd/vboehm/SDSSOutlier/cnn_normed'"
   ]
  },
  {
   "cell_type": "code",
   "execution_count": 10,
   "id": "d628d626-7d20-413e-81ff-1e8377fdbc3d",
   "metadata": {},
   "outputs": [],
   "source": [
    "train = pickle.load(open(os.path.join(root_model_data,'SDSS_DR16_preprocessed_train.pkl'),'rb'))\n",
    "valid = pickle.load(open(os.path.join(root_model_data,'SDSS_DR16_preprocessed_test.pkl'),'rb'))"
   ]
  },
  {
   "cell_type": "code",
   "execution_count": 11,
   "id": "2ac12b63-98ac-43e6-8a61-c4e10d657f11",
   "metadata": {},
   "outputs": [],
   "source": [
    "torch.cuda.empty_cache()"
   ]
  },
  {
   "cell_type": "code",
   "execution_count": 12,
   "id": "8b555bbb-e8c3-4574-9a28-da4b97744fa4",
   "metadata": {},
   "outputs": [],
   "source": [
    "encoded_train = []\n",
    "for ii in range(10):\n",
    "    num =len( train['spec'])//10\n",
    "    with torch.no_grad():\n",
    "        data          = torch.as_tensor(np.swapaxes(train['spec'][ii*num:(ii+1)*num],2,1)).to(device).detach().float()\n",
    "        encoded_train+=[AE1.encoder.forward(data).detach().cpu().numpy()]\n",
    "        del data\n",
    "        torch.cuda.empty_cache()\n",
    "        #print(torch.cuda.memory_allocated()/1e9)\n",
    "if (len(train['spec'])%10)!=0:\n",
    "    data          = torch.as_tensor(np.swapaxes(train['spec'][(ii+1)*num::],2,1)).to(device).detach().float()\n",
    "    encoded_train+=[AE1.encoder.forward(data).detach().cpu().numpy()]\n",
    "encoded_train = np.concatenate(encoded_train)"
   ]
  },
  {
   "cell_type": "code",
   "execution_count": 13,
   "id": "6f8e509a-8bee-48c5-9197-ac5542a716df",
   "metadata": {},
   "outputs": [],
   "source": [
    "encoded_valid = []\n",
    "for ii in range(10):\n",
    "    num =len(valid['spec'])//10\n",
    "    with torch.no_grad():\n",
    "        data          = torch.as_tensor(np.swapaxes(valid['spec'][ii*num:(ii+1)*num],2,1)).to(device).detach().float()\n",
    "        encoded_valid+=[AE1.encoder.forward(data).detach().cpu().numpy()]\n",
    "        del data\n",
    "        torch.cuda.empty_cache()\n",
    "        #print(torch.cuda.memory_allocated()/1e9)\n",
    "if (len(valid['spec'])%10)!=0:\n",
    "    data          = torch.as_tensor(np.swapaxes(valid['spec'][(ii+1)*num::],2,1)).to(device).detach().float()\n",
    "    encoded_valid+=[AE1.encoder.forward(data).detach().cpu().numpy()]\n",
    "encoded_valid = np.concatenate(encoded_valid)"
   ]
  },
  {
   "cell_type": "code",
   "execution_count": 14,
   "id": "7592c1e8-e88a-4585-a827-23a378b3bfe2",
   "metadata": {},
   "outputs": [
    {
     "name": "stderr",
     "output_type": "stream",
     "text": [
      "/global/homes/v/vboehm/.conda/envs/pytorch/lib/python3.7/site-packages/numpy/core/_asarray.py:136: VisibleDeprecationWarning: Creating an ndarray from ragged nested sequences (which is a list-or-tuple of lists-or-tuples-or ndarrays with different lengths or shapes) is deprecated. If you meant to do this, you must specify 'dtype=object' when creating the ndarray\n",
      "  return array(a, dtype, copy=False, order=order, subok=True)\n"
     ]
    }
   ],
   "source": [
    "np.save(os.path.join(data_path,'encoded_cnn_normed.npy'),[encoded_train, encoded_valid])"
   ]
  },
  {
   "cell_type": "code",
   "execution_count": 15,
   "id": "0fc109dd-fdb5-4a7e-8a95-926448ddbf96",
   "metadata": {},
   "outputs": [],
   "source": [
    "decoded_train = []\n",
    "for ii in range(10):\n",
    "    num =len( train['spec'])//10\n",
    "    with torch.no_grad():\n",
    "        data          = torch.as_tensor(np.expand_dims(encoded_train[ii*num:(ii+1)*num],-1)).to(device).detach().float()\n",
    "        decoded_train+=[AE1.decoder.forward(data).detach().cpu().numpy()]\n",
    "        del data\n",
    "        torch.cuda.empty_cache()\n",
    "\n",
    "if (len(train['spec'])%10)!=0:\n",
    "    data          = torch.as_tensor(np.expand_dims(encoded_train[(ii+1)*num::],-1)).to(device).detach().float()\n",
    "    decoded_train+=[AE1.decoder.forward(data).detach().cpu().numpy()]\n",
    "decoded_train = np.concatenate(decoded_train)"
   ]
  },
  {
   "cell_type": "code",
   "execution_count": 16,
   "id": "9f83fe27-ad81-4bc3-a12d-591fdb615b61",
   "metadata": {},
   "outputs": [],
   "source": [
    "decoded_valid = []\n",
    "for ii in range(10):\n",
    "    num =len( train['spec'])//10\n",
    "    with torch.no_grad():\n",
    "        data          = torch.as_tensor(np.expand_dims(encoded_valid[ii*num:(ii+1)*num],-1)).to(device).detach().float()\n",
    "        decoded_valid+=[AE1.decoder.forward(data).detach().cpu().numpy()]\n",
    "        del data\n",
    "        torch.cuda.empty_cache()\n",
    "\n",
    "if (len(train['spec'])%10)!=0:\n",
    "    data          = torch.as_tensor(np.expand_dims(encoded_valid[(ii+1)*num::],-1)).to(device).detach().float()\n",
    "    decoded_valid+=[AE1.decoder.forward(data).detach().cpu().numpy()]\n",
    "decoded_valid = np.concatenate(decoded_valid)"
   ]
  },
  {
   "cell_type": "code",
   "execution_count": 17,
   "id": "29a44e7b-9f5b-4b71-955b-99785329364e",
   "metadata": {},
   "outputs": [],
   "source": [
    "np.save(os.path.join(data_path,'decoded_cnn_normed.npy'),[ np.squeeze(decoded_train), np.squeeze(decoded_valid)])"
   ]
  },
  {
   "cell_type": "code",
   "execution_count": 23,
   "id": "9cdb60f3-8a8b-48bf-b2db-b67d19d00a76",
   "metadata": {},
   "outputs": [],
   "source": [
    "def loss_by_wl(y_true, y_pred):\n",
    "    loss           = (y_true[0]-y_pred)**2*y_true[2]*y_true[1]\n",
    "    valid_loss     = np.mean(loss,axis=0)\n",
    "    std_valid_loss = np.std(loss,axis=0)\n",
    "    return valid_loss, std_valid_loss"
   ]
  },
  {
   "cell_type": "code",
   "execution_count": 24,
   "id": "5ae0a0d7-450a-4859-87f9-a27303e15a67",
   "metadata": {},
   "outputs": [],
   "source": [
    "loss = loss_by_wl((valid['spec'],valid['mask'],valid['noise']),np.expand_dims(np.squeeze(decoded_valid),-1))"
   ]
  },
  {
   "cell_type": "code",
   "execution_count": 26,
   "id": "097c1734-8d84-4a9c-8e49-0be008d5a1c0",
   "metadata": {},
   "outputs": [],
   "source": [
    "wlmin, wlmax    = (3388,8318)\n",
    "wl_range        = (np.log10(wlmin),np.log10(wlmax))\n",
    "new_wl          = np.logspace(wl_range[0],wl_range[1],fixed_num_bins+1)"
   ]
  },
  {
   "cell_type": "code",
   "execution_count": 27,
   "id": "17ca5743-4d9a-4c3b-8213-2f8fb6c84c0a",
   "metadata": {},
   "outputs": [
    {
     "data": {
      "image/png": "[encoded data removed]",
      "text/plain": [
       "<Figure size 432x288 with 1 Axes>"
      ]
     },
     "metadata": {
      "needs_background": "light"
     },
     "output_type": "display_data"
    }
   ],
   "source": [
    "plt.plot(new_wl[:-1],loss[0]/np.mean(valid['mask'],axis=0)-1,color='navy')\n",
    "plt.xlabel(r'restframe $\\lambda$ [nm]')\n",
    "plt.ylabel('pixelwise $\\chi^2$ -1')\n",
    "plt.grid()\n",
    "plt.tight_layout()"
   ]
  },
  {
   "cell_type": "code",
   "execution_count": 28,
   "id": "ad84074c-57e6-4bb1-889e-a25cb162c9e5",
   "metadata": {},
   "outputs": [
    {
     "name": "stdout",
     "output_type": "stream",
     "text": [
      "mean reconstruction loss: 1.2804326844873437\n"
     ]
    }
   ],
   "source": [
    "print('mean reconstruction loss:', np.mean(loss[0]/np.mean(valid['mask'])))"
   ]
  },
  {
   "cell_type": "code",
   "execution_count": 29,
   "id": "02fa1712-181c-455d-a39e-7335dd6bef55",
   "metadata": {},
   "outputs": [],
   "source": [
    "np.save(os.path.join(data_path,'mean_loss_cnn_normed.npy'),loss[0])"
   ]
  },
  {
   "cell_type": "code",
   "execution_count": null,
   "id": "008424a3-d8db-4b0f-9dbb-7ec75a3d8c20",
   "metadata": {},
   "outputs": [],
   "source": []
  }
 ],
 "metadata": {
  "kernelspec": {
   "display_name": "pytorch",
   "language": "python",
   "name": "pytorch"
  },
  "language_info": {
   "codemirror_mode": {
    "name": "ipython",
    "version": 3
   },
   "file_extension": ".py",
   "mimetype": "text/x-python",
   "name": "python",
   "nbconvert_exporter": "python",
   "pygments_lexer": "ipython3",
   "version": "3.7.10"
  }
 },
 "nbformat": 4,
 "nbformat_minor": 5
}
