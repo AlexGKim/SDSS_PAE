{
 "cells": [
  {
   "cell_type": "code",
   "execution_count": 54,
   "id": "9e73b4f0-7f39-4cae-a457-049848254f14",
   "metadata": {},
   "outputs": [],
   "source": [
    "import tensorflow as tf"
   ]
  },
  {
   "cell_type": "code",
   "execution_count": 55,
   "id": "fa776832-8217-41e4-b4cd-3f3271bcec54",
   "metadata": {},
   "outputs": [],
   "source": [
    "import pickle\n",
    "import os\n",
    "import numpy as np\n",
    "import matplotlib.pyplot as plt"
   ]
  },
  {
   "cell_type": "code",
   "execution_count": 70,
   "id": "a0bd5113-f286-4e2c-923c-75fd3b72fd53",
   "metadata": {},
   "outputs": [],
   "source": [
    "RUN             = '5'\n",
    "EPOCHS          = 40\n",
    "\n",
    "seeds           = {'1':512, '2':879, '3':9981, '4': 20075, '5': 66, '6': 276, '7': 936664}\n",
    "\n",
    "conditional     = False\n",
    "cond_on         = 'type'\n",
    "\n",
    "root_model_data = '/global/cscratch1/sd/vboehm/Datasets/sdss/by_model/'\n",
    "root_models     = '/global/cscratch1/sd/vboehm/Models/SDSS_AE/'\n",
    "root_encoded    = '/global/cscratch1/sd/vboehm/Datasets/encoded/sdss/'\n",
    "root_decoded    = '/global/cscratch1/sd/vboehm/Datasets/decoded/sdss/'\n",
    "\n",
    "\n",
    "wlmin, wlmax    = (3388,8318)\n",
    "fixed_num_bins  = 1000\n",
    "min_SN          = 50\n",
    "min_z           = 0.05\n",
    "max_z           = 0.36\n",
    "label           = 'galaxies_quasars_bins%d_wl%d-%d'%(fixed_num_bins,wlmin,wlmax)\n",
    "label_          = label+'_minz%s_maxz%s_minSN%d'%(str(int(min_z*100)).zfill(3),str(int(max_z*100)).zfill(3),min_SN)\n",
    "label_2         = label_+'_10_fully_connected_mean_div'\n",
    "\n",
    "plotpath        = '/global/homes/v/vboehm/codes/SDSS_PAE/figures'\n",
    "\n",
    "if conditional:\n",
    "    label_2='conditional_%s'%cond_on+label_2\n",
    "    \n",
    "data_path       = '/global/cscratch1/sd/vboehm/SDSSOutlier/fc'"
   ]
  },
  {
   "cell_type": "code",
   "execution_count": 71,
   "id": "1ff74223-d32c-458c-9fe7-a9032ca3f901",
   "metadata": {},
   "outputs": [
    {
     "data": {
      "text/plain": [
       "[PhysicalDevice(name='/physical_device:GPU:0', device_type='GPU')]"
      ]
     },
     "execution_count": 71,
     "metadata": {},
     "output_type": "execute_result"
    }
   ],
   "source": [
    "tf.__version__\n",
    "tf.config.list_physical_devices('GPU')"
   ]
  },
  {
   "cell_type": "code",
   "execution_count": 72,
   "id": "d628d626-7d20-413e-81ff-1e8377fdbc3d",
   "metadata": {},
   "outputs": [],
   "source": [
    "train = pickle.load(open(os.path.join(root_model_data,'SDSS_DR16_preprocessed_train.pkl'),'rb'))\n",
    "valid = pickle.load(open(os.path.join(root_model_data,'SDSS_DR16_preprocessed_test.pkl'),'rb'))"
   ]
  },
  {
   "cell_type": "code",
   "execution_count": 73,
   "id": "d3bee7fd-c788-48a0-8ed9-221e098cf09b",
   "metadata": {},
   "outputs": [
    {
     "name": "stdout",
     "output_type": "stream",
     "text": [
      "WARNING:tensorflow:No training configuration found in save file, so the model was *not* compiled. Compile it manually.\n",
      "WARNING:tensorflow:No training configuration found in save file, so the model was *not* compiled. Compile it manually.\n"
     ]
    }
   ],
   "source": [
    "path = os.path.join(root_models,'encoder_%s_run%s_new'%(label_2, RUN))\n",
    "encoder = tf.keras.models.load_model(path)\n",
    "path = os.path.join(root_models,'decoder_%s_run%s_new'%(label_2, RUN))\n",
    "decoder = tf.keras.models.load_model(path)"
   ]
  },
  {
   "cell_type": "code",
   "execution_count": 74,
   "id": "8b555bbb-e8c3-4574-9a28-da4b97744fa4",
   "metadata": {},
   "outputs": [],
   "source": [
    "encoded_train = encoder.predict(train['spec'])\n",
    "encoded_valid = encoder.predict(valid['spec'])"
   ]
  },
  {
   "cell_type": "code",
   "execution_count": 75,
   "id": "615c71d6-5c2d-47d5-92e0-95cfbdd9eaf5",
   "metadata": {},
   "outputs": [],
   "source": [
    "decoded_train = decoder.predict(encoded_train)\n",
    "decoded_valid = decoder.predict(encoded_valid)"
   ]
  },
  {
   "cell_type": "code",
   "execution_count": 76,
   "id": "dd682331-b7e2-4bee-9c1d-d07b3f43de70",
   "metadata": {},
   "outputs": [],
   "source": [
    "np.save(os.path.join(data_path,'encoded_fc_5.npy'),[np.squeeze(encoded_train), np.squeeze(encoded_valid)])"
   ]
  },
  {
   "cell_type": "code",
   "execution_count": 77,
   "id": "29a44e7b-9f5b-4b71-955b-99785329364e",
   "metadata": {},
   "outputs": [],
   "source": [
    "np.save(os.path.join(data_path,'decoded_fc_5.npy'),[np.squeeze(decoded_train), np.squeeze(decoded_valid)])"
   ]
  },
  {
   "cell_type": "code",
   "execution_count": 78,
   "id": "9cdb60f3-8a8b-48bf-b2db-b67d19d00a76",
   "metadata": {},
   "outputs": [],
   "source": [
    "def loss_by_wl(y_true, y_pred):\n",
    "    loss           = (y_true[0]-y_pred)**2*y_true[2]*y_true[1]\n",
    "    valid_loss     = np.mean(loss,axis=0)\n",
    "    std_valid_loss = np.std(loss,axis=0)\n",
    "    return valid_loss, std_valid_loss"
   ]
  },
  {
   "cell_type": "code",
   "execution_count": 79,
   "id": "5ae0a0d7-450a-4859-87f9-a27303e15a67",
   "metadata": {},
   "outputs": [],
   "source": [
    "loss = loss_by_wl((valid['spec'],valid['mask'],valid['noise']),np.expand_dims(decoded_valid,-1))"
   ]
  },
  {
   "cell_type": "code",
   "execution_count": 80,
   "id": "097c1734-8d84-4a9c-8e49-0be008d5a1c0",
   "metadata": {},
   "outputs": [],
   "source": [
    "wlmin, wlmax    = (3388,8318)\n",
    "wl_range        = (np.log10(wlmin),np.log10(wlmax))\n",
    "new_wl          = np.logspace(wl_range[0],wl_range[1],fixed_num_bins+1)"
   ]
  },
  {
   "cell_type": "code",
   "execution_count": 81,
   "id": "17ca5743-4d9a-4c3b-8213-2f8fb6c84c0a",
   "metadata": {},
   "outputs": [
    {
     "data": {
      "image/png": "[encoded data removed]",
      "text/plain": [
       "<Figure size 432x288 with 1 Axes>"
      ]
     },
     "metadata": {
      "needs_background": "light"
     },
     "output_type": "display_data"
    }
   ],
   "source": [
    "plt.plot(new_wl[:-1],loss[0]/np.mean(valid['mask'],axis=0)-1,color='navy')\n",
    "plt.xlabel(r'restframe $\\lambda$ [nm]')\n",
    "plt.ylabel('pixelwise $\\chi^2$ -1')\n",
    "plt.grid()\n",
    "plt.tight_layout()"
   ]
  },
  {
   "cell_type": "code",
   "execution_count": 82,
   "id": "ad84074c-57e6-4bb1-889e-a25cb162c9e5",
   "metadata": {},
   "outputs": [
    {
     "name": "stdout",
     "output_type": "stream",
     "text": [
      "mean reconstruction loss: 1.2223667402172522\n"
     ]
    }
   ],
   "source": [
    "print('mean reconstruction loss:', np.mean(loss[0]/np.mean(valid['mask'])))"
   ]
  },
  {
   "cell_type": "code",
   "execution_count": 83,
   "id": "02fa1712-181c-455d-a39e-7335dd6bef55",
   "metadata": {},
   "outputs": [],
   "source": [
    "np.save(os.path.join(data_path,'mean_loss_fc_5.npy'),loss[0])"
   ]
  },
  {
   "cell_type": "code",
   "execution_count": null,
   "id": "008424a3-d8db-4b0f-9dbb-7ec75a3d8c20",
   "metadata": {},
   "outputs": [],
   "source": []
  },
  {
   "cell_type": "code",
   "execution_count": null,
   "id": "143e79d6-e4de-4075-afa7-478dbd5f2744",
   "metadata": {},
   "outputs": [],
   "source": []
  }
 ],
 "metadata": {
  "kernelspec": {
   "display_name": "tf22",
   "language": "python",
   "name": "tf22"
  },
  "language_info": {
   "codemirror_mode": {
    "name": "ipython",
    "version": 3
   },
   "file_extension": ".py",
   "mimetype": "text/x-python",
   "name": "python",
   "nbconvert_exporter": "python",
   "pygments_lexer": "ipython3",
   "version": "3.8.3"
  }
 },
 "nbformat": 4,
 "nbformat_minor": 5
}
