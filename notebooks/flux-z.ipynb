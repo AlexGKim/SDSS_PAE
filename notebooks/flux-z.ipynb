{
 "cells": [
  {
   "cell_type": "markdown",
   "metadata": {},
   "source": [
    "# Redshift flux corrections"
   ]
  },
  {
   "cell_type": "markdown",
   "metadata": {},
   "source": [
    "The flux of an object at redshift $z$ is given as $f \\propto d_L^{-2}(z)$ where $d_L$ is the luminosity distance.  When working with redshifted spectra, a convenient unit is $f_{\\ln{\\lambda}} = df/d\\ln{\\lambda}$ since like the flux $f_{\\ln{\\lambda}}\\propto d_L^{-2}(z)$.  Spectra are typically, and SDSS and DESI are no exception, presented as a flus density, $f_\\lambda = df/d\\lambda$, where $\\lambda$ is in the observer frame.  Therefore a useful preprocessing step is to make the conversion $f_{\\ln{\\lambda}} = \\lambda f_\\lambda$.\n",
    "\n",
    "Since we are interested in objects that have anomolous fluxes, given a redshift estimate we can renormalize fluxes  by $f_{\\ln{\\lambda}}\\left(\\frac{d_L(z)}{d_L(z=0.1)}\\right)^2$ to put things onto a common luminosity scale, where the normalization by $d_L(z=0.1)$ is arbitrary and is used to avoid by rescaling by huge numbers."
   ]
  },
  {
   "cell_type": "code",
   "execution_count": 1,
   "metadata": {},
   "outputs": [],
   "source": [
    "from astropy.cosmology import Planck18_arXiv_v2 as cosmo"
   ]
  },
  {
   "cell_type": "code",
   "execution_count": 2,
   "metadata": {},
   "outputs": [],
   "source": [
    "z_ref=0.1\n",
    "ld_ref = cosmo.luminosity_distance(z_ref) "
   ]
  },
  {
   "cell_type": "code",
   "execution_count": 3,
   "metadata": {},
   "outputs": [
    {
     "data": {
      "text/latex": [
       "$22.165443 \\; \\mathrm{}$"
      ],
      "text/plain": [
       "<Quantity 22.1654425>"
      ]
     },
     "execution_count": 3,
     "metadata": {},
     "output_type": "execute_result"
    }
   ],
   "source": [
    "z=0.4\n",
    "factor = (cosmo.luminosity_distance(z)/ld_ref)**2\n",
    "factor"
   ]
  },
  {
   "cell_type": "code",
   "execution_count": null,
   "metadata": {},
   "outputs": [],
   "source": []
  }
 ],
 "metadata": {
  "kernelspec": {
   "display_name": "desitf2",
   "language": "python",
   "name": "desitf2"
  },
  "language_info": {
   "codemirror_mode": {
    "name": "ipython",
    "version": 3
   },
   "file_extension": ".py",
   "mimetype": "text/x-python",
   "name": "python",
   "nbconvert_exporter": "python",
   "pygments_lexer": "ipython3",
   "version": "3.8.3"
  }
 },
 "nbformat": 4,
 "nbformat_minor": 4
}
