{
 "cells": [
  {
   "cell_type": "code",
   "execution_count": 1,
   "id": "92d27af8-ebab-468f-8181-d89ce2b182c4",
   "metadata": {},
   "outputs": [],
   "source": [
    "import tensorflow as tf\n",
    "tf.__version__\n",
    "tf.config.list_physical_devices('GPU')\n",
    "\n",
    "\n",
    "import numpy as np\n",
    "import scipy\n",
    "import matplotlib.pyplot as plt\n",
    "import os\n",
    "import logging\n",
    "import sys\n",
    "import numpy as np\n",
    "import pickle"
   ]
  },
  {
   "cell_type": "code",
   "execution_count": 2,
   "id": "42505b9f-0dcd-4b44-b88d-4757da6eb13f",
   "metadata": {},
   "outputs": [],
   "source": [
    "import matplotlib.pyplot as plt\n",
    "\n",
    "SMALL_SIZE =  10\n",
    "MEDIUM_SIZE = 12\n",
    "BIGGER_SIZE = 14\n",
    "\n",
    "plt.rc('font', size=SMALL_SIZE)          # controls default text sizes\n",
    "plt.rc('axes', titlesize=MEDIUM_SIZE)    # fontsize of the axes title\n",
    "plt.rc('axes', labelsize=MEDIUM_SIZE)    # fontsize of the x and y labels\n",
    "plt.rc('xtick', labelsize=SMALL_SIZE)    # fontsize of the tick labels\n",
    "plt.rc('ytick', labelsize=SMALL_SIZE)    # fontsize of the tick labels\n",
    "plt.rc('legend', fontsize=MEDIUM_SIZE)   # legend fontsize\n",
    "plt.rc('figure', titlesize=BIGGER_SIZE)  # fontsize of the figure title"
   ]
  },
  {
   "cell_type": "code",
   "execution_count": 3,
   "id": "eb532339-b648-4c45-b430-1b14f3caf2d8",
   "metadata": {},
   "outputs": [],
   "source": [
    "path_fc_1 = '/global/cscratch1/sd/vboehm/SDSSOutlier/fc'\n",
    "path_cnn_1 = '/global/cscratch1/sd/vboehm/SDSSOutlier/cnn'"
   ]
  },
  {
   "cell_type": "code",
   "execution_count": 4,
   "id": "8a9891b7-3aa2-4a38-a0e7-ad36e3933719",
   "metadata": {},
   "outputs": [],
   "source": [
    "train = pickle.load(open(os.path.join(path_fc_1,'SDSS_DR16_preprocessed_train_relabeled.pkl'),'rb'))\n",
    "valid = pickle.load(open(os.path.join(path_fc_1,'SDSS_DR16_preprocessed_valid_relabeled.pkl'),'rb'))"
   ]
  },
  {
   "cell_type": "code",
   "execution_count": 11,
   "id": "6349aaa1-1c3f-424b-989c-b824817d1bc9",
   "metadata": {},
   "outputs": [],
   "source": [
    "plotpath = '/global/homes/v/vboehm/codes/SDSS_PAE/figures'"
   ]
  },
  {
   "cell_type": "code",
   "execution_count": 12,
   "id": "e40f53fb-41f7-4953-a05b-11f7a52bfb63",
   "metadata": {},
   "outputs": [
    {
     "data": {
      "image/png": "[encoded data removed]",
      "text/plain": [
       "<Figure size 432x288 with 1 Axes>"
      ]
     },
     "metadata": {
      "needs_background": "light"
     },
     "output_type": "display_data"
    }
   ],
   "source": [
    "plt.scatter(train['log_p_fc_marg']-np.mean(train['log_p_fc_marg']),train['log_p_fc_2_marg']-np.mean(train['log_p_fc_2_marg']),s=1, label=r'r=%.2f, $\\rho$=%.2f'%(r,rho))\n",
    "plt.xlim(-80,30)\n",
    "plt.ylim(-80,30)\n",
    "plt.legend(fontsize=14)\n",
    "plt.xlabel('random seed 5123')\n",
    "plt.ylabel('random seed 879')\n",
    "plt.savefig(os.path.join(plotpath, 'seed_comparison.pdf'), bbox_inches='tight')"
   ]
  },
  {
   "cell_type": "code",
   "execution_count": 7,
   "id": "49fcc1cc-db37-4fc0-a119-03f69050ba8e",
   "metadata": {},
   "outputs": [],
   "source": [
    "import scipy.stats"
   ]
  },
  {
   "cell_type": "code",
   "execution_count": 8,
   "id": "5322bb13-510c-41a2-81c3-66d3c55c29eb",
   "metadata": {},
   "outputs": [],
   "source": [
    "r = scipy.stats.pearsonr(train['log_p_fc_marg'],train['log_p_fc_2_marg'])[0]\n",
    "rho = scipy.stats.spearmanr(train['log_p_fc_marg'],train['log_p_fc_2_marg'])[0]"
   ]
  },
  {
   "cell_type": "code",
   "execution_count": 29,
   "id": "ccdfe7af-547f-4a0a-8dc3-9f1454643087",
   "metadata": {},
   "outputs": [
    {
     "data": {
      "text/plain": [
       "0.9966625501762132"
      ]
     },
     "execution_count": 29,
     "metadata": {},
     "output_type": "execute_result"
    }
   ],
   "source": [
    "rho"
   ]
  },
  {
   "cell_type": "code",
   "execution_count": 25,
   "id": "c2c51063-7b91-43eb-8602-fa9911558c15",
   "metadata": {},
   "outputs": [
    {
     "ename": "FileNotFoundError",
     "evalue": "[Errno 2] No such file or directory: '/global/cscratch1/sd/vboehm/SDSSOutlier/cnn/SDSS_DR16_preprocessed_train_relabeled.pkl'",
     "output_type": "error",
     "traceback": [
      "\u001b[0;31m---------------------------------------------------------------------------\u001b[0m",
      "\u001b[0;31mFileNotFoundError\u001b[0m                         Traceback (most recent call last)",
      "\u001b[0;32m<ipython-input-25-24a4886b7296>\u001b[0m in \u001b[0;36m<module>\u001b[0;34m\u001b[0m\n\u001b[0;32m----> 1\u001b[0;31m \u001b[0mtrain\u001b[0m \u001b[0;34m=\u001b[0m \u001b[0mpickle\u001b[0m\u001b[0;34m.\u001b[0m\u001b[0mload\u001b[0m\u001b[0;34m(\u001b[0m\u001b[0mopen\u001b[0m\u001b[0;34m(\u001b[0m\u001b[0mos\u001b[0m\u001b[0;34m.\u001b[0m\u001b[0mpath\u001b[0m\u001b[0;34m.\u001b[0m\u001b[0mjoin\u001b[0m\u001b[0;34m(\u001b[0m\u001b[0mpath_cnn_1\u001b[0m\u001b[0;34m,\u001b[0m\u001b[0;34m'SDSS_DR16_preprocessed_train_relabeled.pkl'\u001b[0m\u001b[0;34m)\u001b[0m\u001b[0;34m,\u001b[0m\u001b[0;34m'rb'\u001b[0m\u001b[0;34m)\u001b[0m\u001b[0;34m)\u001b[0m\u001b[0;34m\u001b[0m\u001b[0;34m\u001b[0m\u001b[0m\n\u001b[0m",
      "\u001b[0;31mFileNotFoundError\u001b[0m: [Errno 2] No such file or directory: '/global/cscratch1/sd/vboehm/SDSSOutlier/cnn/SDSS_DR16_preprocessed_train_relabeled.pkl'"
     ]
    }
   ],
   "source": [
    "train = pickle.load(open(os.path.join(path_cnn_1,'SDSS_DR16_preprocessed_train_relabeled.pkl'),'rb'))"
   ]
  },
  {
   "cell_type": "code",
   "execution_count": null,
   "id": "00b2a835-7273-429e-ad86-8bc63360fce6",
   "metadata": {},
   "outputs": [],
   "source": []
  }
 ],
 "metadata": {
  "kernelspec": {
   "display_name": "tf22",
   "language": "python",
   "name": "tf22"
  },
  "language_info": {
   "codemirror_mode": {
    "name": "ipython",
    "version": 3
   },
   "file_extension": ".py",
   "mimetype": "text/x-python",
   "name": "python",
   "nbconvert_exporter": "python",
   "pygments_lexer": "ipython3",
   "version": "3.8.3"
  }
 },
 "nbformat": 4,
 "nbformat_minor": 5
}
