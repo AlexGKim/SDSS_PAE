{
 "cells": [
  {
   "cell_type": "markdown",
   "metadata": {
    "colab_type": "text",
    "id": "view-in-github"
   },
   "source": [
    "<a href=\"https://colab.research.google.com/github/VMBoehm/SDSS_PAE/blob/main/LSTM_AE.ipynb\" target=\"_parent\"><img src=\"https://colab.research.google.com/assets/colab-badge.svg\" alt=\"Open In Colab\"/></a>"
   ]
  },
  {
   "cell_type": "markdown",
   "metadata": {
    "id": "IqDqXXTQ1FMN"
   },
   "source": [
    "# Template and tests for an LSTM Auto-Encoder\n"
   ]
  },
  {
   "cell_type": "code",
   "execution_count": 1,
   "metadata": {},
   "outputs": [],
   "source": [
    "import tensorflow as tf"
   ]
  },
  {
   "cell_type": "code",
   "execution_count": 2,
   "metadata": {},
   "outputs": [
    {
     "data": {
      "text/plain": [
       "[]"
      ]
     },
     "execution_count": 2,
     "metadata": {},
     "output_type": "execute_result"
    }
   ],
   "source": [
    "tf.config.list_physical_devices('GPU')"
   ]
  },
  {
   "cell_type": "code",
   "execution_count": 3,
   "metadata": {},
   "outputs": [
    {
     "data": {
      "text/plain": [
       "'2.2.0'"
      ]
     },
     "execution_count": 3,
     "metadata": {},
     "output_type": "execute_result"
    }
   ],
   "source": [
    "tf.__version__"
   ]
  },
  {
   "cell_type": "code",
   "execution_count": 4,
   "metadata": {},
   "outputs": [],
   "source": [
    "import tensorflow_datasets as tfds"
   ]
  },
  {
   "cell_type": "code",
   "execution_count": 5,
   "metadata": {
    "id": "ZcR4zT3V8dMc"
   },
   "outputs": [],
   "source": [
    "import numpy as np\n",
    "import scipy\n",
    "import matplotlib.pyplot as plt\n",
    "import os"
   ]
  },
  {
   "cell_type": "code",
   "execution_count": 6,
   "metadata": {},
   "outputs": [
    {
     "name": "stdout",
     "output_type": "stream",
     "text": [
      "Obtaining file:///global/homes/v/vboehm/codes/SDSS_PAE\n",
      "Requirement already satisfied: astropy in /global/u2/v/vboehm/.local/lib/python3.8/site-packages (from sdss-pae==0.1.0) (4.2.1)\n",
      "Requirement already satisfied: numpy in /global/common/cori_cle7/software/jupyter/cori/21-03/lib/python3.8/site-packages (from sdss-pae==0.1.0) (1.20.2)\n",
      "Requirement already satisfied: pyerfa in /global/u2/v/vboehm/.local/lib/python3.8/site-packages (from astropy->sdss-pae==0.1.0) (1.7.3)\n",
      "Installing collected packages: sdss-pae\n",
      "  Attempting uninstall: sdss-pae\n",
      "    Found existing installation: sdss-pae 0.1.0\n",
      "    Uninstalling sdss-pae-0.1.0:\n",
      "      Successfully uninstalled sdss-pae-0.1.0\n",
      "  Running setup.py develop for sdss-pae\n",
      "Successfully installed sdss-pae\n"
     ]
    }
   ],
   "source": [
    "# ! pip install tensorflow-probability==0.11.0\n",
    "! pip install --user -e /global/homes/v/vboehm/codes/SDSS_PAE/    "
   ]
  },
  {
   "cell_type": "code",
   "execution_count": 7,
   "metadata": {},
   "outputs": [],
   "source": [
    "### settings\n",
    "# user defined span (following Yip et al and Portillo et al)\n",
    "root_models     = '/global/cscratch1/sd/vboehm/Models/SDSS_AE/'\n",
    "\n",
    "root_encoded    = '/global/cscratch1/sd/vboehm/Datasets/encoded/sdss/'\n",
    "root_decoded    = '/global/cscratch1/sd/vboehm/Datasets/decoded/sdss/'\n",
    "root_data       = '/global/cscratch1/sd/vboehm/Datasets'\n",
    "\n",
    "root_prepped    = os.path.join(root_data,'sdss/prepped')\n",
    "\n",
    "wlmin, wlmax    = (3388,8318)\n",
    "fixed_num_bins  = 1000\n",
    "min_SN          = 50\n",
    "min_z           = 0.05\n",
    "max_z           = 0.36\n",
    "label           = 'galaxies_quasars_bins1000_wl3388-8318'\n",
    "label_          = label+'_minz005_maxz036_minSN50'"
   ]
  },
  {
   "cell_type": "code",
   "execution_count": 8,
   "metadata": {},
   "outputs": [],
   "source": [
    "wl_range      = (np.log10(wlmin),np.log10(wlmax))\n",
    "# new binning \n",
    "new_wl        = np.logspace(wl_range[0],wl_range[1],fixed_num_bins+1)"
   ]
  },
  {
   "cell_type": "code",
   "execution_count": 9,
   "metadata": {},
   "outputs": [
    {
     "name": "stdout",
     "output_type": "stream",
     "text": [
      "/global/cscratch1/sd/vboehm/Datasets/SDSS_BOSS_preprocessed/galaxies_quasars_bins1000_wl3388-8318_5.npy\n"
     ]
    }
   ],
   "source": [
    "\n",
    "nn = 5 #0-5\n",
    "print(os.path.join(root_data,'SDSS_BOSS_preprocessed/%s_%d.npy'%(label,nn)))"
   ]
  },
  {
   "cell_type": "code",
   "execution_count": 10,
   "metadata": {},
   "outputs": [
    {
     "name": "stdout",
     "output_type": "stream",
     "text": [
      "5\n"
     ]
    }
   ],
   "source": [
    "\n",
    "arrays = [np.asarray([[],[]]) for jj in range(12)]\n",
    "\n",
    "print(nn)\n",
    "array_ = np.load(os.path.join(root_data,'SDSS_BOSS_preprocessed/%s_%d.npy'%(label,nn)), allow_pickle=True)\n",
    "for jj in range(12):\n",
    "    arr = np.vstack(array_[jj])\n",
    "    arrays[jj] = np.append(arrays[jj],arr)"
   ]
  },
  {
   "cell_type": "code",
   "execution_count": 11,
   "metadata": {},
   "outputs": [],
   "source": [
    "res_fluxes,res_inv_vars,res_masks,redshifts,SNs, ras, decs, category,sublabel, MJD, plate_id, fiber = arrays"
   ]
  },
  {
   "cell_type": "code",
   "execution_count": 12,
   "metadata": {},
   "outputs": [
    {
     "data": {
      "text/plain": [
       "[<matplotlib.lines.Line2D at 0x2aab4186bbb0>]"
      ]
     },
     "execution_count": 12,
     "metadata": {},
     "output_type": "execute_result"
    },
    {
     "data": {
      "image/png": "[encoded data removed]",
      "text/plain": [
       "<Figure size 432x288 with 1 Axes>"
      ]
     },
     "metadata": {
      "needs_background": "light"
     },
     "output_type": "display_data"
    }
   ],
   "source": [
    "plt.plot(res_fluxes.reshape(-1,1000)[0])\n"
   ]
  },
  {
   "cell_type": "code",
   "execution_count": 13,
   "metadata": {},
   "outputs": [
    {
     "name": "stdout",
     "output_type": "stream",
     "text": [
      "56088.0 6024.0 644.0 223.4364013671875 26.664247512817383 0.7103021740913391 2.0 b''\n"
     ]
    }
   ],
   "source": [
    "print(MJD[0],plate_id[0], fiber[0],ras[0], decs[0], redshifts[0], category[0], sublabel[0])\n",
    "\n",
    "#wrong plateid"
   ]
  },
  {
   "cell_type": "code",
   "execution_count": 14,
   "metadata": {},
   "outputs": [
    {
     "data": {
      "text/plain": [
       "(196965000,)"
      ]
     },
     "execution_count": 14,
     "metadata": {},
     "output_type": "execute_result"
    }
   ],
   "source": [
    "res_fluxes.shape"
   ]
  },
  {
   "cell_type": "code",
   "execution_count": 15,
   "metadata": {},
   "outputs": [],
   "source": [
    "import time"
   ]
  },
  {
   "cell_type": "code",
   "execution_count": 16,
   "metadata": {},
   "outputs": [
    {
     "name": "stdout",
     "output_type": "stream",
     "text": [
      "0.009560585021972656\n"
     ]
    }
   ],
   "source": [
    "a= time.time()\n",
    "res_flux = np.expand_dims(res_fluxes[0],0)\n",
    "for ii in range(1,1000):\n",
    "    res_flux = np.vstack((res_flux,res_fluxes[ii]))\n",
    "print(time.time()-a)"
   ]
  },
  {
   "cell_type": "code",
   "execution_count": 17,
   "metadata": {},
   "outputs": [
    {
     "data": {
      "text/plain": [
       "6565.5"
      ]
     },
     "execution_count": 17,
     "metadata": {},
     "output_type": "execute_result"
    }
   ],
   "source": [
    "len(res_fluxes)/1000*2/60"
   ]
  },
  {
   "cell_type": "code",
   "execution_count": 18,
   "metadata": {},
   "outputs": [],
   "source": [
    "res_fluxes_ = np.reshape(res_fluxes,[-1,1000])\n",
    "res_inv_vars_ =  np.reshape(res_inv_vars,[-1,1000])\n",
    "res_masks_ =  np.reshape(res_masks,[-1,1000])\n",
    "#redshifts =  np.reshape(redshifts,[-1,1000])\n",
    "# SNs =  np.reshape(SNs,[-1,1000])\n",
    "# ras =  np.reshape(ras,[-1,1000])\n",
    "# decs =  np.reshape(decs,[-1,1000])\n",
    "# category=  np.reshape(category,[-1,1000])\n",
    "# sublabel =  np.reshape(sublabel,[-1,1000])\n",
    "# MJD =  np.reshape(MJD,[-1,1000])\n",
    "# plate_id =  np.reshape(plate_id,[-1,1000])\n",
    "# fiber =  np.reshape(fiber,[-1,1000])"
   ]
  },
  {
   "cell_type": "code",
   "execution_count": 19,
   "metadata": {},
   "outputs": [
    {
     "data": {
      "image/png": "[encoded data removed]",
      "text/plain": [
       "<Figure size 432x288 with 1 Axes>"
      ]
     },
     "metadata": {
      "needs_background": "light"
     },
     "output_type": "display_data"
    }
   ],
   "source": [
    "_ = plt.hist(redshifts,bins=100,density=True)\n",
    "plt.xlabel('z')\n",
    "plt.show()"
   ]
  },
  {
   "cell_type": "code",
   "execution_count": 20,
   "metadata": {},
   "outputs": [],
   "source": [
    "# res_fluxes_   = np.asarray(res_fluxes)\n",
    "# res_inv_vars_ = np.asarray(res_inv_vars)\n",
    "# res_masks_    = np.asarray(res_masks)"
   ]
  },
  {
   "cell_type": "code",
   "execution_count": null,
   "metadata": {},
   "outputs": [],
   "source": []
  },
  {
   "cell_type": "code",
   "execution_count": 21,
   "metadata": {},
   "outputs": [
    {
     "name": "stdout",
     "output_type": "stream",
     "text": [
      "new datasize:  49223\n"
     ]
    }
   ],
   "source": [
    "def redshift_bin(min_z, max_z, z_array, arrays):\n",
    "    num  = len(arrays)\n",
    "    indx = np.where((redshifts>min_z)*(redshifts<max_z))[0]\n",
    "    arrays_new = [arrays[ii][indx] for ii in range(num)]\n",
    "    print('new datasize: ', len(indx))\n",
    "    return arrays_new\n",
    "\n",
    "res_fluxes, res_masks, res_inv_vars, redshifts, ras, decs, category, sublabel, MJD, plate_id, fiber = redshift_bin(min_z, max_z, redshifts, [res_fluxes_, res_masks_, res_inv_vars_, redshifts, ras, decs, category, sublabel, MJD, plate_id, fiber])"
   ]
  },
  {
   "cell_type": "code",
   "execution_count": 22,
   "metadata": {},
   "outputs": [],
   "source": [
    "DATASET_SIZE = len(res_fluxes)"
   ]
  },
  {
   "cell_type": "code",
   "execution_count": 23,
   "metadata": {},
   "outputs": [],
   "source": [
    "SNs =[]\n",
    "for ii in range(DATASET_SIZE):\n",
    "    SNs.append(np.sum(res_fluxes[ii][np.where(res_masks[ii])])//np.sqrt(np.sum(1./res_inv_vars[ii][np.where(res_masks[ii])])))\n",
    "SNs= np.asarray(SNs)"
   ]
  },
  {
   "cell_type": "code",
   "execution_count": 24,
   "metadata": {},
   "outputs": [
    {
     "data": {
      "image/png": "[encoded data removed]",
      "text/plain": [
       "<Figure size 432x288 with 1 Axes>"
      ]
     },
     "metadata": {
      "needs_background": "light"
     },
     "output_type": "display_data"
    }
   ],
   "source": [
    "_ = plt.hist(SNs, density=True,bins=100,range=(1,200))"
   ]
  },
  {
   "cell_type": "code",
   "execution_count": 25,
   "metadata": {},
   "outputs": [
    {
     "data": {
      "text/plain": [
       "Text(0.5, 0, 'S/N')"
      ]
     },
     "execution_count": 25,
     "metadata": {},
     "output_type": "execute_result"
    },
    {
     "data": {
      "image/png": "[encoded data removed]",
      "text/plain": [
       "<Figure size 432x288 with 1 Axes>"
      ]
     },
     "metadata": {
      "needs_background": "light"
     },
     "output_type": "display_data"
    }
   ],
   "source": [
    "plt.scatter(SNs,redshifts, s=0.1)\n",
    "plt.ylabel('redshift')\n",
    "plt.xlabel('S/N')"
   ]
  },
  {
   "cell_type": "code",
   "execution_count": 26,
   "metadata": {},
   "outputs": [
    {
     "data": {
      "text/plain": [
       "((49223,), (49223,), (49223,))"
      ]
     },
     "execution_count": 26,
     "metadata": {},
     "output_type": "execute_result"
    }
   ],
   "source": [
    "SNs.shape, redshifts.shape, MJD.shape"
   ]
  },
  {
   "cell_type": "code",
   "execution_count": 27,
   "metadata": {},
   "outputs": [
    {
     "name": "stdout",
     "output_type": "stream",
     "text": [
      "new datasize:  48166\n"
     ]
    }
   ],
   "source": [
    "def SN_bin(min_SN, SNs, arrays):\n",
    "    num  = len(arrays)\n",
    "    indx = np.where(SNs>min_SN)[0]\n",
    "    arrays_new = [arrays[ii][indx] for ii in range(num)]\n",
    "    print('new datasize: ', len(indx))\n",
    "    return arrays_new\n",
    "\n",
    "res_fluxes, res_masks, res_inv_vars, redshifts, SNs, ras, decs, category, sublabel, MJD, plate_id, fiber = SN_bin(min_SN, SNs, [res_fluxes, res_masks, res_inv_vars, redshifts,SNs,ras, decs, category, sublabel, MJD, plate_id, fiber])"
   ]
  },
  {
   "cell_type": "code",
   "execution_count": 28,
   "metadata": {},
   "outputs": [],
   "source": [
    "boolean_mask = (res_masks==0)"
   ]
  },
  {
   "cell_type": "code",
   "execution_count": 29,
   "metadata": {},
   "outputs": [],
   "source": [
    "mask_fracs = np.mean(boolean_mask,axis=1)"
   ]
  },
  {
   "cell_type": "code",
   "execution_count": null,
   "metadata": {},
   "outputs": [],
   "source": []
  },
  {
   "cell_type": "code",
   "execution_count": 30,
   "metadata": {},
   "outputs": [
    {
     "data": {
      "image/png": "[encoded data removed]",
      "text/plain": [
       "<Figure size 432x288 with 1 Axes>"
      ]
     },
     "metadata": {
      "needs_background": "light"
     },
     "output_type": "display_data"
    }
   ],
   "source": [
    "plt.scatter(mask_fracs, redshifts, s=0.1)\n",
    "plt.plot(mask_fracs,mask_fracs*1.15+0.19, color='orange')\n",
    "keep = redshifts>mask_fracs*1.15+0.19\n",
    "keep_low = mask_fracs<0.04\n",
    "keep = np.logical_or(keep,keep_low)\n",
    "plt.scatter(mask_fracs[keep], redshifts[keep], color='red', s=0.1)\n",
    "plt.ylim(0.09,0.45)\n",
    "plt.show()"
   ]
  },
  {
   "cell_type": "code",
   "execution_count": 31,
   "metadata": {},
   "outputs": [
    {
     "name": "stdout",
     "output_type": "stream",
     "text": [
      "new datasize:  26440\n"
     ]
    }
   ],
   "source": [
    "def mask_bin(keep, arrays):\n",
    "    num  = len(arrays)\n",
    "    arrays_new = [arrays[ii][keep] for ii in range(num)]\n",
    "    print('new datasize: ', len(arrays_new[0]))\n",
    "    return arrays_new\n",
    "\n",
    "res_fluxes, res_masks, res_inv_vars, redshifts, SNs, ras, decs, category, sublabel,MJD, plate_id, fiber = mask_bin(keep, [res_fluxes, res_masks, res_inv_vars, redshifts, SNs, ras, decs, category, sublabel, MJD, plate_id, fiber])"
   ]
  },
  {
   "cell_type": "code",
   "execution_count": 32,
   "metadata": {},
   "outputs": [],
   "source": [
    "boolean_mask = (res_masks==0)"
   ]
  },
  {
   "cell_type": "code",
   "execution_count": 33,
   "metadata": {},
   "outputs": [
    {
     "data": {
      "text/plain": [
       "0.139"
      ]
     },
     "execution_count": 33,
     "metadata": {},
     "output_type": "execute_result"
    }
   ],
   "source": [
    "mask_fracs = np.mean(boolean_mask,axis=1)\n",
    "max(mask_fracs)"
   ]
  },
  {
   "cell_type": "code",
   "execution_count": 34,
   "metadata": {},
   "outputs": [
    {
     "data": {
      "image/png": "[encoded data removed]",
      "text/plain": [
       "<Figure size 432x288 with 1 Axes>"
      ]
     },
     "metadata": {
      "needs_background": "light"
     },
     "output_type": "display_data"
    }
   ],
   "source": [
    "_ = plt.hist(redshifts, density=True, bins=100)"
   ]
  },
  {
   "cell_type": "code",
   "execution_count": 35,
   "metadata": {},
   "outputs": [
    {
     "data": {
      "text/plain": [
       "<matplotlib.lines.Line2D at 0x2aab37c9d160>"
      ]
     },
     "execution_count": 35,
     "metadata": {},
     "output_type": "execute_result"
    },
    {
     "data": {
      "image/png": "[encoded data removed]",
      "text/plain": [
       "<Figure size 432x288 with 1 Axes>"
      ]
     },
     "metadata": {
      "needs_background": "light"
     },
     "output_type": "display_data"
    }
   ],
   "source": [
    "_ = plt.hist(redshifts, density=True, bins=100, cumulative=True)\n",
    "plt.axhline(0.5,color='orange')"
   ]
  },
  {
   "cell_type": "code",
   "execution_count": 36,
   "metadata": {},
   "outputs": [
    {
     "name": "stdout",
     "output_type": "stream",
     "text": [
      "58146.0 8204.0 533.0 197.16900634765625 55.64374923706055 0.1118985041975975 2.0 b''\n"
     ]
    }
   ],
   "source": [
    "print(MJD[0],plate_id[0], fiber[0],ras[0], decs[0], redshifts[0], category[0], sublabel[0])\n",
    "#fiber always one too low"
   ]
  },
  {
   "cell_type": "code",
   "execution_count": 37,
   "metadata": {},
   "outputs": [],
   "source": [
    "np.save(os.path.join(root_prepped,'prepped_data_spectra_%s_batch%d.npy'%(label_,nn)), [res_fluxes, res_masks, res_inv_vars])\n",
    "\n",
    "np.save(os.path.join(root_prepped,'prepped_data_prop_%s_batch%d.npy'%(label_,nn)), [redshifts, SNs, ras, decs, category, sublabel, MJD, plate_id, fiber])"
   ]
  },
  {
   "cell_type": "code",
   "execution_count": 38,
   "metadata": {},
   "outputs": [
    {
     "data": {
      "text/plain": [
       "5"
      ]
     },
     "execution_count": 38,
     "metadata": {},
     "output_type": "execute_result"
    }
   ],
   "source": [
    "nn"
   ]
  },
  {
   "cell_type": "code",
   "execution_count": 39,
   "metadata": {},
   "outputs": [
    {
     "name": "stdout",
     "output_type": "stream",
     "text": [
      "26440\n"
     ]
    }
   ],
   "source": [
    "print(len(res_fluxes))"
   ]
  },
  {
   "cell_type": "code",
   "execution_count": 40,
   "metadata": {},
   "outputs": [],
   "source": [
    "# 88152, 87988, 88386, 88034, 87211, 26440\n"
   ]
  }
 ],
 "metadata": {
  "accelerator": "GPU",
  "colab": {
   "authorship_tag": "ABX9TyNbeXyhiihZQbSo0juhrHje",
   "collapsed_sections": [],
   "include_colab_link": true,
   "name": "LSTM-AE.ipynb",
   "provenance": []
  },
  "kernelspec": {
   "display_name": "tf22",
   "language": "python",
   "name": "tf22"
  },
  "language_info": {
   "codemirror_mode": {
    "name": "ipython",
    "version": 3
   },
   "file_extension": ".py",
   "mimetype": "text/x-python",
   "name": "python",
   "nbconvert_exporter": "python",
   "pygments_lexer": "ipython3",
   "version": "3.8.3"
  }
 },
 "nbformat": 4,
 "nbformat_minor": 4
}
