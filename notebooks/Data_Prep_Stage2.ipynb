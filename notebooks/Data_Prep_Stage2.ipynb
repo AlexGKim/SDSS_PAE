{
 "cells": [
  {
   "cell_type": "markdown",
   "metadata": {
    "colab_type": "text",
    "id": "view-in-github"
   },
   "source": [
    "<a href=\"https://colab.research.google.com/github/VMBoehm/SDSS_PAE/blob/main/LSTM_AE.ipynb\" target=\"_parent\"><img src=\"https://colab.research.google.com/assets/colab-badge.svg\" alt=\"Open In Colab\"/></a>"
   ]
  },
  {
   "cell_type": "markdown",
   "metadata": {
    "id": "IqDqXXTQ1FMN"
   },
   "source": [
    "# Template and tests for an LSTM Auto-Encoder\n"
   ]
  },
  {
   "cell_type": "code",
   "execution_count": 1,
   "metadata": {},
   "outputs": [],
   "source": [
    "import tensorflow as tf"
   ]
  },
  {
   "cell_type": "code",
   "execution_count": 2,
   "metadata": {},
   "outputs": [
    {
     "data": {
      "text/plain": [
       "[PhysicalDevice(name='/physical_device:GPU:0', device_type='GPU')]"
      ]
     },
     "execution_count": 2,
     "metadata": {},
     "output_type": "execute_result"
    }
   ],
   "source": [
    "tf.config.list_physical_devices('GPU')"
   ]
  },
  {
   "cell_type": "code",
   "execution_count": 3,
   "metadata": {},
   "outputs": [
    {
     "data": {
      "text/plain": [
       "'2.2.0'"
      ]
     },
     "execution_count": 3,
     "metadata": {},
     "output_type": "execute_result"
    }
   ],
   "source": [
    "tf.__version__"
   ]
  },
  {
   "cell_type": "code",
   "execution_count": 4,
   "metadata": {},
   "outputs": [],
   "source": [
    "import tensorflow_datasets as tfds"
   ]
  },
  {
   "cell_type": "code",
   "execution_count": 5,
   "metadata": {
    "id": "ZcR4zT3V8dMc"
   },
   "outputs": [],
   "source": [
    "import numpy as np\n",
    "import scipy\n",
    "import matplotlib.pyplot as plt\n",
    "import os"
   ]
  },
  {
   "cell_type": "code",
   "execution_count": 6,
   "metadata": {},
   "outputs": [
    {
     "name": "stdout",
     "output_type": "stream",
     "text": [
      "Obtaining file:///global/homes/v/vboehm/codes/SDSS_PAE\n",
      "Requirement already satisfied: astropy in /global/u2/v/vboehm/.local/lib/python3.8/site-packages (from sdss-pae==0.1.0) (4.2.1)\n",
      "Requirement already satisfied: numpy in /global/common/cori_cle7/software/jupyter/cgpu/21-03/lib/python3.8/site-packages (from sdss-pae==0.1.0) (1.20.2)\n",
      "Requirement already satisfied: pyerfa in /global/u2/v/vboehm/.local/lib/python3.8/site-packages (from astropy->sdss-pae==0.1.0) (1.7.3)\n",
      "Installing collected packages: sdss-pae\n",
      "  Attempting uninstall: sdss-pae\n",
      "    Found existing installation: sdss-pae 0.1.0\n",
      "    Uninstalling sdss-pae-0.1.0:\n",
      "      Successfully uninstalled sdss-pae-0.1.0\n",
      "  Running setup.py develop for sdss-pae\n",
      "Successfully installed sdss-pae\n"
     ]
    }
   ],
   "source": [
    "# ! pip install tensorflow-probability==0.11.0\n",
    "! pip install --user -e /global/homes/v/vboehm/codes/SDSS_PAE/    "
   ]
  },
  {
   "cell_type": "code",
   "execution_count": 7,
   "metadata": {},
   "outputs": [],
   "source": [
    "### settings\n",
    "# user defined span (following Yip et al and Portillo et al)\n",
    "root_models     = '/global/cscratch1/sd/vboehm/Models/SDSS_AE/'\n",
    "\n",
    "root_encoded    = '/global/cscratch1/sd/vboehm/Datasets/encoded/sdss/'\n",
    "root_decoded    = '/global/cscratch1/sd/vboehm/Datasets/decoded/sdss/'\n",
    "root_data       = '/global/cscratch1/sd/vboehm/Datasets'\n",
    "\n",
    "root_prepped    = os.path.join(root_data,'sdss/prepped')\n",
    "\n",
    "wlmin, wlmax    = (3388,8318)\n",
    "fixed_num_bins  = 1000\n",
    "min_SN          = 50\n",
    "min_z           = 0.05\n",
    "max_z           = 0.36\n",
    "label           = 'galaxies_quasars_bins1000_wl3388-8318'\n",
    "label_          = label+'_minz005_maxz036_minSN50'"
   ]
  },
  {
   "cell_type": "code",
   "execution_count": 8,
   "metadata": {},
   "outputs": [],
   "source": [
    "wl_range      = (np.log10(wlmin),np.log10(wlmax))\n",
    "# new binning \n",
    "new_wl        = np.logspace(wl_range[0],wl_range[1],fixed_num_bins+1)"
   ]
  },
  {
   "cell_type": "code",
   "execution_count": 9,
   "metadata": {},
   "outputs": [],
   "source": [
    "\n",
    "nn = 4"
   ]
  },
  {
   "cell_type": "code",
   "execution_count": 10,
   "metadata": {},
   "outputs": [
    {
     "name": "stdout",
     "output_type": "stream",
     "text": [
      "4\n"
     ]
    }
   ],
   "source": [
    "\n",
    "arrays = [np.asarray([[],[]]) for jj in range(12)]\n",
    "\n",
    "print(nn)\n",
    "array_ = np.load(os.path.join(root_data,'SDSS_BOSS_preprocessed/%s_%d.npy'%(label,nn)), allow_pickle=True)\n",
    "for jj in range(12):\n",
    "    arr = np.vstack(array_[jj])\n",
    "    arrays[jj] = np.append(arrays[jj],arr)"
   ]
  },
  {
   "cell_type": "code",
   "execution_count": 11,
   "metadata": {},
   "outputs": [],
   "source": [
    "res_fluxes,res_inv_vars,res_masks,redshifts,SNs, ras, decs, category,sublabel, MJD, plate_id, fiber = arrays"
   ]
  },
  {
   "cell_type": "code",
   "execution_count": null,
   "metadata": {},
   "outputs": [],
   "source": [
    "\n"
   ]
  },
  {
   "cell_type": "code",
   "execution_count": 12,
   "metadata": {},
   "outputs": [
    {
     "data": {
      "text/plain": [
       "(761053000,)"
      ]
     },
     "execution_count": 12,
     "metadata": {},
     "output_type": "execute_result"
    }
   ],
   "source": [
    "res_fluxes.shape"
   ]
  },
  {
   "cell_type": "code",
   "execution_count": 13,
   "metadata": {},
   "outputs": [],
   "source": [
    "import time"
   ]
  },
  {
   "cell_type": "code",
   "execution_count": 14,
   "metadata": {},
   "outputs": [
    {
     "name": "stdout",
     "output_type": "stream",
     "text": [
      "0.021901845932006836\n"
     ]
    }
   ],
   "source": [
    "a= time.time()\n",
    "res_flux = np.expand_dims(res_fluxes[0],0)\n",
    "for ii in range(1,1000):\n",
    "    res_flux = np.vstack((res_flux,res_fluxes[ii]))\n",
    "print(time.time()-a)"
   ]
  },
  {
   "cell_type": "code",
   "execution_count": 15,
   "metadata": {},
   "outputs": [
    {
     "data": {
      "text/plain": [
       "25368.433333333334"
      ]
     },
     "execution_count": 15,
     "metadata": {},
     "output_type": "execute_result"
    }
   ],
   "source": [
    "len(res_fluxes)/1000*2/60"
   ]
  },
  {
   "cell_type": "code",
   "execution_count": 16,
   "metadata": {},
   "outputs": [],
   "source": [
    "res_fluxes_ = np.reshape(res_fluxes,[-1,1000])\n",
    "res_inv_vars_ =  np.reshape(res_inv_vars,[-1,1000])\n",
    "res_masks_ =  np.reshape(res_masks,[-1,1000])\n",
    "#redshifts =  np.reshape(redshifts,[-1,1000])\n",
    "# SNs =  np.reshape(SNs,[-1,1000])\n",
    "# ras =  np.reshape(ras,[-1,1000])\n",
    "# decs =  np.reshape(decs,[-1,1000])\n",
    "# category=  np.reshape(category,[-1,1000])\n",
    "# sublabel =  np.reshape(sublabel,[-1,1000])\n",
    "# MJD =  np.reshape(MJD,[-1,1000])\n",
    "# plate_id =  np.reshape(plate_id,[-1,1000])\n",
    "# fiber =  np.reshape(fiber,[-1,1000])"
   ]
  },
  {
   "cell_type": "code",
   "execution_count": 17,
   "metadata": {},
   "outputs": [
    {
     "data": {
      "image/png": "[encoded data removed]",
      "text/plain": [
       "<Figure size 432x288 with 1 Axes>"
      ]
     },
     "metadata": {
      "needs_background": "light"
     },
     "output_type": "display_data"
    }
   ],
   "source": [
    "_ = plt.hist(redshifts,bins=100,density=True)\n",
    "plt.xlabel('z')\n",
    "plt.show()"
   ]
  },
  {
   "cell_type": "code",
   "execution_count": 18,
   "metadata": {},
   "outputs": [],
   "source": [
    "# res_fluxes_   = np.asarray(res_fluxes)\n",
    "# res_inv_vars_ = np.asarray(res_inv_vars)\n",
    "# res_masks_    = np.asarray(res_masks)"
   ]
  },
  {
   "cell_type": "code",
   "execution_count": null,
   "metadata": {},
   "outputs": [],
   "source": []
  },
  {
   "cell_type": "code",
   "execution_count": 19,
   "metadata": {},
   "outputs": [
    {
     "name": "stdout",
     "output_type": "stream",
     "text": [
      "new datasize:  94857\n"
     ]
    }
   ],
   "source": [
    "def redshift_bin(min_z, max_z, z_array, arrays):\n",
    "    num  = len(arrays)\n",
    "    indx = np.where((redshifts>min_z)*(redshifts<max_z))[0]\n",
    "    arrays_new = [arrays[ii][indx] for ii in range(num)]\n",
    "    print('new datasize: ', len(indx))\n",
    "    return arrays_new\n",
    "\n",
    "res_fluxes, res_masks, res_inv_vars, redshifts, ras, decs, category, sublabel = redshift_bin(min_z, max_z, redshifts, [res_fluxes_, res_masks_, res_inv_vars_, redshifts, ras, decs, category, sublabel])"
   ]
  },
  {
   "cell_type": "code",
   "execution_count": 20,
   "metadata": {},
   "outputs": [],
   "source": [
    "DATASET_SIZE = len(res_fluxes)"
   ]
  },
  {
   "cell_type": "code",
   "execution_count": 21,
   "metadata": {},
   "outputs": [],
   "source": [
    "SNs =[]\n",
    "for ii in range(DATASET_SIZE):\n",
    "    SNs.append(np.sum(res_fluxes[ii][np.where(res_masks[ii])])//np.sqrt(np.sum(1./res_inv_vars[ii][np.where(res_masks[ii])])))\n",
    "SNs= np.asarray(SNs)"
   ]
  },
  {
   "cell_type": "code",
   "execution_count": 22,
   "metadata": {},
   "outputs": [
    {
     "data": {
      "image/png": "[encoded data removed]",
      "text/plain": [
       "<Figure size 432x288 with 1 Axes>"
      ]
     },
     "metadata": {
      "needs_background": "light"
     },
     "output_type": "display_data"
    }
   ],
   "source": [
    "_ = plt.hist(SNs, density=True,bins=100,range=(1,200))"
   ]
  },
  {
   "cell_type": "code",
   "execution_count": 23,
   "metadata": {},
   "outputs": [
    {
     "data": {
      "text/plain": [
       "Text(0.5, 0, 'S/N')"
      ]
     },
     "execution_count": 23,
     "metadata": {},
     "output_type": "execute_result"
    },
    {
     "data": {
      "image/png": "[encoded data removed]",
      "text/plain": [
       "<Figure size 432x288 with 1 Axes>"
      ]
     },
     "metadata": {
      "needs_background": "light"
     },
     "output_type": "display_data"
    }
   ],
   "source": [
    "plt.scatter(SNs,redshifts, s=0.1)\n",
    "plt.ylabel('redshift')\n",
    "plt.xlabel('S/N')"
   ]
  },
  {
   "cell_type": "code",
   "execution_count": 24,
   "metadata": {},
   "outputs": [
    {
     "data": {
      "text/plain": [
       "((94857,), (94857,))"
      ]
     },
     "execution_count": 24,
     "metadata": {},
     "output_type": "execute_result"
    }
   ],
   "source": [
    "SNs.shape, redshifts.shape"
   ]
  },
  {
   "cell_type": "code",
   "execution_count": 25,
   "metadata": {},
   "outputs": [
    {
     "name": "stdout",
     "output_type": "stream",
     "text": [
      "new datasize:  89606\n"
     ]
    }
   ],
   "source": [
    "def SN_bin(min_SN, SNs, arrays):\n",
    "    num  = len(arrays)\n",
    "    indx = np.where(SNs>min_SN)[0]\n",
    "    arrays_new = [arrays[ii][indx] for ii in range(num)]\n",
    "    print('new datasize: ', len(indx))\n",
    "    return arrays_new\n",
    "\n",
    "res_fluxes, res_masks, res_inv_vars, redshifts, SNs, ras, decs, category, sublabel = SN_bin(min_SN, SNs, [res_fluxes, res_masks, res_inv_vars, redshifts,SNs,ras, decs, category, sublabel])"
   ]
  },
  {
   "cell_type": "code",
   "execution_count": 26,
   "metadata": {},
   "outputs": [],
   "source": [
    "boolean_mask = (res_masks==0)"
   ]
  },
  {
   "cell_type": "code",
   "execution_count": 27,
   "metadata": {},
   "outputs": [],
   "source": [
    "mask_fracs = np.mean(boolean_mask,axis=1)"
   ]
  },
  {
   "cell_type": "code",
   "execution_count": null,
   "metadata": {},
   "outputs": [],
   "source": []
  },
  {
   "cell_type": "code",
   "execution_count": 28,
   "metadata": {},
   "outputs": [
    {
     "data": {
      "image/png": "[encoded data removed]",
      "text/plain": [
       "<Figure size 432x288 with 1 Axes>"
      ]
     },
     "metadata": {
      "needs_background": "light"
     },
     "output_type": "display_data"
    }
   ],
   "source": [
    "plt.scatter(mask_fracs, redshifts, s=0.1)\n",
    "plt.plot(mask_fracs,mask_fracs*1.15+0.19, color='orange')\n",
    "keep = redshifts>mask_fracs*1.15+0.19\n",
    "keep_low = mask_fracs<0.04\n",
    "keep = np.logical_or(keep,keep_low)\n",
    "plt.scatter(mask_fracs[keep], redshifts[keep], color='red', s=0.1)\n",
    "plt.ylim(0.09,0.45)\n",
    "plt.show()"
   ]
  },
  {
   "cell_type": "code",
   "execution_count": 29,
   "metadata": {},
   "outputs": [
    {
     "name": "stdout",
     "output_type": "stream",
     "text": [
      "new datasize:  87211\n"
     ]
    }
   ],
   "source": [
    "def mask_bin(keep, arrays):\n",
    "    num  = len(arrays)\n",
    "    arrays_new = [arrays[ii][keep] for ii in range(num)]\n",
    "    print('new datasize: ', len(arrays_new[0]))\n",
    "    return arrays_new\n",
    "\n",
    "res_fluxes, res_masks, res_inv_vars, redshifts, SNs, ras, decs, category, sublabel = mask_bin(keep, [res_fluxes, res_masks, res_inv_vars, redshifts, SNs, ras, decs, category, sublabel])"
   ]
  },
  {
   "cell_type": "code",
   "execution_count": 30,
   "metadata": {},
   "outputs": [],
   "source": [
    "boolean_mask = (res_masks==0)"
   ]
  },
  {
   "cell_type": "code",
   "execution_count": 31,
   "metadata": {},
   "outputs": [
    {
     "data": {
      "text/plain": [
       "0.146"
      ]
     },
     "execution_count": 31,
     "metadata": {},
     "output_type": "execute_result"
    }
   ],
   "source": [
    "mask_fracs = np.mean(boolean_mask,axis=1)\n",
    "max(mask_fracs)"
   ]
  },
  {
   "cell_type": "code",
   "execution_count": 32,
   "metadata": {},
   "outputs": [
    {
     "data": {
      "image/png": "[encoded data removed]",
      "text/plain": [
       "<Figure size 432x288 with 1 Axes>"
      ]
     },
     "metadata": {
      "needs_background": "light"
     },
     "output_type": "display_data"
    }
   ],
   "source": [
    "_ = plt.hist(redshifts, density=True, bins=100)"
   ]
  },
  {
   "cell_type": "code",
   "execution_count": 33,
   "metadata": {},
   "outputs": [
    {
     "data": {
      "text/plain": [
       "<matplotlib.lines.Line2D at 0x2aab912dd670>"
      ]
     },
     "execution_count": 33,
     "metadata": {},
     "output_type": "execute_result"
    },
    {
     "data": {
      "image/png": "[encoded data removed]",
      "text/plain": [
       "<Figure size 432x288 with 1 Axes>"
      ]
     },
     "metadata": {
      "needs_background": "light"
     },
     "output_type": "display_data"
    }
   ],
   "source": [
    "_ = plt.hist(redshifts, density=True, bins=100, cumulative=True)\n",
    "plt.axhline(0.5,color='orange')"
   ]
  },
  {
   "cell_type": "code",
   "execution_count": 34,
   "metadata": {},
   "outputs": [],
   "source": [
    "# def calc_noise_floor(res_fluxes, res_masks, res_inv_vars):\n",
    "#     floors = []\n",
    "#     sanity = []\n",
    "#     MAXs   = []\n",
    "#     for ii in range(len(res_fluxes)):\n",
    "#         MAX = max(res_fluxes[ii][res_masks[ii]]*np.sqrt(res_inv_vars[ii][res_masks[ii]]))\n",
    "#         MAXs.append(MAX)\n",
    "#         N   = np.where(res_fluxes[ii][res_masks[ii]]*np.sqrt(res_inv_vars[ii][res_masks[ii]])==MAX)[0]\n",
    "#         if MAX>50.:\n",
    "#             print(N)\n",
    "#             floor2 = (res_fluxes[ii][res_masks[ii]][N]/50.)**2-1./res_inv_vars[ii][res_masks[ii]][N]\n",
    "#             sanity.append(res_fluxes[ii][res_masks[ii]][N]/np.sqrt(floor2+1./res_inv_vars[ii][res_masks[ii]][N]))\n",
    "#             floors.append(floor2)\n",
    "#         else:\n",
    "#             floors.append(0.)\n",
    "#     return floors, sanity, MAXs\n",
    "\n",
    "\n",
    "# noise_floors, sanity, MAXs = calc_noise_floor(res_fluxes, res_masks, res_inv_vars)\n",
    "\n",
    "# sanity = np.asarray(sanity)\n",
    "# noise_floors = np.asarray(noise_floors)\n",
    "# MAXs = np.asarray(MAXs)\n",
    "\n",
    "#_ = plt.hist(MAXs, bins=100)"
   ]
  },
  {
   "cell_type": "code",
   "execution_count": null,
   "metadata": {},
   "outputs": [],
   "source": []
  },
  {
   "cell_type": "code",
   "execution_count": null,
   "metadata": {},
   "outputs": [],
   "source": []
  },
  {
   "cell_type": "code",
   "execution_count": null,
   "metadata": {},
   "outputs": [],
   "source": []
  },
  {
   "cell_type": "code",
   "execution_count": 35,
   "metadata": {},
   "outputs": [],
   "source": [
    "np.save(os.path.join(root_prepped,'prepped_data_spectra_%s_batch%d.npy'%(label_,nn)), [res_fluxes, res_masks, res_inv_vars])\n",
    "\n",
    "np.save(os.path.join(root_prepped,'prepped_data_prop_%s_batch%d.npy'%(label_,nn)), [redshifts, SNs, ras, decs, category, sublabel])"
   ]
  },
  {
   "cell_type": "code",
   "execution_count": 36,
   "metadata": {},
   "outputs": [
    {
     "data": {
      "text/plain": [
       "4"
      ]
     },
     "execution_count": 36,
     "metadata": {},
     "output_type": "execute_result"
    }
   ],
   "source": [
    "nn"
   ]
  },
  {
   "cell_type": "code",
   "execution_count": null,
   "metadata": {},
   "outputs": [],
   "source": []
  }
 ],
 "metadata": {
  "accelerator": "GPU",
  "colab": {
   "authorship_tag": "ABX9TyNbeXyhiihZQbSo0juhrHje",
   "collapsed_sections": [],
   "include_colab_link": true,
   "name": "LSTM-AE.ipynb",
   "provenance": []
  },
  "kernelspec": {
   "display_name": "tf22",
   "language": "python",
   "name": "tf22"
  },
  "language_info": {
   "codemirror_mode": {
    "name": "ipython",
    "version": 3
   },
   "file_extension": ".py",
   "mimetype": "text/x-python",
   "name": "python",
   "nbconvert_exporter": "python",
   "pygments_lexer": "ipython3",
   "version": "3.8.3"
  }
 },
 "nbformat": 4,
 "nbformat_minor": 4
}
