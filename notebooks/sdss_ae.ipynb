{
 "cells": [
  {
   "cell_type": "code",
   "execution_count": 6,
   "metadata": {},
   "outputs": [],
   "source": [
    "import fitsio\n",
    "import os\n",
    "import os.path\n",
    "import matplotlib.pyplot as plt\n",
    "import numpy as np\n",
    "import tqdm\n",
    "import tensorflow as tf\n",
    "from astropy.io import fits\n",
    "import astropy\n",
    "import json"
   ]
  },
  {
   "cell_type": "code",
   "execution_count": null,
   "metadata": {},
   "outputs": [],
   "source": []
  },
  {
   "cell_type": "markdown",
   "metadata": {},
   "source": [
    "Sloan data at NERSC is stored in this directory"
   ]
  },
  {
   "cell_type": "code",
   "execution_count": 7,
   "metadata": {},
   "outputs": [],
   "source": [
    "sdss_dir = \"/global/project/projectdirs/cosmo/data/sdss/dr16/sdss/spectro/redux/v5_13_0/\""
   ]
  },
  {
   "cell_type": "markdown",
   "metadata": {},
   "source": [
    "Data is in subdirectories.\n",
    "\n",
    "Spectra are organied by plate.\n",
    "\n",
    "For the moment work with \"combined\" spectra.  A single object may be observed several times and the spectrograph has blue and red channels.  These data are available but the simple thing is to work where these data are combined to make one spectrum per object.\n",
    "\n",
    "The combined spectra for the plate are in fits files with the name \"spPlate*.fits\n",
    "\n",
    "see https://data.sdss.org/datamodel/files/BOSS_SPECTRO_REDUX/RUN2D/PLATE4/spPlate.html"
   ]
  },
  {
   "cell_type": "code",
   "execution_count": 8,
   "metadata": {},
   "outputs": [],
   "source": [
    "# save the names of the data and redshift files\n",
    "datafiles_wz=[]\n",
    "datafiles_nz=[]\n",
    "z_files=[]\n",
    "for dirpath, dirnames, filenames in os.walk(sdss_dir):\n",
    "    for filename in [f for f in filenames if f.startswith(\"spPlate\")]:\n",
    "        data_file   = os.path.join(dirpath, filename)\n",
    "        file_ending = filename[7::]\n",
    "        z_file      = os.path.join(dirpath,'v5_13_0','spZbest'+file_ending)\n",
    "        if os.path.exists(z_file):\n",
    "            z_files.append(z_file)\n",
    "            datafiles_wz.append(os.path.join(dirpath, data_file))\n",
    "        else:\n",
    "            datafiles_nz.append(os.path.join(dirpath, data_file))\n",
    "            print(z_file)\n",
    "        "
   ]
  },
  {
   "cell_type": "code",
   "execution_count": 9,
   "metadata": {},
   "outputs": [],
   "source": [
    "len(datafiles_wz)*2/60/60\n",
    "import os"
   ]
  },
  {
   "cell_type": "code",
   "execution_count": 10,
   "metadata": {},
   "outputs": [
    {
     "name": "stderr",
     "output_type": "stream",
     "text": [
      "UsageError: Line magic function `%` not found.\n"
     ]
    }
   ],
   "source": [
    "local_path = '/global/cscratch1/sd/vboehm/Datasets/SDSS_BOSS_data/'\n",
    "%\n",
    "with open(os.path.join(local_path,'datafiles.txt'), 'w') as file:\n",
    "    json.dump(datafiles_wz, file)"
   ]
  },
  {
   "cell_type": "code",
   "execution_count": null,
   "metadata": {},
   "outputs": [],
   "source": [
    "with open(os.path.join(local_path,'z_files.txt'), 'w') as file:\n",
    "    json.dump(z_files, file)"
   ]
  },
  {
   "cell_type": "code",
   "execution_count": null,
   "metadata": {},
   "outputs": [],
   "source": [
    "with open(os.path.join(local_path,'z_files.txt'), 'r') as infile:\n",
    "    for line in infile:\n",
    "        z_files = json.loads(line)\n"
   ]
  },
  {
   "cell_type": "markdown",
   "metadata": {},
   "source": [
    "## Look at one file"
   ]
  },
  {
   "cell_type": "code",
   "execution_count": null,
   "metadata": {},
   "outputs": [],
   "source": [
    "h    = fitsio.read_header(z_files[0])"
   ]
  },
  {
   "cell_type": "code",
   "execution_count": null,
   "metadata": {},
   "outputs": [],
   "source": [
    "h    = fitsio.FITS(z_files[0])"
   ]
  },
  {
   "cell_type": "code",
   "execution_count": null,
   "metadata": {},
   "outputs": [],
   "source": [
    "new_file_names = \"/global/cscratch1/sd/vboehm/Datasets/SDSS_BOSS_data/\"\n",
    "\n",
    "\n",
    "for ii, (datafile, zfile) in enumerate(zip(datafiles_wz[0:8],z_files[0:8])):\n",
    "    print(ii)\n",
    "    hdulist = fits.open(datafile)\n",
    "\n",
    "    c0   = hdulist[0].header['coeff0']\n",
    "    c1   = hdulist[0].header['coeff1']\n",
    "    npix = hdulist[0].header['naxis1']\n",
    "    wave = 10.**(c0 + c1 * np.arange(npix))\n",
    "\n",
    "    bunit = hdulist[0].header['bunit']\n",
    "    print(bunit)\n",
    "    flux  = hdulist[0].data\n",
    "    ivar  = hdulist[1].data\n",
    "    amask = np.asarray(hdulist[2].data==0,dtype=int)\n",
    "    hdulist.close()\n",
    "    hdulist = 0\n",
    "\n",
    "    #hdulist = fits.open(z_file)\n",
    "    zstruc  = hdulist[1].data\n",
    "    print(z_struc['z'])\n",
    "#     hdulist.close()\n",
    "#     hdulist = 0\n",
    "\n",
    "    hdu       = fits.PrimaryHDU(flux)\n",
    "    hdu_amask = fits.ImageHDU(amask,name='amask')\n",
    "    hdu_ivar  = fits.ImageHDU(amask,name='ivar')\n",
    "    hdu_wave  = fits.ImageHDU(wave,name='wlen')\n",
    "\n",
    "    \n",
    "#     c1 = fits.Column(name='redshift', array=zstruc['z'], format='E')\n",
    "#     c2 = fits.Column(name='class', array=zstruc['class'], format='6A')\n",
    "#     c3 = fits.Column(name='subclass', array=zstruc['subclass'], format='6A')\n",
    "#     c4 = fits.Column(name='index', array=ii*1000+np.arange(1000), format='K')\n",
    "\n",
    "#    cdef = fits.ColDefs([c1,c2,c3,c4])\n",
    "\n",
    "#    table_hdu = fits.BinTableHDU.from_columns(cdef)\n",
    "\n",
    "    hdulist = fits.HDUList([hdu, hdu_amask, hdu_ivar, hdu_wave])\n",
    "    hdulist.writeto(os.path.join(new_file_names,'spAll%d.fits'%ii))\n",
    "#     hdulist.close()\n",
    "#     hdulist = 0\n",
    "\n"
   ]
  },
  {
   "cell_type": "code",
   "execution_count": 40,
   "metadata": {},
   "outputs": [],
   "source": [
    "hdulist = fits.open(os.path.join(new_file_names,'spAll%d.fits'%0))"
   ]
  },
  {
   "cell_type": "code",
   "execution_count": 58,
   "metadata": {},
   "outputs": [],
   "source": [
    "name = os.path.join(new_file_names,'spAll%d.fits'%0)"
   ]
  },
  {
   "cell_type": "code",
   "execution_count": 18,
   "metadata": {},
   "outputs": [],
   "source": [
    "# ff = fits.open(name)\n",
    "\n",
    "# for ii in range(10):\n",
    "#     data =1*fits.getdata(name, 0).astype('float32')\n",
    "#     print(data.shape)\n",
    "#     im = tf.expand_dims(data[ii],-1)\n",
    "#     print(im)"
   ]
  },
  {
   "cell_type": "code",
   "execution_count": 34,
   "metadata": {},
   "outputs": [],
   "source": [
    "pp=hdulist['PRIMARY'].data"
   ]
  },
  {
   "cell_type": "code",
   "execution_count": 35,
   "metadata": {},
   "outputs": [
    {
     "data": {
      "text/plain": [
       "(1000, 4647)"
      ]
     },
     "execution_count": 35,
     "metadata": {},
     "output_type": "execute_result"
    }
   ],
   "source": [
    "pp.shape"
   ]
  },
  {
   "cell_type": "code",
   "execution_count": 36,
   "metadata": {},
   "outputs": [
    {
     "data": {
      "text/plain": [
       "array([ 16.493845 ,   7.7203794,   7.1141124, ..., -18.153131 ,\n",
       "       -18.152998 , -18.152863 ], dtype=float32)"
      ]
     },
     "execution_count": 36,
     "metadata": {},
     "output_type": "execute_result"
    }
   ],
   "source": [
    "pp[0]"
   ]
  },
  {
   "cell_type": "code",
   "execution_count": 105,
   "metadata": {},
   "outputs": [],
   "source": [
    "h    = fitsio.read_header(datafiles[0])\n",
    "fits = fitsio.FITS(datafiles[0])"
   ]
  },
  {
   "cell_type": "code",
   "execution_count": 50,
   "metadata": {},
   "outputs": [
    {
     "name": "stdout",
     "output_type": "stream",
     "text": [
      "3.5508 0.0001\n"
     ]
    }
   ],
   "source": [
    "# The wavelength solution is saved here\n",
    "print(h[\"COEFF0\"],h[\"COEFF1\"])"
   ]
  },
  {
   "cell_type": "code",
   "execution_count": 42,
   "metadata": {},
   "outputs": [],
   "source": [
    "wave = 10**(h[\"COEFF0\"]+h[\"COEFF1\"]*np.arange(4647))"
   ]
  },
  {
   "cell_type": "code",
   "execution_count": 20,
   "metadata": {},
   "outputs": [
    {
     "data": {
      "text/plain": [
       "(1000, 4647)"
      ]
     },
     "execution_count": 20,
     "metadata": {},
     "output_type": "execute_result"
    }
   ],
   "source": [
    "img  = fits[0].read()\n",
    "img.shape"
   ]
  },
  {
   "cell_type": "code",
   "execution_count": 106,
   "metadata": {},
   "outputs": [
    {
     "data": {
      "text/plain": [
       "\n",
       "  file: /global/project/projectdirs/cosmo/data/sdss/dr16/sdss/spectro/redux/v5_13_0/5290/spPlate-5290-55862.fits\n",
       "  mode: READONLY\n",
       "  extnum hdutype         hduname[v]\n",
       "  0      IMAGE_HDU       \n",
       "  1      IMAGE_HDU       IVAR\n",
       "  2      IMAGE_HDU       ANDMASK\n",
       "  3      IMAGE_HDU       ORMASK\n",
       "  4      IMAGE_HDU       WAVEDISP\n",
       "  5      BINARY_TBL      PLUGMAP\n",
       "  6      IMAGE_HDU       SKY"
      ]
     },
     "execution_count": 106,
     "metadata": {},
     "output_type": "execute_result"
    }
   ],
   "source": [
    "fits"
   ]
  },
  {
   "cell_type": "markdown",
   "metadata": {},
   "source": [
    "### Wavelengths\n",
    "All spectra in a plate have the same wavelength solution.\n",
    "All plates have very similar wavelength solutions.\n",
    "Instead of being saved as an array, the wavelengths of the spectra are saved in the header."
   ]
  },
  {
   "cell_type": "code",
   "execution_count": 8,
   "metadata": {},
   "outputs": [
    {
     "name": "stdout",
     "output_type": "stream",
     "text": [
      "3.5508 0.0001\n"
     ]
    }
   ],
   "source": []
  },
  {
   "cell_type": "markdown",
   "metadata": {},
   "source": [
    "### Flux, variance, and mask\n",
    "The data include the flux (in physical units), inverse variance, masks that indicate a problem with a pixel"
   ]
  },
  {
   "cell_type": "code",
   "execution_count": null,
   "metadata": {},
   "outputs": [],
   "source": []
  },
  {
   "cell_type": "code",
   "execution_count": 21,
   "metadata": {},
   "outputs": [
    {
     "data": {
      "text/plain": [
       "[<matplotlib.lines.Line2D at 0x2aaad8251040>]"
      ]
     },
     "execution_count": 21,
     "metadata": {},
     "output_type": "execute_result"
    },
    {
     "data": {
      "image/png": "[encoded data removed]",
      "text/plain": [
       "<Figure size 432x288 with 1 Axes>"
      ]
     },
     "metadata": {
      "needs_background": "light"
     },
     "output_type": "display_data"
    }
   ],
   "source": [
    "plt.plot(np.squeeze(fits[0][0,:]))"
   ]
  },
  {
   "cell_type": "code",
   "execution_count": 1,
   "metadata": {},
   "outputs": [],
   "source": [
    "import tensorflow as tf\n",
    "import tensorflow_datasets as tfds"
   ]
  },
  {
   "cell_type": "code",
   "execution_count": 2,
   "metadata": {},
   "outputs": [],
   "source": [
    "from sdss_pae.sdss_dataset import SDSS"
   ]
  },
  {
   "cell_type": "code",
   "execution_count": 3,
   "metadata": {},
   "outputs": [
    {
     "name": "stdout",
     "output_type": "stream",
     "text": [
      "\u001b[1mDownloading and preparing dataset sdss/1.0.0 (download: Unknown size, generated: Unknown size, total: Unknown size) to /global/cscratch1/sd/vboehm/Datasets/sdss/1.0.0...\u001b[0m\n"
     ]
    },
    {
     "data": {
      "application/vnd.jupyter.widget-view+json": {
       "model_id": "",
       "version_major": 2,
       "version_minor": 0
      },
      "text/plain": [
       "HBox(children=(FloatProgress(value=0.0, max=1.0), HTML(value='')))"
      ]
     },
     "metadata": {},
     "output_type": "display_data"
    },
    {
     "data": {
      "application/vnd.jupyter.widget-view+json": {
       "model_id": "",
       "version_major": 2,
       "version_minor": 0
      },
      "text/plain": [
       "HBox(children=(FloatProgress(value=1.0, bar_style='info', max=1.0), HTML(value='')))"
      ]
     },
     "metadata": {},
     "output_type": "display_data"
    },
    {
     "name": "stdout",
     "output_type": "stream",
     "text": [
      "/global/project/projectdirs/cosmo/data/sdss/dr16/sdss/spectro/redux/v5_13_0/5290/spPlate-5290-55862.fits\n",
      "/global/project/projectdirs/cosmo/data/sdss/dr16/sdss/spectro/redux/v5_13_0/10739/spPlate-10739-58255.fits\n",
      "/global/project/projectdirs/cosmo/data/sdss/dr16/sdss/spectro/redux/v5_13_0/5802/spPlate-5802-56309.fits\n",
      "/global/project/projectdirs/cosmo/data/sdss/dr16/sdss/spectro/redux/v5_13_0/4628/spPlate-4628-55646.fits\n",
      "/global/project/projectdirs/cosmo/data/sdss/dr16/sdss/spectro/redux/v5_13_0/6512/spPlate-6512-56567.fits\n",
      "/global/project/projectdirs/cosmo/data/sdss/dr16/sdss/spectro/redux/v5_13_0/5338/spPlate-5338-56002.fits\n",
      "/global/project/projectdirs/cosmo/data/sdss/dr16/sdss/spectro/redux/v5_13_0/7635/spPlate-7635-56979.fits\n",
      "/global/project/projectdirs/cosmo/data/sdss/dr16/sdss/spectro/redux/v5_13_0/5203/spPlate-5203-56034.fits\n",
      "/global/project/projectdirs/cosmo/data/sdss/dr16/sdss/spectro/redux/v5_13_0/4029/spPlate-4029-55618.fits\n",
      "/global/project/projectdirs/cosmo/data/sdss/dr16/sdss/spectro/redux/v5_13_0/3965/spPlate-3965-55302.fits\n",
      "/global/project/projectdirs/cosmo/data/sdss/dr16/sdss/spectro/redux/v5_13_0/5984/spPlate-5984-56337.fits\n",
      "/global/project/projectdirs/cosmo/data/sdss/dr16/sdss/spectro/redux/v5_13_0/10923/spPlate-10923-58527.fits\n",
      "/global/project/projectdirs/cosmo/data/sdss/dr16/sdss/spectro/redux/v5_13_0/10455/spPlate-10455-58158.fits\n",
      "/global/project/projectdirs/cosmo/data/sdss/dr16/sdss/spectro/redux/v5_13_0/3830/spPlate-3830-55574.fits\n",
      "/global/project/projectdirs/cosmo/data/sdss/dr16/sdss/spectro/redux/v5_13_0/8210/spPlate-8210-57426.fits\n",
      "/global/project/projectdirs/cosmo/data/sdss/dr16/sdss/spectro/redux/v5_13_0/5017/spPlate-5017-55715.fits\n",
      "/global/project/projectdirs/cosmo/data/sdss/dr16/sdss/spectro/redux/v5_13_0/7036/spPlate-7036-56569.fits\n",
      "/global/project/projectdirs/cosmo/data/sdss/dr16/sdss/spectro/redux/v5_13_0/6972/spPlate-6972-56426.fits\n",
      "/global/project/projectdirs/cosmo/data/sdss/dr16/sdss/spectro/redux/v5_13_0/5798/spPlate-5798-56326.fits\n",
      "/global/project/projectdirs/cosmo/data/sdss/dr16/sdss/spectro/redux/v5_13_0/9333/spPlate-9333-58076.fits\n",
      "/global/project/projectdirs/cosmo/data/sdss/dr16/sdss/spectro/redux/v5_13_0/4540/spPlate-4540-55863.fits\n",
      "/global/project/projectdirs/cosmo/data/sdss/dr16/sdss/spectro/redux/v5_13_0/8159/spPlate-8159-57064.fits\n",
      "/global/project/projectdirs/cosmo/data/sdss/dr16/sdss/spectro/redux/v5_13_0/7682/spPlate-7682-57415.fits\n",
      "/global/project/projectdirs/cosmo/data/sdss/dr16/sdss/spectro/redux/v5_13_0/4489/spPlate-4489-55545.fits\n",
      "/global/project/projectdirs/cosmo/data/sdss/dr16/sdss/spectro/redux/v5_13_0/4354/spPlate-4354-55810.fits\n",
      "/global/project/projectdirs/cosmo/data/sdss/dr16/sdss/spectro/redux/v5_13_0/6373/spPlate-6373-56298.fits\n",
      "/global/project/projectdirs/cosmo/data/sdss/dr16/sdss/spectro/redux/v5_13_0/5199/spPlate-5199-56067.fits\n",
      "/global/project/projectdirs/cosmo/data/sdss/dr16/sdss/spectro/redux/v5_13_0/5064/spPlate-5064-55864.fits\n",
      "/global/project/projectdirs/cosmo/data/sdss/dr16/sdss/spectro/redux/v5_13_0/9380/spPlate-9380-58081.fits\n",
      "/global/project/projectdirs/cosmo/data/sdss/dr16/sdss/spectro/redux/v5_13_0/6187/spPlate-6187-56244.fits\n",
      "/global/project/projectdirs/cosmo/data/sdss/dr16/sdss/spectro/redux/v5_13_0/10459/spPlate-10459-58159.fits\n",
      "/global/project/projectdirs/cosmo/data/sdss/dr16/sdss/spectro/redux/v5_13_0/3925/spPlate-3925-55338.fits\n",
      "/global/project/projectdirs/cosmo/data/sdss/dr16/sdss/spectro/redux/v5_13_0/6052/spPlate-6052-56092.fits\n",
      "/global/project/projectdirs/cosmo/data/sdss/dr16/sdss/spectro/redux/v5_13_0/11321/spPlate-11321-58425.fits\n",
      "/global/project/projectdirs/cosmo/data/sdss/dr16/sdss/spectro/redux/v5_13_0/7409/spPlate-7409-56809.fits\n",
      "/global/project/projectdirs/cosmo/data/sdss/dr16/sdss/spectro/redux/v5_13_0/11070/spPlate-11070-58452.fits\n",
      "/global/project/projectdirs/cosmo/data/sdss/dr16/sdss/spectro/redux/v5_13_0/9428/spPlate-9428-58101.fits\n",
      "/global/project/projectdirs/cosmo/data/sdss/dr16/sdss/spectro/redux/v5_13_0/6932/spPlate-6932-56397.fits\n",
      "/global/project/projectdirs/cosmo/data/sdss/dr16/sdss/spectro/redux/v5_13_0/3604/spPlate-3604-55146.fits\n",
      "/global/project/projectdirs/cosmo/data/sdss/dr16/sdss/spectro/redux/v5_13_0/4449/spPlate-4449-55544.fits\n",
      "/global/project/projectdirs/cosmo/data/sdss/dr16/sdss/spectro/redux/v5_13_0/6746/spPlate-6746-56386.fits\n",
      "/global/project/projectdirs/cosmo/data/sdss/dr16/sdss/spectro/redux/v5_13_0/8765/spPlate-8765-57307.fits\n",
      "/global/project/projectdirs/cosmo/data/sdss/dr16/sdss/spectro/redux/v5_13_0/4314/spPlate-4314-55855.fits\n",
      "/global/project/projectdirs/cosmo/data/sdss/dr16/sdss/spectro/redux/v5_13_0/5437/spPlate-5437-55973.fits\n",
      "/global/project/projectdirs/cosmo/data/sdss/dr16/sdss/spectro/redux/v5_13_0/7456/spPlate-7456-56727.fits\n",
      "/global/project/projectdirs/cosmo/data/sdss/dr16/sdss/spectro/redux/v5_13_0/4960/spPlate-4960-55747.fits\n",
      "/global/project/projectdirs/cosmo/data/sdss/dr16/sdss/spectro/redux/v5_13_0/3786/spPlate-3786-55563.fits\n",
      "/global/project/projectdirs/cosmo/data/sdss/dr16/sdss/spectro/redux/v5_13_0/5302/spPlate-5302-55896.fits\n",
      "/global/project/projectdirs/cosmo/data/sdss/dr16/sdss/spectro/redux/v5_13_0/6147/spPlate-6147-56239.fits\n",
      "/global/project/projectdirs/cosmo/data/sdss/dr16/sdss/spectro/redux/v5_13_0/3651/spPlate-3651-55247.fits\n",
      "/global/project/projectdirs/cosmo/data/sdss/dr16/sdss/spectro/redux/v5_13_0/6012/spPlate-6012-56101.fits\n",
      "/global/project/projectdirs/cosmo/data/sdss/dr16/sdss/spectro/redux/v5_13_0/6793/spPlate-6793-56430.fits\n",
      "/global/project/projectdirs/cosmo/data/sdss/dr16/sdss/spectro/redux/v5_13_0/7135/spPlate-7135-56564.fits\n",
      "/global/project/projectdirs/cosmo/data/sdss/dr16/sdss/spectro/redux/v5_13_0/9154/spPlate-9154-58013.fits\n",
      "/global/project/projectdirs/cosmo/data/sdss/dr16/sdss/spectro/redux/v5_13_0/5484/spPlate-5484-56039.fits\n",
      "/global/project/projectdirs/cosmo/data/sdss/dr16/sdss/spectro/redux/v5_13_0/4175/spPlate-4175-55680.fits\n",
      "/global/project/projectdirs/cosmo/data/sdss/dr16/sdss/spectro/redux/v5_13_0/8491/spPlate-8491-57488.fits\n",
      "/global/project/projectdirs/cosmo/data/sdss/dr16/sdss/spectro/redux/v5_13_0/6706/spPlate-6706-56385.fits\n",
      "/global/project/projectdirs/cosmo/data/sdss/dr16/sdss/spectro/redux/v5_13_0/4040/spPlate-4040-55605.fits\n",
      "/global/project/projectdirs/cosmo/data/sdss/dr16/sdss/spectro/redux/v5_13_0/7829/spPlate-7829-57011.fits\n",
      "/global/project/projectdirs/cosmo/data/sdss/dr16/sdss/spectro/redux/v5_13_0/7182/spPlate-7182-56665.fits\n",
      "/global/project/projectdirs/cosmo/data/sdss/dr16/sdss/spectro/redux/v5_13_0/10666/spPlate-10666-58440.fits\n",
      "/global/project/projectdirs/cosmo/data/sdss/dr16/sdss/spectro/redux/v5_13_0/8539/spPlate-8539-58021.fits\n",
      "/global/project/projectdirs/cosmo/data/sdss/dr16/sdss/spectro/redux/v5_13_0/4869/spPlate-4869-55896.fits\n",
      "/global/project/projectdirs/cosmo/data/sdss/dr16/sdss/spectro/redux/v5_13_0/8404/spPlate-8404-57481.fits\n",
      "/global/project/projectdirs/cosmo/data/sdss/dr16/sdss/spectro/redux/v5_13_0/3611/spPlate-3611-55128.fits\n",
      "/global/project/projectdirs/cosmo/data/sdss/dr16/sdss/spectro/redux/v5_13_0/4734/spPlate-4734-55646.fits\n",
      "/global/project/projectdirs/cosmo/data/sdss/dr16/sdss/spectro/redux/v5_13_0/7876/spPlate-7876-57002.fits\n",
      "/global/project/projectdirs/cosmo/data/sdss/dr16/sdss/spectro/redux/v5_13_0/5444/spPlate-5444-56038.fits\n",
      "/global/project/projectdirs/cosmo/data/sdss/dr16/sdss/spectro/redux/v5_13_0/11082/spPlate-11082-58508.fits\n",
      "/global/project/projectdirs/cosmo/data/sdss/dr16/sdss/spectro/redux/v5_13_0/7741/spPlate-7741-58078.fits\n",
      "/global/project/projectdirs/cosmo/data/sdss/dr16/sdss/spectro/redux/v5_13_0/6432/spPlate-6432-56309.fits\n",
      "/global/project/projectdirs/cosmo/data/sdss/dr16/sdss/spectro/redux/v5_13_0/7277/spPlate-7277-56748.fits\n",
      "/global/project/projectdirs/cosmo/data/sdss/dr16/sdss/spectro/redux/v5_13_0/9574/spPlate-9574-57811.fits\n",
      "/global/project/projectdirs/cosmo/data/sdss/dr16/sdss/spectro/redux/v5_13_0/4781/spPlate-4781-55653.fits\n",
      "/global/project/projectdirs/cosmo/data/sdss/dr16/sdss/spectro/redux/v5_13_0/5123/spPlate-5123-55841.fits\n",
      "/global/project/projectdirs/cosmo/data/sdss/dr16/sdss/spectro/redux/v5_13_0/7142/spPlate-7142-56567.fits\n",
      "/global/project/projectdirs/cosmo/data/sdss/dr16/sdss/spectro/redux/v5_13_0/8130/spPlate-8130-56933.fits\n",
      "/global/project/projectdirs/cosmo/data/sdss/dr16/sdss/spectro/redux/v5_13_0/4460/spPlate-4460-55533.fits\n",
      "/global/project/projectdirs/cosmo/data/sdss/dr16/sdss/spectro/redux/v5_13_0/7836/spPlate-7836-57278.fits\n",
      "/global/project/projectdirs/cosmo/data/sdss/dr16/sdss/spectro/redux/v5_13_0/5170/spPlate-5170-56063.fits\n",
      "/global/project/projectdirs/cosmo/data/sdss/dr16/sdss/spectro/redux/v5_13_0/6293/spPlate-6293-56561.fits\n",
      "/global/project/projectdirs/cosmo/data/sdss/dr16/sdss/spectro/redux/v5_13_0/7701/spPlate-7701-57356.fits\n",
      "/global/project/projectdirs/cosmo/data/sdss/dr16/sdss/spectro/redux/v5_13_0/4508/spPlate-4508-55600.fits\n",
      "/global/project/projectdirs/cosmo/data/sdss/dr16/sdss/spectro/redux/v5_13_0/8824/spPlate-8824-58162.fits\n",
      "/global/project/projectdirs/cosmo/data/sdss/dr16/sdss/spectro/redux/v5_13_0/5999/spPlate-5999-56089.fits\n",
      "/global/project/projectdirs/cosmo/data/sdss/dr16/sdss/spectro/redux/v5_13_0/7515/spPlate-7515-56781.fits\n",
      "/global/project/projectdirs/cosmo/data/sdss/dr16/sdss/spectro/redux/v5_13_0/3845/spPlate-3845-55323.fits\n",
      "/global/project/projectdirs/cosmo/data/sdss/dr16/sdss/spectro/redux/v5_13_0/5864/spPlate-5864-56047.fits\n",
      "/global/project/projectdirs/cosmo/data/sdss/dr16/sdss/spectro/redux/v5_13_0/6206/spPlate-6206-56245.fits\n",
      "/global/project/projectdirs/cosmo/data/sdss/dr16/sdss/spectro/redux/v5_13_0/8225/spPlate-8225-57375.fits\n",
      "/global/project/projectdirs/cosmo/data/sdss/dr16/sdss/spectro/redux/v5_13_0/9348/spPlate-9348-58017.fits\n",
      "/global/project/projectdirs/cosmo/data/sdss/dr16/sdss/spectro/redux/v5_13_0/4555/spPlate-4555-56189.fits\n",
      "/global/project/projectdirs/cosmo/data/sdss/dr16/sdss/spectro/redux/v5_13_0/10239/spPlate-10239-58142.fits\n",
      "/global/project/projectdirs/cosmo/data/sdss/dr16/sdss/spectro/redux/v5_13_0/8871/spPlate-8871-57519.fits\n",
      "/global/project/projectdirs/cosmo/data/sdss/dr16/sdss/spectro/redux/v5_13_0/7697/spPlate-7697-57574.fits\n",
      "/global/project/projectdirs/cosmo/data/sdss/dr16/sdss/spectro/redux/v5_13_0/9213/spPlate-9213-57712.fits\n",
      "/global/project/projectdirs/cosmo/data/sdss/dr16/sdss/spectro/redux/v5_13_0/4420/spPlate-4420-55883.fits\n",
      "/global/project/projectdirs/cosmo/data/sdss/dr16/sdss/spectro/redux/v5_13_0/10462/spPlate-10462-58158.fits\n",
      "/global/project/projectdirs/cosmo/data/sdss/dr16/sdss/spectro/redux/v5_13_0/11346/spPlate-11346-58429.fits\n",
      "Shuffling and writing examples to /global/cscratch1/sd/vboehm/Datasets/sdss/1.0.0.incompleteZFLTUW/sdss-train.tfrecord\n"
     ]
    },
    {
     "data": {
      "application/vnd.jupyter.widget-view+json": {
       "model_id": "06273a96165c4530a7f9d0df55dd3d68",
       "version_major": 2,
       "version_minor": 0
      },
      "text/plain": [
       "HBox(children=(FloatProgress(value=0.0, max=100000.0), HTML(value='')))"
      ]
     },
     "metadata": {},
     "output_type": "display_data"
    },
    {
     "name": "stdout",
     "output_type": "stream",
     "text": [
      "\u001b[1mDataset sdss downloaded and prepared to /global/cscratch1/sd/vboehm/Datasets/sdss/1.0.0. Subsequent calls will reuse this data.\u001b[0m\n"
     ]
    }
   ],
   "source": [
    "ds, info =tfds.load('SDSS', data_dir='/global/cscratch1/sd/vboehm/Datasets/',with_info=True)"
   ]
  },
  {
   "cell_type": "code",
   "execution_count": 4,
   "metadata": {},
   "outputs": [
    {
     "data": {
      "text/plain": [
       "tfds.core.DatasetInfo(\n",
       "    name='sdss',\n",
       "    version=1.0.0,\n",
       "    description='selected features from SDSS dataset in',\n",
       "    homepage='https://dataset-homepage/',\n",
       "    features=FeaturesDict({\n",
       "        'and_mask': Tensor(shape=(None, 1), dtype=tf.int32),\n",
       "        'coeffs': Tensor(shape=(3, 1), dtype=tf.float32),\n",
       "        'flux': Tensor(shape=(None, 1), dtype=tf.float32),\n",
       "        'inv_var': Tensor(shape=(None, 1), dtype=tf.float32),\n",
       "        'label': ClassLabel(shape=(), dtype=tf.int64, num_classes=3),\n",
       "        'redshift': tf.float32,\n",
       "    }),\n",
       "    total_num_examples=10000,\n",
       "    splits={\n",
       "        'train': 10000,\n",
       "    },\n",
       "    supervised_keys=None,\n",
       "    citation=\"\"\"\"\"\",\n",
       "    redistribution_info=,\n",
       ")"
      ]
     },
     "execution_count": 4,
     "metadata": {},
     "output_type": "execute_result"
    }
   ],
   "source": [
    "info"
   ]
  },
  {
   "cell_type": "code",
   "execution_count": 5,
   "metadata": {},
   "outputs": [
    {
     "data": {
      "text/plain": [
       "<TakeDataset shapes: {and_mask: (None, 1), coeffs: (3, 1), flux: (None, 1), inv_var: (None, 1), label: (), redshift: ()}, types: {and_mask: tf.int32, coeffs: tf.float32, flux: tf.float32, inv_var: tf.float32, label: tf.int64, redshift: tf.float32}>"
      ]
     },
     "execution_count": 5,
     "metadata": {},
     "output_type": "execute_result"
    }
   ],
   "source": [
    "ds['train'].take(1)"
   ]
  },
  {
   "cell_type": "code",
   "execution_count": 6,
   "metadata": {},
   "outputs": [
    {
     "name": "stdout",
     "output_type": "stream",
     "text": [
      "1.514166 1\n",
      "0.56254554 1\n",
      "0.8726299 2\n"
     ]
    }
   ],
   "source": [
    "ii = 0\n",
    "for image in tfds.as_numpy(ds['train']):\n",
    "    if ii<3:\n",
    "        print(image['redshift'], image['label'])\n",
    "        ii+=1\n"
   ]
  },
  {
   "cell_type": "code",
   "execution_count": null,
   "metadata": {},
   "outputs": [],
   "source": []
  }
 ],
 "metadata": {
  "kernelspec": {
   "display_name": "tf22",
   "language": "python",
   "name": "tf22"
  },
  "language_info": {
   "codemirror_mode": {
    "name": "ipython",
    "version": 3
   },
   "file_extension": ".py",
   "mimetype": "text/x-python",
   "name": "python",
   "nbconvert_exporter": "python",
   "pygments_lexer": "ipython3",
   "version": "3.8.3"
  }
 },
 "nbformat": 4,
 "nbformat_minor": 4
}
