{
 "cells": [
  {
   "cell_type": "code",
   "execution_count": 1,
   "metadata": {},
   "outputs": [],
   "source": [
    "import fitsio\n",
    "import os\n",
    "import os.path\n",
    "import matplotlib.pyplot as plt\n",
    "import numpy as np\n",
    "import tqdm\n",
    "import tensorflow as tf\n",
    "from astropy.io import fits\n",
    "import astropy\n",
    "import json"
   ]
  },
  {
   "cell_type": "code",
   "execution_count": 2,
   "metadata": {},
   "outputs": [],
   "source": [
    "##"
   ]
  },
  {
   "cell_type": "markdown",
   "metadata": {},
   "source": [
    "Sloan data at NERSC is stored in this directory"
   ]
  },
  {
   "cell_type": "code",
   "execution_count": 3,
   "metadata": {},
   "outputs": [],
   "source": [
    "sdss_dir = \"/global/project/projectdirs/cosmo/data/sdss/dr16/sdss/spectro/redux/v5_13_0/\""
   ]
  },
  {
   "cell_type": "markdown",
   "metadata": {},
   "source": [
    "Data is in subdirectories.\n",
    "\n",
    "Spectra are organied by plate.\n",
    "\n",
    "For the moment work with \"combined\" spectra.  A single object may be observed several times and the spectrograph has blue and red channels.  These data are available but the simple thing is to work where these data are combined to make one spectrum per object.\n",
    "\n",
    "The combined spectra for the plate are in fits files with the name \"spPlate*.fits\n",
    "\n",
    "see https://data.sdss.org/datamodel/files/BOSS_SPECTRO_REDUX/RUN2D/PLATE4/spPlate.html"
   ]
  },
  {
   "cell_type": "code",
   "execution_count": 4,
   "metadata": {},
   "outputs": [],
   "source": [
    "# save the names of the data and redshift files\n",
    "datafiles_wz=[]\n",
    "datafiles_nz=[]\n",
    "z_files=[]\n",
    "for dirpath, dirnames, filenames in os.walk(sdss_dir):\n",
    "    for filename in [f for f in filenames if f.startswith(\"spPlate\")]:\n",
    "        data_file   = os.path.join(dirpath, filename)\n",
    "        file_ending = filename[7::]\n",
    "        z_file      = os.path.join(dirpath,'v5_13_0','spZbest'+file_ending)\n",
    "        if os.path.exists(z_file):\n",
    "            z_files.append(z_file)\n",
    "            datafiles_wz.append(os.path.join(dirpath, data_file))\n",
    "        else:\n",
    "            datafiles_nz.append(os.path.join(dirpath, data_file))\n",
    "            print(z_file)\n",
    "        "
   ]
  },
  {
   "cell_type": "code",
   "execution_count": 5,
   "metadata": {},
   "outputs": [],
   "source": [
    "len(datafiles_wz)*2/60/60\n",
    "import os"
   ]
  },
  {
   "cell_type": "code",
   "execution_count": 14,
   "metadata": {},
   "outputs": [],
   "source": [
    "local_path = '/global/cscratch1/sd/vboehm/Datasets/SDSS_BOSS_data/'\n"
   ]
  },
  {
   "cell_type": "code",
   "execution_count": 7,
   "metadata": {},
   "outputs": [],
   "source": [
    "with open(os.path.join(local_path,'datafiles.txt'), 'w') as file:\n",
    "    json.dump(datafiles_wz, file)"
   ]
  },
  {
   "cell_type": "code",
   "execution_count": 8,
   "metadata": {},
   "outputs": [],
   "source": [
    "with open(os.path.join(local_path,'z_files.txt'), 'w') as file:\n",
    "    json.dump(z_files, file)"
   ]
  },
  {
   "cell_type": "code",
   "execution_count": 9,
   "metadata": {},
   "outputs": [],
   "source": [
    "with open(os.path.join(local_path,'z_files.txt'), 'r') as infile:\n",
    "    for line in infile:\n",
    "        z_files = json.loads(line)\n"
   ]
  },
  {
   "cell_type": "markdown",
   "metadata": {},
   "source": [
    "## Look at one file"
   ]
  },
  {
   "cell_type": "code",
   "execution_count": 10,
   "metadata": {},
   "outputs": [],
   "source": [
    "h    = fitsio.read_header(z_files[0])"
   ]
  },
  {
   "cell_type": "code",
   "execution_count": 11,
   "metadata": {},
   "outputs": [],
   "source": [
    "h    = fitsio.FITS(z_files[0])"
   ]
  },
  {
   "cell_type": "code",
   "execution_count": 25,
   "metadata": {},
   "outputs": [
    {
     "ename": "KeyError",
     "evalue": "\"Keyword 'BOSS_SPECOBJ_ID' not found.\"",
     "output_type": "error",
     "traceback": [
      "\u001b[0;31m---------------------------------------------------------------------------\u001b[0m",
      "\u001b[0;31mKeyError\u001b[0m                                  Traceback (most recent call last)",
      "\u001b[0;32m<ipython-input-25-6603db0c62da>\u001b[0m in \u001b[0;36m<module>\u001b[0;34m\u001b[0m\n\u001b[1;32m      1\u001b[0m \u001b[0mhdulist\u001b[0m \u001b[0;34m=\u001b[0m \u001b[0mfits\u001b[0m\u001b[0;34m.\u001b[0m\u001b[0mopen\u001b[0m\u001b[0;34m(\u001b[0m\u001b[0mos\u001b[0m\u001b[0;34m.\u001b[0m\u001b[0mpath\u001b[0m\u001b[0;34m.\u001b[0m\u001b[0mjoin\u001b[0m\u001b[0;34m(\u001b[0m\u001b[0msdss_dir\u001b[0m\u001b[0;34m,\u001b[0m\u001b[0;34m'spAll-v5_13_0.fits'\u001b[0m\u001b[0;34m)\u001b[0m\u001b[0;34m)\u001b[0m\u001b[0;34m\u001b[0m\u001b[0;34m\u001b[0m\u001b[0m\n\u001b[0;32m----> 2\u001b[0;31m \u001b[0mprint\u001b[0m\u001b[0;34m(\u001b[0m\u001b[0mhdulist\u001b[0m\u001b[0;34m[\u001b[0m\u001b[0;36m1\u001b[0m\u001b[0;34m]\u001b[0m\u001b[0;34m.\u001b[0m\u001b[0mheader\u001b[0m\u001b[0;34m[\u001b[0m\u001b[0;34m'BOSS_SPECOBJ_ID'\u001b[0m\u001b[0;34m]\u001b[0m\u001b[0;34m)\u001b[0m\u001b[0;34m\u001b[0m\u001b[0;34m\u001b[0m\u001b[0m\n\u001b[0m",
      "\u001b[0;32m~/.conda/envs/tf22/lib/python3.8/site-packages/astropy/io/fits/header.py\u001b[0m in \u001b[0;36m__getitem__\u001b[0;34m(self, key)\u001b[0m\n\u001b[1;32m    149\u001b[0m             \u001b[0mkeyword\u001b[0m \u001b[0;34m=\u001b[0m \u001b[0mkey\u001b[0m\u001b[0;34m\u001b[0m\u001b[0;34m\u001b[0m\u001b[0m\n\u001b[1;32m    150\u001b[0m \u001b[0;34m\u001b[0m\u001b[0m\n\u001b[0;32m--> 151\u001b[0;31m         \u001b[0mcard\u001b[0m \u001b[0;34m=\u001b[0m \u001b[0mself\u001b[0m\u001b[0;34m.\u001b[0m\u001b[0m_cards\u001b[0m\u001b[0;34m[\u001b[0m\u001b[0mself\u001b[0m\u001b[0;34m.\u001b[0m\u001b[0m_cardindex\u001b[0m\u001b[0;34m(\u001b[0m\u001b[0mkey\u001b[0m\u001b[0;34m)\u001b[0m\u001b[0;34m]\u001b[0m\u001b[0;34m\u001b[0m\u001b[0;34m\u001b[0m\u001b[0m\n\u001b[0m\u001b[1;32m    152\u001b[0m \u001b[0;34m\u001b[0m\u001b[0m\n\u001b[1;32m    153\u001b[0m         \u001b[0;32mif\u001b[0m \u001b[0mcard\u001b[0m\u001b[0;34m.\u001b[0m\u001b[0mfield_specifier\u001b[0m \u001b[0;32mis\u001b[0m \u001b[0;32mnot\u001b[0m \u001b[0;32mNone\u001b[0m \u001b[0;32mand\u001b[0m \u001b[0mkeyword\u001b[0m \u001b[0;34m==\u001b[0m \u001b[0mcard\u001b[0m\u001b[0;34m.\u001b[0m\u001b[0mrawkeyword\u001b[0m\u001b[0;34m:\u001b[0m\u001b[0;34m\u001b[0m\u001b[0;34m\u001b[0m\u001b[0m\n",
      "\u001b[0;32m~/.conda/envs/tf22/lib/python3.8/site-packages/astropy/io/fits/header.py\u001b[0m in \u001b[0;36m_cardindex\u001b[0;34m(self, key)\u001b[0m\n\u001b[1;32m   1703\u001b[0m         \u001b[0;32mif\u001b[0m \u001b[0mkeyword\u001b[0m \u001b[0;32mand\u001b[0m \u001b[0;32mnot\u001b[0m \u001b[0mindices\u001b[0m\u001b[0;34m:\u001b[0m\u001b[0;34m\u001b[0m\u001b[0;34m\u001b[0m\u001b[0m\n\u001b[1;32m   1704\u001b[0m             \u001b[0;32mif\u001b[0m \u001b[0mlen\u001b[0m\u001b[0;34m(\u001b[0m\u001b[0mkeyword\u001b[0m\u001b[0;34m)\u001b[0m \u001b[0;34m>\u001b[0m \u001b[0mKEYWORD_LENGTH\u001b[0m \u001b[0;32mor\u001b[0m \u001b[0;34m'.'\u001b[0m \u001b[0;32min\u001b[0m \u001b[0mkeyword\u001b[0m\u001b[0;34m:\u001b[0m\u001b[0;34m\u001b[0m\u001b[0;34m\u001b[0m\u001b[0m\n\u001b[0;32m-> 1705\u001b[0;31m                 \u001b[0;32mraise\u001b[0m \u001b[0mKeyError\u001b[0m\u001b[0;34m(\u001b[0m\u001b[0;34mf\"Keyword {keyword!r} not found.\"\u001b[0m\u001b[0;34m)\u001b[0m\u001b[0;34m\u001b[0m\u001b[0;34m\u001b[0m\u001b[0m\n\u001b[0m\u001b[1;32m   1706\u001b[0m             \u001b[0;32melse\u001b[0m\u001b[0;34m:\u001b[0m\u001b[0;34m\u001b[0m\u001b[0;34m\u001b[0m\u001b[0m\n\u001b[1;32m   1707\u001b[0m                 \u001b[0;31m# Maybe it's a RVKC?\u001b[0m\u001b[0;34m\u001b[0m\u001b[0;34m\u001b[0m\u001b[0;34m\u001b[0m\u001b[0m\n",
      "\u001b[0;31mKeyError\u001b[0m: \"Keyword 'BOSS_SPECOBJ_ID' not found.\""
     ]
    }
   ],
   "source": [
    "hdulist = fits.open(os.path.join(sdss_dir,'spAll-v5_13_0.fits'))\n",
    "print(hdulist[0].header['BOSS_SPECOBJ_ID'])"
   ]
  },
  {
   "cell_type": "code",
   "execution_count": 20,
   "metadata": {},
   "outputs": [
    {
     "name": "stdout",
     "output_type": "stream",
     "text": [
      "0\n",
      "SIMPLE  =                    T / conforms to FITS standard                      BITPIX  =                  -32 / array data type                                NAXIS   =                    2 / number of array dimensions                     NAXIS1  =                 4647 /                                                NAXIS2  =                 1000 /                                                EXTEND  =                    T /                                                TELESCOP= 'SDSS 2.5-M'         / Sloan Digital Sky Survey                       NGUIDE  =              41.0000 / Number of guider frames during exposure        SEEING20=              1.77637 / 20% seeing during exposure (arcsec)            SEEING50=              1.92245 / 50% seeing during exposure (arcsec)            SEEING80=              2.09064 / 80% seeing during exposure (arcsec)            RMSOFF20=      0.0113732020000 / 20% RMS offset of guide fibers (arcsec)        RMSOFF50=      0.0192252700000 / 50% RMS offset of guide fibers (arcsec)        RMSOFF80=      0.0290088500000 / 80% RMS offset of guide fibers (arcsec)        DAQVER  = '1.3.1   '                                                            CAMDAQ  = '1.5.0:38'                                                            SUBFRAME= '' / the subframe readout command                                     ERRCNT  = 'NONE    '                                                            SYNCERR = 'NONE    '                                                            SLINES  = 'NONE    '                                                            PIXERR  = 'NONE    '                                                            PLINES  = 'NONE    '                                                            PFERR   = 'NONE    '                                                            DIDFLUSH=                    T / CCD was flushed before integration             FLAVOR  = 'science '           / exposure type, SDSS spectro style              BOSSVER = '2       '           / ICC version                                    MJD     =                55862 / APO fMJD day at start of exposure              MJDLIST = '55859 55862'        /                                                TAI-BEG =        4826256569.00 / MJD(TAI) seconds at start of integration       DATE-OBS= '2011-10-25T10:49:29' / TAI date at start of integration              NAME    = '5290-55859-01'      / The name of the currently loaded plate         PLATEID =                 5290 / The currently loaded plate                     TILEID  =                13873 /Cartridge used in this plugging                 CARTID  =                   17 /Cartridge used in this plugging                 MAPID   =                    1 / The mapping version of the loaded plate        POINTING= 'A       '           / The currently specified pointing               OBJSYS  = 'ICRS    '           / The TCC objSys                                 RA      =           132.530397 / RA of telescope boresight (deg)                DEC     =            14.892437 / Dec of telescope boresight (deg)               EQUINOX =              2000.00 /                                                RADECSYS= 'FK5     '           /                                                RADEG   =             132.5316 / RA of telescope pointing(deg)                  DECDEG  =               14.888 / Dec of telescope pointing (deg)                ROTTYPE = 'Obj     '           / Rotator request type                           ROTPOS  =                  0.0 / Rotator request position (deg)                 BOREOFFX=                  0.0 / TCC Boresight offset, deg                      BOREOFFY=                  0.0 / TCC Boresight offset, deg                      ARCOFFX =            -0.001163 / TCC ObjArcOff, deg                             ARCOFFY =             0.004437 / TCC ObjArcOff, deg                             OBJOFFX =                  0.0 / TCC ObjOff, deg                                OBJOFFY =                  0.0 / TCC ObjOff, deg                                CALOFFX =                  0.0 / TCC CalibOff, deg                              CALOFFY =                  0.0 / TCC CalibOff, deg                              CALOFFR =                  0.0 / TCC CalibOff, deg                              GUIDOFFX=                  0.0 / TCC GuideOff, deg                              GUIDOFFY=                  0.0 / TCC GuideOff, deg                              GUIDOFFR=              0.02354 / TCC GuideOff, deg                              AZ      =              69.4041 / Azimuth axis pos. (approx, deg)                ALT     =              52.6934 / Altitude axis pos. (approx, deg)               AIRMASS =              1.32292 /                                                FOCUS   =               587.29 / User-specified focus offset (um)               M2PISTON=             -2800.41 / TCC SecOrient                                  M2XTILT =                12.99 / TCC SecOrient                                  M2YTILT =    8.050000000000001 / TCC SecOrient                                  M2XTRAN =               -60.14 / TCC SecOrient                                  M2YTRAN =                85.58 / TCC SecOrient                                  M1PISTON=             -5526.89 / TCC PrimOrient                                 M1XTILT =                  0.0 / TCC PrimOrient                                 M1YTILT =                  0.0 / TCC PrimOrient                                 M1XTRAN =               611.86 / TCC PrimOrient                                 M1YTRAN =              1325.18 / TCC PrimOrient                                 SCALE   =              1.00056 / User-specified scale factor                    PRESSURE=              21.5300 / pressure                                       WINDD   =        245.330000648 / windd                                          WINDS   =              11.5200 / winds                                          GUSTD   =                270.1 / gustd                                          GUSTS   =        16.4300000381 / gusts                                          AIRTEMP =              4.91000 / airTempPT                                      DEWPOINT=             0.940000 / dpTempPT                                       DPERRPT = 'NaN     '           / failed to fetch dpErrPT                        HUMIDITY=        60.9999996948 / humidity                                       DUSTA   =              24992.2 / dusta                                          DUSTB   =              330.900 / dustb                                          WINDD25M=                 22.4 / windd25m                                       WINDS25M=                 14.2 / winds25m                                       GUIDER1 = 'proc-gimg-0031.fits' / The first guider image                        SLITID1 =                   17 / Normalized slithead ID. sp1&2 should match.    SLITID2 =                   17 / Normalized slithead ID. sp1&2 should match.    GUIDERN = 'proc-gimg-0066.fits' / The last guider image                         COLLA   =                20935 / The position of the A collimator motor         COLLB   =                21284 / The position of the B collimator motor         COLLC   =                17865 / The position of the C collimator motor         HARTMANN= 'Out     '           / Hartmanns: Left,Right,Out                      MC1HUMHT=                 34.6 / sp1 mech Hartmann humidity, %                  MC1HUMCO=                 10.1 / sp1 mech Central optics humidity, %            MC1TEMDN=                  9.4 / sp1 mech Median temp, C                        MC1THT  =                  9.4 / sp1 mech Hartmann Top Temp, C                  MC1TRCB =                  9.1 / sp1 mech Red Cam Bottom Temp, C                MC1TRCT =                 10.1 / sp1 mech Red Cam Top Temp, C                   MC1TBCB =                  9.4 / sp1 mech Blue Cam Bottom Temp, C               MC1TBCT =    9.699999999999999 / sp1 mech Blue Cam Top Temp, C                  NEXP    =                   40 / Number of exposures in this file               BESTEXP =               135460 /                                                EXPID001= 'b1-00135458-00135457-00135456' / ID string for exposure 1            EXPID002= 'b1-00135459-00135457-00135456' / ID string for exposure 2            EXPID003= 'b1-00135460-00135457-00135456' / ID string for exposure 3            EXPID004= 'b1-00135461-00135457-00135456' / ID string for exposure 4            EXPID005= 'b1-00135462-00135457-00135456' / ID string for exposure 5            EXPID006= 'b1-00135667-00135666-00135665' / ID string for exposure 6            EXPID007= 'b1-00135668-00135666-00135665' / ID string for exposure 7            EXPID008= 'b1-00135669-00135666-00135665' / ID string for exposure 8            EXPID009= 'b1-00135670-00135666-00135665' / ID string for exposure 9            EXPID010= 'b1-00135671-00135666-00135665' / ID string for exposure 10           EXPID011= 'b2-00135458-00135457-00135456' / ID string for exposure 11           EXPID012= 'b2-00135459-00135457-00135456' / ID string for exposure 12           EXPID013= 'b2-00135460-00135457-00135456' / ID string for exposure 13           EXPID014= 'b2-00135461-00135457-00135456' / ID string for exposure 14           EXPID015= 'b2-00135462-00135457-00135456' / ID string for exposure 15           EXPID016= 'b2-00135667-00135666-00135665' / ID string for exposure 16           EXPID017= 'b2-00135668-00135666-00135665' / ID string for exposure 17           EXPID018= 'b2-00135669-00135666-00135665' / ID string for exposure 18           EXPID019= 'b2-00135670-00135666-00135665' / ID string for exposure 19           EXPID020= 'b2-00135671-00135666-00135665' / ID string for exposure 20           EXPID021= 'r1-00135458-00135457-00135456' / ID string for exposure 21           EXPID022= 'r1-00135459-00135457-00135456' / ID string for exposure 22           EXPID023= 'r1-00135460-00135457-00135456' / ID string for exposure 23           EXPID024= 'r1-00135461-00135457-00135456' / ID string for exposure 24           EXPID025= 'r1-00135462-00135457-00135456' / ID string for exposure 25           EXPID026= 'r1-00135667-00135666-00135665' / ID string for exposure 26           EXPID027= 'r1-00135668-00135666-00135665' / ID string for exposure 27           EXPID028= 'r1-00135669-00135666-00135665' / ID string for exposure 28           EXPID029= 'r1-00135670-00135666-00135665' / ID string for exposure 29           EXPID030= 'r1-00135671-00135666-00135665' / ID string for exposure 30           EXPID031= 'r2-00135458-00135457-00135456' / ID string for exposure 31           EXPID032= 'r2-00135459-00135457-00135456' / ID string for exposure 32           EXPID033= 'r2-00135460-00135457-00135456' / ID string for exposure 33           EXPID034= 'r2-00135461-00135457-00135456' / ID string for exposure 34           EXPID035= 'r2-00135462-00135457-00135456' / ID string for exposure 35           EXPID036= 'r2-00135667-00135666-00135665' / ID string for exposure 36           EXPID037= 'r2-00135668-00135666-00135665' / ID string for exposure 37           EXPID038= 'r2-00135669-00135666-00135665' / ID string for exposure 38           EXPID039= 'r2-00135670-00135666-00135665' / ID string for exposure 39           EXPID040= 'r2-00135671-00135666-00135665' / ID string for exposure 40           NEXP_B1 =                   10 / b1 camera number of exposures                  NEXP_B2 =                   10 / b2 camera number of exposures                  NEXP_R1 =                   10 / r1 camera number of exposures                  NEXP_R2 =                   10 / r2 camera number of exposures                  EXPT_B1 =              9008.40 / b1 camera exposure time (seconds)              EXPT_B2 =              9008.54 / b2 camera exposure time (seconds)              EXPT_R1 =              9008.40 / r1 camera exposure time (seconds)              EXPT_R2 =              9008.54 / r2 camera exposure time (seconds)              EXPTIME =              9008.40 / Minimum of exposure times for all cameras      SPCOADD = 'Sat Mar 16 15:38:42 2019' / SPCOADD finished                         SHOPETIM=                 0.71 / open shutter transit time, s                   SHCLOTIM=   0.5600000000000001 / close shutter transit time, s                  AUTHOR  = 'Scott Burles & David Schlegel' /                                     VERSIDL = '7.1.1   '           / Version of IDL                                 VERSUTIL= 'v5_5_17 '           / Version of idlutils                            VERSREAD= 'v5_13_0 '           / Version of idlspec2d for pre-processing raw datVERS2D  = 'v5_13_0 '           / Version of idlspec2d for 2D reduction          VERSCOMB= 'v5_13_0 '           / Version of idlspec2d for combining multiple speVERSLOG = 'trunk 26113'        / Version of SPECLOG product                     VERSFLAT= 'v1_31   '           / Version of SPECFLAT product                    TWOPHASE=                    F /                                                RDNOISE0=              2.01500 /CCD read noise amp 0 [electrons]                BADPIXEL= 'badpixels-55800-b1.fits.gz' /                                        RUN2D   = 'v5_13_0 '           / Spectro-2D reduction name                      TAI-END =        4826519213.84 /                                                REDDEN01=             0.133500 / Median extinction in u-band                    REDDEN02=            0.0982000 / Median extinction in g-band                    REDDEN03=            0.0712000 / Median extinction in r-band                    REDDEN04=            0.0540000 / Median extinction in i-band                    REDDEN05=            0.0383000 / Median extinction in z-band                    XSIGMA  =              1.13814 /                                                XSIGMIN =              1.02963 /                                                XSIGMAX =              1.26027 /                                                WSIGMA  =              1.11096 /                                                WSIGMIN =              1.03894 /                                                WSIGMAX =              1.17948 /                                                PLUGFILE= 'plPlugMapM-5290-55859-01.par' /                                      LAMPLIST= 'lamphgcdne.dat'     /                                                SKYLIST = 'skylines.dat'       /                                                HELIO_RV=       -29.9119343098 / Heliocentric correction (added to velocities)  VACUUM  =                    T / Wavelengths are in vacuum                      SFLATTEN=                    T / Superflat has been applied                     PSFSKY  =                    3 / Order of PSF skysubtraction                    SKYCHI2 =        1.17340170763 / Mean chi^2 of sky-subtraction                  SCHI2MIN=        1.00116759389 /                                                SCHI2MAX=        1.65820204445 /                                                PREJECT =             0.200000 / Profile area rejection threshold               SPEC1_G =              17.1784 / (S/N)^2 for spec  1 at mag 21.20               SN2EXT1G=              17.1784 / Extinction corrected (S/N)^2                   SPEC1_R =              45.4359 / (S/N)^2 for spec  1 at mag 20.20               SN2EXT1R=              45.4359 / Extinction corrected (S/N)^2                   SPEC1_I =              31.1600 / (S/N)^2 for spec  1 at mag 20.20               SN2EXT1I=              31.1600 / Extinction corrected (S/N)^2                   SPEC2_G =              14.5025 / (S/N)^2 for spec  2 at mag 21.20               SN2EXT2G=              14.5025 / Extinction corrected (S/N)^2                   SPEC2_R =              42.6587 / (S/N)^2 for spec  2 at mag 20.20               SN2EXT2R=              42.6587 / Extinction corrected (S/N)^2                   SPEC2_I =              29.1560 / (S/N)^2 for spec  2 at mag 20.20               SN2EXT2I=              29.1560 / Extinction corrected (S/N)^2                   NSTD    =                   20 / Number of (good) std stars                     GOFFSTD =           0.00781345 / Spectrophoto offset for std stars in G-band    GRMSSTD =            0.0529295 / Spectrophoto RMS for std stars in G-band       ROFFSTD =         -0.000626564 / Spectrophoto offset for std stars in R-band    RRMSSTD =            0.0390068 / Spectrophoto RMS for std stars in R-band       IOFFSTD =          -0.00336170 / Spectrophoto offset for std stars in I-band    IRMSSTD =            0.0656073 / Spectrophoto RMS for std stars in I-band       GROFFSTD=           0.00887585 / Spectrophoto offset for std stars in (GR)      GRRMSSTD=            0.0648487 / Spectrophoto RMS for std stars in (GR)         RIOFFSTD=          0.000395775 / Spectrophoto offset for std stars in (RI)      RIRMSSTD=            0.0376645 / Spectrophoto RMS for std stars in (RI)         LOWREJ  =                    4 / Extraction: low rejection                      HIGHREJ =                    4 / Extraction: high rejection                     SCATPOLY=                    0 / Extraction: Order of scattered light polynomialPROFTYPE=                    1 / Extraction profile: 1=Gaussian                 NFITPOLY=                    1 / Extraction: Number of parameters in each profilXCHI2   =              0.00000 / Extraction: Mean chi^2                         NWORDER =                    2 / Linear-log10 coefficients                      WFITTYPE= 'LOG-LINEAR'         / Linear-log10 dispersion                        COEFF0  =        3.55080000000 / Central wavelength (log10) of first pixel      COEFF1  =    0.000100000000000 / Log10 dispersion per pixel                     UNAME   = 'kp114   '           /                                                FBADPIX =            0.0542344 / Fraction of bad pixels                         FBADPIX1=            0.0576798 / Fraction of bad pixels on spectro-1            FBADPIX2=            0.0508027 / Fraction of bad pixels on spectro-2            WAT0_001= 'system=linear'      /                                                WAT1_001= 'wtype=linear label=Wavelength units=Angstroms' /                     CRVAL1  =        3.55080000000 / Central wavelength (log10) of first pixel      CD1_1   =    0.000100000000000 / Log10 dispersion per pixel                     CRPIX1  =                    1 / Starting pixel (1-indexed)                     CTYPE1  = 'LINEAR  '           /                                                DC-FLAG =                    1 / Log-linear flag                                BUNIT   = '1E-17 erg/cm^2/s/Ang' /                                              END                                                                                                                                                                                                                                                                                                                                                                                                                                                                                                                                                                                                                                                                                                                                                                                                                                                                                                                                                                                                                                                                                                                                                                                                                                                                                                                                                                                                             \n",
      "1E-17 erg/cm^2/s/Ang\n"
     ]
    },
    {
     "ename": "TypeError",
     "evalue": "'int' object is not subscriptable",
     "output_type": "error",
     "traceback": [
      "\u001b[0;31m---------------------------------------------------------------------------\u001b[0m",
      "\u001b[0;31mTypeError\u001b[0m                                 Traceback (most recent call last)",
      "\u001b[0;32m<ipython-input-20-09631ca5b632>\u001b[0m in \u001b[0;36m<module>\u001b[0;34m\u001b[0m\n\u001b[1;32m     20\u001b[0m \u001b[0;34m\u001b[0m\u001b[0m\n\u001b[1;32m     21\u001b[0m     \u001b[0;31m#hdulist = fits.open(z_file)\u001b[0m\u001b[0;34m\u001b[0m\u001b[0;34m\u001b[0m\u001b[0;34m\u001b[0m\u001b[0m\n\u001b[0;32m---> 22\u001b[0;31m     \u001b[0mzstruc\u001b[0m  \u001b[0;34m=\u001b[0m \u001b[0mhdulist\u001b[0m\u001b[0;34m[\u001b[0m\u001b[0;36m1\u001b[0m\u001b[0;34m]\u001b[0m\u001b[0;34m.\u001b[0m\u001b[0mdata\u001b[0m\u001b[0;34m\u001b[0m\u001b[0;34m\u001b[0m\u001b[0m\n\u001b[0m\u001b[1;32m     23\u001b[0m     \u001b[0mprint\u001b[0m\u001b[0;34m(\u001b[0m\u001b[0mz_struc\u001b[0m\u001b[0;34m[\u001b[0m\u001b[0;34m'z'\u001b[0m\u001b[0;34m]\u001b[0m\u001b[0;34m)\u001b[0m\u001b[0;34m\u001b[0m\u001b[0;34m\u001b[0m\u001b[0m\n\u001b[1;32m     24\u001b[0m \u001b[0;31m#     hdulist.close()\u001b[0m\u001b[0;34m\u001b[0m\u001b[0;34m\u001b[0m\u001b[0;34m\u001b[0m\u001b[0m\n",
      "\u001b[0;31mTypeError\u001b[0m: 'int' object is not subscriptable"
     ]
    }
   ],
   "source": [
    "new_file_names = \"/global/cscratch1/sd/vboehm/Datasets/SDSS_BOSS_data/\"\n",
    "\n",
    "\n",
    "for ii, (datafile, zfile) in enumerate(zip(datafiles_wz[0:8],z_files[0:8])):\n",
    "    print(ii)\n",
    "    hdulist = fits.open(datafile)\n",
    "    print(hdulist[0].header)\n",
    "    c0   = hdulist[0].header['coeff0']\n",
    "    c1   = hdulist[0].header['coeff1']\n",
    "    npix = hdulist[0].header['naxis1']\n",
    "    wave = 10.**(c0 + c1 * np.arange(npix))\n",
    "\n",
    "    bunit = hdulist[0].header['bunit']\n",
    "    print(bunit)\n",
    "    flux  = hdulist[0].data\n",
    "    ivar  = hdulist[1].data\n",
    "    amask = np.asarray(hdulist[2].data==0,dtype=int)\n",
    "    hdulist.close()\n",
    "    hdulist = 0\n",
    "\n",
    "    #hdulist = fits.open(z_file)\n",
    "    zstruc  = hdulist[1].data\n",
    "    print(z_struc['z'])\n",
    "#     hdulist.close()\n",
    "#     hdulist = 0\n",
    "\n",
    "    hdu       = fits.PrimaryHDU(flux)\n",
    "    hdu_amask = fits.ImageHDU(amask,name='amask')\n",
    "    hdu_ivar  = fits.ImageHDU(amask,name='ivar')\n",
    "    hdu_wave  = fits.ImageHDU(wave,name='wlen')\n",
    "\n",
    "    \n",
    "#     c1 = fits.Column(name='redshift', array=zstruc['z'], format='E')\n",
    "#     c2 = fits.Column(name='class', array=zstruc['class'], format='6A')\n",
    "#     c3 = fits.Column(name='subclass', array=zstruc['subclass'], format='6A')\n",
    "#     c4 = fits.Column(name='index', array=ii*1000+np.arange(1000), format='K')\n",
    "\n",
    "#    cdef = fits.ColDefs([c1,c2,c3,c4])\n",
    "\n",
    "#    table_hdu = fits.BinTableHDU.from_columns(cdef)\n",
    "\n",
    "    hdulist = fits.HDUList([hdu, hdu_amask, hdu_ivar, hdu_wave])\n",
    "    hdulist.writeto(os.path.join(new_file_names,'spAll%d.fits'%ii))\n",
    "#     hdulist.close()\n",
    "#     hdulist = 0\n",
    "\n"
   ]
  },
  {
   "cell_type": "code",
   "execution_count": 40,
   "metadata": {},
   "outputs": [],
   "source": [
    "hdulist = fits.open(os.path.join(new_file_names,'spAll%d.fits'%0))"
   ]
  },
  {
   "cell_type": "code",
   "execution_count": 58,
   "metadata": {},
   "outputs": [],
   "source": [
    "name = os.path.join(new_file_names,'spAll%d.fits'%0)"
   ]
  },
  {
   "cell_type": "code",
   "execution_count": 18,
   "metadata": {},
   "outputs": [],
   "source": [
    "# ff = fits.open(name)\n",
    "\n",
    "# for ii in range(10):\n",
    "#     data =1*fits.getdata(name, 0).astype('float32')\n",
    "#     print(data.shape)\n",
    "#     im = tf.expand_dims(data[ii],-1)\n",
    "#     print(im)"
   ]
  },
  {
   "cell_type": "code",
   "execution_count": 34,
   "metadata": {},
   "outputs": [],
   "source": [
    "pp=hdulist['PRIMARY'].data"
   ]
  },
  {
   "cell_type": "code",
   "execution_count": 35,
   "metadata": {},
   "outputs": [
    {
     "data": {
      "text/plain": [
       "(1000, 4647)"
      ]
     },
     "execution_count": 35,
     "metadata": {},
     "output_type": "execute_result"
    }
   ],
   "source": [
    "pp.shape"
   ]
  },
  {
   "cell_type": "code",
   "execution_count": 36,
   "metadata": {},
   "outputs": [
    {
     "data": {
      "text/plain": [
       "array([ 16.493845 ,   7.7203794,   7.1141124, ..., -18.153131 ,\n",
       "       -18.152998 , -18.152863 ], dtype=float32)"
      ]
     },
     "execution_count": 36,
     "metadata": {},
     "output_type": "execute_result"
    }
   ],
   "source": [
    "pp[0]"
   ]
  },
  {
   "cell_type": "code",
   "execution_count": 105,
   "metadata": {},
   "outputs": [],
   "source": [
    "h    = fitsio.read_header(datafiles[0])\n",
    "fits = fitsio.FITS(datafiles[0])"
   ]
  },
  {
   "cell_type": "code",
   "execution_count": 50,
   "metadata": {},
   "outputs": [
    {
     "name": "stdout",
     "output_type": "stream",
     "text": [
      "3.5508 0.0001\n"
     ]
    }
   ],
   "source": [
    "# The wavelength solution is saved here\n",
    "print(h[\"COEFF0\"],h[\"COEFF1\"])"
   ]
  },
  {
   "cell_type": "code",
   "execution_count": 42,
   "metadata": {},
   "outputs": [],
   "source": [
    "wave = 10**(h[\"COEFF0\"]+h[\"COEFF1\"]*np.arange(4647))"
   ]
  },
  {
   "cell_type": "code",
   "execution_count": 20,
   "metadata": {},
   "outputs": [
    {
     "data": {
      "text/plain": [
       "(1000, 4647)"
      ]
     },
     "execution_count": 20,
     "metadata": {},
     "output_type": "execute_result"
    }
   ],
   "source": [
    "img  = fits[0].read()\n",
    "img.shape"
   ]
  },
  {
   "cell_type": "code",
   "execution_count": 106,
   "metadata": {},
   "outputs": [
    {
     "data": {
      "text/plain": [
       "\n",
       "  file: /global/project/projectdirs/cosmo/data/sdss/dr16/sdss/spectro/redux/v5_13_0/5290/spPlate-5290-55862.fits\n",
       "  mode: READONLY\n",
       "  extnum hdutype         hduname[v]\n",
       "  0      IMAGE_HDU       \n",
       "  1      IMAGE_HDU       IVAR\n",
       "  2      IMAGE_HDU       ANDMASK\n",
       "  3      IMAGE_HDU       ORMASK\n",
       "  4      IMAGE_HDU       WAVEDISP\n",
       "  5      BINARY_TBL      PLUGMAP\n",
       "  6      IMAGE_HDU       SKY"
      ]
     },
     "execution_count": 106,
     "metadata": {},
     "output_type": "execute_result"
    }
   ],
   "source": [
    "fits"
   ]
  },
  {
   "cell_type": "markdown",
   "metadata": {},
   "source": [
    "### Wavelengths\n",
    "All spectra in a plate have the same wavelength solution.\n",
    "All plates have very similar wavelength solutions.\n",
    "Instead of being saved as an array, the wavelengths of the spectra are saved in the header."
   ]
  },
  {
   "cell_type": "code",
   "execution_count": 8,
   "metadata": {},
   "outputs": [
    {
     "name": "stdout",
     "output_type": "stream",
     "text": [
      "3.5508 0.0001\n"
     ]
    }
   ],
   "source": []
  },
  {
   "cell_type": "markdown",
   "metadata": {},
   "source": [
    "### Flux, variance, and mask\n",
    "The data include the flux (in physical units), inverse variance, masks that indicate a problem with a pixel"
   ]
  },
  {
   "cell_type": "code",
   "execution_count": null,
   "metadata": {},
   "outputs": [],
   "source": []
  },
  {
   "cell_type": "code",
   "execution_count": 21,
   "metadata": {},
   "outputs": [
    {
     "data": {
      "text/plain": [
       "[<matplotlib.lines.Line2D at 0x2aaad8251040>]"
      ]
     },
     "execution_count": 21,
     "metadata": {},
     "output_type": "execute_result"
    },
    {
     "data": {
      "image/png": "[encoded data removed]",
      "text/plain": [
       "<Figure size 432x288 with 1 Axes>"
      ]
     },
     "metadata": {
      "needs_background": "light"
     },
     "output_type": "display_data"
    }
   ],
   "source": [
    "plt.plot(np.squeeze(fits[0][0,:]))"
   ]
  },
  {
   "cell_type": "code",
   "execution_count": 1,
   "metadata": {},
   "outputs": [],
   "source": [
    "import tensorflow as tf\n",
    "import tensorflow_datasets as tfds"
   ]
  },
  {
   "cell_type": "code",
   "execution_count": 2,
   "metadata": {},
   "outputs": [],
   "source": [
    "from sdss_pae.sdss_dataset import SDSS"
   ]
  },
  {
   "cell_type": "code",
   "execution_count": 11,
   "metadata": {},
   "outputs": [],
   "source": [
    "ds, info =tfds.load('SDSS', data_dir='/global/cscratch1/sd/vboehm/Datasets/',with_info=True)"
   ]
  },
  {
   "cell_type": "code",
   "execution_count": 12,
   "metadata": {},
   "outputs": [
    {
     "data": {
      "text/plain": [
       "tfds.core.DatasetInfo(\n",
       "    name='sdss',\n",
       "    version=1.0.0,\n",
       "    description='selected features from spAll and s dataset in \n",
       "'flux': tfds.features.Tensor(shape=(None,1),dtype=tf.float32),\n",
       "'inv_var': tfds.features.Tensor(shape=(None,1),dtype=tf.float32),\n",
       "'and_mask': tfds.features.Tensor(shape=(None,1),dtype=tf.int32),\n",
       "'coeffs': tfds.features.Tensor(shape=(3,1), dtype=tf.float32),\n",
       "'label': tfds.features.ClassLabel(names=['STAR', 'QSO', 'GALAXY']),\n",
       "'redshift': tfds.features.Tensor(shape=(),dtype=tf.float32),',\n",
       "    homepage='https://www.sdss.org/science/data-release-publications/',\n",
       "    features=FeaturesDict({\n",
       "        'and_mask': Tensor(shape=(None, 1), dtype=tf.int32),\n",
       "        'coeffs': Tensor(shape=(3, 1), dtype=tf.float32),\n",
       "        'filename': Text(shape=(), dtype=tf.string),\n",
       "        'flux': Tensor(shape=(None, 1), dtype=tf.float32),\n",
       "        'inv_var': Tensor(shape=(None, 1), dtype=tf.float32),\n",
       "        'label': ClassLabel(shape=(), dtype=tf.int64, num_classes=3),\n",
       "        'redshift': tf.float32,\n",
       "    }),\n",
       "    total_num_examples=100000,\n",
       "    splits={\n",
       "        'train': 100000,\n",
       "    },\n",
       "    supervised_keys=None,\n",
       "    citation=\"\"\"\"\"\",\n",
       "    redistribution_info=,\n",
       ")"
      ]
     },
     "execution_count": 12,
     "metadata": {},
     "output_type": "execute_result"
    }
   ],
   "source": [
    "info"
   ]
  },
  {
   "cell_type": "code",
   "execution_count": 13,
   "metadata": {},
   "outputs": [
    {
     "data": {
      "text/plain": [
       "<TakeDataset shapes: {and_mask: (None, 1), coeffs: (3, 1), filename: (), flux: (None, 1), inv_var: (None, 1), label: (), redshift: ()}, types: {and_mask: tf.int32, coeffs: tf.float32, filename: tf.string, flux: tf.float32, inv_var: tf.float32, label: tf.int64, redshift: tf.float32}>"
      ]
     },
     "execution_count": 13,
     "metadata": {},
     "output_type": "execute_result"
    }
   ],
   "source": [
    "ds['train'].take(1)"
   ]
  },
  {
   "cell_type": "code",
   "execution_count": 14,
   "metadata": {},
   "outputs": [
    {
     "name": "stdout",
     "output_type": "stream",
     "text": [
      "0.00020427242 0\n",
      "1.514166 1\n",
      "1.1216431 1\n"
     ]
    }
   ],
   "source": [
    "ii = 0\n",
    "for image in tfds.as_numpy(ds['train']):\n",
    "    if ii<3:\n",
    "        print(image['redshift'], image['label'])\n",
    "        ii+=1\n"
   ]
  },
  {
   "cell_type": "code",
   "execution_count": null,
   "metadata": {},
   "outputs": [],
   "source": []
  }
 ],
 "metadata": {
  "kernelspec": {
   "display_name": "tf22",
   "language": "python",
   "name": "tf22"
  },
  "language_info": {
   "codemirror_mode": {
    "name": "ipython",
    "version": 3
   },
   "file_extension": ".py",
   "mimetype": "text/x-python",
   "name": "python",
   "nbconvert_exporter": "python",
   "pygments_lexer": "ipython3",
   "version": "3.8.3"
  }
 },
 "nbformat": 4,
 "nbformat_minor": 4
}
