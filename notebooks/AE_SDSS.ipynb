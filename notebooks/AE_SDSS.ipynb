{
 "cells": [
  {
   "cell_type": "markdown",
   "metadata": {
    "colab_type": "text",
    "id": "view-in-github"
   },
   "source": [
    "<a href=\"https://colab.research.google.com/github/VMBoehm/SDSS_PAE/blob/main/LSTM_AE.ipynb\" target=\"_parent\"><img src=\"https://colab.research.google.com/assets/colab-badge.svg\" alt=\"Open In Colab\"/></a>"
   ]
  },
  {
   "cell_type": "markdown",
   "metadata": {
    "id": "IqDqXXTQ1FMN"
   },
   "source": [
    "# Template and tests for an LSTM Auto-Encoder\n"
   ]
  },
  {
   "cell_type": "code",
   "execution_count": 1,
   "metadata": {},
   "outputs": [],
   "source": [
    "import tensorflow as tf"
   ]
  },
  {
   "cell_type": "code",
   "execution_count": 2,
   "metadata": {},
   "outputs": [
    {
     "data": {
      "text/plain": [
       "[PhysicalDevice(name='/physical_device:GPU:0', device_type='GPU')]"
      ]
     },
     "execution_count": 2,
     "metadata": {},
     "output_type": "execute_result"
    }
   ],
   "source": [
    "tf.config.list_physical_devices('GPU')"
   ]
  },
  {
   "cell_type": "code",
   "execution_count": 3,
   "metadata": {},
   "outputs": [
    {
     "data": {
      "text/plain": [
       "'2.2.0'"
      ]
     },
     "execution_count": 3,
     "metadata": {},
     "output_type": "execute_result"
    }
   ],
   "source": [
    "tf.__version__"
   ]
  },
  {
   "cell_type": "code",
   "execution_count": 4,
   "metadata": {},
   "outputs": [],
   "source": [
    "import tensorflow_datasets as tfds"
   ]
  },
  {
   "cell_type": "code",
   "execution_count": 5,
   "metadata": {
    "id": "ZcR4zT3V8dMc"
   },
   "outputs": [],
   "source": [
    "import numpy as np\n",
    "import scipy\n",
    "import matplotlib.pyplot as plt\n",
    "import os"
   ]
  },
  {
   "cell_type": "code",
   "execution_count": 6,
   "metadata": {},
   "outputs": [
    {
     "name": "stdout",
     "output_type": "stream",
     "text": [
      "Obtaining file:///global/homes/v/vboehm/codes/SDSS_PAE\n",
      "Requirement already satisfied: astropy in /global/u2/v/vboehm/.local/lib/python3.8/site-packages (from sdss-pae==0.1.0) (4.2.1)\n",
      "Requirement already satisfied: numpy in /global/common/cori_cle7/software/jupyter/cgpu/21-03/lib/python3.8/site-packages (from sdss-pae==0.1.0) (1.20.2)\n",
      "Requirement already satisfied: pyerfa in /global/u2/v/vboehm/.local/lib/python3.8/site-packages (from astropy->sdss-pae==0.1.0) (1.7.3)\n",
      "Installing collected packages: sdss-pae\n",
      "  Attempting uninstall: sdss-pae\n",
      "    Found existing installation: sdss-pae 0.1.0\n",
      "    Uninstalling sdss-pae-0.1.0:\n",
      "      Successfully uninstalled sdss-pae-0.1.0\n",
      "  Running setup.py develop for sdss-pae\n",
      "Successfully installed sdss-pae\n"
     ]
    }
   ],
   "source": [
    "# ! pip install tensorflow-probability==0.11.0\n",
    "! pip install --user -e /global/homes/v/vboehm/codes/SDSS_PAE/    "
   ]
  },
  {
   "cell_type": "code",
   "execution_count": 7,
   "metadata": {},
   "outputs": [],
   "source": [
    "import tensorflow_probability as tfp"
   ]
  },
  {
   "cell_type": "code",
   "execution_count": 8,
   "metadata": {},
   "outputs": [],
   "source": [
    "from tensorflow.keras.models import Sequential, Model\n",
    "from tensorflow.keras.layers import LSTM, Layer, Reshape, LeakyReLU, BatchNormalization\n",
    "from tensorflow.keras.layers import Dense, Conv1D, MaxPooling1D, UpSampling1D, AveragePooling1D\n",
    "from tensorflow.keras.layers import RepeatVector, Conv2DTranspose, Flatten\n",
    "from tensorflow.keras.layers import TimeDistributed, Input, Lambda, Masking, Dropout\n",
    "import tensorflow.keras.backend as K"
   ]
  },
  {
   "cell_type": "code",
   "execution_count": 9,
   "metadata": {},
   "outputs": [],
   "source": [
    "def Conv1DTranspose(input_tensor, filters, kernel_size, strides=2, padding='valid', output_padding=0, name=None):\n",
    "    \"\"\"\n",
    "        input_tensor: tensor, with the shape (batch_size, time_steps, dims)\n",
    "        filters: int, output dimension, i.e. the output tensor will have the shape of (batch_size, time_steps, filters)\n",
    "        kernel_size: int, size of the convolution kernel\n",
    "        strides: int, convolution step size\n",
    "        padding: 'same' | 'valid'\n",
    "    \"\"\"\n",
    "    x = Lambda(lambda x: K.expand_dims(x, axis=2))(input_tensor)\n",
    "    x = Conv2DTranspose(filters=filters, kernel_size=(kernel_size, 1), strides=(strides, 1), padding=padding, output_padding=(output_padding,0), name=name)(x)\n",
    "    x = Lambda(lambda x: K.squeeze(x, axis=2))(x)\n",
    "    return x"
   ]
  },
  {
   "cell_type": "code",
   "execution_count": 126,
   "metadata": {},
   "outputs": [],
   "source": [
    "### settings\n",
    "# user defined span (following Yip et al and Portillo et al)\n",
    "root_models     = '/global/cscratch1/sd/vboehm/Models/SDSS_AE/'\n",
    "\n",
    "root_encoded    = '/global/cscratch1/sd/vboehm/Datasets/encoded/sdss/'\n",
    "root_decoded    = '/global/cscratch1/sd/vboehm/Datasets/decoded/sdss/'\n",
    "root_data       = '/global/cscratch1/sd/vboehm/Datasets'\n",
    "\n",
    "root_prepped    = os.path.join(root_data,'sdss/prepped')\n",
    "\n",
    "wlmin, wlmax    = (3388,8318)\n",
    "fixed_num_bins  = 1000\n",
    "\n",
    "label           = 'galaxies_quasars_bins1000_wl3388-8318'\n",
    "label_          = label+'_minz005_maxz036_minSN50'\n",
    "label_2         = label+'_minz01_maxz036_minSN50'+'_8_fully_connected_xlarge_std_one_batch'\n",
    "\n",
    "seed            = 8720\n",
    "\n",
    "latent_dim      = 8\n",
    "network_type    = 'fully_connected'"
   ]
  },
  {
   "cell_type": "code",
   "execution_count": 57,
   "metadata": {},
   "outputs": [],
   "source": [
    "wl_range      = (np.log10(wlmin),np.log10(wlmax))\n",
    "# new binning \n",
    "new_wl        = np.logspace(wl_range[0],wl_range[1],fixed_num_bins+1)"
   ]
  },
  {
   "cell_type": "code",
   "execution_count": 58,
   "metadata": {},
   "outputs": [],
   "source": [
    "### load data and join\n",
    "res_fluxes, res_masks, res_inv_vars = [], [] ,[]\n",
    "redshifts, SNs, ras, decs, category, sublabel = [], [], [], [], [], []\n",
    "for nn in range(1,4):\n",
    "    res_fluxes_, res_masks_, res_inv_vars_ = np.load(os.path.join(root_prepped,'prepped_data_spectra_%s_batch%d.npy'%(label_,nn)))\n",
    "    redshifts_, SNs_, ras_, decs_, category_, sublabel_ =  np.load(os.path.join(root_prepped,'prepped_data_prop_%s_batch%d.npy'%(label_,nn)))\n",
    "    if nn==1:\n",
    "        res_fluxes, res_masks, res_inv_vars, redshifts, SNs, ras, decs, category, sublabel = res_fluxes_, res_masks_, res_inv_vars_, redshifts_, SNs_, ras_, decs_, category_, sublabel_\n",
    "    else:\n",
    "        res_fluxes   = np.concatenate([res_fluxes, res_fluxes_],axis=0)\n",
    "        res_masks    = np.concatenate([res_masks, res_masks_],axis=0)\n",
    "        res_inv_vars = np.concatenate([res_inv_vars, res_inv_vars_],axis=0)\n",
    "        redshifts    = np.concatenate([redshifts, redshifts_],axis=0)\n",
    "        SNs          = np.concatenate([SNs, SNs_],axis=0)\n",
    "        ras          = np.concatenate([ras, ras_],axis=0)\n",
    "        decs         = np.concatenate([decs, decs_],axis=0)\n",
    "        category     = np.concatenate([category, category_],axis=0)\n",
    "        sublabel     = np.concatenate([sublabel, sublabel_],axis=0)\n",
    "    "
   ]
  },
  {
   "cell_type": "code",
   "execution_count": null,
   "metadata": {},
   "outputs": [],
   "source": []
  },
  {
   "cell_type": "code",
   "execution_count": null,
   "metadata": {},
   "outputs": [],
   "source": []
  },
  {
   "cell_type": "code",
   "execution_count": 59,
   "metadata": {},
   "outputs": [],
   "source": [
    "dim = fixed_num_bins"
   ]
  },
  {
   "cell_type": "code",
   "execution_count": 127,
   "metadata": {
    "colab": {
     "base_uri": "https://localhost:8080/"
    },
    "id": "b0sQyEd6-dhq",
    "outputId": "8e9b7513-56a3-4bea-bbc6-34c587a4f6d4"
   },
   "outputs": [],
   "source": [
    "class bottleneck(Layer):\n",
    "    def __init__(self, units, dim, **kwargs):\n",
    "        self.units  = units\n",
    "        self.dim    = dim\n",
    "        self.LSTM1  = LSTM(units[0],  return_sequences=True)\n",
    "        self.LSTM2  = LSTM(units[1],  return_sequences=False)\n",
    "        self.Repeat = RepeatVector(dim)\n",
    "        super(bottleneck, self).__init__(**kwargs)\n",
    "\n",
    "    def call(self, inputs):\n",
    "        return self.Repeat(self.LSTM2(self.LSTM1(inputs)))\n",
    "\n",
    "    def compute_mask(self, inputs, mask=None):\n",
    "        return mask\n",
    "\n",
    "input        = Input(shape=(dim,1))\n",
    "input_params = Input(shape=(1))\n",
    "input_mask   = Input(shape=(dim,1))\n",
    "input_noise  = Input(shape=(dim,1))\n",
    "\n",
    "\n",
    "if network_type=='fully_connected':\n",
    "    x = Flatten()(input)\n",
    "    x = Dense(512)(x)\n",
    "    #x = BatchNormalization(trainable=False)(x)\n",
    "    x = Dense(256)(x)\n",
    "    #x = BatchNormalization(trainable=False)(x)\n",
    "    x = LeakyReLU()(x)\n",
    "    x = Dense(64)(x)\n",
    "    x = BatchNormalization(trainable=False)(x)\n",
    "    x = LeakyReLU()(x)\n",
    "    x = Dense(16)(x)\n",
    "    #x = BatchNormalization(trainable=False)(x)\n",
    "    x = LeakyReLU()(x)\n",
    "    x = Dense(latent_dim)(x)  \n",
    "    #x = tf.concat([x,input_params],axis=1)\n",
    "    #z = Flatten()(input_params)\n",
    "    #x = tf.concat([input_params,x], axis=1)\n",
    "    x = Dense(16)(x)\n",
    "    x = BatchNormalization(trainable=False)(x)\n",
    "    x = LeakyReLU()(x)\n",
    "    x = Dense(64)(x)\n",
    "    #x = BatchNormalization(trainable=False)(x)\n",
    "    x = LeakyReLU()(x)\n",
    "    x = Dense(256)(x)\n",
    "    #x = BatchNormalization(trainable=False)(x)\n",
    "    x = LeakyReLU()(x)\n",
    "    x = Dense(512)(x)\n",
    "    #x = BatchNormalization(trainable=False)(x)\n",
    "    x = Dense(dim)(x)\n",
    "    x = Reshape((dim,1))(x)\n",
    "elif network_type=='LSTM':\n",
    "# slow training\n",
    "    x = LSTM(256, return_sequences=True)(input)\n",
    "    x = BatchNormalization()(x)\n",
    "    x = LeakyReLU()(x)\n",
    "    x = LSTM(latent_dim,  return_sequences=False, name='bottleneck')(x)\n",
    "    x = RepeatVector(dim)(x)\n",
    "    x = LSTM(latent_dim, return_sequences=True)(x)\n",
    "    x = BatchNormalization()(x)\n",
    "    x = LeakyReLU()(x)\n",
    "    x = LSTM(256, return_sequences=True)(x)\n",
    "    x = TimeDistributed(Dense(1))(x)\n",
    "elif network_type=='CNN':\n",
    "# better than fully connected, but more choices to make for architecture, performance might be very much dependent on architecture\n",
    "    x = Conv1D(filters=64,kernel_size=(5), strides=2, name='conv1', padding='same')(input)\n",
    "    x = BatchNormalization(name='bn1')(x)\n",
    "    x = LeakyReLU()(x)\n",
    "    x = MaxPooling1D(2, name='maxpool1', padding='same')(x)\n",
    "    x = Conv1D(filters=32,kernel_size=(3), strides=2,name='conv2', padding='same')(x)\n",
    "    x = BatchNormalization(name='bn2')(x)\n",
    "    x = LeakyReLU()(x)\n",
    "    x = MaxPooling1D(2,name='maxpool2', padding='same')(x)\n",
    "    x = Conv1D(filters=32,kernel_size=(3), strides=2, name='conv3', padding='same')(x)\n",
    "    x = BatchNormalization(name='bn3')(x)\n",
    "    x = LeakyReLU()(x)\n",
    "    x = Flatten()(x)\n",
    "    #x = tf.concat([y,input_params],axis=1)\n",
    "    x = Dense(latent_dim, name='fc_enc')(x)\n",
    "    x = LeakyReLU()(x)\n",
    "    #x = tf.concat([z,input_params], axis=1)\n",
    "    x = Dense(1024,name='fc_dec')(x)\n",
    "    x = LeakyReLU()(x)\n",
    "    x = Reshape((32,32))(x)\n",
    "    x = Conv1DTranspose(input_tensor=x,filters=32,kernel_size=(3),strides=2, name='conv1T', padding='same')\n",
    "    x = BatchNormalization(name='bn1T')(x)\n",
    "    x = LeakyReLU()(x)\n",
    "    #x = UpSampling1D(2, name='up1')(x)\n",
    "    x = Conv1DTranspose(input_tensor=x,filters=32,kernel_size=(3),strides=2, name='conv2T', padding='same')\n",
    "    x = BatchNormalization(name='bn2T')(x)\n",
    "    x = LeakyReLU()(x)\n",
    "    x = UpSampling1D(2,name='up2')(x)\n",
    "    x = Conv1DTranspose(input_tensor=x,filters=64,kernel_size=(5),strides=2, name='conv3T', padding='same')\n",
    "    x = BatchNormalization(name='bn3T')(x)\n",
    "    x = LeakyReLU()(x)\n",
    "    x = Conv1DTranspose(input_tensor=x,filters=1,kernel_size=(1),strides=1, padding='same')\n",
    "else:\n",
    "    raise ValueError('Network type not supported')\n",
    "\n",
    "def lossFunction(y_true,y_pred,mask,inverse):\n",
    "        loss = tf.math.square(y_true-y_pred)*inverse\n",
    "        loss = tf.reduce_mean(tf.boolean_mask(loss,mask))\n",
    "        return loss\n",
    "    \n",
    "from tensorflow.python.keras.engine import data_adapter\n",
    "\n",
    "\n",
    "class CustomModel(tf.keras.Model):\n",
    "    def compile(self, optimizer, my_loss,metrics, run_eagerly):\n",
    "        super().compile(optimizer,metrics, run_eagerly)\n",
    "        self.my_loss = my_loss\n",
    "\n",
    "    def train_step(self, data):\n",
    "        data = data_adapter.expand_1d(data)\n",
    "        input_data = data_adapter.unpack_x_y_sample_weight(data)\n",
    "        with tf.GradientTape() as tape:\n",
    "            y_pred = self(input_data[0][0], training=True)\n",
    "            loss_value = self.my_loss(input_data[0][0],y_pred,input_data[0][1],input_data[0][2])\n",
    "\n",
    "        grads = tape.gradient(loss_value, self.trainable_variables)\n",
    "        self.optimizer.apply_gradients(zip(grads, self.trainable_variables))\n",
    "\n",
    "        return {\"training_loss\": loss_value}\n",
    "    \n",
    "    \n"
   ]
  },
  {
   "cell_type": "code",
   "execution_count": 128,
   "metadata": {},
   "outputs": [
    {
     "name": "stdout",
     "output_type": "stream",
     "text": [
      "Model: \"custom_model_3\"\n",
      "__________________________________________________________________________________________________\n",
      "Layer (type)                    Output Shape         Param #     Connected to                     \n",
      "==================================================================================================\n",
      "input_21 (InputLayer)           [(None, 1000, 1)]    0                                            \n",
      "__________________________________________________________________________________________________\n",
      "flatten_5 (Flatten)             (None, 1000)         0           input_21[0][0]                   \n",
      "__________________________________________________________________________________________________\n",
      "dense_50 (Dense)                (None, 512)          512512      flatten_5[0][0]                  \n",
      "__________________________________________________________________________________________________\n",
      "dense_51 (Dense)                (None, 256)          131328      dense_50[0][0]                   \n",
      "__________________________________________________________________________________________________\n",
      "leaky_re_lu_30 (LeakyReLU)      (None, 256)          0           dense_51[0][0]                   \n",
      "__________________________________________________________________________________________________\n",
      "dense_52 (Dense)                (None, 64)           16448       leaky_re_lu_30[0][0]             \n",
      "__________________________________________________________________________________________________\n",
      "batch_normalization_28 (BatchNo (None, 64)           256         dense_52[0][0]                   \n",
      "__________________________________________________________________________________________________\n",
      "leaky_re_lu_31 (LeakyReLU)      (None, 64)           0           batch_normalization_28[0][0]     \n",
      "__________________________________________________________________________________________________\n",
      "dense_53 (Dense)                (None, 16)           1040        leaky_re_lu_31[0][0]             \n",
      "__________________________________________________________________________________________________\n",
      "leaky_re_lu_32 (LeakyReLU)      (None, 16)           0           dense_53[0][0]                   \n",
      "__________________________________________________________________________________________________\n",
      "dense_54 (Dense)                (None, 8)            136         leaky_re_lu_32[0][0]             \n",
      "__________________________________________________________________________________________________\n",
      "dense_55 (Dense)                (None, 16)           144         dense_54[0][0]                   \n",
      "__________________________________________________________________________________________________\n",
      "batch_normalization_29 (BatchNo (None, 16)           64          dense_55[0][0]                   \n",
      "__________________________________________________________________________________________________\n",
      "leaky_re_lu_33 (LeakyReLU)      (None, 16)           0           batch_normalization_29[0][0]     \n",
      "__________________________________________________________________________________________________\n",
      "dense_56 (Dense)                (None, 64)           1088        leaky_re_lu_33[0][0]             \n",
      "__________________________________________________________________________________________________\n",
      "leaky_re_lu_34 (LeakyReLU)      (None, 64)           0           dense_56[0][0]                   \n",
      "__________________________________________________________________________________________________\n",
      "dense_57 (Dense)                (None, 256)          16640       leaky_re_lu_34[0][0]             \n",
      "__________________________________________________________________________________________________\n",
      "leaky_re_lu_35 (LeakyReLU)      (None, 256)          0           dense_57[0][0]                   \n",
      "__________________________________________________________________________________________________\n",
      "dense_58 (Dense)                (None, 512)          131584      leaky_re_lu_35[0][0]             \n",
      "__________________________________________________________________________________________________\n",
      "dense_59 (Dense)                (None, 1000)         513000      dense_58[0][0]                   \n",
      "__________________________________________________________________________________________________\n",
      "input_23 (InputLayer)           [(None, 1000, 1)]    0                                            \n",
      "__________________________________________________________________________________________________\n",
      "input_24 (InputLayer)           [(None, 1000, 1)]    0                                            \n",
      "__________________________________________________________________________________________________\n",
      "input_22 (InputLayer)           [(None, 1)]          0                                            \n",
      "__________________________________________________________________________________________________\n",
      "reshape_5 (Reshape)             (None, 1000, 1)      0           dense_59[0][0]                   \n",
      "==================================================================================================\n",
      "Total params: 1,324,240\n",
      "Trainable params: 1,323,920\n",
      "Non-trainable params: 320\n",
      "__________________________________________________________________________________________________\n",
      "None\n"
     ]
    }
   ],
   "source": [
    "tf.random.set_seed(seed)\n",
    "\n",
    "\n",
    "lstm_ae = CustomModel(inputs=[input,input_mask,input_noise, input_params], outputs=x)\n",
    "lstm_ae.compile(optimizer=tf.keras.optimizers.Adam(learning_rate=1e-3), my_loss=lossFunction, metrics=[],run_eagerly=False)\n",
    "\n",
    "# lstm_ae = Model(inputs=[input, input1,input2, input_float], outputs=[x, input1,input2, input_float])\n",
    "# lstm_ae.compile(optimizer='adam', loss=lossFunction)\n",
    "print(lstm_ae.summary())"
   ]
  },
  {
   "cell_type": "code",
   "execution_count": 100,
   "metadata": {},
   "outputs": [],
   "source": [
    "def make_scheduler(length, initial_lr,factor=1.2):\n",
    "    \n",
    "    def scheduler(epoch, lr):\n",
    "        if epoch < length:\n",
    "            lr = initial_lr\n",
    "            return lr\n",
    "        else:\n",
    "            return lr * tf.math.exp(-factor)\n",
    "        \n",
    "    return scheduler\n",
    "\n"
   ]
  },
  {
   "cell_type": "code",
   "execution_count": null,
   "metadata": {},
   "outputs": [],
   "source": []
  },
  {
   "cell_type": "code",
   "execution_count": 101,
   "metadata": {},
   "outputs": [],
   "source": [
    "\n",
    "DATASET_SIZE = len(res_fluxes)\n",
    "train_size   = int(0.7* DATASET_SIZE)\n",
    "test_size    = int(0.1 * DATASET_SIZE)\n",
    "valid_size   = int(0.2 * DATASET_SIZE)\n",
    "indices      = np.arange(DATASET_SIZE)"
   ]
  },
  {
   "cell_type": "code",
   "execution_count": 64,
   "metadata": {},
   "outputs": [],
   "source": [
    "np.random.seed(seed)\n",
    "np.random.shuffle(indices)"
   ]
  },
  {
   "cell_type": "code",
   "execution_count": 65,
   "metadata": {},
   "outputs": [],
   "source": [
    "def reshuffle(list_, indices):\n",
    "    res = []\n",
    "    for item_ in list_:\n",
    "        res.append(item_[indices])\n",
    "    return res"
   ]
  },
  {
   "cell_type": "code",
   "execution_count": 66,
   "metadata": {},
   "outputs": [],
   "source": [
    "res_fluxes, res_masks, res_inv_vars, redshifts, SNs, ras, decs, category, sublabel = reshuffle([res_fluxes, res_masks, res_inv_vars, redshifts, SNs, ras, decs, category, sublabel], indices)"
   ]
  },
  {
   "cell_type": "code",
   "execution_count": 67,
   "metadata": {},
   "outputs": [
    {
     "name": "stdout",
     "output_type": "stream",
     "text": [
      "new datasize:  218411\n"
     ]
    }
   ],
   "source": [
    "def redshift_bin(min_z, max_z, z_array, arrays):\n",
    "    num  = len(arrays)\n",
    "    z_array = np.asarray(z_array, dtype=np.float32)\n",
    "    indx = np.where((z_array>min_z)*(z_array<max_z))[0]\n",
    "    arrays_new = [arrays[ii][indx] for ii in range(num)]\n",
    "    print('new datasize: ', len(indx))\n",
    "    return arrays_new\n",
    "\n",
    "res_fluxes, res_masks, res_inv_vars, redshifts, SNs, ras, decs, category, sublabel = redshift_bin(.1, .4, redshifts, [res_fluxes, res_masks, res_inv_vars, redshifts, SNs, ras, decs, category, sublabel])"
   ]
  },
  {
   "cell_type": "code",
   "execution_count": 68,
   "metadata": {},
   "outputs": [
    {
     "name": "stdout",
     "output_type": "stream",
     "text": [
      "225126.89487667015\n"
     ]
    }
   ],
   "source": [
    "mean=np.mean(res_fluxes)\n",
    "std = mean=np.std(res_fluxes)\n",
    "print(mean)"
   ]
  },
  {
   "cell_type": "code",
   "execution_count": 69,
   "metadata": {},
   "outputs": [],
   "source": [
    "train_data   = np.expand_dims((res_fluxes[:train_size]-mean)/std,-1)\n",
    "valid_data   = np.expand_dims((res_fluxes[train_size:train_size+valid_size]-mean)/std,-1)\n",
    "test_data    = np.expand_dims((res_fluxes[-test_size::]-mean)/std,-1)\n",
    "\n",
    "train_mask   = np.expand_dims(res_masks[:train_size],-1)\n",
    "valid_mask   = np.expand_dims(res_masks[train_size:train_size+valid_size],-1)\n",
    "test_mask    = np.expand_dims(res_masks[-test_size::],-1)\n",
    "\n",
    "train_noise  = np.expand_dims(res_inv_vars[:train_size],-1)*std**2\n",
    "valid_noise  = np.expand_dims(res_inv_vars[train_size:train_size+valid_size],-1)*std**2\n",
    "test_noise   = np.expand_dims(res_inv_vars[-test_size::],-1)*std**2\n",
    "\n",
    "train_params = np.asarray(redshifts, dtype=np.float32)[:train_size]\n",
    "valid_params = np.asarray(redshifts, dtype=np.float32)[train_size:train_size+valid_size]\n",
    "test_params = np.asarray(redshifts, dtype=np.float32)[-test_size::]\n",
    "\n",
    "train_ras = np.asarray(ras, dtype=np.float32)[:train_size]\n",
    "valid_ras = np.asarray(ras, dtype=np.float32)[train_size:train_size+valid_size]\n",
    "test_ras = np.asarray(ras, dtype=np.float32)[-test_size::]\n",
    "\n",
    "train_decs = np.asarray(decs, dtype=np.float32)[:train_size]\n",
    "valid_decs = np.asarray(decs, dtype=np.float32)[train_size:train_size+valid_size]\n",
    "test_decs = np.asarray(decs, dtype=np.float32)[-test_size::]\n",
    "\n",
    "train_cat = category[:train_size]\n",
    "valid_cat = category[train_size:train_size+valid_size]\n",
    "test_cat = category[-test_size::]\n",
    "\n",
    "train_labels = sublabel[:train_size]\n",
    "valid_labels = sublabel[train_size:train_size+valid_size]\n",
    "test_labels = sublabel[-test_size::]"
   ]
  },
  {
   "cell_type": "code",
   "execution_count": 70,
   "metadata": {},
   "outputs": [
    {
     "data": {
      "text/plain": [
       "164965"
      ]
     },
     "execution_count": 70,
     "metadata": {},
     "output_type": "execute_result"
    }
   ],
   "source": [
    "len(train_data)"
   ]
  },
  {
   "cell_type": "code",
   "execution_count": 71,
   "metadata": {
    "colab": {
     "base_uri": "https://localhost:8080/"
    },
    "id": "YBC_DUoQDfc4",
    "outputId": "71223b29-ac86-44df-c137-4b787686051b"
   },
   "outputs": [],
   "source": [
    "def training_cycle(BATCH_SIZE, n_epochs, lr_anneal, lr_initial, reduce_fac): \n",
    "    scheduler = make_scheduler(lr_anneal, lr_initial, reduce_fac)\n",
    "    callback = tf.keras.callbacks.LearningRateScheduler(scheduler)\n",
    "    history = lstm_ae.fit(x=(train_data,train_mask,train_noise, train_params), batch_size=BATCH_SIZE, epochs=n_epochs, callbacks=[callback])\n",
    "    return history"
   ]
  },
  {
   "cell_type": "code",
   "execution_count": 72,
   "metadata": {},
   "outputs": [],
   "source": [
    "def custom_metric(y_true, y_pred):\n",
    "    loss = (y_true[0]-y_pred)**2*y_true[2]\n",
    "    valid_loss = np.mean(loss[np.where(y_true[1])])\n",
    "    return valid_loss"
   ]
  },
  {
   "cell_type": "code",
   "execution_count": 129,
   "metadata": {},
   "outputs": [
    {
     "name": "stdout",
     "output_type": "stream",
     "text": [
      "Epoch 1/20\n",
      "5156/5156 [==============================] - 10s 2ms/step - training_loss: 23.8996 - lr: 0.0010\n",
      "Epoch 2/20\n",
      "5156/5156 [==============================] - 10s 2ms/step - training_loss: 33.8941 - lr: 0.0010\n",
      "Epoch 3/20\n",
      "5156/5156 [==============================] - 10s 2ms/step - training_loss: 116.7949 - lr: 0.0010\n",
      "Epoch 4/20\n",
      "5156/5156 [==============================] - 10s 2ms/step - training_loss: 670.7273 - lr: 0.0010\n",
      "Epoch 5/20\n",
      "5156/5156 [==============================] - 10s 2ms/step - training_loss: 9.6465 - lr: 0.0010\n",
      "Epoch 6/20\n",
      "5156/5156 [==============================] - 10s 2ms/step - training_loss: 13.9147 - lr: 0.0010\n",
      "Epoch 7/20\n",
      "5156/5156 [==============================] - 10s 2ms/step - training_loss: 13.2227 - lr: 0.0010\n",
      "Epoch 8/20\n",
      "5156/5156 [==============================] - 11s 2ms/step - training_loss: 9.0140 - lr: 0.0010\n",
      "Epoch 9/20\n",
      "5156/5156 [==============================] - 11s 2ms/step - training_loss: 8.4416 - lr: 0.0010\n",
      "Epoch 10/20\n",
      "5156/5156 [==============================] - 11s 2ms/step - training_loss: 12.1658 - lr: 0.0010\n",
      "Epoch 11/20\n",
      "5156/5156 [==============================] - 11s 2ms/step - training_loss: 11.9522 - lr: 0.0010\n",
      "Epoch 12/20\n",
      "5156/5156 [==============================] - 11s 2ms/step - training_loss: 6.4166 - lr: 0.0010\n",
      "Epoch 13/20\n",
      "5156/5156 [==============================] - 11s 2ms/step - training_loss: 5.5573 - lr: 0.0010\n",
      "Epoch 14/20\n",
      "5156/5156 [==============================] - 10s 2ms/step - training_loss: 15.8168 - lr: 0.0010\n",
      "Epoch 15/20\n",
      "5156/5156 [==============================] - 10s 2ms/step - training_loss: 4.1406 - lr: 0.0010\n",
      "Epoch 16/20\n",
      "5156/5156 [==============================] - 10s 2ms/step - training_loss: 2.3599 - lr: 3.6788e-04\n",
      "Epoch 17/20\n",
      "5156/5156 [==============================] - 10s 2ms/step - training_loss: 1.8170 - lr: 1.3534e-04\n",
      "Epoch 18/20\n",
      "5156/5156 [==============================] - 10s 2ms/step - training_loss: 1.6033 - lr: 4.9787e-05\n",
      "Epoch 19/20\n",
      "5156/5156 [==============================] - 10s 2ms/step - training_loss: 1.5339 - lr: 1.8316e-05\n",
      "Epoch 20/20\n",
      "5156/5156 [==============================] - 10s 2ms/step - training_loss: 1.5108 - lr: 6.7379e-06\n",
      "1.5836767311956732\n",
      "1.4992683801197264\n",
      "Epoch 1/20\n",
      "2578/2578 [==============================] - 6s 2ms/step - training_loss: 5.1624 - lr: 0.0010\n",
      "Epoch 2/20\n",
      "2578/2578 [==============================] - 6s 2ms/step - training_loss: 2.6169 - lr: 0.0010\n",
      "Epoch 3/20\n",
      "2578/2578 [==============================] - 6s 2ms/step - training_loss: 2.3440 - lr: 0.0010\n",
      "Epoch 4/20\n",
      "2578/2578 [==============================] - 6s 2ms/step - training_loss: 2.1614 - lr: 0.0010\n",
      "Epoch 5/20\n",
      "2578/2578 [==============================] - 6s 2ms/step - training_loss: 2.7530 - lr: 0.0010\n",
      "Epoch 6/20\n",
      "2578/2578 [==============================] - 6s 2ms/step - training_loss: 2.2897 - lr: 0.0010\n",
      "Epoch 7/20\n",
      "2578/2578 [==============================] - 6s 2ms/step - training_loss: 4.6223 - lr: 0.0010\n",
      "Epoch 8/20\n",
      "2578/2578 [==============================] - 6s 2ms/step - training_loss: 3.1485 - lr: 0.0010\n",
      "Epoch 9/20\n",
      "2578/2578 [==============================] - 6s 2ms/step - training_loss: 2.1591 - lr: 0.0010\n",
      "Epoch 10/20\n",
      "2578/2578 [==============================] - 6s 2ms/step - training_loss: 2.1087 - lr: 0.0010\n",
      "Epoch 11/20\n",
      "2578/2578 [==============================] - 6s 2ms/step - training_loss: 2.1555 - lr: 0.0010\n",
      "Epoch 12/20\n",
      "2578/2578 [==============================] - 6s 2ms/step - training_loss: 2.0084 - lr: 0.0010\n",
      "Epoch 13/20\n",
      "2578/2578 [==============================] - 6s 2ms/step - training_loss: 2.0628 - lr: 0.0010\n",
      "Epoch 14/20\n",
      "2578/2578 [==============================] - 6s 2ms/step - training_loss: 1.8369 - lr: 0.0010\n",
      "Epoch 15/20\n",
      "2578/2578 [==============================] - 6s 2ms/step - training_loss: 1.8813 - lr: 0.0010\n",
      "Epoch 16/20\n",
      "2578/2578 [==============================] - 6s 2ms/step - training_loss: 1.5366 - lr: 3.6788e-04\n",
      "Epoch 17/20\n",
      "2578/2578 [==============================] - 6s 2ms/step - training_loss: 1.4179 - lr: 1.3534e-04\n",
      "Epoch 18/20\n",
      "2578/2578 [==============================] - 6s 2ms/step - training_loss: 1.3585 - lr: 4.9787e-05\n",
      "Epoch 19/20\n",
      "2578/2578 [==============================] - 6s 2ms/step - training_loss: 1.3308 - lr: 1.8316e-05\n",
      "Epoch 20/20\n",
      "2578/2578 [==============================] - 6s 2ms/step - training_loss: 1.3217 - lr: 6.7379e-06\n",
      "1.3909865633818292\n",
      "1.3166823056474437\n",
      "Epoch 1/15\n",
      "645/645 [==============================] - 2s 3ms/step - training_loss: 2.2556 - lr: 0.0010\n",
      "Epoch 2/15\n",
      "645/645 [==============================] - 2s 3ms/step - training_loss: 1.4962 - lr: 0.0010\n",
      "Epoch 3/15\n",
      "645/645 [==============================] - 2s 3ms/step - training_loss: 1.4598 - lr: 0.0010\n",
      "Epoch 4/15\n",
      "645/645 [==============================] - 2s 3ms/step - training_loss: 1.4289 - lr: 0.0010\n",
      "Epoch 5/15\n",
      "645/645 [==============================] - 2s 3ms/step - training_loss: 1.4498 - lr: 0.0010\n",
      "Epoch 6/15\n",
      "645/645 [==============================] - 2s 3ms/step - training_loss: 1.4159 - lr: 0.0010\n",
      "Epoch 7/15\n",
      "645/645 [==============================] - 2s 3ms/step - training_loss: 1.4162 - lr: 0.0010\n",
      "Epoch 8/15\n",
      "645/645 [==============================] - 2s 3ms/step - training_loss: 1.4366 - lr: 0.0010\n",
      "Epoch 9/15\n",
      "645/645 [==============================] - 2s 3ms/step - training_loss: 1.3045 - lr: 3.6788e-04\n",
      "Epoch 10/15\n",
      "645/645 [==============================] - 2s 3ms/step - training_loss: 1.2684 - lr: 1.3534e-04\n",
      "Epoch 11/15\n",
      "645/645 [==============================] - 2s 3ms/step - training_loss: 1.2590 - lr: 4.9787e-05\n",
      "Epoch 12/15\n",
      "645/645 [==============================] - 2s 3ms/step - training_loss: 1.2551 - lr: 1.8316e-05\n",
      "Epoch 13/15\n",
      "645/645 [==============================] - 2s 3ms/step - training_loss: 1.2532 - lr: 6.7379e-06\n",
      "Epoch 14/15\n",
      "645/645 [==============================] - 2s 3ms/step - training_loss: 1.2522 - lr: 2.4788e-06\n",
      "Epoch 15/15\n",
      "645/645 [==============================] - 2s 3ms/step - training_loss: 1.2521 - lr: 9.1188e-07\n",
      "1.3249138074626747\n",
      "1.250868723247513\n"
     ]
    }
   ],
   "source": [
    "histories =[]\n",
    "for batchsize, nepochs, lr_ann in zip([32,64,256],[20,20,15],[15,15,8]):\n",
    "    histories.append(training_cycle(batchsize, nepochs, lr_ann, 1e-3, 1.))\n",
    "    res_valid = lstm_ae.predict((valid_data,valid_mask,valid_noise, valid_params))\n",
    "    print(custom_metric((valid_data,valid_mask,valid_noise, valid_params),res_valid))\n",
    "    res_train = lstm_ae.predict((train_data[:len(valid_data)],train_mask[:len(valid_data)],train_noise[:len(valid_data)], train_params[:len(valid_data)]))\n",
    "    print(custom_metric((train_data[:len(valid_data)],train_mask[:len(valid_data)],train_noise[:len(valid_data)], train_params[:len(valid_data)]),res_train))"
   ]
  },
  {
   "cell_type": "code",
   "execution_count": 130,
   "metadata": {},
   "outputs": [],
   "source": [
    "res_valid = lstm_ae.predict((valid_data,valid_mask,valid_noise, valid_params))"
   ]
  },
  {
   "cell_type": "code",
   "execution_count": 131,
   "metadata": {},
   "outputs": [
    {
     "data": {
      "text/plain": [
       "1.3249138074626747"
      ]
     },
     "execution_count": 131,
     "metadata": {},
     "output_type": "execute_result"
    }
   ],
   "source": [
    "custom_metric((valid_data,valid_mask,valid_noise, valid_params),res_valid)"
   ]
  },
  {
   "cell_type": "code",
   "execution_count": 132,
   "metadata": {},
   "outputs": [
    {
     "data": {
      "image/png": "[encoded data removed]",
      "text/plain": [
       "<Figure size 432x288 with 1 Axes>"
      ]
     },
     "metadata": {
      "needs_background": "light"
     },
     "output_type": "display_data"
    }
   ],
   "source": [
    "plt.plot(np.append(histories[0].history['training_loss'],histories[1].history['training_loss']))\n",
    "plt.title('model loss')\n",
    "plt.ylabel('loss')\n",
    "plt.xlabel('epoch')\n",
    "plt.legend(['train', 'test'], loc='upper left')\n",
    "plt.show()"
   ]
  },
  {
   "cell_type": "code",
   "execution_count": 133,
   "metadata": {
    "id": "dsuE0P7RSsGN"
   },
   "outputs": [],
   "source": [
    "def extract_layers(main_model, starting_layer_ix, ending_layer_ix):\n",
    "    new_model = Sequential()\n",
    "    for ix in range(starting_layer_ix, ending_layer_ix):\n",
    "        curr_layer = main_model.get_layer(index=ix)\n",
    "        print(curr_layer)\n",
    "        new_model.add(curr_layer)\n",
    "    return new_model"
   ]
  },
  {
   "cell_type": "code",
   "execution_count": 134,
   "metadata": {},
   "outputs": [
    {
     "name": "stdout",
     "output_type": "stream",
     "text": [
      "<tensorflow.python.keras.layers.core.Flatten object at 0x2aabfbdd37f0>\n",
      "<tensorflow.python.keras.layers.core.Dense object at 0x2aabfbdd3e20>\n",
      "<tensorflow.python.keras.layers.core.Dense object at 0x2aabfbdcc6a0>\n",
      "<tensorflow.python.keras.layers.advanced_activations.LeakyReLU object at 0x2aabfbdcca30>\n",
      "<tensorflow.python.keras.layers.core.Dense object at 0x2aabfbdccb50>\n",
      "<tensorflow.python.keras.layers.normalization_v2.BatchNormalization object at 0x2aabfbdffdf0>\n",
      "<tensorflow.python.keras.layers.advanced_activations.LeakyReLU object at 0x2aabfba46400>\n",
      "<tensorflow.python.keras.layers.core.Dense object at 0x2aabfbdf3d00>\n",
      "<tensorflow.python.keras.layers.advanced_activations.LeakyReLU object at 0x2aabfba75e20>\n",
      "<tensorflow.python.keras.layers.core.Dense object at 0x2aabfba75df0>\n",
      "<tensorflow.python.keras.layers.core.Dense object at 0x2aabfba6ee80>\n",
      "<tensorflow.python.keras.layers.normalization_v2.BatchNormalization object at 0x2aabfba7deb0>\n",
      "<tensorflow.python.keras.layers.advanced_activations.LeakyReLU object at 0x2aabfbe2e520>\n",
      "<tensorflow.python.keras.layers.core.Dense object at 0x2aabfba55a90>\n",
      "<tensorflow.python.keras.layers.advanced_activations.LeakyReLU object at 0x2aabfbe057c0>\n",
      "<tensorflow.python.keras.layers.core.Dense object at 0x2aabfbe05850>\n",
      "<tensorflow.python.keras.layers.advanced_activations.LeakyReLU object at 0x2aabfbe0d970>\n",
      "<tensorflow.python.keras.layers.core.Dense object at 0x2aabfbe0dca0>\n",
      "<tensorflow.python.keras.layers.core.Dense object at 0x2aabfbe19280>\n",
      "<tensorflow.python.keras.engine.input_layer.InputLayer object at 0x2aace35c8100>\n",
      "<tensorflow.python.keras.engine.input_layer.InputLayer object at 0x2aabfbdd34c0>\n",
      "<tensorflow.python.keras.engine.input_layer.InputLayer object at 0x2aace35c8df0>\n"
     ]
    }
   ],
   "source": [
    "encoder = extract_layers(lstm_ae,1,11)\n",
    "\n",
    "decoder = extract_layers(lstm_ae,11,23)"
   ]
  },
  {
   "cell_type": "code",
   "execution_count": 135,
   "metadata": {},
   "outputs": [],
   "source": [
    "encoder.build((None,fixed_num_bins))\n",
    "decoder.build((None,latent_dim))"
   ]
  },
  {
   "cell_type": "code",
   "execution_count": 136,
   "metadata": {},
   "outputs": [
    {
     "name": "stdout",
     "output_type": "stream",
     "text": [
      "Model: \"sequential_8\"\n",
      "_________________________________________________________________\n",
      "Layer (type)                 Output Shape              Param #   \n",
      "=================================================================\n",
      "flatten_5 (Flatten)          (None, 1000)              0         \n",
      "_________________________________________________________________\n",
      "dense_50 (Dense)             (None, 512)               512512    \n",
      "_________________________________________________________________\n",
      "dense_51 (Dense)             (None, 256)               131328    \n",
      "_________________________________________________________________\n",
      "leaky_re_lu_30 (LeakyReLU)   (None, 256)               0         \n",
      "_________________________________________________________________\n",
      "dense_52 (Dense)             (None, 64)                16448     \n",
      "_________________________________________________________________\n",
      "batch_normalization_28 (Batc (None, 64)                256       \n",
      "_________________________________________________________________\n",
      "leaky_re_lu_31 (LeakyReLU)   (None, 64)                0         \n",
      "_________________________________________________________________\n",
      "dense_53 (Dense)             (None, 16)                1040      \n",
      "_________________________________________________________________\n",
      "leaky_re_lu_32 (LeakyReLU)   (None, 16)                0         \n",
      "_________________________________________________________________\n",
      "dense_54 (Dense)             (None, 8)                 136       \n",
      "=================================================================\n",
      "Total params: 661,720\n",
      "Trainable params: 661,464\n",
      "Non-trainable params: 256\n",
      "_________________________________________________________________\n",
      "Model: \"sequential_9\"\n",
      "_________________________________________________________________\n",
      "Layer (type)                 Output Shape              Param #   \n",
      "=================================================================\n",
      "dense_55 (Dense)             (None, 16)                144       \n",
      "_________________________________________________________________\n",
      "batch_normalization_29 (Batc (None, 16)                64        \n",
      "_________________________________________________________________\n",
      "leaky_re_lu_33 (LeakyReLU)   (None, 16)                0         \n",
      "_________________________________________________________________\n",
      "dense_56 (Dense)             (None, 64)                1088      \n",
      "_________________________________________________________________\n",
      "leaky_re_lu_34 (LeakyReLU)   (None, 64)                0         \n",
      "_________________________________________________________________\n",
      "dense_57 (Dense)             (None, 256)               16640     \n",
      "_________________________________________________________________\n",
      "leaky_re_lu_35 (LeakyReLU)   (None, 256)               0         \n",
      "_________________________________________________________________\n",
      "dense_58 (Dense)             (None, 512)               131584    \n",
      "_________________________________________________________________\n",
      "dense_59 (Dense)             (None, 1000)              513000    \n",
      "_________________________________________________________________\n",
      "input_23 (InputLayer)        [(None, 1000, 1)]         0         \n",
      "_________________________________________________________________\n",
      "input_24 (InputLayer)        [(None, 1000, 1)]         0         \n",
      "_________________________________________________________________\n",
      "input_22 (InputLayer)        [(None, 1)]               0         \n",
      "=================================================================\n",
      "Total params: 662,520\n",
      "Trainable params: 662,456\n",
      "Non-trainable params: 64\n",
      "_________________________________________________________________\n"
     ]
    }
   ],
   "source": [
    "encoder.summary()\n",
    "decoder.summary()"
   ]
  },
  {
   "cell_type": "code",
   "execution_count": 137,
   "metadata": {},
   "outputs": [],
   "source": [
    "encoded_valid = encoder.predict(valid_data)\n",
    "encoded_train = encoder.predict(train_data)\n",
    "encoded_test = encoder.predict(test_data)"
   ]
  },
  {
   "cell_type": "code",
   "execution_count": 138,
   "metadata": {},
   "outputs": [],
   "source": [
    "decoded_valid = decoder.predict(encoded_valid)\n",
    "decoded_train = decoder.predict(encoded_train)\n",
    "decoded_test = decoder.predict(encoded_test)"
   ]
  },
  {
   "cell_type": "code",
   "execution_count": 139,
   "metadata": {},
   "outputs": [
    {
     "name": "stdout",
     "output_type": "stream",
     "text": [
      "INFO:tensorflow:Assets written to: /global/cscratch1/sd/vboehm/Models/SDSS_AE/encoder_galaxies_quasars_bins1000_wl3388-8318_minz01_maxz036_minSN50_8_fully_connected_xlarge_std_one_batch/assets\n",
      "INFO:tensorflow:Assets written to: /global/cscratch1/sd/vboehm/Models/SDSS_AE/decoder_galaxies_quasars_bins1000_wl3388-8318_minz01_maxz036_minSN50_8_fully_connected_xlarge_std_one_batch/assets\n",
      "/global/cscratch1/sd/vboehm/Models/SDSS_AE/decoder_galaxies_quasars_bins1000_wl3388-8318_minz01_maxz036_minSN50_8_fully_connected_xlarge_std_one_batch\n"
     ]
    }
   ],
   "source": [
    "path = os.path.join(root_models,'encoder_%s'%label_2)\n",
    "encoder.save(path)\n",
    "path = os.path.join(root_models,'decoder_%s'%label_2)\n",
    "decoder.save(path)\n",
    "print(path)"
   ]
  },
  {
   "cell_type": "code",
   "execution_count": 140,
   "metadata": {},
   "outputs": [
    {
     "name": "stdout",
     "output_type": "stream",
     "text": [
      "WARNING:tensorflow:No training configuration found in save file, so the model was *not* compiled. Compile it manually.\n",
      "WARNING:tensorflow:No training configuration found in save file, so the model was *not* compiled. Compile it manually.\n"
     ]
    }
   ],
   "source": [
    "path = os.path.join(root_models,'encoder_%s'%label_2)\n",
    "encoder = tf.keras.models.load_model(path)\n",
    "path = os.path.join(root_models,'decoder_%s'%label_2)\n",
    "decoder = tf.keras.models.load_model(path)"
   ]
  },
  {
   "cell_type": "code",
   "execution_count": 141,
   "metadata": {},
   "outputs": [],
   "source": [
    "np.save(os.path.join(root_encoded,'encoded_%s.npy'%label_2),[encoded_train, encoded_valid, encoded_test])\n",
    "encoded_train, encoded_valid, encoded_test = np.load(os.path.join(root_encoded,'encoded_%s.npy'%label_2), allow_pickle=True)"
   ]
  },
  {
   "cell_type": "code",
   "execution_count": 142,
   "metadata": {},
   "outputs": [],
   "source": [
    "np.save(os.path.join(root_decoded,'decoded_%s.npy'%label_2),[decoded_train,decoded_valid, decoded_test])"
   ]
  },
  {
   "cell_type": "raw",
   "metadata": {},
   "source": []
  },
  {
   "cell_type": "code",
   "execution_count": 143,
   "metadata": {},
   "outputs": [
    {
     "data": {
      "image/png": "[encoded data removed]",
      "text/plain": [
       "<Figure size 432x288 with 1 Axes>"
      ]
     },
     "metadata": {
      "needs_background": "light"
     },
     "output_type": "display_data"
    }
   ],
   "source": [
    "_=plt.hist(encoded_valid.flatten(),bins=1000,density=True, range=(-100,100))\n",
    "_=plt.hist(encoded_train.flatten(),bins=1000,density=True, alpha=0.5, range=(-100,100))"
   ]
  },
  {
   "cell_type": "code",
   "execution_count": 144,
   "metadata": {},
   "outputs": [
    {
     "data": {
      "text/plain": [
       "47133"
      ]
     },
     "execution_count": 144,
     "metadata": {},
     "output_type": "execute_result"
    }
   ],
   "source": [
    "len(encoded_valid)"
   ]
  },
  {
   "cell_type": "code",
   "execution_count": null,
   "metadata": {},
   "outputs": [],
   "source": [
    "fig, ax = plt.subplots(2,4, figsize=(20,4))\n",
    "ax=ax.flatten()\n",
    "for ii in range(latent_dim):\n",
    "    jj= (ii+1)%latent_dim\n",
    "    im = ax[ii].scatter(encoded_valid[:,ii],encoded_valid[:,jj],c=valid_params, cmap='nipy_spectral',s=1)\n",
    "    plt.colorbar(im, ax=ax[ii])\n",
    "    ax[ii].set_xlim(-100,100)\n",
    "    ax[ii].set_ylim(-100,100)\n",
    "plt.show()\n",
    "\n",
    "fig, ax = plt.subplots(2,4, figsize=(20,4))\n",
    "ax=ax.flatten()\n",
    "for ii in range(latent_dim):\n",
    "    jj= (ii+1)%latent_dim\n",
    "    im = ax[ii].scatter(encoded_train[:47000,ii],encoded_train[:47000,jj],c=train_params[:47000], cmap='nipy_spectral',s=1)\n",
    "    plt.colorbar(im, ax=ax[ii])\n",
    "    ax[ii].set_xlim(-100,100)\n",
    "    ax[ii].set_ylim(-100,100)\n",
    "plt.show()"
   ]
  },
  {
   "cell_type": "code",
   "execution_count": null,
   "metadata": {},
   "outputs": [],
   "source": [
    "from sklearn import preprocessing\n",
    "le = preprocessing.LabelEncoder()\n",
    "le.fit(sublabel)\n",
    "print(le.classes_, le.transform(le.classes_))"
   ]
  },
  {
   "cell_type": "code",
   "execution_count": null,
   "metadata": {},
   "outputs": [],
   "source": [
    "fig, ax = plt.subplots(2,4, figsize=(20,4))\n",
    "ax=ax.flatten()\n",
    "for ii in range(latent_dim):\n",
    "    jj= (ii+1)%latent_dim\n",
    "    im = ax[ii].scatter(encoded_valid[:,ii],encoded_valid[:,jj],c=le.transform(valid_labels), cmap='Set1', s=1)\n",
    "    plt.colorbar(im, ax=ax[ii])\n",
    "    ax[ii].set_xlim(-100,100)\n",
    "    ax[ii].set_ylim(-100,100)\n",
    "plt.show()\n",
    "\n",
    "fig, ax = plt.subplots(2,4, figsize=(20,4))\n",
    "ax=ax.flatten()\n",
    "for ii in range(latent_dim):\n",
    "    jj= (ii+1)%latent_dim\n",
    "    im = ax[ii].scatter(encoded_train[:47000,ii],encoded_train[:47000,jj],c=le.transform(train_labels)[:47000], cmap='Set1', s=1)\n",
    "    plt.colorbar(im, ax=ax[ii])\n",
    "    ax[ii].set_xlim(-100,100)\n",
    "    ax[ii].set_ylim(-100,100)\n",
    "plt.show()"
   ]
  },
  {
   "cell_type": "code",
   "execution_count": null,
   "metadata": {},
   "outputs": [],
   "source": [
    "style_list=['dark_background']\n",
    "# Plot a demonstration figure for every available style sheet.\n",
    "for style_label in style_list:\n",
    "    with plt.rc_context({\"figure.max_open_warning\": len(style_list)}):\n",
    "        with plt.style.context(style_label):\n",
    "            fig, ax = plt.subplots(5,5, figsize=(25,15))\n",
    "            ax = ax.flatten()\n",
    "            for nn, ii in enumerate(np.arange(25)):\n",
    "                ax[nn].plot(new_wl[:-1], (np.squeeze(valid_data*std)[ii]+mean)*np.squeeze(valid_mask)[ii], )\n",
    "                ax[nn].plot(new_wl[:-1], (np.squeeze(decoded_valid*std)[ii]+mean)*np.squeeze(valid_mask)[ii], color='orange')\n",
    "                ax[nn].plot(new_wl[:-1], (np.squeeze(decoded_valid*std)[ii]+mean), color='red')\n",
    "                ax[nn].text(0.05, 0.92, r'z=%.2f'%valid_params[ii], fontsize=15, color='white',verticalalignment='top', horizontalalignment='left', transform=ax[nn].transAxes)\n",
    "                ax[nn].text(0.05, 0.82, r'label=%s,%s'%(valid_labels[ii],valid_cat[ii]), fontsize=15, color='white',verticalalignment='top', horizontalalignment='left', transform=ax[nn].transAxes)\n",
    "plt.show()"
   ]
  },
  {
   "cell_type": "code",
   "execution_count": null,
   "metadata": {},
   "outputs": [],
   "source": [
    "enc = encoder.predict(train_data)"
   ]
  },
  {
   "cell_type": "code",
   "execution_count": null,
   "metadata": {},
   "outputs": [],
   "source": [
    "sens=[]\n",
    "for ii in range(latent_dim):\n",
    "    res = np.mean(enc,axis=0)\n",
    "    res[ii]+=1\n",
    "    sens+=[res]\n",
    "for ii in range(latent_dim):\n",
    "    res = np.mean(enc,axis=0)\n",
    "    res[ii]-=1\n",
    "    sens+=[res]\n",
    "sens+=[np.mean(enc,axis=0)]\n",
    "sens = np.asarray(sens)\n",
    "test = decoder.predict(sens)\n",
    "\n",
    "for ii in range(8):\n",
    "    plt.plot(test[ii]-test[8+ii])\n",
    "    plt.show()"
   ]
  },
  {
   "cell_type": "code",
   "execution_count": null,
   "metadata": {},
   "outputs": [],
   "source": []
  },
  {
   "cell_type": "code",
   "execution_count": null,
   "metadata": {},
   "outputs": [],
   "source": []
  }
 ],
 "metadata": {
  "accelerator": "GPU",
  "colab": {
   "authorship_tag": "ABX9TyNbeXyhiihZQbSo0juhrHje",
   "collapsed_sections": [],
   "include_colab_link": true,
   "name": "LSTM-AE.ipynb",
   "provenance": []
  },
  "kernelspec": {
   "display_name": "tf22",
   "language": "python",
   "name": "tf22"
  },
  "language_info": {
   "codemirror_mode": {
    "name": "ipython",
    "version": 3
   },
   "file_extension": ".py",
   "mimetype": "text/x-python",
   "name": "python",
   "nbconvert_exporter": "python",
   "pygments_lexer": "ipython3",
   "version": "3.8.3"
  }
 },
 "nbformat": 4,
 "nbformat_minor": 4
}
