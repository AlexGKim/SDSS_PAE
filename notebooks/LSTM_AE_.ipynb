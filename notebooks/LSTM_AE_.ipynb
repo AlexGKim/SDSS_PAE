{
 "cells": [
  {
   "cell_type": "markdown",
   "metadata": {
    "colab_type": "text",
    "id": "view-in-github"
   },
   "source": [
    "<a href=\"https://colab.research.google.com/github/VMBoehm/SDSS_PAE/blob/main/LSTM_AE.ipynb\" target=\"_parent\"><img src=\"https://colab.research.google.com/assets/colab-badge.svg\" alt=\"Open In Colab\"/></a>"
   ]
  },
  {
   "cell_type": "markdown",
   "metadata": {
    "id": "IqDqXXTQ1FMN"
   },
   "source": [
    "# Template and tests for an LSTM Auto-Encoder\n"
   ]
  },
  {
   "cell_type": "code",
   "execution_count": 1,
   "metadata": {
    "id": "ZcR4zT3V8dMc"
   },
   "outputs": [],
   "source": [
    "import numpy as np\n",
    "import scipy\n",
    "from scipy.stats import special_ortho_group\n",
    "import matplotlib.pyplot as plt\n",
    "\n",
    "import scipy\n",
    "\n",
    "from tensorflow.keras.models import Sequential, Model\n",
    "from tensorflow.keras.layers import LSTM, Layer\n",
    "from tensorflow.keras.layers import Dense\n",
    "from tensorflow.keras.layers import RepeatVector\n",
    "from tensorflow.keras.layers import TimeDistributed, Input, Lambda, Masking\n",
    "import tensorflow.keras.backend as K"
   ]
  },
  {
   "cell_type": "markdown",
   "metadata": {
    "id": "6ZME24z11ITl"
   },
   "source": [
    "#### create some fake data\n",
    "\n"
   ]
  },
  {
   "cell_type": "code",
   "execution_count": 2,
   "metadata": {
    "id": "7MxfZz8izYYS"
   },
   "outputs": [],
   "source": [
    "dim = 30\n",
    "Nsamples = 50000\n",
    "eig = np.logspace(-3,3,dim)\n",
    "R   = scipy.stats.special_ortho_group.rvs(dim)\n",
    "cov = np.dot(R,np.dot(np.diag(eig), R.T))\n",
    "L   = np.linalg.cholesky(cov)"
   ]
  },
  {
   "cell_type": "code",
   "execution_count": 3,
   "metadata": {
    "id": "4QU5VAOd8Vy0"
   },
   "outputs": [],
   "source": [
    "data  = np.expand_dims(np.einsum('jk,ik->ij',L,np.random.randn(Nsamples,dim),optimize=True),-1)\n",
    "masks = np.random.random(data.shape)<0.75"
   ]
  },
  {
   "cell_type": "code",
   "execution_count": 4,
   "metadata": {
    "id": "5jDwvytVRJeu"
   },
   "outputs": [],
   "source": [
    "m_data = data*masks"
   ]
  },
  {
   "cell_type": "code",
   "execution_count": 5,
   "metadata": {
    "colab": {
     "base_uri": "https://localhost:8080/",
     "height": 283
    },
    "id": "JmmIo8ZS8h06",
    "outputId": "56a91311-8093-4e51-f957-c85dedf5604b"
   },
   "outputs": [
    {
     "data": {
      "text/plain": [
       "[<matplotlib.lines.Line2D at 0x2aab3c7d7d30>]"
      ]
     },
     "execution_count": 5,
     "metadata": {},
     "output_type": "execute_result"
    },
    {
     "data": {
      "image/png": "[encoded data removed]",
      "text/plain": [
       "<Figure size 432x288 with 1 Axes>"
      ]
     },
     "metadata": {
      "needs_background": "light"
     },
     "output_type": "display_data"
    }
   ],
   "source": [
    "plt.plot(data[0], ls='', marker='o')\n",
    "plt.plot(m_data[0], ls='', marker='+')"
   ]
  },
  {
   "cell_type": "code",
   "execution_count": 6,
   "metadata": {
    "id": "beEnDqGV9f-9"
   },
   "outputs": [],
   "source": [
    "data_train = data[0:30000]\n",
    "data_val   = data[30000:40000]\n",
    "data_test  = data[40000:50000]"
   ]
  },
  {
   "cell_type": "markdown",
   "metadata": {
    "id": "923O5Fex-Kfg"
   },
   "source": [
    "### write a simple LSTM model"
   ]
  },
  {
   "cell_type": "code",
   "execution_count": 7,
   "metadata": {
    "colab": {
     "base_uri": "https://localhost:8080/"
    },
    "id": "b0sQyEd6-dhq",
    "outputId": "8e9b7513-56a3-4bea-bbc6-34c587a4f6d4"
   },
   "outputs": [
    {
     "name": "stdout",
     "output_type": "stream",
     "text": [
      "Model: \"model\"\n",
      "_________________________________________________________________\n",
      "Layer (type)                 Output Shape              Param #   \n",
      "=================================================================\n",
      "input_1 (InputLayer)         [(None, 30, 1)]           0         \n",
      "_________________________________________________________________\n",
      "masking (Masking)            (None, 30, 1)             0         \n",
      "_________________________________________________________________\n",
      "bottleneck (bottleneck)      (None, 30, 10)            480       \n",
      "_________________________________________________________________\n",
      "lstm_1 (LSTM)                (None, 30, 10)            840       \n",
      "_________________________________________________________________\n",
      "dense (Dense)                (None, 30, 1)             11        \n",
      "=================================================================\n",
      "Total params: 1,331\n",
      "Trainable params: 1,331\n",
      "Non-trainable params: 0\n",
      "_________________________________________________________________\n",
      "None\n"
     ]
    }
   ],
   "source": [
    "latent_dim = 10\n",
    "\n",
    "class bottleneck(Layer):\n",
    "    def __init__(self, units, dim, **kwargs):\n",
    "        self.units  = units\n",
    "        self.dim    = dim\n",
    "        self.LSTM   = LSTM(units, return_sequences=False)\n",
    "        self.Repeat = RepeatVector(dim)\n",
    "        super(bottleneck, self).__init__(**kwargs)\n",
    "\n",
    "    def call(self, inputs):\n",
    "        return self.Repeat(self.LSTM(inputs))\n",
    "\n",
    "    def compute_mask(self, inputs, mask=None):\n",
    "        return mask\n",
    "\n",
    "\n",
    "input = Input(shape=(dim, 1))\n",
    "x     = Masking(mask_value=0)(input)\n",
    "x     = bottleneck(units=latent_dim, dim=dim)(x)\n",
    "x     = LSTM(latent_dim, return_sequences=True)(x)\n",
    "x     = Dense(1)(x)\n",
    "lstm_ae = Model(inputs=input, outputs=x)\n",
    "lstm_ae.compile(optimizer='adam', loss='mse')\n",
    "print(lstm_ae.summary())"
   ]
  },
  {
   "cell_type": "code",
   "execution_count": 8,
   "metadata": {
    "colab": {
     "base_uri": "https://localhost:8080/"
    },
    "id": "E0trUq_YjlHr",
    "outputId": "6d7a81d1-edee-4536-82e3-c82f34d70222"
   },
   "outputs": [
    {
     "name": "stdout",
     "output_type": "stream",
     "text": [
      "layer 0: <tensorflow.python.keras.engine.input_layer.InputLayer object at 0x2aab3c847340>\n",
      "has input mask: None\n",
      "has output mask: None\n",
      "layer 1: <tensorflow.python.keras.layers.core.Masking object at 0x2aab3c847a60>\n",
      "has input mask: None\n",
      "has output mask: Tensor(\"masking/Identity_1:0\", shape=(None, 30), dtype=bool)\n",
      "layer 2: <__main__.bottleneck object at 0x2aab3c8809a0>\n",
      "has input mask: Tensor(\"masking/Identity_1:0\", shape=(None, 30), dtype=bool)\n",
      "has output mask: Tensor(\"masking/Identity_1:0\", shape=(None, 30), dtype=bool)\n",
      "layer 3: <tensorflow.python.keras.layers.recurrent_v2.LSTM object at 0x2aab3c8808b0>\n",
      "has input mask: Tensor(\"masking/Identity_1:0\", shape=(None, 30), dtype=bool)\n",
      "has output mask: Tensor(\"masking/Identity_1:0\", shape=(None, 30), dtype=bool)\n",
      "layer 4: <tensorflow.python.keras.layers.core.Dense object at 0x2aab4fe84850>\n",
      "has input mask: Tensor(\"masking/Identity_1:0\", shape=(None, 30), dtype=bool)\n",
      "has output mask: Tensor(\"masking/Identity_1:0\", shape=(None, 30), dtype=bool)\n"
     ]
    }
   ],
   "source": [
    "for i, l in enumerate(lstm_ae.layers):\n",
    "    print(f'layer {i}: {l}')\n",
    "    print(f'has input mask: {l.input_mask}')\n",
    "    print(f'has output mask: {l.output_mask}')"
   ]
  },
  {
   "cell_type": "code",
   "execution_count": 9,
   "metadata": {
    "colab": {
     "base_uri": "https://localhost:8080/"
    },
    "id": "YBC_DUoQDfc4",
    "outputId": "71223b29-ac86-44df-c137-4b787686051b"
   },
   "outputs": [
    {
     "name": "stdout",
     "output_type": "stream",
     "text": [
      "Epoch 1/20\n",
      "1875/1875 - 11s - loss: 82.3586 - val_loss: 77.8874\n",
      "Epoch 2/20\n",
      "1875/1875 - 10s - loss: 74.9177 - val_loss: 73.4567\n",
      "Epoch 3/20\n",
      "1875/1875 - 10s - loss: 71.3444 - val_loss: 70.0097\n",
      "Epoch 4/20\n",
      "1875/1875 - 10s - loss: 68.3172 - val_loss: 67.7226\n",
      "Epoch 5/20\n",
      "1875/1875 - 10s - loss: 64.8715 - val_loss: 63.0571\n",
      "Epoch 6/20\n",
      "1875/1875 - 10s - loss: 61.8221 - val_loss: 59.3524\n",
      "Epoch 7/20\n",
      "1875/1875 - 10s - loss: 58.4117 - val_loss: 57.1503\n",
      "Epoch 8/20\n",
      "1875/1875 - 10s - loss: 57.2887 - val_loss: 55.4478\n",
      "Epoch 9/20\n",
      "1875/1875 - 10s - loss: 57.5177 - val_loss: 55.5011\n",
      "Epoch 10/20\n",
      "1875/1875 - 10s - loss: 55.7155 - val_loss: 53.2244\n",
      "Epoch 11/20\n",
      "1875/1875 - 10s - loss: 56.2373 - val_loss: 53.4755\n",
      "Epoch 12/20\n",
      "1875/1875 - 10s - loss: 53.5568 - val_loss: 51.5432\n",
      "Epoch 13/20\n",
      "1875/1875 - 10s - loss: 52.3429 - val_loss: 53.9487\n",
      "Epoch 14/20\n",
      "1875/1875 - 10s - loss: 51.3543 - val_loss: 50.8125\n",
      "Epoch 15/20\n",
      "1875/1875 - 10s - loss: 52.7888 - val_loss: 49.0441\n",
      "Epoch 16/20\n",
      "1875/1875 - 10s - loss: 48.0850 - val_loss: 48.0932\n",
      "Epoch 17/20\n",
      "1875/1875 - 10s - loss: 52.5337 - val_loss: 58.6703\n",
      "Epoch 18/20\n",
      "1875/1875 - 10s - loss: 53.7377 - val_loss: 80.6077\n",
      "Epoch 19/20\n",
      "1875/1875 - 10s - loss: 58.8671 - val_loss: 51.2364\n",
      "Epoch 20/20\n",
      "1875/1875 - 10s - loss: 50.7213 - val_loss: 50.3005\n"
     ]
    }
   ],
   "source": [
    "history = lstm_ae.fit(data_train, data_train, validation_data=(data_val, data_val), batch_size=16, epochs=20, verbose=2)"
   ]
  },
  {
   "cell_type": "code",
   "execution_count": 10,
   "metadata": {
    "id": "dsuE0P7RSsGN"
   },
   "outputs": [],
   "source": [
    "def extract_layers(main_model, starting_layer_ix, ending_layer_ix):\n",
    "  # create an empty model\n",
    "  new_model = Sequential()\n",
    "  for ix in range(starting_layer_ix, ending_layer_ix + 1):\n",
    "    curr_layer = main_model.get_layer(index=ix)\n",
    "    # copy this layer over to the new model\n",
    "    new_model.add(curr_layer)\n",
    "  return new_model"
   ]
  },
  {
   "cell_type": "code",
   "execution_count": 11,
   "metadata": {
    "id": "pHzHwMS0SgJM"
   },
   "outputs": [],
   "source": [
    "encoder = Model(inputs=lstm_ae.inputs, outputs=lstm_ae.layers[2].output)\n",
    "encoded = encoder.predict(data_val)\n",
    "# decoder = extract_layers(model, 1, -1)\n",
    "recon   = lstm_ae.predict(data_test)"
   ]
  },
  {
   "cell_type": "code",
   "execution_count": 12,
   "metadata": {
    "colab": {
     "base_uri": "https://localhost:8080/"
    },
    "id": "KDy5Q4LYw6JR",
    "outputId": "c1a56b8f-c9bd-47fc-ee1a-f2c55fa5b09e"
   },
   "outputs": [
    {
     "data": {
      "text/plain": [
       "(10000, 30, 10)"
      ]
     },
     "execution_count": 12,
     "metadata": {},
     "output_type": "execute_result"
    }
   ],
   "source": [
    "encoded.shape"
   ]
  },
  {
   "cell_type": "code",
   "execution_count": 13,
   "metadata": {
    "colab": {
     "base_uri": "https://localhost:8080/",
     "height": 283
    },
    "id": "sTYQotQOMdyn",
    "outputId": "9bdc34e6-0eff-498e-ef46-a13a9b49e816"
   },
   "outputs": [
    {
     "data": {
      "text/plain": [
       "[<matplotlib.lines.Line2D at 0x2aabcef8ea30>]"
      ]
     },
     "execution_count": 13,
     "metadata": {},
     "output_type": "execute_result"
    },
    {
     "data": {
      "image/png": "[encoded data removed]",
      "text/plain": [
       "<Figure size 432x288 with 1 Axes>"
      ]
     },
     "metadata": {
      "needs_background": "light"
     },
     "output_type": "display_data"
    }
   ],
   "source": [
    "plt.plot(data_test[0])\n",
    "plt.plot(recon[0])"
   ]
  },
  {
   "cell_type": "code",
   "execution_count": null,
   "metadata": {
    "id": "Cx8kM9t2K4uM"
   },
   "outputs": [],
   "source": []
  }
 ],
 "metadata": {
  "accelerator": "GPU",
  "colab": {
   "authorship_tag": "ABX9TyNbeXyhiihZQbSo0juhrHje",
   "collapsed_sections": [],
   "include_colab_link": true,
   "name": "LSTM-AE.ipynb",
   "provenance": []
  },
  "kernelspec": {
   "display_name": "tf22",
   "language": "python",
   "name": "tf22"
  },
  "language_info": {
   "codemirror_mode": {
    "name": "ipython",
    "version": 3
   },
   "file_extension": ".py",
   "mimetype": "text/x-python",
   "name": "python",
   "nbconvert_exporter": "python",
   "pygments_lexer": "ipython3",
   "version": "3.8.3"
  }
 },
 "nbformat": 4,
 "nbformat_minor": 4
}
