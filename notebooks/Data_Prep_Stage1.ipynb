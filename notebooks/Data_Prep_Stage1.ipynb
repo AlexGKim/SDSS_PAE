{
 "cells": [
  {
   "cell_type": "markdown",
   "metadata": {
    "colab_type": "text",
    "id": "view-in-github"
   },
   "source": [
    "<a href=\"https://colab.research.google.com/github/VMBoehm/SDSS_PAE/blob/main/LSTM_AE.ipynb\" target=\"_parent\"><img src=\"https://colab.research.google.com/assets/colab-badge.svg\" alt=\"Open In Colab\"/></a>"
   ]
  },
  {
   "cell_type": "markdown",
   "metadata": {
    "id": "IqDqXXTQ1FMN"
   },
   "source": [
    "# Template and tests for an LSTM Auto-Encoder\n"
   ]
  },
  {
   "cell_type": "code",
   "execution_count": 1,
   "metadata": {},
   "outputs": [],
   "source": [
    "import tensorflow as tf"
   ]
  },
  {
   "cell_type": "code",
   "execution_count": 2,
   "metadata": {},
   "outputs": [
    {
     "data": {
      "text/plain": [
       "[PhysicalDevice(name='/physical_device:GPU:0', device_type='GPU')]"
      ]
     },
     "execution_count": 2,
     "metadata": {},
     "output_type": "execute_result"
    }
   ],
   "source": [
    "tf.config.list_physical_devices('GPU')"
   ]
  },
  {
   "cell_type": "code",
   "execution_count": 3,
   "metadata": {},
   "outputs": [
    {
     "data": {
      "text/plain": [
       "'2.2.0'"
      ]
     },
     "execution_count": 3,
     "metadata": {},
     "output_type": "execute_result"
    }
   ],
   "source": [
    "tf.__version__"
   ]
  },
  {
   "cell_type": "code",
   "execution_count": 4,
   "metadata": {},
   "outputs": [],
   "source": [
    "from astropy.cosmology import Planck18_arXiv_v2 as cosmo"
   ]
  },
  {
   "cell_type": "code",
   "execution_count": 5,
   "metadata": {},
   "outputs": [],
   "source": [
    "import tensorflow_datasets as tfds"
   ]
  },
  {
   "cell_type": "code",
   "execution_count": 6,
   "metadata": {
    "id": "ZcR4zT3V8dMc"
   },
   "outputs": [],
   "source": [
    "import numpy as np\n",
    "import scipy\n",
    "import matplotlib.pyplot as plt"
   ]
  },
  {
   "cell_type": "code",
   "execution_count": 8,
   "metadata": {},
   "outputs": [],
   "source": [
    "# # ! pip install tensorflow-probability==0.11.0\n",
    "# ! pip install --user -e /global/homes/v/vboehm/codes/SDSS_PAE/    "
   ]
  },
  {
   "cell_type": "markdown",
   "metadata": {
    "id": "6ZME24z11ITl"
   },
   "source": [
    "#### load some SDSS data\n"
   ]
  },
  {
   "cell_type": "code",
   "execution_count": 9,
   "metadata": {},
   "outputs": [],
   "source": [
    "import sdss_pae.sdss_dataset as sdss "
   ]
  },
  {
   "cell_type": "code",
   "execution_count": 10,
   "metadata": {},
   "outputs": [],
   "source": [
    "ds, info = tfds.load('sdss', data_dir='/global/cscratch1/sd/vboehm/Datasets/SDSS_BOSS_data_verylarge_IDs',with_info=True, split='train')"
   ]
  },
  {
   "cell_type": "code",
   "execution_count": 11,
   "metadata": {},
   "outputs": [
    {
     "data": {
      "text/plain": [
       "tfds.core.DatasetInfo(\n",
       "    name='sdss',\n",
       "    version=1.0.0,\n",
       "    description='selected features from spAll and spZbest files \n",
       "'flux': measured spectrum in  \n",
       "'inv_var': inverse variance\n",
       "'and_mask': and mask (set to 1 for all non-zero entries)\n",
       "'coeffs': c0, c1, npix. calculate wavelengths with `10.**(c0 + c1 * np.arange(npix))`\n",
       "'label': type of object, 'STAR'==0, 'QSO'==1, 'GALAXY'==2\n",
       "'redshift': object redshift estimate',\n",
       "    homepage='https://www.sdss.org/science/data-release-publications/',\n",
       "    features=FeaturesDict({\n",
       "        'DEC': tf.float32,\n",
       "        'MJD': tf.int32,\n",
       "        'RA': tf.float32,\n",
       "        'ZWARNING': tf.int32,\n",
       "        'and_mask': Tensor(shape=(None, 1), dtype=tf.int32),\n",
       "        'coeffs': Tensor(shape=(3, 1), dtype=tf.float32),\n",
       "        'fiber': tf.int32,\n",
       "        'filename': Text(shape=(), dtype=tf.string),\n",
       "        'flux': Tensor(shape=(None, 1), dtype=tf.float32),\n",
       "        'inv_var': Tensor(shape=(None, 1), dtype=tf.float32),\n",
       "        'label': ClassLabel(shape=(), dtype=tf.int64, num_classes=3),\n",
       "        'plate': tf.int32,\n",
       "        'redshift': tf.float32,\n",
       "        'sublabel': Text(shape=(), dtype=tf.string),\n",
       "    }),\n",
       "    total_num_examples=1000000,\n",
       "    splits={\n",
       "        'train': 1000000,\n",
       "    },\n",
       "    supervised_keys=None,\n",
       "    citation=\"\"\"\"\"\",\n",
       "    redistribution_info=,\n",
       ")"
      ]
     },
     "execution_count": 11,
     "metadata": {},
     "output_type": "execute_result"
    }
   ],
   "source": [
    "info\n"
   ]
  },
  {
   "cell_type": "code",
   "execution_count": 12,
   "metadata": {},
   "outputs": [],
   "source": [
    "#### settings\n",
    "wlmin, wlmax    = (3388,8318)\n",
    "fixed_num_bins  = 1000\n",
    "select_by       = 2\n",
    "de_redshift     = True\n",
    "label           = 'galaxies_bins1000_wl3388-8318'"
   ]
  },
  {
   "cell_type": "code",
   "execution_count": 13,
   "metadata": {},
   "outputs": [],
   "source": [
    "z_ref  = 0.1\n",
    "ld_ref = cosmo.luminosity_distance(z_ref)"
   ]
  },
  {
   "cell_type": "code",
   "execution_count": 14,
   "metadata": {},
   "outputs": [],
   "source": [
    "# filter dataset by redshifts and type\n",
    "\n",
    "def filter_type_fn(x):\n",
    "    if select_by is not None:\n",
    "        return tf.math.equal(x['label'], select_by)\n",
    "    else: return 1\n",
    "    \n",
    "def filter_zwarning_fn(x):\n",
    "    if select_by is not None:\n",
    "        return tf.math.equal(x['ZWARNING'], 0)\n",
    "    else: return 1\n",
    "    \n",
    "def filter_redshift_fn(x):\n",
    "    if select_by is not None:\n",
    "        return tf.math.greater(x['redshift'], 0)\n",
    "    else: return 1\n",
    "\n",
    "ds = ds.filter(filter_type_fn)\n",
    "ds = ds.filter(filter_redshift_fn)\n",
    "ds = ds.filter(filter_zwarning_fn)"
   ]
  },
  {
   "cell_type": "code",
   "execution_count": 22,
   "metadata": {},
   "outputs": [
    {
     "name": "stdout",
     "output_type": "stream",
     "text": [
      "size of subselected data: 478539\n"
     ]
    }
   ],
   "source": [
    "DATASET_SIZE=len(list(ds))\n",
    "print('size of subselected data:', DATASET_SIZE)"
   ]
  },
  {
   "cell_type": "code",
   "execution_count": null,
   "metadata": {},
   "outputs": [],
   "source": []
  },
  {
   "cell_type": "code",
   "execution_count": 15,
   "metadata": {
    "id": "beEnDqGV9f-9"
   },
   "outputs": [],
   "source": [
    "# computing maximum and minimum redhsift in the data sample, getting distribution of data sizes\n",
    "# this doe not need to be run every time - especially if wavelength range is set by user\n",
    "\n",
    "ii          = 0\n",
    "min_wl      = 100\n",
    "max_wl      = -100\n",
    "num_npixs   = []\n",
    "img_coeffs1 = []\n",
    "img_coeffs2 = []\n",
    "factors     = []\n",
    "min_z       = 5\n",
    "max_z       = -5\n",
    "redshifts   = []\n",
    "\n",
    "for image in tfds.as_numpy(ds):\n",
    "    log10wl = image['coeffs'][0][0] + image['coeffs'][1][0] * np.arange(image['coeffs'][2][0])\n",
    "    if de_redshift:\n",
    "        log10wl = log10wl-np.log10(1+image['redshift'])\n",
    "    if max(log10wl)>max_wl:\n",
    "        max_wl= max(log10wl)\n",
    "    if min(log10wl)<min_wl:\n",
    "        min_wl=min(log10wl)\n",
    "    redshifts.append(image['redshift'])\n",
    "     \n",
    "wl_range = (min_wl, max_wl) \n",
    "\n",
    "np.save('wl_range_galaxies_%s.npy'%label,wl_range)"
   ]
  },
  {
   "cell_type": "code",
   "execution_count": 16,
   "metadata": {},
   "outputs": [
    {
     "name": "stdout",
     "output_type": "stream",
     "text": [
      "1195.8733456621314 10403.740659669438\n",
      "[9395.04331558]\n"
     ]
    }
   ],
   "source": [
    "min_wl, max_wl = wl_range\n",
    "print(10**min_wl, 10**max_wl)\n",
    "\n",
    "# compute number of pixels that span entire wl range:\n",
    "npix_max = -(min_wl-max_wl)/np.unique(1e-4)\n",
    "print(npix_max)"
   ]
  },
  {
   "cell_type": "code",
   "execution_count": 17,
   "metadata": {},
   "outputs": [],
   "source": [
    "wl_range      = (np.log10(wlmin),np.log10(wlmax))\n",
    "# new binning \n",
    "new_wl        = np.logspace(wl_range[0],wl_range[1],fixed_num_bins+1)"
   ]
  },
  {
   "cell_type": "code",
   "execution_count": 18,
   "metadata": {},
   "outputs": [
    {
     "data": {
      "text/plain": [
       "[<matplotlib.lines.Line2D at 0x2aab93a355e0>]"
      ]
     },
     "execution_count": 18,
     "metadata": {},
     "output_type": "execute_result"
    },
    {
     "data": {
      "image/png": "[encoded data removed]",
      "text/plain": [
       "<Figure size 432x288 with 1 Axes>"
      ]
     },
     "metadata": {
      "needs_background": "light"
     },
     "output_type": "display_data"
    }
   ],
   "source": [
    "plt.plot(np.diff(new_wl))\n",
    "plt.plot(np.diff(10**(min_wl+np.arange(npix_max)*1e-4)))"
   ]
  },
  {
   "cell_type": "code",
   "execution_count": 19,
   "metadata": {},
   "outputs": [],
   "source": [
    "from scipy.stats import binned_statistic"
   ]
  },
  {
   "cell_type": "code",
   "execution_count": 20,
   "metadata": {},
   "outputs": [],
   "source": [
    "raw_flux           = []\n",
    "raw_noise          = []\n",
    "raw_masks          = []\n",
    "decs               = []\n",
    "ras                = []\n",
    "sublabel           = []\n",
    "\n",
    "res_fluxes         = []\n",
    "res_inv_vars       = []\n",
    "res_masks          = []\n",
    "redshifts          = []\n",
    "\n",
    "SNs                = []\n",
    "\n",
    "flag               = []\n",
    "\n",
    "ii=0\n",
    "\n",
    "for nn, image in enumerate(tfds.as_numpy(ds)):\n",
    "    \n",
    "\n",
    "        \n",
    "    # compute wavelengths\n",
    "    log10wl  = image['coeffs'][0][0] + image['coeffs'][1][0] * np.arange(image['coeffs'][2][0])\n",
    "    log10wl  = log10wl\n",
    "    wl       = 10**log10wl\n",
    "    \n",
    "    raw_flux.append(image['flux'])\n",
    "    raw_noise.append(image['inv_var'])\n",
    "    raw_masks.append(image['and_mask'])\n",
    "    ##rescale flux by wavelength and distance\n",
    "    factor   = (cosmo.luminosity_distance(image['redshift'])/ld_ref)**2\n",
    "    #flux\n",
    "    \n",
    "    ### change that to before de-redshifting\n",
    "    flux     = image['flux'][:,0]*factor*wl\n",
    "    #inv_var\n",
    "    inv_var  = image['inv_var'][:,0]/(wl*factor)**2\n",
    "    \n",
    "    wl/=(1.+image['redshift'])\n",
    "    \n",
    "    ## mask\n",
    "    \n",
    "    #mask\n",
    "    mask           = np.squeeze(image['and_mask'])\n",
    "    #mask pixels that are completely noise dominated (mask!)\n",
    "    noise_         = np.squeeze(inv_var)\n",
    "    ind            = np.where(noise_==0.)\n",
    "    mask[ind]      = False \n",
    "    \n",
    "    mask_ind = np.where(mask)\n",
    "\n",
    "    if len(mask_ind[0])==0:\n",
    "        continue\n",
    "    ##resample\n",
    "    #flux\n",
    "    else:\n",
    "        res_flux, _, _ = binned_statistic(wl[mask_ind], flux[mask_ind],bins=new_wl)\n",
    "        \n",
    "\n",
    "\n",
    "        noise          = 1./noise_[mask_ind]\n",
    "        noise_, _, _   = binned_statistic(wl[mask_ind],noise,bins=new_wl)\n",
    "        N, _, _        = binned_statistic(wl[mask_ind],values=np.zeros(len(wl[mask_ind])),statistic='count',bins=new_wl)\n",
    "        new_mask_ind   = np.where(N==0)\n",
    "        noise_          = noise_/N\n",
    "        inv_var_res    = 1./noise_\n",
    "        res_flux[new_mask_ind] = 0\n",
    "        res_fluxes.append(res_flux)\n",
    "    \n",
    "        new_mask_cons = np.ones(len(new_wl)-1,dtype=np.int32)\n",
    "        new_mask_cons[new_mask_ind] = 0\n",
    "\n",
    "            \n",
    "        res_masks.append(new_mask_cons)\n",
    "\n",
    "\n",
    "        SN = np.sum(res_flux)/np.sqrt(np.sum(1./inv_var_res))\n",
    "        SNs.append(SN)\n",
    "        \n",
    "        inv_var_res[new_mask_ind] = 0\n",
    "        res_inv_vars.append(inv_var_res)\n",
    "\n",
    "        redshifts.append(image['redshift'])\n",
    "        ras.append(image['RA'])\n",
    "        decs.append(image['DEC'])\n",
    "        sublabel.append(image['sublabel'])\n",
    "        \n",
    "        ii+=1"
   ]
  },
  {
   "cell_type": "code",
   "execution_count": 23,
   "metadata": {},
   "outputs": [],
   "source": [
    "np.save('/global/cscratch1/sd/vboehm/Datasets/SDSS_BOSS_preprocessed/%s.npy'%label,[res_fluxes,res_inv_vars,res_masks,redshifts,SNs, ras, decs, sublabel])"
   ]
  },
  {
   "cell_type": "code",
   "execution_count": null,
   "metadata": {},
   "outputs": [],
   "source": []
  }
 ],
 "metadata": {
  "accelerator": "GPU",
  "colab": {
   "authorship_tag": "ABX9TyNbeXyhiihZQbSo0juhrHje",
   "collapsed_sections": [],
   "include_colab_link": true,
   "name": "LSTM-AE.ipynb",
   "provenance": []
  },
  "kernelspec": {
   "display_name": "tf22",
   "language": "python",
   "name": "tf22"
  },
  "language_info": {
   "codemirror_mode": {
    "name": "ipython",
    "version": 3
   },
   "file_extension": ".py",
   "mimetype": "text/x-python",
   "name": "python",
   "nbconvert_exporter": "python",
   "pygments_lexer": "ipython3",
   "version": "3.8.3"
  }
 },
 "nbformat": 4,
 "nbformat_minor": 4
}
