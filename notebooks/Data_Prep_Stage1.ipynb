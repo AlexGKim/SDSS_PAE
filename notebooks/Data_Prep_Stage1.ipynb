{
 "cells": [
  {
   "cell_type": "markdown",
   "metadata": {
    "colab_type": "text",
    "id": "view-in-github"
   },
   "source": [
    "<a href=\"https://colab.research.google.com/github/VMBoehm/SDSS_PAE/blob/main/LSTM_AE.ipynb\" target=\"_parent\"><img src=\"https://colab.research.google.com/assets/colab-badge.svg\" alt=\"Open In Colab\"/></a>"
   ]
  },
  {
   "cell_type": "markdown",
   "metadata": {
    "id": "IqDqXXTQ1FMN"
   },
   "source": [
    "# Template and tests for an LSTM Auto-Encoder\n"
   ]
  },
  {
   "cell_type": "code",
   "execution_count": 1,
   "metadata": {},
   "outputs": [],
   "source": [
    "import tensorflow as tf"
   ]
  },
  {
   "cell_type": "code",
   "execution_count": 2,
   "metadata": {},
   "outputs": [
    {
     "data": {
      "text/plain": [
       "[PhysicalDevice(name='/physical_device:GPU:0', device_type='GPU')]"
      ]
     },
     "execution_count": 2,
     "metadata": {},
     "output_type": "execute_result"
    }
   ],
   "source": [
    "tf.config.list_physical_devices('GPU')"
   ]
  },
  {
   "cell_type": "code",
   "execution_count": 3,
   "metadata": {},
   "outputs": [
    {
     "data": {
      "text/plain": [
       "'2.2.0'"
      ]
     },
     "execution_count": 3,
     "metadata": {},
     "output_type": "execute_result"
    }
   ],
   "source": [
    "tf.__version__"
   ]
  },
  {
   "cell_type": "code",
   "execution_count": 4,
   "metadata": {},
   "outputs": [],
   "source": [
    "from astropy.cosmology import Planck18_arXiv_v2 as cosmo"
   ]
  },
  {
   "cell_type": "code",
   "execution_count": 5,
   "metadata": {},
   "outputs": [],
   "source": [
    "import tensorflow_datasets as tfds"
   ]
  },
  {
   "cell_type": "code",
   "execution_count": 6,
   "metadata": {
    "id": "ZcR4zT3V8dMc"
   },
   "outputs": [],
   "source": [
    "import numpy as np\n",
    "import scipy\n",
    "import matplotlib.pyplot as plt\n",
    "import os"
   ]
  },
  {
   "cell_type": "code",
   "execution_count": 7,
   "metadata": {},
   "outputs": [],
   "source": [
    "# # ! pip install tensorflow-probability==0.11.0\n",
    "# ! pip install --user -e /global/homes/v/vboehm/codes/SDSS_PAE/    "
   ]
  },
  {
   "cell_type": "markdown",
   "metadata": {
    "id": "6ZME24z11ITl"
   },
   "source": [
    "#### load some SDSS data\n"
   ]
  },
  {
   "cell_type": "code",
   "execution_count": 7,
   "metadata": {},
   "outputs": [],
   "source": [
    "import sdss_pae.sdss_dataset as sdss "
   ]
  },
  {
   "cell_type": "code",
   "execution_count": 8,
   "metadata": {},
   "outputs": [],
   "source": [
    "ds, info = tfds.load('sdss', data_dir='/global/cscratch1/sd/vboehm/Datasets/SDSS_BOSS_all',with_info=True, split='train[1000000:2000000]')"
   ]
  },
  {
   "cell_type": "code",
   "execution_count": 9,
   "metadata": {},
   "outputs": [],
   "source": [
    "num_examples = info.splits['train[12000000]'].num_examples"
   ]
  },
  {
   "cell_type": "code",
   "execution_count": 10,
   "metadata": {},
   "outputs": [
    {
     "data": {
      "text/plain": [
       "1000000"
      ]
     },
     "execution_count": 10,
     "metadata": {},
     "output_type": "execute_result"
    }
   ],
   "source": [
    "num_examples"
   ]
  },
  {
   "cell_type": "code",
   "execution_count": 16,
   "metadata": {},
   "outputs": [],
   "source": [
    "#### settings\n",
    "root_models     = '/global/cscratch1/sd/vboehm/Models/SDSS_AE/'\n",
    "\n",
    "root_encoded    = '/global/cscratch1/sd/vboehm/Datasets/encoded/sdss/'\n",
    "root_decoded    = '/global/cscratch1/sd/vboehm/Datasets/decoded/sdss/'\n",
    "root_data       = '/global/cscratch1/sd/vboehm/Datasets'\n",
    "\n",
    "root_prepped    = os.path.join(root_data,'sdss/prepped')\n",
    "\n",
    "wlmin, wlmax    = (3388,8318)\n",
    "fixed_num_bins  = 1000\n",
    "select_by       = [1,2] \n",
    "de_redshift     = True\n",
    "label           = 'galaxies_quasars_bins1000_wl3388-8318'"
   ]
  },
  {
   "cell_type": "code",
   "execution_count": 17,
   "metadata": {},
   "outputs": [],
   "source": [
    "z_ref  = 0.1\n",
    "ld_ref = cosmo.luminosity_distance(z_ref)"
   ]
  },
  {
   "cell_type": "code",
   "execution_count": 18,
   "metadata": {},
   "outputs": [],
   "source": [
    "# filter dataset by redshifts and type\n",
    "\n",
    "def filter_type_fn(x):\n",
    "    if select_by is not None:\n",
    "        x = x['label']\n",
    "        s = tf.ones(len(select_by), dtype=tf.int64)*np.asarray(select_by)\n",
    "        tile_multiples = tf.concat([tf.ones(tf.shape(tf.shape(x)), dtype=tf.int32), tf.shape(s)], axis=0)\n",
    "        x_tile = tf.tile(tf.expand_dims(x, -1), tile_multiples)\n",
    "        x_in_s = tf.reduce_any(tf.equal(x_tile, s), -1)\n",
    "        return x_in_s\n",
    "    else: return 1\n",
    "    \n",
    "def filter_zwarning_fn(x):\n",
    "    if select_by is not None:\n",
    "        return tf.math.equal(x['ZWARNING'], 0)\n",
    "    else: return 1\n",
    "    \n",
    "def filter_redshift_fn(x):\n",
    "    if select_by is not None:\n",
    "        return tf.math.greater(x['redshift'], 0)\n",
    "    else: return 1\n",
    "\n",
    "ds = ds.filter(filter_type_fn)\n",
    "ds = ds.filter(filter_redshift_fn)\n",
    "ds = ds.filter(filter_zwarning_fn)"
   ]
  },
  {
   "cell_type": "code",
   "execution_count": 19,
   "metadata": {},
   "outputs": [
    {
     "name": "stdout",
     "output_type": "stream",
     "text": [
      "size of subselected data: 683891\n"
     ]
    }
   ],
   "source": [
    "DATASET_SIZE=len(list(ds))\n",
    "print('size of subselected data:', DATASET_SIZE)"
   ]
  },
  {
   "cell_type": "code",
   "execution_count": null,
   "metadata": {},
   "outputs": [],
   "source": []
  },
  {
   "cell_type": "code",
   "execution_count": 20,
   "metadata": {
    "id": "beEnDqGV9f-9"
   },
   "outputs": [],
   "source": [
    "# computing maximum and minimum redhsift in the data sample, getting distribution of data sizes\n",
    "# this doe not need to be run every time - especially if wavelength range is set by user\n",
    "\n",
    "try:\n",
    "    wl_range = np.load('wl_range_%s.npy'%label)\n",
    "except:\n",
    "    ii          = 0\n",
    "    min_wl      = 100\n",
    "    max_wl      = -100\n",
    "    num_npixs   = []\n",
    "    img_coeffs1 = []\n",
    "    img_coeffs2 = []\n",
    "    factors     = []\n",
    "    min_z       = 5\n",
    "    max_z       = -5\n",
    "    redshifts   = []\n",
    "\n",
    "    for image in tfds.as_numpy(ds):\n",
    "        log10wl = image['coeffs'][0][0] + image['coeffs'][1][0] * np.arange(image['coeffs'][2][0])\n",
    "        if de_redshift:\n",
    "            log10wl = log10wl-np.log10(1+image['redshift'])\n",
    "        if max(log10wl)>max_wl:\n",
    "            max_wl= max(log10wl)\n",
    "        if min(log10wl)<min_wl:\n",
    "            min_wl=min(log10wl)\n",
    "        redshifts.append(image['redshift'])\n",
    "\n",
    "    wl_range = (min_wl, max_wl) \n",
    "\n",
    "    np.save('wl_range_%s.npy'%label,wl_range)"
   ]
  },
  {
   "cell_type": "code",
   "execution_count": 21,
   "metadata": {},
   "outputs": [
    {
     "name": "stdout",
     "output_type": "stream",
     "text": [
      "443.01493377666407 10406.106274364938\n",
      "[13708.69890614]\n"
     ]
    }
   ],
   "source": [
    "min_wl, max_wl = wl_range\n",
    "print(10**min_wl, 10**max_wl)\n",
    "\n",
    "# compute number of pixels that span entire wl range:\n",
    "npix_max = -(min_wl-max_wl)/np.unique(1e-4)\n",
    "print(npix_max)"
   ]
  },
  {
   "cell_type": "code",
   "execution_count": 22,
   "metadata": {},
   "outputs": [],
   "source": [
    "wl_range      = (np.log10(wlmin),np.log10(wlmax))\n",
    "# new binning \n",
    "new_wl        = np.logspace(wl_range[0],wl_range[1],fixed_num_bins+1)"
   ]
  },
  {
   "cell_type": "code",
   "execution_count": 23,
   "metadata": {},
   "outputs": [
    {
     "data": {
      "text/plain": [
       "[<matplotlib.lines.Line2D at 0x2aaba9cd0220>]"
      ]
     },
     "execution_count": 23,
     "metadata": {},
     "output_type": "execute_result"
    },
    {
     "data": {
      "image/png": "[encoded data removed]",
      "text/plain": [
       "<Figure size 432x288 with 1 Axes>"
      ]
     },
     "metadata": {
      "needs_background": "light"
     },
     "output_type": "display_data"
    }
   ],
   "source": [
    "plt.plot(np.diff(new_wl))\n",
    "plt.plot(np.diff(10**(min_wl+np.arange(npix_max)*1e-4)))"
   ]
  },
  {
   "cell_type": "code",
   "execution_count": 24,
   "metadata": {},
   "outputs": [],
   "source": [
    "from scipy.stats import binned_statistic"
   ]
  },
  {
   "cell_type": "code",
   "execution_count": 25,
   "metadata": {},
   "outputs": [
    {
     "name": "stdout",
     "output_type": "stream",
     "text": [
      "0\n",
      "100000\n",
      "200000\n",
      "300000\n",
      "400000\n",
      "500000\n",
      "600000\n"
     ]
    }
   ],
   "source": [
    "raw_flux           = []\n",
    "raw_noise          = []\n",
    "raw_masks          = []\n",
    "decs               = []\n",
    "ras                = []\n",
    "sublabel           = []\n",
    "plate_id           = []\n",
    "MJD                = []\n",
    "fiber              = []\n",
    "\n",
    "res_fluxes         = []\n",
    "res_inv_vars       = []\n",
    "res_masks          = []\n",
    "redshifts          = []\n",
    "category           = []\n",
    "\n",
    "SNs                = []\n",
    "\n",
    "flag               = []\n",
    "\n",
    "ii=0\n",
    "\n",
    "for nn, image in enumerate(tfds.as_numpy(ds)):\n",
    "    if nn%100000==0:\n",
    "        print(nn)\n",
    "    \n",
    "    # compute wavelengths\n",
    "    log10wl  = image['coeffs'][0][0] + image['coeffs'][1][0] * np.arange(image['coeffs'][2][0])\n",
    "    log10wl  = log10wl\n",
    "    wl       = 10**log10wl\n",
    "\n",
    "    raw_flux.append(image['flux'])\n",
    "    raw_noise.append(image['inv_var'])\n",
    "    raw_masks.append(image['and_mask'])\n",
    "\n",
    "    ##rescale flux by wavelength and distance\n",
    "    factor   = (cosmo.luminosity_distance(image['redshift'])/ld_ref)**2\n",
    "    #flux\n",
    "\n",
    "    ### change that to before de-redshifting\n",
    "    flux     = image['flux'][:,0]*factor*wl\n",
    "    #inv_var\n",
    "    inv_var  = image['inv_var'][:,0]/(wl*factor)**2\n",
    "\n",
    "    wl/=(1.+image['redshift'])\n",
    "\n",
    "    ## mask\n",
    "\n",
    "    #mask\n",
    "    mask           = np.squeeze(image['and_mask'])\n",
    "    #mask pixels that are completely noise dominated (mask!)\n",
    "    noise_         = np.squeeze(inv_var)\n",
    "    ind            = np.where(noise_==0.)\n",
    "    mask[ind]      = False \n",
    "\n",
    "    mask_ind = np.where(mask)\n",
    "\n",
    "    if len(mask_ind[0])==0:\n",
    "        continue\n",
    "    ##resample\n",
    "    #flux\n",
    "    else:\n",
    "\n",
    "        res_flux, _, _ = binned_statistic(wl[mask_ind], flux[mask_ind],bins=new_wl)\n",
    "\n",
    "\n",
    "\n",
    "        noise          = 1./noise_[mask_ind]\n",
    "        noise_, _, _   = binned_statistic(wl[mask_ind],noise,bins=new_wl)\n",
    "        N, _, _        = binned_statistic(wl[mask_ind],values=np.zeros(len(wl[mask_ind])),statistic='count',bins=new_wl)\n",
    "        new_mask_ind   = np.where(N==0)\n",
    "        noise_          = noise_/N\n",
    "        inv_var_res    = 1./noise_\n",
    "        res_flux[new_mask_ind] = 0\n",
    "        res_fluxes.append(res_flux)\n",
    "\n",
    "        new_mask_cons = np.ones(len(new_wl)-1,dtype=np.int32)\n",
    "        new_mask_cons[new_mask_ind] = 0\n",
    "\n",
    "\n",
    "        res_masks.append(new_mask_cons)\n",
    "\n",
    "\n",
    "        SN = np.sum(res_flux)/np.sqrt(np.sum(1./inv_var_res))\n",
    "        SNs.append(SN)\n",
    "\n",
    "        inv_var_res[new_mask_ind] = 0\n",
    "        res_inv_vars.append(inv_var_res)\n",
    "\n",
    "        redshifts.append(image['redshift'])\n",
    "        ras.append(image['RA'])\n",
    "        decs.append(image['DEC'])\n",
    "        sublabel.append(image['sublabel'])\n",
    "        category.append(image['label'])\n",
    "        MJD.append(image['MJD'])\n",
    "        fiber.append(image['fiber'])\n",
    "        plate_id.append(image['plate'])\n",
    "\n",
    "        ii+=1"
   ]
  },
  {
   "cell_type": "code",
   "execution_count": 26,
   "metadata": {},
   "outputs": [
    {
     "name": "stderr",
     "output_type": "stream",
     "text": [
      "/global/homes/v/vboehm/.conda/envs/tf22/lib/python3.8/site-packages/numpy/core/_asarray.py:136: VisibleDeprecationWarning: Creating an ndarray from ragged nested sequences (which is a list-or-tuple of lists-or-tuples-or ndarrays with different lengths or shapes) is deprecated. If you meant to do this, you must specify 'dtype=object' when creating the ndarray\n",
      "  return array(a, dtype, copy=False, order=order, subok=True)\n"
     ]
    }
   ],
   "source": [
    "np.save(os.path.join(root_data,'SDSS_BOSS_preprocessed/%s_1.npy'%label),[res_fluxes,res_inv_vars,res_masks,redshifts,SNs, ras, decs, category,sublabel, MJD, plate_id, fiber])"
   ]
  },
  {
   "cell_type": "code",
   "execution_count": null,
   "metadata": {},
   "outputs": [],
   "source": []
  },
  {
   "cell_type": "code",
   "execution_count": null,
   "metadata": {},
   "outputs": [],
   "source": []
  }
 ],
 "metadata": {
  "accelerator": "GPU",
  "colab": {
   "authorship_tag": "ABX9TyNbeXyhiihZQbSo0juhrHje",
   "collapsed_sections": [],
   "include_colab_link": true,
   "name": "LSTM-AE.ipynb",
   "provenance": []
  },
  "kernelspec": {
   "display_name": "tf22",
   "language": "python",
   "name": "tf22"
  },
  "language_info": {
   "codemirror_mode": {
    "name": "ipython",
    "version": 3
   },
   "file_extension": ".py",
   "mimetype": "text/x-python",
   "name": "python",
   "nbconvert_exporter": "python",
   "pygments_lexer": "ipython3",
   "version": "3.8.3"
  }
 },
 "nbformat": 4,
 "nbformat_minor": 4
}
