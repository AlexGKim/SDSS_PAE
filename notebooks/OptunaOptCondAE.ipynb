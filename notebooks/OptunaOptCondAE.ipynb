{
 "cells": [
  {
   "cell_type": "code",
   "execution_count": 1,
   "id": "7d0a25e0-9560-4bad-b1bd-d4822c04b723",
   "metadata": {},
   "outputs": [
    {
     "data": {
      "text/plain": [
       "[PhysicalDevice(name='/physical_device:GPU:0', device_type='GPU')]"
      ]
     },
     "execution_count": 1,
     "metadata": {},
     "output_type": "execute_result"
    }
   ],
   "source": [
    "import tensorflow as tf\n",
    "tf.__version__\n",
    "tf.config.list_physical_devices('GPU')"
   ]
  },
  {
   "cell_type": "code",
   "execution_count": 20,
   "id": "62a8936b-65ca-44c5-9dfc-a646f16887db",
   "metadata": {},
   "outputs": [
    {
     "name": "stdout",
     "output_type": "stream",
     "text": [
      "Obtaining file:///global/homes/v/vboehm/codes/SDSS_PAE\n",
      "Requirement already satisfied: astropy in /global/u2/v/vboehm/.local/lib/python3.8/site-packages (from sdss-pae==0.1.0) (4.2.1)\n",
      "Requirement already satisfied: numpy in /global/common/cori_cle7/software/jupyter/cgpu/21-03/lib/python3.8/site-packages (from sdss-pae==0.1.0) (1.20.2)\n",
      "Requirement already satisfied: pyerfa in /global/u2/v/vboehm/.local/lib/python3.8/site-packages (from astropy->sdss-pae==0.1.0) (1.7.3)\n",
      "Installing collected packages: sdss-pae\n",
      "  Attempting uninstall: sdss-pae\n",
      "    Found existing installation: sdss-pae 0.1.0\n",
      "    Uninstalling sdss-pae-0.1.0:\n",
      "      Successfully uninstalled sdss-pae-0.1.0\n",
      "  Running setup.py develop for sdss-pae\n",
      "Successfully installed sdss-pae\n"
     ]
    }
   ],
   "source": [
    "import tensorflow_datasets as tfds\n",
    "import tensorflow_probability as tfp\n",
    "import numpy as np\n",
    "import scipy\n",
    "import matplotlib.pyplot as plt\n",
    "import os\n",
    "import logging\n",
    "import sys\n",
    "! pip install --user -e /global/homes/v/vboehm/codes/SDSS_PAE/    "
   ]
  },
  {
   "cell_type": "code",
   "execution_count": null,
   "id": "0fdda849-1146-48e3-9041-624d464e63a2",
   "metadata": {},
   "outputs": [],
   "source": []
  },
  {
   "cell_type": "code",
   "execution_count": 3,
   "id": "42df5fa4-4dce-4808-b06a-9fac2cdd892d",
   "metadata": {},
   "outputs": [],
   "source": [
    "import optuna"
   ]
  },
  {
   "cell_type": "code",
   "execution_count": null,
   "id": "0ef5e75d-9cde-4736-9154-383a1b4e40c5",
   "metadata": {},
   "outputs": [],
   "source": [
    "\n",
    "optuna.logging.get_logger(\"optuna\").addHandler(logging.StreamHandler(sys.stdout))"
   ]
  },
  {
   "cell_type": "code",
   "execution_count": 4,
   "id": "aa54bc1f-818d-4533-9ee6-e90ba40a51e8",
   "metadata": {},
   "outputs": [],
   "source": [
    "### study params\n",
    " # Unique identifier of the study.\n",
    "study_name    = \"example-study\"  # Unique identifier of the study.\n",
    "storage_name  = \"sqlite:///{}.db\".format(study_name)\n",
    "SEED          = 512\n",
    "EPOCHS = 20"
   ]
  },
  {
   "cell_type": "code",
   "execution_count": 5,
   "id": "4ca71f6c-daa3-419e-8147-9d963262b61f",
   "metadata": {},
   "outputs": [],
   "source": [
    "from tensorflow.keras.models import Sequential, Model\n",
    "from tensorflow.keras.layers import Layer, Reshape, LeakyReLU, BatchNormalization, Dense, Flatten, Input,Dropout"
   ]
  },
  {
   "cell_type": "code",
   "execution_count": 6,
   "id": "10456349-ddea-4f92-8027-64edc5be36a9",
   "metadata": {},
   "outputs": [],
   "source": [
    "### settings\n",
    "# user defined span (following Yip et al and Portillo et al)\n",
    "root_models     = '/global/cscratch1/sd/vboehm/Models/SDSS_AE/'\n",
    "\n",
    "root_encoded    = '/global/cscratch1/sd/vboehm/Datasets/encoded/sdss/'\n",
    "root_decoded    = '/global/cscratch1/sd/vboehm/Datasets/decoded/sdss/'\n",
    "root_model_data = '/global/cscratch1/sd/vboehm/Datasets/sdss/by_model/'\n",
    "root_data       = '/global/cscratch1/sd/vboehm/Datasets'\n",
    "\n",
    "root_prepped    = os.path.join(root_data,'sdss/prepped')\n",
    "\n",
    "wlmin, wlmax    = (3388,8318)\n",
    "fixed_num_bins  = 1000\n",
    "\n",
    "label           = 'galaxies_quasars_bins1000_wl3388-8318'\n",
    "label_          = label+'_minz005_maxz036_minSN50'\n",
    "label_2         = label+'_minz01_maxz036_minSN50_good'+'_10_fully_connected_mean_div'\n",
    "\n",
    "seed            = 8720\n",
    "\n",
    "\n",
    "network_type    = 'fully_connected'\n",
    "\n",
    "cond_on         = 'type'"
   ]
  },
  {
   "cell_type": "code",
   "execution_count": 7,
   "id": "f1ca40e7-60ca-4a5b-911f-5af578a636bb",
   "metadata": {},
   "outputs": [],
   "source": [
    "wl_range      = (np.log10(wlmin),np.log10(wlmax))\n",
    "# new binning \n",
    "new_wl        = np.logspace(wl_range[0],wl_range[1],fixed_num_bins+1)"
   ]
  },
  {
   "cell_type": "code",
   "execution_count": 8,
   "id": "d0ce7bef-2a3c-4cfb-b620-03a9da0fb966",
   "metadata": {},
   "outputs": [],
   "source": [
    "train_data = np.load(os.path.join(root_model_data,'train_%s.npy.npz'%label_2))\n",
    "valid_data = np.load(os.path.join(root_model_data,'valid_%s.npy.npz'%label_2))\n",
    "test_data = np.load(os.path.join(root_model_data,'test_%s.npy.npz'%label_2))"
   ]
  },
  {
   "cell_type": "code",
   "execution_count": 9,
   "id": "4ed13c6f-d2e6-4c93-9ebb-357f2c4ec0bb",
   "metadata": {},
   "outputs": [],
   "source": [
    "keys = ('spec', 'mask', 'noise', 'z', 'RA', 'DE', 'class', 'subclass', 'mean', 'std')"
   ]
  },
  {
   "cell_type": "code",
   "execution_count": 10,
   "id": "4074f7a4-3eb7-40b1-aefd-01b0552d8a27",
   "metadata": {},
   "outputs": [],
   "source": [
    "train = {}\n",
    "for item, key in zip(train_data.files, keys):\n",
    "    train[key] = train_data[item]\n",
    "    \n",
    "    \n",
    "valid = {}\n",
    "for item, key in zip(valid_data.files, keys):\n",
    "    valid[key] =  valid_data[item]\n",
    "    \n",
    "test = {}\n",
    "for item, key in zip(test_data.files, keys):\n",
    "    test[key] = test_data[item]"
   ]
  },
  {
   "cell_type": "code",
   "execution_count": 11,
   "id": "2481c73e-f9aa-4e69-b408-a762a58476a0",
   "metadata": {},
   "outputs": [
    {
     "name": "stdout",
     "output_type": "stream",
     "text": [
      "[b'' b'AGN' b'AGN BROADLINE' b'BROADLINE' b'STARBURST'\n",
      " b'STARBURST BROADLINE' b'STARFORMING' b'STARFORMING BROADLINE'] [0 1 2 3 4 5 6 7]\n"
     ]
    }
   ],
   "source": [
    "from sklearn import preprocessing\n",
    "le = preprocessing.LabelEncoder()\n",
    "le.fit(train['subclass'])\n",
    "train['subclass'] = le.transform(train['subclass'])\n",
    "valid['subclass'] = le.transform(valid['subclass'])\n",
    "test['subclass']  = le.transform(test['subclass'])\n",
    "print(le.classes_, le.transform(le.classes_))"
   ]
  },
  {
   "cell_type": "code",
   "execution_count": 12,
   "id": "21e70c2a-bde1-48f4-b326-a36f0ab4ec34",
   "metadata": {},
   "outputs": [],
   "source": [
    "def dense_cond_block(x,z,num, non_lin=True):\n",
    "    x = tf.concat([x,z], axis=1)\n",
    "    x = Flatten()(x)\n",
    "    x = Dense(num)(x)\n",
    "    if non_lin:\n",
    "        x = LeakyReLU()(x)\n",
    "    return Reshape((num,1))(x)\n",
    "\n",
    "def dense_block(x,num, non_lin=True):\n",
    "    x = Flatten()(x)\n",
    "    x = Dense(num)(x)\n",
    "    if non_lin:\n",
    "        x = LeakyReLU()(x)\n",
    "    return x"
   ]
  },
  {
   "cell_type": "code",
   "execution_count": 13,
   "id": "965c9740-e3df-4ffc-ae03-a40e739871ce",
   "metadata": {},
   "outputs": [],
   "source": [
    "dim = fixed_num_bins"
   ]
  },
  {
   "cell_type": "code",
   "execution_count": 14,
   "id": "fe9ad122-a5de-490c-99ee-1ab1804168de",
   "metadata": {},
   "outputs": [],
   "source": [
    "def lossFunction(y_true,y_pred,mask,inverse):\n",
    "        loss = tf.math.square(y_true-y_pred)*inverse\n",
    "        loss = tf.reduce_mean(tf.boolean_mask(loss,mask))\n",
    "        return loss\n",
    "    \n",
    "from tensorflow.python.keras.engine import data_adapter\n",
    "\n",
    "\n",
    "class CustomModel(tf.keras.Model):\n",
    "    def compile(self, optimizer, my_loss,metrics, run_eagerly):\n",
    "        super().compile(optimizer,metrics, run_eagerly)\n",
    "        self.my_loss = my_loss\n",
    "\n",
    "    def train_step(self, data):\n",
    "        data = data_adapter.expand_1d(data)\n",
    "        input_data = data_adapter.unpack_x_y_sample_weight(data)\n",
    "        with tf.GradientTape() as tape:\n",
    "            y_pred = self(data, training=True)\n",
    "            loss_value = self.my_loss(input_data[0][0],y_pred,input_data[0][1],input_data[0][2])\n",
    "\n",
    "        grads = tape.gradient(loss_value, self.trainable_variables)\n",
    "        self.optimizer.apply_gradients(zip(grads, self.trainable_variables))\n",
    "\n",
    "        return {\"training_loss\": loss_value}"
   ]
  },
  {
   "cell_type": "code",
   "execution_count": null,
   "id": "187d98d9-f3fc-4584-8fa0-11dcf125351f",
   "metadata": {},
   "outputs": [],
   "source": []
  },
  {
   "cell_type": "code",
   "execution_count": 15,
   "id": "5252fe8c-c407-46e4-adfc-04c702132be7",
   "metadata": {},
   "outputs": [],
   "source": [
    "def custom_metric(y_true, y_pred):\n",
    "    loss = (y_true[0]-y_pred)**2*y_true[2]\n",
    "    valid_loss = np.mean(loss[np.where(y_true[1])])\n",
    "    return valid_loss"
   ]
  },
  {
   "cell_type": "code",
   "execution_count": 28,
   "id": "f1524ca9-b1a8-4c12-b2e9-938c2522881d",
   "metadata": {},
   "outputs": [],
   "source": [
    "def objective(trial):\n",
    "    input        = Input(shape=(dim,1))\n",
    "    input_mask   = Input(shape=(dim,1))\n",
    "    input_noise  = Input(shape=(dim,1))\n",
    "    input_type   = Input(shape=(1,1))\n",
    "    input_params = Input(shape=(1,1))\n",
    "\n",
    "    if cond_on=='type':\n",
    "        z = input_type\n",
    "    if cond_on=='redshift':\n",
    "        z = input_params\n",
    "\n",
    "    x = input\n",
    "    n_layers   = trial.suggest_int('n_layers', 2, 7)\n",
    "    latent_dim = trial.suggest_int('latent_dim', 2, 12)\n",
    "\n",
    "    out_features = []\n",
    "    for ii in range(n_layers-1):\n",
    "        if ii >0:\n",
    "            out_features.append(trial.suggest_int('n_units_l{}'.format(ii), latent_dim, min(dim,2*out_features[-1])))\n",
    "            p = 0#trial.suggest_float(\"dropout_l{}\".format(ii), 0.1, 0.3)\n",
    "        else:\n",
    "            out_features.append(trial.suggest_int('n_units_l{}'.format(ii), latent_dim,dim))\n",
    "            p = 0\n",
    "        x = Dropout(p)(x)\n",
    "        x = dense_block(x,out_features[ii])\n",
    "    x = dense_block(x,latent_dim,non_lin=False)\n",
    "    x = Reshape((latent_dim,1))(x)\n",
    "    for ii in range(n_layers-1):\n",
    "        x = dense_cond_block(x,z,out_features[-1-ii])\n",
    "        if ii ==0:\n",
    "            p=0\n",
    "        else:\n",
    "            p = 0#trial.suggest_float(\"dropout_l{}\".format(ii), 0.1, 0.3)\n",
    "    x = Dropout(p)(x)\n",
    "    x = dense_cond_block(x,z,dim, non_lin=False)\n",
    "\n",
    "    lr = trial.suggest_float(\"lr\", 1e-5, 1e-1, log=True)\n",
    "    batchsize = trial.suggest_int(\"batchsize\", 32 , 256)\n",
    "    lstm_ae = CustomModel(inputs=[input,input_mask,input_noise, input_type, input_params], outputs=x)\n",
    "    lstm_ae.compile(optimizer=tf.keras.optimizers.Adam(learning_rate=lr), my_loss=lossFunction, metrics=[],run_eagerly=False)\n",
    "\n",
    "    #lstm_ae.summary()\n",
    "\n",
    "    lstm_ae.fit(x=(train['spec'],train['mask'],train['noise'], np.expand_dims(train['subclass'],-1), np.expand_dims(train['z'],-1)), batch_size=batchsize, epochs=EPOCHS)\n",
    "\n",
    "    res_valid   = lstm_ae.predict((valid['spec'],valid['mask'],valid['noise'], valid['subclass'], valid['z']))\n",
    "    recon_error = custom_metric((valid['spec'],valid['mask'],valid['noise'], valid['subclass'], valid['z']),res_valid)\n",
    "    \n",
    "    return recon_error"
   ]
  },
  {
   "cell_type": "code",
   "execution_count": null,
   "id": "331d4ad9-551e-48c2-a9b4-78bb22176326",
   "metadata": {},
   "outputs": [
    {
     "name": "stderr",
     "output_type": "stream",
     "text": [
      "\u001b[32m[I 2021-09-27 11:54:21,298]\u001b[0m Using an existing study with name 'example-study' instead of creating a new one.\u001b[0m\n"
     ]
    },
    {
     "name": "stdout",
     "output_type": "stream",
     "text": [
      "Using an existing study with name 'example-study' instead of creating a new one.\n",
      "Using an existing study with name 'example-study' instead of creating a new one.\n",
      "Using an existing study with name 'example-study' instead of creating a new one.\n",
      "Using an existing study with name 'example-study' instead of creating a new one.\n",
      "Using an existing study with name 'example-study' instead of creating a new one.\n",
      "Epoch 1/20\n",
      "1379/1379 [==============================] - 3s 2ms/step - training_loss: 20.1557\n",
      "Epoch 2/20\n",
      "1379/1379 [==============================] - 3s 2ms/step - training_loss: 2.7093\n",
      "Epoch 3/20\n",
      "1379/1379 [==============================] - 3s 2ms/step - training_loss: 2.2114\n",
      "Epoch 4/20\n",
      "1379/1379 [==============================] - 3s 2ms/step - training_loss: 1.9914\n",
      "Epoch 5/20\n",
      "1379/1379 [==============================] - 3s 2ms/step - training_loss: 1.8665\n",
      "Epoch 6/20\n",
      "1379/1379 [==============================] - 3s 2ms/step - training_loss: 1.7725\n",
      "Epoch 7/20\n",
      "1379/1379 [==============================] - 3s 2ms/step - training_loss: 1.6859\n",
      "Epoch 8/20\n",
      "1379/1379 [==============================] - 3s 2ms/step - training_loss: 1.6364\n",
      "Epoch 9/20\n",
      "1379/1379 [==============================] - 3s 2ms/step - training_loss: 1.6053\n",
      "Epoch 10/20\n",
      "1379/1379 [==============================] - 3s 2ms/step - training_loss: 1.5855\n",
      "Epoch 11/20\n",
      "1379/1379 [==============================] - 3s 2ms/step - training_loss: 1.5620\n",
      "Epoch 12/20\n",
      "1379/1379 [==============================] - 3s 2ms/step - training_loss: 1.5426\n",
      "Epoch 13/20\n",
      "1379/1379 [==============================] - 3s 2ms/step - training_loss: 1.5291\n",
      "Epoch 14/20\n",
      "1379/1379 [==============================] - 3s 2ms/step - training_loss: 1.5246\n",
      "Epoch 15/20\n",
      "1379/1379 [==============================] - 3s 2ms/step - training_loss: 1.5037\n",
      "Epoch 16/20\n",
      "1379/1379 [==============================] - 3s 2ms/step - training_loss: 1.5046\n",
      "Epoch 17/20\n",
      "1379/1379 [==============================] - 3s 2ms/step - training_loss: 1.4940\n",
      "Epoch 18/20\n",
      "1379/1379 [==============================] - 3s 2ms/step - training_loss: 1.4930\n",
      "Epoch 19/20\n",
      "1379/1379 [==============================] - 3s 2ms/step - training_loss: 1.4822\n",
      "Epoch 20/20\n",
      "1379/1379 [==============================] - 3s 2ms/step - training_loss: 1.5013\n"
     ]
    },
    {
     "name": "stderr",
     "output_type": "stream",
     "text": [
      "\u001b[32m[I 2021-09-27 11:55:21,543]\u001b[0m Trial 31 finished with value: 1.462122966450283 and parameters: {'n_layers': 5, 'latent_dim': 12, 'n_units_l0': 581, 'n_units_l1': 677, 'n_units_l2': 713, 'n_units_l3': 488, 'lr': 4.4363175376528406e-05, 'batchsize': 51}. Best is trial 19 with value: 1.4177541271819691.\u001b[0m\n"
     ]
    },
    {
     "name": "stdout",
     "output_type": "stream",
     "text": [
      "Trial 31 finished with value: 1.462122966450283 and parameters: {'n_layers': 5, 'latent_dim': 12, 'n_units_l0': 581, 'n_units_l1': 677, 'n_units_l2': 713, 'n_units_l3': 488, 'lr': 4.4363175376528406e-05, 'batchsize': 51}. Best is trial 19 with value: 1.4177541271819691.\n",
      "Trial 31 finished with value: 1.462122966450283 and parameters: {'n_layers': 5, 'latent_dim': 12, 'n_units_l0': 581, 'n_units_l1': 677, 'n_units_l2': 713, 'n_units_l3': 488, 'lr': 4.4363175376528406e-05, 'batchsize': 51}. Best is trial 19 with value: 1.4177541271819691.\n",
      "Trial 31 finished with value: 1.462122966450283 and parameters: {'n_layers': 5, 'latent_dim': 12, 'n_units_l0': 581, 'n_units_l1': 677, 'n_units_l2': 713, 'n_units_l3': 488, 'lr': 4.4363175376528406e-05, 'batchsize': 51}. Best is trial 19 with value: 1.4177541271819691.\n",
      "Trial 31 finished with value: 1.462122966450283 and parameters: {'n_layers': 5, 'latent_dim': 12, 'n_units_l0': 581, 'n_units_l1': 677, 'n_units_l2': 713, 'n_units_l3': 488, 'lr': 4.4363175376528406e-05, 'batchsize': 51}. Best is trial 19 with value: 1.4177541271819691.\n",
      "Trial 31 finished with value: 1.462122966450283 and parameters: {'n_layers': 5, 'latent_dim': 12, 'n_units_l0': 581, 'n_units_l1': 677, 'n_units_l2': 713, 'n_units_l3': 488, 'lr': 4.4363175376528406e-05, 'batchsize': 51}. Best is trial 19 with value: 1.4177541271819691.\n",
      "Epoch 1/20\n",
      "809/809 [==============================] - 2s 2ms/step - training_loss: 41630650224243448.0000\n",
      "Epoch 2/20\n",
      "809/809 [==============================] - 2s 2ms/step - training_loss: 383442546364.3654\n",
      "Epoch 3/20\n",
      "809/809 [==============================] - 2s 2ms/step - training_loss: 158440413138.4889\n",
      "Epoch 4/20\n",
      "809/809 [==============================] - 2s 2ms/step - training_loss: 72495248047.7234\n",
      "Epoch 5/20\n",
      "809/809 [==============================] - 2s 2ms/step - training_loss: 1472830653145.4419\n",
      "Epoch 6/20\n",
      "809/809 [==============================] - 2s 2ms/step - training_loss: 580441570372.2667\n",
      "Epoch 7/20\n",
      "809/809 [==============================] - 2s 2ms/step - training_loss: 10529304660.3852\n",
      "Epoch 8/20\n",
      "809/809 [==============================] - 2s 2ms/step - training_loss: 102294240738.1333\n",
      "Epoch 9/20\n",
      "809/809 [==============================] - 2s 2ms/step - training_loss: 224633150353.0667\n",
      "Epoch 10/20\n",
      "809/809 [==============================] - 2s 2ms/step - training_loss: nan\n",
      "Epoch 11/20\n",
      "809/809 [==============================] - 2s 2ms/step - training_loss: nan\n",
      "Epoch 12/20\n",
      "809/809 [==============================] - 2s 2ms/step - training_loss: nan\n",
      "Epoch 13/20\n",
      "809/809 [==============================] - 2s 2ms/step - training_loss: nan\n",
      "Epoch 14/20\n",
      "809/809 [==============================] - 2s 2ms/step - training_loss: nan\n",
      "Epoch 15/20\n",
      "809/809 [==============================] - 2s 2ms/step - training_loss: nan\n",
      "Epoch 16/20\n",
      "809/809 [==============================] - 2s 2ms/step - training_loss: nan\n",
      "Epoch 17/20\n",
      "809/809 [==============================] - 2s 2ms/step - training_loss: nan\n",
      "Epoch 18/20\n",
      "809/809 [==============================] - 2s 2ms/step - training_loss: nan\n",
      "Epoch 19/20\n",
      "809/809 [==============================] - 2s 2ms/step - training_loss: nan\n",
      "Epoch 20/20\n",
      "809/809 [==============================] - 2s 2ms/step - training_loss: nan\n"
     ]
    },
    {
     "name": "stderr",
     "output_type": "stream",
     "text": [
      "\u001b[33m[W 2021-09-27 11:55:54,841]\u001b[0m Trial 32 failed, because the objective function returned nan.\u001b[0m\n"
     ]
    },
    {
     "name": "stdout",
     "output_type": "stream",
     "text": [
      "Trial 32 failed, because the objective function returned nan.\n",
      "Trial 32 failed, because the objective function returned nan.\n",
      "Trial 32 failed, because the objective function returned nan.\n",
      "Trial 32 failed, because the objective function returned nan.\n",
      "Trial 32 failed, because the objective function returned nan.\n",
      "Epoch 1/20\n",
      "799/799 [==============================] - 2s 2ms/step - training_loss: nan\n",
      "Epoch 2/20\n",
      "799/799 [==============================] - 2s 2ms/step - training_loss: nan\n",
      "Epoch 3/20\n",
      "799/799 [==============================] - 2s 2ms/step - training_loss: nan\n",
      "Epoch 4/20\n",
      "799/799 [==============================] - 2s 2ms/step - training_loss: nan\n",
      "Epoch 5/20\n",
      "799/799 [==============================] - 2s 2ms/step - training_loss: nan\n",
      "Epoch 6/20\n",
      "799/799 [==============================] - 2s 2ms/step - training_loss: nan\n",
      "Epoch 7/20\n",
      "799/799 [==============================] - 2s 2ms/step - training_loss: nan\n",
      "Epoch 8/20\n",
      "799/799 [==============================] - 2s 2ms/step - training_loss: nan\n",
      "Epoch 9/20\n",
      "799/799 [==============================] - 2s 2ms/step - training_loss: nan\n",
      "Epoch 10/20\n",
      "799/799 [==============================] - 2s 2ms/step - training_loss: nan\n",
      "Epoch 11/20\n",
      "799/799 [==============================] - 2s 2ms/step - training_loss: nan\n",
      "Epoch 12/20\n",
      "799/799 [==============================] - 2s 2ms/step - training_loss: nan\n",
      "Epoch 13/20\n",
      "799/799 [==============================] - 2s 2ms/step - training_loss: nan\n",
      "Epoch 14/20\n",
      "799/799 [==============================] - 2s 2ms/step - training_loss: nan\n",
      "Epoch 15/20\n",
      "799/799 [==============================] - 2s 2ms/step - training_loss: nan\n",
      "Epoch 16/20\n",
      "799/799 [==============================] - 2s 2ms/step - training_loss: nan\n",
      "Epoch 17/20\n",
      "799/799 [==============================] - 2s 2ms/step - training_loss: nan\n",
      "Epoch 18/20\n",
      "799/799 [==============================] - 2s 2ms/step - training_loss: nan\n",
      "Epoch 19/20\n",
      "799/799 [==============================] - 2s 2ms/step - training_loss: nan\n",
      "Epoch 20/20\n",
      "799/799 [==============================] - 2s 2ms/step - training_loss: nan\n"
     ]
    },
    {
     "name": "stderr",
     "output_type": "stream",
     "text": [
      "\u001b[33m[W 2021-09-27 11:56:27,626]\u001b[0m Trial 33 failed, because the objective function returned nan.\u001b[0m\n"
     ]
    },
    {
     "name": "stdout",
     "output_type": "stream",
     "text": [
      "Trial 33 failed, because the objective function returned nan.\n",
      "Trial 33 failed, because the objective function returned nan.\n",
      "Trial 33 failed, because the objective function returned nan.\n",
      "Trial 33 failed, because the objective function returned nan.\n",
      "Trial 33 failed, because the objective function returned nan.\n",
      "Epoch 1/20\n",
      "848/848 [==============================] - 2s 2ms/step - training_loss: 21.5028\n",
      "Epoch 2/20\n",
      "848/848 [==============================] - 2s 2ms/step - training_loss: 3.2560\n",
      "Epoch 3/20\n",
      "848/848 [==============================] - 2s 2ms/step - training_loss: 3.0216\n",
      "Epoch 4/20\n",
      "848/848 [==============================] - 2s 2ms/step - training_loss: 2.8920\n",
      "Epoch 5/20\n",
      "848/848 [==============================] - 2s 2ms/step - training_loss: 2.8183\n",
      "Epoch 6/20\n",
      "848/848 [==============================] - 2s 2ms/step - training_loss: 2.7781\n",
      "Epoch 7/20\n",
      "848/848 [==============================] - 2s 2ms/step - training_loss: 2.7490\n",
      "Epoch 8/20\n",
      "848/848 [==============================] - 2s 2ms/step - training_loss: 2.7195\n",
      "Epoch 9/20\n",
      "848/848 [==============================] - 2s 2ms/step - training_loss: 2.6961\n",
      "Epoch 10/20\n",
      "848/848 [==============================] - 2s 2ms/step - training_loss: 2.6765\n",
      "Epoch 11/20\n",
      "848/848 [==============================] - 2s 2ms/step - training_loss: 2.6395\n",
      "Epoch 12/20\n",
      "848/848 [==============================] - 2s 2ms/step - training_loss: 2.6377\n",
      "Epoch 13/20\n",
      "848/848 [==============================] - 2s 2ms/step - training_loss: 2.6200\n",
      "Epoch 14/20\n",
      "848/848 [==============================] - 2s 2ms/step - training_loss: 2.5781\n",
      "Epoch 15/20\n",
      "848/848 [==============================] - 2s 2ms/step - training_loss: 2.5815\n",
      "Epoch 16/20\n",
      "848/848 [==============================] - 2s 2ms/step - training_loss: 2.5390\n",
      "Epoch 17/20\n",
      "848/848 [==============================] - 2s 2ms/step - training_loss: 2.5431\n",
      "Epoch 18/20\n",
      "848/848 [==============================] - 2s 2ms/step - training_loss: 2.5431\n",
      "Epoch 19/20\n",
      "848/848 [==============================] - 2s 2ms/step - training_loss: 2.4972\n",
      "Epoch 20/20\n",
      "848/848 [==============================] - 2s 2ms/step - training_loss: 2.4967\n"
     ]
    },
    {
     "name": "stderr",
     "output_type": "stream",
     "text": [
      "\u001b[32m[I 2021-09-27 11:57:02,516]\u001b[0m Trial 34 finished with value: 2.8161511649911843 and parameters: {'n_layers': 4, 'latent_dim': 2, 'n_units_l0': 172, 'n_units_l1': 111, 'n_units_l2': 219, 'lr': 0.0002676464659371104, 'batchsize': 83}. Best is trial 19 with value: 1.4177541271819691.\u001b[0m\n"
     ]
    },
    {
     "name": "stdout",
     "output_type": "stream",
     "text": [
      "Trial 34 finished with value: 2.8161511649911843 and parameters: {'n_layers': 4, 'latent_dim': 2, 'n_units_l0': 172, 'n_units_l1': 111, 'n_units_l2': 219, 'lr': 0.0002676464659371104, 'batchsize': 83}. Best is trial 19 with value: 1.4177541271819691.\n",
      "Trial 34 finished with value: 2.8161511649911843 and parameters: {'n_layers': 4, 'latent_dim': 2, 'n_units_l0': 172, 'n_units_l1': 111, 'n_units_l2': 219, 'lr': 0.0002676464659371104, 'batchsize': 83}. Best is trial 19 with value: 1.4177541271819691.\n",
      "Trial 34 finished with value: 2.8161511649911843 and parameters: {'n_layers': 4, 'latent_dim': 2, 'n_units_l0': 172, 'n_units_l1': 111, 'n_units_l2': 219, 'lr': 0.0002676464659371104, 'batchsize': 83}. Best is trial 19 with value: 1.4177541271819691.\n",
      "Trial 34 finished with value: 2.8161511649911843 and parameters: {'n_layers': 4, 'latent_dim': 2, 'n_units_l0': 172, 'n_units_l1': 111, 'n_units_l2': 219, 'lr': 0.0002676464659371104, 'batchsize': 83}. Best is trial 19 with value: 1.4177541271819691.\n",
      "Trial 34 finished with value: 2.8161511649911843 and parameters: {'n_layers': 4, 'latent_dim': 2, 'n_units_l0': 172, 'n_units_l1': 111, 'n_units_l2': 219, 'lr': 0.0002676464659371104, 'batchsize': 83}. Best is trial 19 with value: 1.4177541271819691.\n",
      "Epoch 1/20\n",
      "725/725 [==============================] - 2s 2ms/step - training_loss: 56.0875\n",
      "Epoch 2/20\n",
      "725/725 [==============================] - 2s 2ms/step - training_loss: 3.5836\n",
      "Epoch 3/20\n",
      "725/725 [==============================] - 2s 2ms/step - training_loss: 3.2565\n",
      "Epoch 4/20\n",
      "725/725 [==============================] - 2s 2ms/step - training_loss: 3.0364\n",
      "Epoch 5/20\n",
      "725/725 [==============================] - 2s 2ms/step - training_loss: 2.6660\n",
      "Epoch 6/20\n",
      "725/725 [==============================] - 2s 2ms/step - training_loss: 2.4670\n",
      "Epoch 7/20\n",
      "725/725 [==============================] - 2s 2ms/step - training_loss: 2.3358\n",
      "Epoch 8/20\n",
      "725/725 [==============================] - 2s 2ms/step - training_loss: 2.1699\n",
      "Epoch 9/20\n",
      "725/725 [==============================] - 2s 2ms/step - training_loss: 2.0365\n",
      "Epoch 10/20\n",
      "725/725 [==============================] - 2s 2ms/step - training_loss: 1.9658\n",
      "Epoch 11/20\n",
      "725/725 [==============================] - 2s 2ms/step - training_loss: 1.9138\n",
      "Epoch 12/20\n",
      "725/725 [==============================] - 2s 2ms/step - training_loss: 1.8764\n",
      "Epoch 13/20\n",
      "725/725 [==============================] - 2s 2ms/step - training_loss: 1.8437\n",
      "Epoch 14/20\n",
      "725/725 [==============================] - 2s 2ms/step - training_loss: 1.8173\n",
      "Epoch 15/20\n",
      "725/725 [==============================] - 2s 2ms/step - training_loss: 1.7848\n",
      "Epoch 16/20\n",
      "725/725 [==============================] - 2s 2ms/step - training_loss: 1.7628\n",
      "Epoch 17/20\n",
      "725/725 [==============================] - 2s 2ms/step - training_loss: 1.7450\n",
      "Epoch 18/20\n",
      "725/725 [==============================] - 2s 2ms/step - training_loss: 1.7130\n",
      "Epoch 19/20\n",
      "725/725 [==============================] - 2s 2ms/step - training_loss: 1.6965\n",
      "Epoch 20/20\n",
      "725/725 [==============================] - 2s 2ms/step - training_loss: 1.6718\n"
     ]
    },
    {
     "name": "stderr",
     "output_type": "stream",
     "text": [
      "\u001b[32m[I 2021-09-27 11:57:41,220]\u001b[0m Trial 35 finished with value: 1.6605344255802708 and parameters: {'n_layers': 6, 'latent_dim': 7, 'n_units_l0': 497, 'n_units_l1': 778, 'n_units_l2': 604, 'n_units_l3': 395, 'n_units_l4': 618, 'lr': 2.707993271825737e-05, 'batchsize': 97}. Best is trial 19 with value: 1.4177541271819691.\u001b[0m\n"
     ]
    },
    {
     "name": "stdout",
     "output_type": "stream",
     "text": [
      "Trial 35 finished with value: 1.6605344255802708 and parameters: {'n_layers': 6, 'latent_dim': 7, 'n_units_l0': 497, 'n_units_l1': 778, 'n_units_l2': 604, 'n_units_l3': 395, 'n_units_l4': 618, 'lr': 2.707993271825737e-05, 'batchsize': 97}. Best is trial 19 with value: 1.4177541271819691.\n",
      "Trial 35 finished with value: 1.6605344255802708 and parameters: {'n_layers': 6, 'latent_dim': 7, 'n_units_l0': 497, 'n_units_l1': 778, 'n_units_l2': 604, 'n_units_l3': 395, 'n_units_l4': 618, 'lr': 2.707993271825737e-05, 'batchsize': 97}. Best is trial 19 with value: 1.4177541271819691.\n",
      "Trial 35 finished with value: 1.6605344255802708 and parameters: {'n_layers': 6, 'latent_dim': 7, 'n_units_l0': 497, 'n_units_l1': 778, 'n_units_l2': 604, 'n_units_l3': 395, 'n_units_l4': 618, 'lr': 2.707993271825737e-05, 'batchsize': 97}. Best is trial 19 with value: 1.4177541271819691.\n",
      "Trial 35 finished with value: 1.6605344255802708 and parameters: {'n_layers': 6, 'latent_dim': 7, 'n_units_l0': 497, 'n_units_l1': 778, 'n_units_l2': 604, 'n_units_l3': 395, 'n_units_l4': 618, 'lr': 2.707993271825737e-05, 'batchsize': 97}. Best is trial 19 with value: 1.4177541271819691.\n",
      "Trial 35 finished with value: 1.6605344255802708 and parameters: {'n_layers': 6, 'latent_dim': 7, 'n_units_l0': 497, 'n_units_l1': 778, 'n_units_l2': 604, 'n_units_l3': 395, 'n_units_l4': 618, 'lr': 2.707993271825737e-05, 'batchsize': 97}. Best is trial 19 with value: 1.4177541271819691.\n",
      "Epoch 1/20\n",
      "1234/1234 [==============================] - 2s 2ms/step - training_loss: 14.1581\n",
      "Epoch 2/20\n",
      "1234/1234 [==============================] - 2s 2ms/step - training_loss: 2.9862\n",
      "Epoch 3/20\n",
      "1234/1234 [==============================] - 2s 2ms/step - training_loss: 2.8269\n",
      "Epoch 4/20\n",
      "1234/1234 [==============================] - 2s 2ms/step - training_loss: 2.7738\n",
      "Epoch 5/20\n",
      "1234/1234 [==============================] - 2s 2ms/step - training_loss: 2.7268\n",
      "Epoch 6/20\n",
      "1234/1234 [==============================] - 2s 2ms/step - training_loss: 2.6764\n",
      "Epoch 7/20\n",
      "1234/1234 [==============================] - 2s 2ms/step - training_loss: 2.6643\n",
      "Epoch 8/20\n",
      "1234/1234 [==============================] - 2s 2ms/step - training_loss: 2.6201\n",
      "Epoch 9/20\n",
      "1234/1234 [==============================] - 2s 2ms/step - training_loss: 2.5967\n",
      "Epoch 10/20\n",
      "1234/1234 [==============================] - 2s 2ms/step - training_loss: 2.5747\n",
      "Epoch 11/20\n",
      "1234/1234 [==============================] - 2s 2ms/step - training_loss: 2.5614\n",
      "Epoch 12/20\n",
      "1234/1234 [==============================] - 2s 2ms/step - training_loss: 2.5430\n",
      "Epoch 13/20\n",
      "1234/1234 [==============================] - 2s 2ms/step - training_loss: 2.5158\n",
      "Epoch 14/20\n",
      "1234/1234 [==============================] - 2s 2ms/step - training_loss: 2.4998\n",
      "Epoch 15/20\n",
      "1234/1234 [==============================] - 2s 2ms/step - training_loss: 2.4873\n",
      "Epoch 16/20\n",
      "1234/1234 [==============================] - 2s 2ms/step - training_loss: 2.4872\n",
      "Epoch 17/20\n",
      "1234/1234 [==============================] - 2s 2ms/step - training_loss: 2.4712\n",
      "Epoch 18/20\n",
      "1234/1234 [==============================] - 2s 2ms/step - training_loss: 2.4652\n",
      "Epoch 19/20\n",
      "1234/1234 [==============================] - 2s 2ms/step - training_loss: 2.4518\n",
      "Epoch 20/20\n",
      "1234/1234 [==============================] - 2s 2ms/step - training_loss: 2.4495\n"
     ]
    },
    {
     "name": "stderr",
     "output_type": "stream",
     "text": [
      "\u001b[32m[I 2021-09-27 11:58:25,144]\u001b[0m Trial 36 finished with value: 2.5056620996528287 and parameters: {'n_layers': 3, 'latent_dim': 2, 'n_units_l0': 749, 'n_units_l1': 331, 'lr': 0.00011558701131587005, 'batchsize': 57}. Best is trial 19 with value: 1.4177541271819691.\u001b[0m\n"
     ]
    },
    {
     "name": "stdout",
     "output_type": "stream",
     "text": [
      "Trial 36 finished with value: 2.5056620996528287 and parameters: {'n_layers': 3, 'latent_dim': 2, 'n_units_l0': 749, 'n_units_l1': 331, 'lr': 0.00011558701131587005, 'batchsize': 57}. Best is trial 19 with value: 1.4177541271819691.\n",
      "Trial 36 finished with value: 2.5056620996528287 and parameters: {'n_layers': 3, 'latent_dim': 2, 'n_units_l0': 749, 'n_units_l1': 331, 'lr': 0.00011558701131587005, 'batchsize': 57}. Best is trial 19 with value: 1.4177541271819691.\n",
      "Trial 36 finished with value: 2.5056620996528287 and parameters: {'n_layers': 3, 'latent_dim': 2, 'n_units_l0': 749, 'n_units_l1': 331, 'lr': 0.00011558701131587005, 'batchsize': 57}. Best is trial 19 with value: 1.4177541271819691.\n",
      "Trial 36 finished with value: 2.5056620996528287 and parameters: {'n_layers': 3, 'latent_dim': 2, 'n_units_l0': 749, 'n_units_l1': 331, 'lr': 0.00011558701131587005, 'batchsize': 57}. Best is trial 19 with value: 1.4177541271819691.\n",
      "Trial 36 finished with value: 2.5056620996528287 and parameters: {'n_layers': 3, 'latent_dim': 2, 'n_units_l0': 749, 'n_units_l1': 331, 'lr': 0.00011558701131587005, 'batchsize': 57}. Best is trial 19 with value: 1.4177541271819691.\n",
      "Epoch 1/20\n",
      "1465/1465 [==============================] - 2s 2ms/step - training_loss: 11.4065\n",
      "Epoch 2/20\n",
      "1465/1465 [==============================] - 2s 2ms/step - training_loss: 2.2376\n",
      "Epoch 3/20\n",
      "1465/1465 [==============================] - 2s 2ms/step - training_loss: 1.9391\n",
      "Epoch 4/20\n",
      "1465/1465 [==============================] - 2s 2ms/step - training_loss: 1.7582\n",
      "Epoch 5/20\n",
      "1465/1465 [==============================] - 2s 2ms/step - training_loss: 1.6585\n",
      "Epoch 6/20\n",
      "1465/1465 [==============================] - 2s 2ms/step - training_loss: 1.6241\n",
      "Epoch 7/20\n",
      "1465/1465 [==============================] - 2s 2ms/step - training_loss: 1.5814\n",
      "Epoch 8/20\n",
      "1465/1465 [==============================] - 2s 2ms/step - training_loss: 1.5663\n",
      "Epoch 9/20\n",
      "1465/1465 [==============================] - 2s 2ms/step - training_loss: 1.5462\n",
      "Epoch 10/20\n",
      "1465/1465 [==============================] - 2s 2ms/step - training_loss: 1.5244\n",
      "Epoch 11/20\n",
      "1465/1465 [==============================] - 2s 2ms/step - training_loss: 1.4949\n",
      "Epoch 12/20\n",
      "1465/1465 [==============================] - 2s 2ms/step - training_loss: 1.4926\n",
      "Epoch 13/20\n",
      "1465/1465 [==============================] - 2s 2ms/step - training_loss: 1.4729\n",
      "Epoch 14/20\n",
      "1465/1465 [==============================] - 2s 2ms/step - training_loss: 1.4611\n",
      "Epoch 15/20\n",
      "1465/1465 [==============================] - 2s 2ms/step - training_loss: 1.4390\n",
      "Epoch 16/20\n",
      "1465/1465 [==============================] - 2s 2ms/step - training_loss: 1.4382\n",
      "Epoch 17/20\n",
      "1465/1465 [==============================] - 2s 2ms/step - training_loss: 1.4337\n",
      "Epoch 18/20\n",
      "1465/1465 [==============================] - 2s 2ms/step - training_loss: 1.4450\n",
      "Epoch 19/20\n",
      "1465/1465 [==============================] - 2s 2ms/step - training_loss: 1.4164\n",
      "Epoch 20/20\n",
      "1465/1465 [==============================] - 2s 2ms/step - training_loss: 1.4027\n"
     ]
    },
    {
     "name": "stderr",
     "output_type": "stream",
     "text": [
      "\u001b[32m[I 2021-09-27 11:59:14,931]\u001b[0m Trial 37 finished with value: 1.3953604230456145 and parameters: {'n_layers': 3, 'latent_dim': 12, 'n_units_l0': 632, 'n_units_l1': 186, 'lr': 0.00014302155912183622, 'batchsize': 48}. Best is trial 37 with value: 1.3953604230456145.\u001b[0m\n"
     ]
    },
    {
     "name": "stdout",
     "output_type": "stream",
     "text": [
      "Trial 37 finished with value: 1.3953604230456145 and parameters: {'n_layers': 3, 'latent_dim': 12, 'n_units_l0': 632, 'n_units_l1': 186, 'lr': 0.00014302155912183622, 'batchsize': 48}. Best is trial 37 with value: 1.3953604230456145.\n",
      "Trial 37 finished with value: 1.3953604230456145 and parameters: {'n_layers': 3, 'latent_dim': 12, 'n_units_l0': 632, 'n_units_l1': 186, 'lr': 0.00014302155912183622, 'batchsize': 48}. Best is trial 37 with value: 1.3953604230456145.\n",
      "Trial 37 finished with value: 1.3953604230456145 and parameters: {'n_layers': 3, 'latent_dim': 12, 'n_units_l0': 632, 'n_units_l1': 186, 'lr': 0.00014302155912183622, 'batchsize': 48}. Best is trial 37 with value: 1.3953604230456145.\n",
      "Trial 37 finished with value: 1.3953604230456145 and parameters: {'n_layers': 3, 'latent_dim': 12, 'n_units_l0': 632, 'n_units_l1': 186, 'lr': 0.00014302155912183622, 'batchsize': 48}. Best is trial 37 with value: 1.3953604230456145.\n",
      "Trial 37 finished with value: 1.3953604230456145 and parameters: {'n_layers': 3, 'latent_dim': 12, 'n_units_l0': 632, 'n_units_l1': 186, 'lr': 0.00014302155912183622, 'batchsize': 48}. Best is trial 37 with value: 1.3953604230456145.\n",
      "Epoch 1/20\n",
      "1563/1563 [==============================] - 3s 2ms/step - training_loss: 18.5650\n",
      "Epoch 2/20\n",
      "1563/1563 [==============================] - 3s 2ms/step - training_loss: 2.7923\n",
      "Epoch 3/20\n",
      "1563/1563 [==============================] - 3s 2ms/step - training_loss: 2.2742\n",
      "Epoch 4/20\n",
      "1563/1563 [==============================] - 3s 2ms/step - training_loss: 2.0057\n",
      "Epoch 5/20\n",
      "1563/1563 [==============================] - 3s 2ms/step - training_loss: 1.8838\n",
      "Epoch 6/20\n",
      "1563/1563 [==============================] - 3s 2ms/step - training_loss: 1.8062\n",
      "Epoch 7/20\n",
      "1563/1563 [==============================] - 3s 2ms/step - training_loss: 1.7424\n",
      "Epoch 8/20\n",
      "1563/1563 [==============================] - 3s 2ms/step - training_loss: 1.6787\n",
      "Epoch 9/20\n",
      "1563/1563 [==============================] - 3s 2ms/step - training_loss: 1.6195\n",
      "Epoch 10/20\n",
      "1563/1563 [==============================] - 3s 2ms/step - training_loss: 1.5774\n",
      "Epoch 11/20\n",
      "1563/1563 [==============================] - 3s 2ms/step - training_loss: 1.5632\n",
      "Epoch 12/20\n",
      "1563/1563 [==============================] - 3s 2ms/step - training_loss: 1.5383\n",
      "Epoch 13/20\n",
      "1563/1563 [==============================] - 3s 2ms/step - training_loss: 1.5314\n",
      "Epoch 14/20\n",
      "1563/1563 [==============================] - 3s 2ms/step - training_loss: 1.5228\n",
      "Epoch 15/20\n",
      "1563/1563 [==============================] - 3s 2ms/step - training_loss: 1.5062\n",
      "Epoch 16/20\n",
      "1563/1563 [==============================] - 3s 2ms/step - training_loss: 1.5027\n",
      "Epoch 17/20\n",
      "1563/1563 [==============================] - 3s 2ms/step - training_loss: 1.4903\n",
      "Epoch 18/20\n",
      "1563/1563 [==============================] - 3s 2ms/step - training_loss: 1.4795\n",
      "Epoch 19/20\n",
      "1563/1563 [==============================] - 3s 2ms/step - training_loss: 1.4730\n",
      "Epoch 20/20\n",
      "1563/1563 [==============================] - 3s 2ms/step - training_loss: 1.4667\n"
     ]
    },
    {
     "name": "stderr",
     "output_type": "stream",
     "text": [
      "\u001b[32m[I 2021-09-27 12:00:13,128]\u001b[0m Trial 38 finished with value: 1.4566287957519117 and parameters: {'n_layers': 4, 'latent_dim': 12, 'n_units_l0': 627, 'n_units_l1': 138, 'n_units_l2': 263, 'lr': 6.527549188116407e-05, 'batchsize': 45}. Best is trial 37 with value: 1.3953604230456145.\u001b[0m\n"
     ]
    },
    {
     "name": "stdout",
     "output_type": "stream",
     "text": [
      "Trial 38 finished with value: 1.4566287957519117 and parameters: {'n_layers': 4, 'latent_dim': 12, 'n_units_l0': 627, 'n_units_l1': 138, 'n_units_l2': 263, 'lr': 6.527549188116407e-05, 'batchsize': 45}. Best is trial 37 with value: 1.3953604230456145.\n",
      "Trial 38 finished with value: 1.4566287957519117 and parameters: {'n_layers': 4, 'latent_dim': 12, 'n_units_l0': 627, 'n_units_l1': 138, 'n_units_l2': 263, 'lr': 6.527549188116407e-05, 'batchsize': 45}. Best is trial 37 with value: 1.3953604230456145.\n",
      "Trial 38 finished with value: 1.4566287957519117 and parameters: {'n_layers': 4, 'latent_dim': 12, 'n_units_l0': 627, 'n_units_l1': 138, 'n_units_l2': 263, 'lr': 6.527549188116407e-05, 'batchsize': 45}. Best is trial 37 with value: 1.3953604230456145.\n",
      "Trial 38 finished with value: 1.4566287957519117 and parameters: {'n_layers': 4, 'latent_dim': 12, 'n_units_l0': 627, 'n_units_l1': 138, 'n_units_l2': 263, 'lr': 6.527549188116407e-05, 'batchsize': 45}. Best is trial 37 with value: 1.3953604230456145.\n",
      "Trial 38 finished with value: 1.4566287957519117 and parameters: {'n_layers': 4, 'latent_dim': 12, 'n_units_l0': 627, 'n_units_l1': 138, 'n_units_l2': 263, 'lr': 6.527549188116407e-05, 'batchsize': 45}. Best is trial 37 with value: 1.3953604230456145.\n",
      "Epoch 1/20\n",
      "1019/1019 [==============================] - 2s 2ms/step - training_loss: 8.2947\n",
      "Epoch 2/20\n",
      "1019/1019 [==============================] - 2s 2ms/step - training_loss: 2.1854\n",
      "Epoch 3/20\n",
      "1019/1019 [==============================] - 2s 2ms/step - training_loss: 1.9952\n",
      "Epoch 4/20\n",
      "1019/1019 [==============================] - 2s 2ms/step - training_loss: 1.7784\n",
      "Epoch 5/20\n",
      "1019/1019 [==============================] - 2s 2ms/step - training_loss: 1.7787\n",
      "Epoch 6/20\n",
      "1019/1019 [==============================] - 2s 2ms/step - training_loss: 1.6984\n",
      "Epoch 7/20\n",
      "1019/1019 [==============================] - 2s 2ms/step - training_loss: 1.6959\n",
      "Epoch 8/20\n",
      "1019/1019 [==============================] - 2s 2ms/step - training_loss: 1.6266\n",
      "Epoch 9/20\n",
      "1019/1019 [==============================] - 2s 2ms/step - training_loss: 1.6348\n",
      "Epoch 10/20\n",
      "1019/1019 [==============================] - 2s 2ms/step - training_loss: 1.5820\n",
      "Epoch 11/20\n",
      "1019/1019 [==============================] - 2s 2ms/step - training_loss: 1.5701\n",
      "Epoch 12/20\n",
      "1019/1019 [==============================] - 2s 2ms/step - training_loss: 2.4604\n",
      "Epoch 13/20\n",
      "1019/1019 [==============================] - 2s 2ms/step - training_loss: 1.5634\n",
      "Epoch 14/20\n",
      "1019/1019 [==============================] - 2s 2ms/step - training_loss: 1.5368\n",
      "Epoch 15/20\n",
      "1019/1019 [==============================] - 2s 2ms/step - training_loss: 1.5178\n",
      "Epoch 16/20\n",
      "1019/1019 [==============================] - 2s 2ms/step - training_loss: 1.5320\n",
      "Epoch 17/20\n",
      "1019/1019 [==============================] - 2s 2ms/step - training_loss: 1.4907\n",
      "Epoch 18/20\n",
      "1019/1019 [==============================] - 2s 2ms/step - training_loss: 1.5213\n",
      "Epoch 19/20\n",
      "1019/1019 [==============================] - 2s 2ms/step - training_loss: 1.4815\n",
      "Epoch 20/20\n",
      "1019/1019 [==============================] - 2s 2ms/step - training_loss: 1.4993\n"
     ]
    },
    {
     "name": "stderr",
     "output_type": "stream",
     "text": [
      "\u001b[32m[I 2021-09-27 12:00:47,218]\u001b[0m Trial 39 finished with value: 1.4506474079965612 and parameters: {'n_layers': 3, 'latent_dim': 8, 'n_units_l0': 632, 'n_units_l1': 427, 'lr': 0.00040568581880456135, 'batchsize': 69}. Best is trial 37 with value: 1.3953604230456145.\u001b[0m\n"
     ]
    },
    {
     "name": "stdout",
     "output_type": "stream",
     "text": [
      "Trial 39 finished with value: 1.4506474079965612 and parameters: {'n_layers': 3, 'latent_dim': 8, 'n_units_l0': 632, 'n_units_l1': 427, 'lr': 0.00040568581880456135, 'batchsize': 69}. Best is trial 37 with value: 1.3953604230456145.\n",
      "Trial 39 finished with value: 1.4506474079965612 and parameters: {'n_layers': 3, 'latent_dim': 8, 'n_units_l0': 632, 'n_units_l1': 427, 'lr': 0.00040568581880456135, 'batchsize': 69}. Best is trial 37 with value: 1.3953604230456145.\n",
      "Trial 39 finished with value: 1.4506474079965612 and parameters: {'n_layers': 3, 'latent_dim': 8, 'n_units_l0': 632, 'n_units_l1': 427, 'lr': 0.00040568581880456135, 'batchsize': 69}. Best is trial 37 with value: 1.3953604230456145.\n",
      "Trial 39 finished with value: 1.4506474079965612 and parameters: {'n_layers': 3, 'latent_dim': 8, 'n_units_l0': 632, 'n_units_l1': 427, 'lr': 0.00040568581880456135, 'batchsize': 69}. Best is trial 37 with value: 1.3953604230456145.\n",
      "Trial 39 finished with value: 1.4506474079965612 and parameters: {'n_layers': 3, 'latent_dim': 8, 'n_units_l0': 632, 'n_units_l1': 427, 'lr': 0.00040568581880456135, 'batchsize': 69}. Best is trial 37 with value: 1.3953604230456145.\n",
      "Epoch 1/20\n",
      "1636/1636 [==============================] - 3s 2ms/step - training_loss: 8.6565\n",
      "Epoch 2/20\n",
      "1636/1636 [==============================] - 3s 2ms/step - training_loss: 2.1002\n",
      "Epoch 3/20\n",
      "1636/1636 [==============================] - 3s 2ms/step - training_loss: 1.8220\n",
      "Epoch 4/20\n",
      "1636/1636 [==============================] - 3s 2ms/step - training_loss: 1.7289\n",
      "Epoch 5/20\n",
      "1636/1636 [==============================] - 3s 2ms/step - training_loss: 1.6717\n",
      "Epoch 6/20\n",
      "1636/1636 [==============================] - 3s 2ms/step - training_loss: 1.6518\n",
      "Epoch 7/20\n",
      "1636/1636 [==============================] - 3s 2ms/step - training_loss: 1.5970\n",
      "Epoch 8/20\n",
      "1636/1636 [==============================] - 3s 2ms/step - training_loss: 1.5841\n",
      "Epoch 9/20\n",
      "1636/1636 [==============================] - 3s 2ms/step - training_loss: 1.5286\n",
      "Epoch 10/20\n",
      "1636/1636 [==============================] - 3s 2ms/step - training_loss: 1.5396\n",
      "Epoch 11/20\n",
      "1636/1636 [==============================] - 3s 2ms/step - training_loss: 1.5236\n",
      "Epoch 12/20\n",
      "1636/1636 [==============================] - 3s 2ms/step - training_loss: 1.4774\n",
      "Epoch 13/20\n",
      "1636/1636 [==============================] - 3s 2ms/step - training_loss: 1.4855\n",
      "Epoch 14/20\n",
      "1636/1636 [==============================] - 3s 2ms/step - training_loss: 1.4703\n",
      "Epoch 15/20\n",
      "1636/1636 [==============================] - 3s 2ms/step - training_loss: 1.4652\n",
      "Epoch 16/20\n",
      "1636/1636 [==============================] - 3s 2ms/step - training_loss: 1.4525\n",
      "Epoch 17/20\n",
      "1636/1636 [==============================] - 3s 2ms/step - training_loss: 1.4514\n",
      "Epoch 18/20\n",
      "1636/1636 [==============================] - 3s 2ms/step - training_loss: 1.4466\n",
      "Epoch 19/20\n",
      "1636/1636 [==============================] - 3s 2ms/step - training_loss: 1.4349\n",
      "Epoch 20/20\n",
      "1636/1636 [==============================] - 3s 2ms/step - training_loss: 1.4225\n"
     ]
    },
    {
     "name": "stderr",
     "output_type": "stream",
     "text": [
      "\u001b[32m[I 2021-09-27 12:01:42,302]\u001b[0m Trial 40 finished with value: 1.4217863259902825 and parameters: {'n_layers': 3, 'latent_dim': 9, 'n_units_l0': 794, 'n_units_l1': 555, 'lr': 0.00016257734730164842, 'batchsize': 43}. Best is trial 37 with value: 1.3953604230456145.\u001b[0m\n"
     ]
    },
    {
     "name": "stdout",
     "output_type": "stream",
     "text": [
      "Trial 40 finished with value: 1.4217863259902825 and parameters: {'n_layers': 3, 'latent_dim': 9, 'n_units_l0': 794, 'n_units_l1': 555, 'lr': 0.00016257734730164842, 'batchsize': 43}. Best is trial 37 with value: 1.3953604230456145.\n",
      "Trial 40 finished with value: 1.4217863259902825 and parameters: {'n_layers': 3, 'latent_dim': 9, 'n_units_l0': 794, 'n_units_l1': 555, 'lr': 0.00016257734730164842, 'batchsize': 43}. Best is trial 37 with value: 1.3953604230456145.\n",
      "Trial 40 finished with value: 1.4217863259902825 and parameters: {'n_layers': 3, 'latent_dim': 9, 'n_units_l0': 794, 'n_units_l1': 555, 'lr': 0.00016257734730164842, 'batchsize': 43}. Best is trial 37 with value: 1.3953604230456145.\n",
      "Trial 40 finished with value: 1.4217863259902825 and parameters: {'n_layers': 3, 'latent_dim': 9, 'n_units_l0': 794, 'n_units_l1': 555, 'lr': 0.00016257734730164842, 'batchsize': 43}. Best is trial 37 with value: 1.3953604230456145.\n",
      "Trial 40 finished with value: 1.4217863259902825 and parameters: {'n_layers': 3, 'latent_dim': 9, 'n_units_l0': 794, 'n_units_l1': 555, 'lr': 0.00016257734730164842, 'batchsize': 43}. Best is trial 37 with value: 1.3953604230456145.\n",
      "Epoch 1/20\n",
      "517/517 [==============================] - 1s 2ms/step - training_loss: 18.2776\n",
      "Epoch 2/20\n",
      "517/517 [==============================] - 1s 2ms/step - training_loss: 2.7391\n",
      "Epoch 3/20\n",
      "517/517 [==============================] - 1s 2ms/step - training_loss: 2.0902\n",
      "Epoch 4/20\n",
      "517/517 [==============================] - 1s 2ms/step - training_loss: 1.9063\n",
      "Epoch 5/20\n",
      "517/517 [==============================] - 1s 2ms/step - training_loss: 1.8565\n",
      "Epoch 6/20\n",
      "517/517 [==============================] - 1s 2ms/step - training_loss: 1.7391\n",
      "Epoch 7/20\n",
      "517/517 [==============================] - 1s 2ms/step - training_loss: 1.7261\n",
      "Epoch 8/20\n",
      "517/517 [==============================] - 1s 2ms/step - training_loss: 1.6595\n",
      "Epoch 9/20\n",
      "517/517 [==============================] - 1s 2ms/step - training_loss: 1.6380\n",
      "Epoch 10/20\n",
      "517/517 [==============================] - 1s 2ms/step - training_loss: 1.5923\n",
      "Epoch 11/20\n",
      "517/517 [==============================] - 1s 2ms/step - training_loss: 1.6148\n",
      "Epoch 12/20\n",
      "517/517 [==============================] - 1s 2ms/step - training_loss: 1.5590\n",
      "Epoch 13/20\n",
      "517/517 [==============================] - 1s 2ms/step - training_loss: 1.6011\n",
      "Epoch 14/20\n",
      "517/517 [==============================] - 1s 2ms/step - training_loss: 1.5457\n",
      "Epoch 15/20\n",
      "517/517 [==============================] - 1s 2ms/step - training_loss: 1.6011\n",
      "Epoch 16/20\n",
      "517/517 [==============================] - 1s 2ms/step - training_loss: 1.4928\n",
      "Epoch 17/20\n",
      "517/517 [==============================] - 1s 2ms/step - training_loss: 1.4943\n",
      "Epoch 18/20\n",
      "517/517 [==============================] - 1s 2ms/step - training_loss: 1.5185\n",
      "Epoch 19/20\n",
      "517/517 [==============================] - 1s 2ms/step - training_loss: 1.5104\n",
      "Epoch 20/20\n",
      "517/517 [==============================] - 1s 2ms/step - training_loss: 1.5328\n"
     ]
    },
    {
     "name": "stderr",
     "output_type": "stream",
     "text": [
      "\u001b[32m[I 2021-09-27 12:02:07,748]\u001b[0m Trial 41 finished with value: 1.457384843369847 and parameters: {'n_layers': 4, 'latent_dim': 9, 'n_units_l0': 818, 'n_units_l1': 586, 'n_units_l2': 791, 'lr': 0.00018226445645441006, 'batchsize': 136}. Best is trial 37 with value: 1.3953604230456145.\u001b[0m\n"
     ]
    },
    {
     "name": "stdout",
     "output_type": "stream",
     "text": [
      "Trial 41 finished with value: 1.457384843369847 and parameters: {'n_layers': 4, 'latent_dim': 9, 'n_units_l0': 818, 'n_units_l1': 586, 'n_units_l2': 791, 'lr': 0.00018226445645441006, 'batchsize': 136}. Best is trial 37 with value: 1.3953604230456145.\n",
      "Trial 41 finished with value: 1.457384843369847 and parameters: {'n_layers': 4, 'latent_dim': 9, 'n_units_l0': 818, 'n_units_l1': 586, 'n_units_l2': 791, 'lr': 0.00018226445645441006, 'batchsize': 136}. Best is trial 37 with value: 1.3953604230456145.\n",
      "Trial 41 finished with value: 1.457384843369847 and parameters: {'n_layers': 4, 'latent_dim': 9, 'n_units_l0': 818, 'n_units_l1': 586, 'n_units_l2': 791, 'lr': 0.00018226445645441006, 'batchsize': 136}. Best is trial 37 with value: 1.3953604230456145.\n",
      "Trial 41 finished with value: 1.457384843369847 and parameters: {'n_layers': 4, 'latent_dim': 9, 'n_units_l0': 818, 'n_units_l1': 586, 'n_units_l2': 791, 'lr': 0.00018226445645441006, 'batchsize': 136}. Best is trial 37 with value: 1.3953604230456145.\n",
      "Trial 41 finished with value: 1.457384843369847 and parameters: {'n_layers': 4, 'latent_dim': 9, 'n_units_l0': 818, 'n_units_l1': 586, 'n_units_l2': 791, 'lr': 0.00018226445645441006, 'batchsize': 136}. Best is trial 37 with value: 1.3953604230456145.\n",
      "Epoch 1/20\n",
      "869/869 [==============================] - 1s 2ms/step - training_loss: 9.6577\n",
      "Epoch 2/20\n",
      "869/869 [==============================] - 1s 2ms/step - training_loss: 2.2448\n",
      "Epoch 3/20\n",
      "869/869 [==============================] - 1s 2ms/step - training_loss: 2.0641\n",
      "Epoch 4/20\n",
      "869/869 [==============================] - 1s 2ms/step - training_loss: 2.0404\n",
      "Epoch 5/20\n",
      "869/869 [==============================] - 1s 2ms/step - training_loss: 36.7532\n",
      "Epoch 6/20\n",
      "869/869 [==============================] - 1s 2ms/step - training_loss: 2.3286\n",
      "Epoch 7/20\n",
      "869/869 [==============================] - 1s 2ms/step - training_loss: 2.1208\n",
      "Epoch 8/20\n",
      "869/869 [==============================] - 1s 2ms/step - training_loss: 2.0029\n",
      "Epoch 9/20\n",
      "869/869 [==============================] - 1s 2ms/step - training_loss: 2.0500\n",
      "Epoch 10/20\n",
      "869/869 [==============================] - 1s 2ms/step - training_loss: 2.1150\n",
      "Epoch 11/20\n",
      "869/869 [==============================] - 1s 2ms/step - training_loss: 1.9218\n",
      "Epoch 12/20\n",
      "869/869 [==============================] - 1s 2ms/step - training_loss: 324.2692\n",
      "Epoch 13/20\n",
      "869/869 [==============================] - 1s 2ms/step - training_loss: 3.0227\n",
      "Epoch 14/20\n",
      "869/869 [==============================] - 1s 2ms/step - training_loss: 2.4181\n",
      "Epoch 15/20\n",
      "869/869 [==============================] - 1s 2ms/step - training_loss: 2.1629\n",
      "Epoch 16/20\n",
      "869/869 [==============================] - 1s 2ms/step - training_loss: 2.0916\n",
      "Epoch 17/20\n",
      "869/869 [==============================] - 1s 2ms/step - training_loss: 2.0116\n",
      "Epoch 18/20\n",
      "869/869 [==============================] - 1s 2ms/step - training_loss: 1.8914\n",
      "Epoch 19/20\n",
      "869/869 [==============================] - 1s 2ms/step - training_loss: 1.9606\n",
      "Epoch 20/20\n",
      "869/869 [==============================] - 1s 2ms/step - training_loss: 2.2998\n"
     ]
    },
    {
     "name": "stderr",
     "output_type": "stream",
     "text": [
      "\u001b[32m[I 2021-09-27 12:02:37,991]\u001b[0m Trial 42 finished with value: 1.9164678401115585 and parameters: {'n_layers': 2, 'latent_dim': 10, 'n_units_l0': 793, 'lr': 0.0013594224853786959, 'batchsize': 81}. Best is trial 37 with value: 1.3953604230456145.\u001b[0m\n"
     ]
    },
    {
     "name": "stdout",
     "output_type": "stream",
     "text": [
      "Trial 42 finished with value: 1.9164678401115585 and parameters: {'n_layers': 2, 'latent_dim': 10, 'n_units_l0': 793, 'lr': 0.0013594224853786959, 'batchsize': 81}. Best is trial 37 with value: 1.3953604230456145.\n",
      "Trial 42 finished with value: 1.9164678401115585 and parameters: {'n_layers': 2, 'latent_dim': 10, 'n_units_l0': 793, 'lr': 0.0013594224853786959, 'batchsize': 81}. Best is trial 37 with value: 1.3953604230456145.\n",
      "Trial 42 finished with value: 1.9164678401115585 and parameters: {'n_layers': 2, 'latent_dim': 10, 'n_units_l0': 793, 'lr': 0.0013594224853786959, 'batchsize': 81}. Best is trial 37 with value: 1.3953604230456145.\n",
      "Trial 42 finished with value: 1.9164678401115585 and parameters: {'n_layers': 2, 'latent_dim': 10, 'n_units_l0': 793, 'lr': 0.0013594224853786959, 'batchsize': 81}. Best is trial 37 with value: 1.3953604230456145.\n",
      "Trial 42 finished with value: 1.9164678401115585 and parameters: {'n_layers': 2, 'latent_dim': 10, 'n_units_l0': 793, 'lr': 0.0013594224853786959, 'batchsize': 81}. Best is trial 37 with value: 1.3953604230456145.\n",
      "Epoch 1/20\n",
      "1465/1465 [==============================] - 2s 2ms/step - training_loss: 11.8957\n",
      "Epoch 2/20\n",
      "1465/1465 [==============================] - 2s 2ms/step - training_loss: 2.2928\n",
      "Epoch 3/20\n",
      "1465/1465 [==============================] - 2s 2ms/step - training_loss: 1.9997\n",
      "Epoch 4/20\n",
      "1465/1465 [==============================] - 2s 2ms/step - training_loss: 1.8565\n",
      "Epoch 5/20\n",
      "1465/1465 [==============================] - 2s 2ms/step - training_loss: 1.7742\n",
      "Epoch 6/20\n",
      "1465/1465 [==============================] - 2s 2ms/step - training_loss: 1.7205\n",
      "Epoch 7/20\n",
      "1465/1465 [==============================] - 2s 2ms/step - training_loss: 1.6783\n",
      "Epoch 8/20\n",
      "1465/1465 [==============================] - 2s 2ms/step - training_loss: 1.6361\n",
      "Epoch 9/20\n",
      "1465/1465 [==============================] - 2s 2ms/step - training_loss: 1.6043\n",
      "Epoch 10/20\n",
      "1465/1465 [==============================] - 2s 2ms/step - training_loss: 1.5928\n",
      "Epoch 11/20\n",
      "1465/1465 [==============================] - 2s 2ms/step - training_loss: 1.5663\n",
      "Epoch 12/20\n",
      "1465/1465 [==============================] - 2s 2ms/step - training_loss: 1.5490\n",
      "Epoch 13/20\n",
      "1465/1465 [==============================] - 2s 2ms/step - training_loss: 1.5294\n",
      "Epoch 14/20\n",
      "1465/1465 [==============================] - 2s 2ms/step - training_loss: 1.5340\n",
      "Epoch 15/20\n",
      "1465/1465 [==============================] - 2s 2ms/step - training_loss: 1.5178\n",
      "Epoch 16/20\n",
      "1465/1465 [==============================] - 2s 2ms/step - training_loss: 1.5189\n",
      "Epoch 17/20\n",
      "1465/1465 [==============================] - 2s 2ms/step - training_loss: 1.5120\n",
      "Epoch 18/20\n",
      "1465/1465 [==============================] - 2s 2ms/step - training_loss: 1.4916\n",
      "Epoch 19/20\n",
      "1465/1465 [==============================] - 2s 2ms/step - training_loss: 1.4930\n",
      "Epoch 20/20\n",
      "1465/1465 [==============================] - 2s 2ms/step - training_loss: 1.4841\n"
     ]
    },
    {
     "name": "stderr",
     "output_type": "stream",
     "text": [
      "\u001b[32m[I 2021-09-27 12:03:28,883]\u001b[0m Trial 43 finished with value: 1.5198790122486763 and parameters: {'n_layers': 3, 'latent_dim': 6, 'n_units_l0': 527, 'n_units_l1': 717, 'lr': 0.00013485676637724615, 'batchsize': 48}. Best is trial 37 with value: 1.3953604230456145.\u001b[0m\n"
     ]
    },
    {
     "name": "stdout",
     "output_type": "stream",
     "text": [
      "Trial 43 finished with value: 1.5198790122486763 and parameters: {'n_layers': 3, 'latent_dim': 6, 'n_units_l0': 527, 'n_units_l1': 717, 'lr': 0.00013485676637724615, 'batchsize': 48}. Best is trial 37 with value: 1.3953604230456145.\n",
      "Trial 43 finished with value: 1.5198790122486763 and parameters: {'n_layers': 3, 'latent_dim': 6, 'n_units_l0': 527, 'n_units_l1': 717, 'lr': 0.00013485676637724615, 'batchsize': 48}. Best is trial 37 with value: 1.3953604230456145.\n",
      "Trial 43 finished with value: 1.5198790122486763 and parameters: {'n_layers': 3, 'latent_dim': 6, 'n_units_l0': 527, 'n_units_l1': 717, 'lr': 0.00013485676637724615, 'batchsize': 48}. Best is trial 37 with value: 1.3953604230456145.\n",
      "Trial 43 finished with value: 1.5198790122486763 and parameters: {'n_layers': 3, 'latent_dim': 6, 'n_units_l0': 527, 'n_units_l1': 717, 'lr': 0.00013485676637724615, 'batchsize': 48}. Best is trial 37 with value: 1.3953604230456145.\n",
      "Trial 43 finished with value: 1.5198790122486763 and parameters: {'n_layers': 3, 'latent_dim': 6, 'n_units_l0': 527, 'n_units_l1': 717, 'lr': 0.00013485676637724615, 'batchsize': 48}. Best is trial 37 with value: 1.3953604230456145.\n",
      "Epoch 1/20\n",
      " 51/297 [====>.........................] - ETA: 0s - training_loss: 372.4187"
     ]
    }
   ],
   "source": [
    "optuna.logging.get_logger(\"optuna\").addHandler(logging.StreamHandler(sys.stdout))\n",
    " # Unique identifier of the study.\n",
    "study_name    = \"example-study\"  # Unique identifier of the study.\n",
    "storage_name  = \"sqlite:///{}.db\".format(study_name)\n",
    "SEED          = 512\n",
    "\n",
    "\n",
    "study = optuna.create_study(direction='minimize',study_name=study_name, storage=storage_name,load_if_exists=True,  sampler=optuna.samplers.TPESampler(seed=SEED),\n",
    "    pruner=optuna.pruners.MedianPruner(n_warmup_steps=10))\n",
    "study.optimize(objective, n_trials=20)"
   ]
  },
  {
   "cell_type": "code",
   "execution_count": 24,
   "id": "4290c1d5-95a6-430a-8ba1-5b8e26386ffa",
   "metadata": {},
   "outputs": [],
   "source": [
    "df = study.trials_dataframe(attrs=(\"number\", \"value\", \"params\", \"state\"))"
   ]
  },
  {
   "cell_type": "code",
   "execution_count": 27,
   "id": "ea6573f7-ee3e-474d-8a84-8463017ef8a0",
   "metadata": {},
   "outputs": [
    {
     "data": {
      "text/html": [
       "<div>\n",
       "<style scoped>\n",
       "    .dataframe tbody tr th:only-of-type {\n",
       "        vertical-align: middle;\n",
       "    }\n",
       "\n",
       "    .dataframe tbody tr th {\n",
       "        vertical-align: top;\n",
       "    }\n",
       "\n",
       "    .dataframe thead th {\n",
       "        text-align: right;\n",
       "    }\n",
       "</style>\n",
       "<table border=\"1\" class=\"dataframe\">\n",
       "  <thead>\n",
       "    <tr style=\"text-align: right;\">\n",
       "      <th></th>\n",
       "      <th>number</th>\n",
       "      <th>value</th>\n",
       "      <th>params_batchsize</th>\n",
       "      <th>params_lr</th>\n",
       "      <th>params_n_layers</th>\n",
       "      <th>params_n_units_l0</th>\n",
       "      <th>params_n_units_l1</th>\n",
       "      <th>params_n_units_l2</th>\n",
       "      <th>params_n_units_l3</th>\n",
       "      <th>params_n_units_l4</th>\n",
       "      <th>params_n_units_l5</th>\n",
       "      <th>params_x</th>\n",
       "      <th>state</th>\n",
       "    </tr>\n",
       "  </thead>\n",
       "  <tbody>\n",
       "    <tr>\n",
       "      <th>19</th>\n",
       "      <td>19</td>\n",
       "      <td>1.417754</td>\n",
       "      <td>47.0</td>\n",
       "      <td>0.000153</td>\n",
       "      <td>3.0</td>\n",
       "      <td>705.0</td>\n",
       "      <td>372.0</td>\n",
       "      <td>NaN</td>\n",
       "      <td>NaN</td>\n",
       "      <td>NaN</td>\n",
       "      <td>NaN</td>\n",
       "      <td>NaN</td>\n",
       "      <td>COMPLETE</td>\n",
       "    </tr>\n",
       "  </tbody>\n",
       "</table>\n",
       "</div>"
      ],
      "text/plain": [
       "    number     value  params_batchsize  params_lr  params_n_layers  \\\n",
       "19      19  1.417754              47.0   0.000153              3.0   \n",
       "\n",
       "    params_n_units_l0  params_n_units_l1  params_n_units_l2  \\\n",
       "19              705.0              372.0                NaN   \n",
       "\n",
       "    params_n_units_l3  params_n_units_l4  params_n_units_l5  params_x  \\\n",
       "19                NaN                NaN                NaN       NaN   \n",
       "\n",
       "       state  \n",
       "19  COMPLETE  "
      ]
     },
     "execution_count": 27,
     "metadata": {},
     "output_type": "execute_result"
    }
   ],
   "source": [
    "df[df['value']==min(df['value'])]"
   ]
  },
  {
   "cell_type": "code",
   "execution_count": 18,
   "id": "700f779c-4f34-415b-a061-9bf83b191350",
   "metadata": {},
   "outputs": [],
   "source": [
    "from optuna.visualization import plot_contour\n",
    "from optuna.visualization import plot_edf\n",
    "from optuna.visualization import plot_intermediate_values\n",
    "from optuna.visualization import plot_optimization_history\n",
    "from optuna.visualization import plot_parallel_coordinate\n",
    "from optuna.visualization import plot_param_importances\n",
    "from optuna.visualization import plot_slice"
   ]
  },
  {
   "cell_type": "code",
   "execution_count": 19,
   "id": "9d6afa2e-3aff-4e47-9cdd-3a2db4120cc9",
   "metadata": {},
   "outputs": [
    {
     "ename": "ImportError",
     "evalue": "Tried to import 'plotly' but failed. Please make sure that the package is installed correctly to use this feature. Actual error: No module named 'plotly'.",
     "output_type": "error",
     "traceback": [
      "\u001b[0;31m---------------------------------------------------------------------------\u001b[0m",
      "\u001b[0;31mModuleNotFoundError\u001b[0m                       Traceback (most recent call last)",
      "\u001b[0;32m~/.conda/envs/tf22/lib/python3.8/site-packages/optuna/visualization/_plotly_imports.py\u001b[0m in \u001b[0;36m<module>\u001b[0;34m\u001b[0m\n\u001b[1;32m      6\u001b[0m \u001b[0;32mwith\u001b[0m \u001b[0mtry_import\u001b[0m\u001b[0;34m(\u001b[0m\u001b[0;34m)\u001b[0m \u001b[0;32mas\u001b[0m \u001b[0m_imports\u001b[0m\u001b[0;34m:\u001b[0m  \u001b[0;31m# NOQA\u001b[0m\u001b[0;34m\u001b[0m\u001b[0;34m\u001b[0m\u001b[0m\n\u001b[0;32m----> 7\u001b[0;31m     \u001b[0;32mimport\u001b[0m \u001b[0mplotly\u001b[0m  \u001b[0;31m# NOQA\u001b[0m\u001b[0;34m\u001b[0m\u001b[0;34m\u001b[0m\u001b[0m\n\u001b[0m\u001b[1;32m      8\u001b[0m     \u001b[0;32mfrom\u001b[0m \u001b[0mplotly\u001b[0m \u001b[0;32mimport\u001b[0m \u001b[0m__version__\u001b[0m \u001b[0;32mas\u001b[0m \u001b[0mplotly_version\u001b[0m\u001b[0;34m\u001b[0m\u001b[0;34m\u001b[0m\u001b[0m\n",
      "\u001b[0;31mModuleNotFoundError\u001b[0m: No module named 'plotly'",
      "\nThe above exception was the direct cause of the following exception:\n",
      "\u001b[0;31mImportError\u001b[0m                               Traceback (most recent call last)",
      "\u001b[0;32m<ipython-input-19-2197804f08ed>\u001b[0m in \u001b[0;36m<module>\u001b[0;34m\u001b[0m\n\u001b[0;32m----> 1\u001b[0;31m \u001b[0mplot_param_importances\u001b[0m\u001b[0;34m(\u001b[0m\u001b[0mstudy\u001b[0m\u001b[0;34m)\u001b[0m\u001b[0;34m\u001b[0m\u001b[0;34m\u001b[0m\u001b[0m\n\u001b[0m",
      "\u001b[0;32m~/.conda/envs/tf22/lib/python3.8/site-packages/optuna/visualization/_param_importances.py\u001b[0m in \u001b[0;36mplot_param_importances\u001b[0;34m(study, evaluator, params, target, target_name)\u001b[0m\n\u001b[1;32m     93\u001b[0m     \"\"\"\n\u001b[1;32m     94\u001b[0m \u001b[0;34m\u001b[0m\u001b[0m\n\u001b[0;32m---> 95\u001b[0;31m     \u001b[0m_imports\u001b[0m\u001b[0;34m.\u001b[0m\u001b[0mcheck\u001b[0m\u001b[0;34m(\u001b[0m\u001b[0;34m)\u001b[0m\u001b[0;34m\u001b[0m\u001b[0;34m\u001b[0m\u001b[0m\n\u001b[0m\u001b[1;32m     96\u001b[0m     \u001b[0m_check_plot_args\u001b[0m\u001b[0;34m(\u001b[0m\u001b[0mstudy\u001b[0m\u001b[0;34m,\u001b[0m \u001b[0mtarget\u001b[0m\u001b[0;34m,\u001b[0m \u001b[0mtarget_name\u001b[0m\u001b[0;34m)\u001b[0m\u001b[0;34m\u001b[0m\u001b[0;34m\u001b[0m\u001b[0m\n\u001b[1;32m     97\u001b[0m \u001b[0;34m\u001b[0m\u001b[0m\n",
      "\u001b[0;32m~/.conda/envs/tf22/lib/python3.8/site-packages/optuna/_imports.py\u001b[0m in \u001b[0;36mcheck\u001b[0;34m(self)\u001b[0m\n\u001b[1;32m     84\u001b[0m         \u001b[0;32mif\u001b[0m \u001b[0mself\u001b[0m\u001b[0;34m.\u001b[0m\u001b[0m_deferred\u001b[0m \u001b[0;32mis\u001b[0m \u001b[0;32mnot\u001b[0m \u001b[0;32mNone\u001b[0m\u001b[0;34m:\u001b[0m\u001b[0;34m\u001b[0m\u001b[0;34m\u001b[0m\u001b[0m\n\u001b[1;32m     85\u001b[0m             \u001b[0mexc_value\u001b[0m\u001b[0;34m,\u001b[0m \u001b[0mmessage\u001b[0m \u001b[0;34m=\u001b[0m \u001b[0mself\u001b[0m\u001b[0;34m.\u001b[0m\u001b[0m_deferred\u001b[0m\u001b[0;34m\u001b[0m\u001b[0;34m\u001b[0m\u001b[0m\n\u001b[0;32m---> 86\u001b[0;31m             \u001b[0;32mraise\u001b[0m \u001b[0mImportError\u001b[0m\u001b[0;34m(\u001b[0m\u001b[0mmessage\u001b[0m\u001b[0;34m)\u001b[0m \u001b[0;32mfrom\u001b[0m \u001b[0mexc_value\u001b[0m\u001b[0;34m\u001b[0m\u001b[0;34m\u001b[0m\u001b[0m\n\u001b[0m\u001b[1;32m     87\u001b[0m \u001b[0;34m\u001b[0m\u001b[0m\n\u001b[1;32m     88\u001b[0m \u001b[0;34m\u001b[0m\u001b[0m\n",
      "\u001b[0;31mImportError\u001b[0m: Tried to import 'plotly' but failed. Please make sure that the package is installed correctly to use this feature. Actual error: No module named 'plotly'."
     ]
    }
   ],
   "source": [
    "plot_param_importances(study)"
   ]
  },
  {
   "cell_type": "code",
   "execution_count": 20,
   "id": "84deb22e-5ba3-4551-8057-e87e6b59df83",
   "metadata": {},
   "outputs": [
    {
     "name": "stderr",
     "output_type": "stream",
     "text": [
      "\u001b[32m[I 2021-09-27 11:23:09,006]\u001b[0m A new study created in RDB with name: example-study\u001b[0m\n"
     ]
    },
    {
     "name": "stdout",
     "output_type": "stream",
     "text": [
      "A new study created in RDB with name: example-study\n"
     ]
    }
   ],
   "source": [
    "import logging\n",
    "import sys\n",
    "\n",
    "import optuna\n",
    "\n",
    "# Add stream handler of stdout to show the messages\n",
    "optuna.logging.get_logger(\"optuna\").addHandler(logging.StreamHandler(sys.stdout))\n",
    "study_name = \"example-study\"  # Unique identifier of the study.\n",
    "storage_name = \"sqlite:///{}.db\".format(study_name)\n",
    "study = optuna.create_study(study_name=study_name, storage=storage_name)"
   ]
  },
  {
   "cell_type": "code",
   "execution_count": 21,
   "id": "980236fe-2435-4cf8-aee2-92ccdea76419",
   "metadata": {},
   "outputs": [
    {
     "name": "stderr",
     "output_type": "stream",
     "text": [
      "\u001b[32m[I 2021-09-27 11:23:34,584]\u001b[0m Trial 0 finished with value: 26.364104265435692 and parameters: {'x': -3.1345987443456274}. Best is trial 0 with value: 26.364104265435692.\u001b[0m\n"
     ]
    },
    {
     "name": "stdout",
     "output_type": "stream",
     "text": [
      "Trial 0 finished with value: 26.364104265435692 and parameters: {'x': -3.1345987443456274}. Best is trial 0 with value: 26.364104265435692.\n"
     ]
    },
    {
     "name": "stderr",
     "output_type": "stream",
     "text": [
      "\u001b[32m[I 2021-09-27 11:23:34,616]\u001b[0m Trial 1 finished with value: 4.280239606245624 and parameters: {'x': 4.068873994772428}. Best is trial 1 with value: 4.280239606245624.\u001b[0m\n"
     ]
    },
    {
     "name": "stdout",
     "output_type": "stream",
     "text": [
      "Trial 1 finished with value: 4.280239606245624 and parameters: {'x': 4.068873994772428}. Best is trial 1 with value: 4.280239606245624.\n"
     ]
    },
    {
     "name": "stderr",
     "output_type": "stream",
     "text": [
      "\u001b[32m[I 2021-09-27 11:23:34,647]\u001b[0m Trial 2 finished with value: 2.373075117807753 and parameters: {'x': 0.4595211400970953}. Best is trial 2 with value: 2.373075117807753.\u001b[0m\n"
     ]
    },
    {
     "name": "stdout",
     "output_type": "stream",
     "text": [
      "Trial 2 finished with value: 2.373075117807753 and parameters: {'x': 0.4595211400970953}. Best is trial 2 with value: 2.373075117807753.\n"
     ]
    }
   ],
   "source": [
    "def objective(trial):\n",
    "    x = trial.suggest_float(\"x\", -10, 10)\n",
    "    return (x - 2) ** 2\n",
    "\n",
    "\n",
    "study.optimize(objective, n_trials=3)"
   ]
  },
  {
   "cell_type": "code",
   "execution_count": 22,
   "id": "3b93cf3a-1f61-402d-8ea2-c3d795f0509c",
   "metadata": {},
   "outputs": [
    {
     "name": "stderr",
     "output_type": "stream",
     "text": [
      "\u001b[32m[I 2021-09-27 11:24:11,061]\u001b[0m Using an existing study with name 'example-study' instead of creating a new one.\u001b[0m\n"
     ]
    },
    {
     "name": "stdout",
     "output_type": "stream",
     "text": [
      "Using an existing study with name 'example-study' instead of creating a new one.\n"
     ]
    },
    {
     "name": "stderr",
     "output_type": "stream",
     "text": [
      "\u001b[32m[I 2021-09-27 11:24:11,116]\u001b[0m Trial 3 finished with value: 117.43496573039131 and parameters: {'x': -8.836741471973543}. Best is trial 2 with value: 2.373075117807753.\u001b[0m\n"
     ]
    },
    {
     "name": "stdout",
     "output_type": "stream",
     "text": [
      "Trial 3 finished with value: 117.43496573039131 and parameters: {'x': -8.836741471973543}. Best is trial 2 with value: 2.373075117807753.\n"
     ]
    },
    {
     "name": "stderr",
     "output_type": "stream",
     "text": [
      "\u001b[32m[I 2021-09-27 11:24:11,149]\u001b[0m Trial 4 finished with value: 89.69170160340254 and parameters: {'x': -7.470570289238263}. Best is trial 2 with value: 2.373075117807753.\u001b[0m\n"
     ]
    },
    {
     "name": "stdout",
     "output_type": "stream",
     "text": [
      "Trial 4 finished with value: 89.69170160340254 and parameters: {'x': -7.470570289238263}. Best is trial 2 with value: 2.373075117807753.\n"
     ]
    },
    {
     "name": "stderr",
     "output_type": "stream",
     "text": [
      "\u001b[32m[I 2021-09-27 11:24:11,180]\u001b[0m Trial 5 finished with value: 76.36009495494336 and parameters: {'x': -6.738426343166335}. Best is trial 2 with value: 2.373075117807753.\u001b[0m\n"
     ]
    },
    {
     "name": "stdout",
     "output_type": "stream",
     "text": [
      "Trial 5 finished with value: 76.36009495494336 and parameters: {'x': -6.738426343166335}. Best is trial 2 with value: 2.373075117807753.\n"
     ]
    }
   ],
   "source": [
    "study = optuna.create_study(study_name=study_name, storage=storage_name, load_if_exists=True)\n",
    "study.optimize(objective, n_trials=3)\n"
   ]
  },
  {
   "cell_type": "code",
   "execution_count": null,
   "id": "e490f8f0-80f7-443a-a7cf-d2b7ce5a1d85",
   "metadata": {},
   "outputs": [],
   "source": []
  }
 ],
 "metadata": {
  "kernelspec": {
   "display_name": "tf22",
   "language": "python",
   "name": "tf22"
  },
  "language_info": {
   "codemirror_mode": {
    "name": "ipython",
    "version": 3
   },
   "file_extension": ".py",
   "mimetype": "text/x-python",
   "name": "python",
   "nbconvert_exporter": "python",
   "pygments_lexer": "ipython3",
   "version": "3.8.3"
  }
 },
 "nbformat": 4,
 "nbformat_minor": 5
}
